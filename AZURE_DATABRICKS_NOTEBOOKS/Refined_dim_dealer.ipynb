{
 "cells": [
  {
   "cell_type": "code",
   "execution_count": 0,
   "metadata": {
    "application/vnd.databricks.v1+cell": {
     "cellMetadata": {
      "byteLimit": 2048000,
      "rowLimit": 10000
     },
     "inputWidgets": {},
     "nuid": "05f8804a-d433-4c31-ac34-ddd363cc6532",
     "showTitle": false,
     "tableResultSettingsMap": {},
     "title": ""
    }
   },
   "outputs": [],
   "source": [
    "#import libraries\n",
    "\n",
    "from pyspark.sql.functions import *\n",
    "from pyspark.sql.types import *\n",
    "from delta.tables import DeltaTable"
   ]
  },
  {
   "cell_type": "markdown",
   "metadata": {
    "application/vnd.databricks.v1+cell": {
     "cellMetadata": {
      "byteLimit": 2048000,
      "rowLimit": 10000
     },
     "inputWidgets": {},
     "nuid": "332d808f-17fc-415d-9180-bf047035308d",
     "showTitle": false,
     "tableResultSettingsMap": {},
     "title": ""
    }
   },
   "source": [
    "###CREATING FLAG PARAMETER"
   ]
  },
  {
   "cell_type": "code",
   "execution_count": 0,
   "metadata": {
    "application/vnd.databricks.v1+cell": {
     "cellMetadata": {
      "byteLimit": 2048000,
      "rowLimit": 10000
     },
     "inputWidgets": {},
     "nuid": "e1e803a3-1c4a-4cb2-b525-c0692b13f3ec",
     "showTitle": false,
     "tableResultSettingsMap": {},
     "title": ""
    }
   },
   "outputs": [],
   "source": [
    "dbutils.widgets.text(\"incremental_flag\",\"0\")"
   ]
  },
  {
   "cell_type": "code",
   "execution_count": 0,
   "metadata": {
    "application/vnd.databricks.v1+cell": {
     "cellMetadata": {
      "byteLimit": 2048000,
      "rowLimit": 10000
     },
     "inputWidgets": {},
     "nuid": "74194dd1-454b-4a80-a975-cb846dae0fa8",
     "showTitle": false,
     "tableResultSettingsMap": {},
     "title": ""
    }
   },
   "outputs": [],
   "source": [
    "#incremental_flag = 0 means first load\n",
    "\n",
    "incremental_flag = dbutils.widgets.get(\"incremental_flag\")"
   ]
  },
  {
   "cell_type": "markdown",
   "metadata": {
    "application/vnd.databricks.v1+cell": {
     "cellMetadata": {
      "byteLimit": 2048000,
      "rowLimit": 10000
     },
     "inputWidgets": {},
     "nuid": "fcf15177-02c5-449b-ac37-cf8c53069dfa",
     "showTitle": false,
     "tableResultSettingsMap": {},
     "title": ""
    }
   },
   "source": [
    "###CREATING DIMENSION BRANCH  "
   ]
  },
  {
   "cell_type": "code",
   "execution_count": 0,
   "metadata": {
    "application/vnd.databricks.v1+cell": {
     "cellMetadata": {
      "byteLimit": 2048000,
      "implicitDf": true,
      "rowLimit": 10000
     },
     "inputWidgets": {},
     "nuid": "40bc1822-adf9-47bc-a254-b8220372ad94",
     "showTitle": false,
     "tableResultSettingsMap": {},
     "title": ""
    }
   },
   "outputs": [
    {
     "output_type": "display_data",
     "data": {
      "text/html": [
       "<style scoped>\n",
       "  .table-result-container {\n",
       "    max-height: 300px;\n",
       "    overflow: auto;\n",
       "  }\n",
       "  table, th, td {\n",
       "    border: 1px solid black;\n",
       "    border-collapse: collapse;\n",
       "  }\n",
       "  th, td {\n",
       "    padding: 5px;\n",
       "  }\n",
       "  th {\n",
       "    text-align: left;\n",
       "  }\n",
       "</style><div class='table-result-container'><table class='table-result'><thead style='background-color: white'><tr><th>Branch_ID</th><th>Dealer_ID</th><th>Model_ID</th><th>Revenue</th><th>Units_Sold</th><th>Date_ID</th><th>Day</th><th>Month</th><th>Year</th><th>BranchName</th><th>DealerName</th><th>Product_Name</th><th>Model_Category</th><th>ItemPrice</th></tr></thead><tbody><tr><td>BR9546</td><td>DLR0060</td><td>Jee-M10</td><td>7223451</td><td>1</td><td>DT01246</td><td>28</td><td>5</td><td>2020</td><td>Premier Motors</td><td>Fisker, Karma Motors</td><td>Jeep</td><td>Jee</td><td>7223451.0</td></tr><tr><td>BR9666</td><td>DLR0062</td><td>Jee-M12</td><td>22093020</td><td>3</td><td>DT01246</td><td>30</td><td>5</td><td>2020</td><td>Puma Motors</td><td>Ford Australia Motors</td><td>Jeep</td><td>Jee</td><td>7364340.0</td></tr><tr><td>BR9726</td><td>DLR0063</td><td>Jee-M13</td><td>22372413</td><td>3</td><td>DT01247</td><td>31</td><td>5</td><td>2020</td><td>Power Ranger Motors</td><td>Ford do Brasil Motors</td><td>Jeep</td><td>Jee</td><td>7457471.0</td></tr><tr><td>XYZ9726</td><td>XYZ0063</td><td>ZYXM13</td><td>22372413</td><td>3</td><td>DT01247</td><td>31</td><td>5</td><td>2020</td><td>DataFam Motors</td><td>Datafam Dealers</td><td>Surprise</td><td>ZYXM13</td><td>7457471.0</td></tr></tbody></table></div>"
      ]
     },
     "metadata": {
      "application/vnd.databricks.v1+output": {
       "addedWidgets": {},
       "aggData": [],
       "aggError": "",
       "aggOverflow": false,
       "aggSchema": [],
       "aggSeriesLimitReached": false,
       "aggType": "",
       "arguments": {},
       "columnCustomDisplayInfos": {},
       "data": [
        [
         "BR9546",
         "DLR0060",
         "Jee-M10",
         7223451,
         1,
         "DT01246",
         28,
         5,
         2020,
         "Premier Motors",
         "Fisker, Karma Motors",
         "Jeep",
         "Jee",
         7223451.0
        ],
        [
         "BR9666",
         "DLR0062",
         "Jee-M12",
         22093020,
         3,
         "DT01246",
         30,
         5,
         2020,
         "Puma Motors",
         "Ford Australia Motors",
         "Jeep",
         "Jee",
         7364340.0
        ],
        [
         "BR9726",
         "DLR0063",
         "Jee-M13",
         22372413,
         3,
         "DT01247",
         31,
         5,
         2020,
         "Power Ranger Motors",
         "Ford do Brasil Motors",
         "Jeep",
         "Jee",
         7457471.0
        ],
        [
         "XYZ9726",
         "XYZ0063",
         "ZYXM13",
         22372413,
         3,
         "DT01247",
         31,
         5,
         2020,
         "DataFam Motors",
         "Datafam Dealers",
         "Surprise",
         "ZYXM13",
         7457471.0
        ]
       ],
       "datasetInfos": [],
       "dbfsResultPath": null,
       "isJsonSchema": true,
       "metadata": {
        "createTempViewForImplicitDf": true,
        "dataframeName": "_sqldf",
        "executionCount": 27
       },
       "overflow": false,
       "plotOptions": {
        "customPlotOptions": {},
        "displayType": "table",
        "pivotAggregation": null,
        "pivotColumns": null,
        "xColumns": null,
        "yColumns": null
       },
       "removedWidgets": [],
       "schema": [
        {
         "metadata": "{}",
         "name": "Branch_ID",
         "type": "\"string\""
        },
        {
         "metadata": "{}",
         "name": "Dealer_ID",
         "type": "\"string\""
        },
        {
         "metadata": "{}",
         "name": "Model_ID",
         "type": "\"string\""
        },
        {
         "metadata": "{}",
         "name": "Revenue",
         "type": "\"long\""
        },
        {
         "metadata": "{}",
         "name": "Units_Sold",
         "type": "\"long\""
        },
        {
         "metadata": "{}",
         "name": "Date_ID",
         "type": "\"string\""
        },
        {
         "metadata": "{}",
         "name": "Day",
         "type": "\"integer\""
        },
        {
         "metadata": "{}",
         "name": "Month",
         "type": "\"integer\""
        },
        {
         "metadata": "{}",
         "name": "Year",
         "type": "\"integer\""
        },
        {
         "metadata": "{}",
         "name": "BranchName",
         "type": "\"string\""
        },
        {
         "metadata": "{}",
         "name": "DealerName",
         "type": "\"string\""
        },
        {
         "metadata": "{}",
         "name": "Product_Name",
         "type": "\"string\""
        },
        {
         "metadata": "{}",
         "name": "Model_Category",
         "type": "\"string\""
        },
        {
         "metadata": "{}",
         "name": "ItemPrice",
         "type": "\"double\""
        }
       ],
       "type": "table"
      }
     },
     "output_type": "display_data"
    }
   ],
   "source": [
    "%sql\n",
    "SELECT * FROM parquet.`abfss://projects@projectstorageaccount1.dfs.core.windows.net/curated/CAR SALES/`;"
   ]
  },
  {
   "cell_type": "markdown",
   "metadata": {
    "application/vnd.databricks.v1+cell": {
     "cellMetadata": {
      "byteLimit": 2048000,
      "rowLimit": 10000
     },
     "inputWidgets": {},
     "nuid": "13d2e90f-76b8-41a3-afed-ec9ddccce3dd",
     "showTitle": false,
     "tableResultSettingsMap": {},
     "title": ""
    }
   },
   "source": [
    "###Fetch related columns"
   ]
  },
  {
   "cell_type": "code",
   "execution_count": 0,
   "metadata": {
    "application/vnd.databricks.v1+cell": {
     "cellMetadata": {
      "byteLimit": 2048000,
      "implicitDf": true,
      "rowLimit": 10000
     },
     "inputWidgets": {},
     "nuid": "ac61d01e-0968-41a1-8564-b174616f650a",
     "showTitle": false,
     "tableResultSettingsMap": {},
     "title": ""
    }
   },
   "outputs": [],
   "source": [
    "dealer_src_df = spark.sql('''\n",
    "                         SELECT DISTINCT Dealer_ID, DealerName \n",
    "                         FROM parquet.`abfss://projects@projectstorageaccount1.dfs.core.windows.net/curated/CAR SALES/`;\n",
    "                         '''\n",
    "                        )\n"
   ]
  },
  {
   "cell_type": "code",
   "execution_count": 0,
   "metadata": {
    "application/vnd.databricks.v1+cell": {
     "cellMetadata": {
      "byteLimit": 2048000,
      "rowLimit": 10000
     },
     "inputWidgets": {},
     "nuid": "14431e8a-b916-4b67-a979-5edcb034a359",
     "showTitle": false,
     "tableResultSettingsMap": {},
     "title": ""
    }
   },
   "outputs": [
    {
     "output_type": "display_data",
     "data": {
      "text/html": [
       "<style scoped>\n",
       "  .table-result-container {\n",
       "    max-height: 300px;\n",
       "    overflow: auto;\n",
       "  }\n",
       "  table, th, td {\n",
       "    border: 1px solid black;\n",
       "    border-collapse: collapse;\n",
       "  }\n",
       "  th, td {\n",
       "    padding: 5px;\n",
       "  }\n",
       "  th {\n",
       "    text-align: left;\n",
       "  }\n",
       "</style><div class='table-result-container'><table class='table-result'><thead style='background-color: white'><tr><th>Dealer_ID</th><th>DealerName</th></tr></thead><tbody><tr><td>DLR0063</td><td>Ford do Brasil Motors</td></tr><tr><td>XYZ0063</td><td>Datafam Dealers</td></tr><tr><td>DLR0062</td><td>Ford Australia Motors</td></tr><tr><td>DLR0060</td><td>Fisker, Karma Motors</td></tr></tbody></table></div>"
      ]
     },
     "metadata": {
      "application/vnd.databricks.v1+output": {
       "addedWidgets": {},
       "aggData": [],
       "aggError": "",
       "aggOverflow": false,
       "aggSchema": [],
       "aggSeriesLimitReached": false,
       "aggType": "",
       "arguments": {},
       "columnCustomDisplayInfos": {},
       "data": [
        [
         "DLR0063",
         "Ford do Brasil Motors"
        ],
        [
         "XYZ0063",
         "Datafam Dealers"
        ],
        [
         "DLR0062",
         "Ford Australia Motors"
        ],
        [
         "DLR0060",
         "Fisker, Karma Motors"
        ]
       ],
       "datasetInfos": [],
       "dbfsResultPath": null,
       "isJsonSchema": true,
       "metadata": {},
       "overflow": false,
       "plotOptions": {
        "customPlotOptions": {},
        "displayType": "table",
        "pivotAggregation": null,
        "pivotColumns": null,
        "xColumns": null,
        "yColumns": null
       },
       "removedWidgets": [],
       "schema": [
        {
         "metadata": "{}",
         "name": "Dealer_ID",
         "type": "\"string\""
        },
        {
         "metadata": "{}",
         "name": "DealerName",
         "type": "\"string\""
        }
       ],
       "type": "table"
      }
     },
     "output_type": "display_data"
    }
   ],
   "source": [
    "dealer_src_df.display()"
   ]
  },
  {
   "cell_type": "markdown",
   "metadata": {
    "application/vnd.databricks.v1+cell": {
     "cellMetadata": {
      "byteLimit": 2048000,
      "rowLimit": 10000
     },
     "inputWidgets": {},
     "nuid": "25f0d159-79ec-49c2-8b89-df998a087b1e",
     "showTitle": false,
     "tableResultSettingsMap": {},
     "title": ""
    }
   },
   "source": [
    "###Dim Dealer sink - Initial and Incremental"
   ]
  },
  {
   "cell_type": "code",
   "execution_count": 0,
   "metadata": {
    "application/vnd.databricks.v1+cell": {
     "cellMetadata": {
      "byteLimit": 2048000,
      "implicitDf": true,
      "rowLimit": 10000
     },
     "inputWidgets": {},
     "nuid": "fabf63f0-fc0d-40d0-8168-cca62c22b4bf",
     "showTitle": false,
     "tableResultSettingsMap": {},
     "title": ""
    }
   },
   "outputs": [],
   "source": [
    "if spark.catalog.tableExists(\"car_sales_catalog.refined.dim_dealer\"):\n",
    "    \n",
    "    dealer_sink_df  = spark.sql('''\n",
    "                            SELECT Dim_Dealer_Key, Dealer_ID, DealerName\n",
    "                            FROM car_sales_catalog.refined.dim_dealer\n",
    "                            '''\n",
    "                        )\n",
    "else:\n",
    "    dealer_sink_df  = spark.sql('''\n",
    "                            SELECT 1 as Dim_Dealer_Key, Dealer_ID, DealerName \n",
    "                            FROM parquet.`abfss://projects@projectstorageaccount1.dfs.core.windows.net/curated/CAR SALES/`\n",
    "                            WHERE 1 = 0;\n",
    "                            '''\n",
    "                        )"
   ]
  },
  {
   "cell_type": "code",
   "execution_count": 0,
   "metadata": {
    "application/vnd.databricks.v1+cell": {
     "cellMetadata": {
      "byteLimit": 2048000,
      "rowLimit": 10000
     },
     "inputWidgets": {},
     "nuid": "b4a42940-ff51-478d-ba55-0b5555247125",
     "showTitle": false,
     "tableResultSettingsMap": {},
     "title": ""
    }
   },
   "outputs": [
    {
     "output_type": "display_data",
     "data": {
      "text/html": [
       "<style scoped>\n",
       "  .table-result-container {\n",
       "    max-height: 300px;\n",
       "    overflow: auto;\n",
       "  }\n",
       "  table, th, td {\n",
       "    border: 1px solid black;\n",
       "    border-collapse: collapse;\n",
       "  }\n",
       "  th, td {\n",
       "    padding: 5px;\n",
       "  }\n",
       "  th {\n",
       "    text-align: left;\n",
       "  }\n",
       "</style><div class='table-result-container'><table class='table-result'><thead style='background-color: white'><tr><th>Dim_Dealer_Key</th><th>Dealer_ID</th><th>DealerName</th></tr></thead><tbody><tr><td>1</td><td>DLR0058</td><td>Fiat do Brasil Motors</td></tr><tr><td>2</td><td>DLR0107</td><td>Land Rover Motors</td></tr><tr><td>3</td><td>DLR0129</td><td>Mia Motors</td></tr><tr><td>4</td><td>DLR0111</td><td>Lotus Motors</td></tr><tr><td>5</td><td>DLR0085</td><td>Humber Motors</td></tr><tr><td>6</td><td>DLR0001</td><td>AC Cars Motors</td></tr><tr><td>7</td><td>DLR0218</td><td>Lagonda  Motors</td></tr><tr><td>8</td><td>DLR0082</td><td>Honda Motors</td></tr><tr><td>9</td><td>DLR0063</td><td>Ford do Brasil Motors</td></tr><tr><td>10</td><td>DLR0193</td><td>Tazzari Motors</td></tr><tr><td>11</td><td>DLR0134</td><td>Monteverdi Motors</td></tr><tr><td>12</td><td>DLR0199</td><td>TVR Motors</td></tr><tr><td>13</td><td>DLR0254</td><td>AMC, Eagle Motors</td></tr><tr><td>14</td><td>DLR0094</td><td>Isotta Fraschini Motors</td></tr><tr><td>15</td><td>DLR0236</td><td>Cadillac Automobile Company Building</td></tr><tr><td>16</td><td>DLR0201</td><td>Vauxhall Motors</td></tr><tr><td>17</td><td>DLR0175</td><td>Saturn Motors</td></tr><tr><td>18</td><td>DLR0226</td><td>Das Motors</td></tr><tr><td>19</td><td>DLR0207</td><td>Westfield Motors</td></tr><tr><td>20</td><td>DLR0035</td><td>Chrysler Motors</td></tr><tr><td>21</td><td>DLR0151</td><td>Peel Motors</td></tr><tr><td>22</td><td>DLR0156</td><td>Plymouth Motors</td></tr><tr><td>23</td><td>DLR0216</td><td>Maybach  Motors</td></tr><tr><td>24</td><td>DLR0259</td><td>Asia Motors Motors</td></tr><tr><td>25</td><td>DLR0037</td><td>Citroën Motors</td></tr><tr><td>26</td><td>DLR0074</td><td>GTA Spano Motors</td></tr><tr><td>27</td><td>DLR0150</td><td>Panther Motors</td></tr><tr><td>28</td><td>DLR0135</td><td>Morgan Motors</td></tr><tr><td>29</td><td>DLR0073</td><td>GMC Motors</td></tr><tr><td>30</td><td>DLR0260</td><td>Aston Martin Motors</td></tr><tr><td>31</td><td>DLR0153</td><td>Peugeot Motors</td></tr><tr><td>32</td><td>DLR0124</td><td>McLaren Motors</td></tr><tr><td>33</td><td>DLR0121</td><td>Matra (including Deutsch-Bonnet, René Bonnet) Motors</td></tr><tr><td>34</td><td>DLR0211</td><td>ZIL Motors</td></tr><tr><td>35</td><td>DLR0066</td><td>Freightliner Motors</td></tr><tr><td>36</td><td>DLR0110</td><td>Lincoln Motors</td></tr><tr><td>37</td><td>DLR0143</td><td>Oldsmobile Motors</td></tr><tr><td>38</td><td>DLR0167</td><td>Rolls-Royce Motors</td></tr><tr><td>39</td><td>DLR0048</td><td>De Tomaso Motors</td></tr><tr><td>40</td><td>DLR0008</td><td>Anadol Motors</td></tr><tr><td>41</td><td>DLR0128</td><td>Messerschmitt Motors</td></tr><tr><td>42</td><td>DLR0177</td><td>Seat Motors</td></tr><tr><td>43</td><td>DLR0181</td><td>Singer Motors</td></tr><tr><td>44</td><td>DLR0079</td><td>Hillman Motors</td></tr><tr><td>45</td><td>DLR0072</td><td>Glas Motors</td></tr><tr><td>46</td><td>DLR0248</td><td>AC Cars Motors</td></tr><tr><td>47</td><td>DLR0052</td><td>e.GO Mobile Motors</td></tr><tr><td>48</td><td>DLR0197</td><td>Toyota India Motors</td></tr><tr><td>49</td><td>DLR0080</td><td>Hindustan Motors</td></tr><tr><td>50</td><td>DLR0164</td><td>Reliant Motors</td></tr><tr><td>51</td><td>DLR0029</td><td>Bytom Motors</td></tr><tr><td>52</td><td>DLR0195</td><td>Tornado Motors</td></tr><tr><td>53</td><td>DLR0005</td><td>Alpine Motors</td></tr><tr><td>54</td><td>DLR0007</td><td>AMC, Eagle Motors</td></tr><tr><td>55</td><td>DLR0078</td><td>Hennessey Motors</td></tr><tr><td>56</td><td>DLR0247</td><td>Kindel Building</td></tr><tr><td>57</td><td>DLR0065</td><td>Ford India Motors</td></tr><tr><td>58</td><td>DLR0174</td><td>Santana Motors</td></tr><tr><td>59</td><td>DLR0022</td><td>Borgward (including Goliath and Lloyd) Motors</td></tr><tr><td>60</td><td>DLR0116</td><td>Marcos Motors</td></tr><tr><td>61</td><td>DLR0257</td><td>ARO Motors</td></tr><tr><td>62</td><td>DLR0172</td><td>San Motors</td></tr><tr><td>63</td><td>DLR0061</td><td>Ford America Motors</td></tr><tr><td>64</td><td>DLR0240</td><td>Clemens Automobile Company Building</td></tr><tr><td>65</td><td>DLR0103</td><td>KTM Motors</td></tr><tr><td>66</td><td>DLR0096</td><td>Iveco Motors</td></tr><tr><td>67</td><td>DLR0198</td><td>Turner Motors</td></tr><tr><td>68</td><td>DLR0137</td><td>Nash Motors</td></tr><tr><td>69</td><td>DLR0202</td><td>Venturi Motors</td></tr><tr><td>70</td><td>DLR0125</td><td>Mercedes-Benz (including Maybach) Motors</td></tr><tr><td>71</td><td>DLR0089</td><td>Infiniti Motors</td></tr><tr><td>72</td><td>DLR0266</td><td>Bitter Motors</td></tr><tr><td>73</td><td>DLR0148</td><td>Panhard Motors</td></tr><tr><td>74</td><td>DLR0142</td><td>NSU Motors</td></tr><tr><td>75</td><td>DLR0227</td><td>Ramani Motors</td></tr><tr><td>76</td><td>DLR0206</td><td>Volvo Motors</td></tr><tr><td>77</td><td>DLR0179</td><td>Simca Motors</td></tr><tr><td>78</td><td>DLR0059</td><td>Fiat India Motors</td></tr><tr><td>79</td><td>DLR0092</td><td>Isdera Motors</td></tr><tr><td>80</td><td>DLR0018</td><td>Bentley Motors</td></tr><tr><td>81</td><td>DLR0115</td><td>Mahindra Motors</td></tr><tr><td>82</td><td>DLR0169</td><td>SAIC Motor Motors</td></tr><tr><td>83</td><td>DLR0212</td><td>null</td></tr><tr><td>84</td><td>DLR0192</td><td>Tatra Motors</td></tr><tr><td>85</td><td>DLR0186</td><td>Standard-Triumph Motors</td></tr><tr><td>86</td><td>DLR0021</td><td>Bond Motors</td></tr><tr><td>87</td><td>DLR0147</td><td>Pagani Motors</td></tr><tr><td>88</td><td>DLR0098</td><td>Jeep Motors</td></tr><tr><td>89</td><td>DLR0209</td><td>Zastava Motors</td></tr><tr><td>90</td><td>DLR0166</td><td>Rivian Motors</td></tr><tr><td>91</td><td>DLR0250</td><td>Aixam-Mega (including Arola) Motors</td></tr><tr><td>92</td><td>DLR0220</td><td>Morris  Motors</td></tr><tr><td>93</td><td>DLR0183</td><td>Smart Motors</td></tr><tr><td>94</td><td>DLR0102</td><td>Koenigsegg Motors</td></tr><tr><td>95</td><td>DLR0188</td><td>Subaru Motors</td></tr><tr><td>96</td><td>DLR0155</td><td>Piaggio Motors</td></tr><tr><td>97</td><td>DLR0050</td><td>Donkervoort Motors</td></tr><tr><td>98</td><td>DLR0252</td><td>Alpine Motors</td></tr><tr><td>99</td><td>DLR0184</td><td>Spyker Motors</td></tr><tr><td>100</td><td>DLR0267</td><td>BMW Motors</td></tr><tr><td>101</td><td>DLR0091</td><td>Invicta Motors</td></tr><tr><td>102</td><td>DLR0262</td><td>Autobianchi Motors</td></tr><tr><td>103</td><td>DLR0249</td><td>Acura Motors</td></tr><tr><td>104</td><td>DLR0208</td><td>Wiesmann Motors</td></tr><tr><td>105</td><td>DLR0114</td><td>Lynx Motors</td></tr><tr><td>106</td><td>DLR0204</td><td>Volkswagen do Brasil Motors</td></tr><tr><td>107</td><td>DLR0200</td><td>UAZ Motors</td></tr><tr><td>108</td><td>DLR0163</td><td>Ranger Motors</td></tr><tr><td>109</td><td>DLR0223</td><td>Wolseley  Motors</td></tr><tr><td>110</td><td>DLR0044</td><td>null</td></tr><tr><td>111</td><td>DLR0231</td><td>Atlantic Motor Company</td></tr><tr><td>112</td><td>DLR0034</td><td>Chevrolet India Motors</td></tr><tr><td>113</td><td>DLR0126</td><td>Mercury Motors</td></tr><tr><td>114</td><td>DLR0046</td><td>DeLorean Motors</td></tr><tr><td>115</td><td>DLR0130</td><td>Micro Motors</td></tr><tr><td>116</td><td>DLR0210</td><td>ZAZ Motors</td></tr><tr><td>117</td><td>DLR0136</td><td>Moskwitch Motors</td></tr><tr><td>118</td><td>DLR0222</td><td>Riley  Motors</td></tr><tr><td>119</td><td>DLR0017</td><td>Auverland Motors</td></tr><tr><td>120</td><td>DLR0182</td><td>Skoda Motors</td></tr><tr><td>121</td><td>DLR0152</td><td>Perodua Motors</td></tr><tr><td>122</td><td>DLR0071</td><td>Ginetta Motors</td></tr><tr><td>123</td><td>DLR0161</td><td>Proton Motors</td></tr><tr><td>124</td><td>DLR0246</td><td>Jones Motor Company</td></tr><tr><td>125</td><td>DLR0020</td><td>BMW Motors</td></tr><tr><td>126</td><td>DLR0076</td><td>Healey Motors</td></tr><tr><td>127</td><td>DLR0237</td><td>Casa de cadillac</td></tr><tr><td>128</td><td>DLR0131</td><td>Mini Motors</td></tr><tr><td>129</td><td>DLR0112</td><td>LTI Motors</td></tr><tr><td>130</td><td>DLR0213</td><td>DKW Motors</td></tr><tr><td>131</td><td>DLR0040</td><td>Daewoo, Saehan, Chevrolet Korea Motors</td></tr><tr><td>132</td><td>DLR0187</td><td>Studebaker Motors</td></tr><tr><td>133</td><td>DLR0251</td><td>Alfa Romeo Motors</td></tr><tr><td>134</td><td>DLR0154</td><td>PGO Motors</td></tr><tr><td>135</td><td>DLR0119</td><td>Maserati Motors</td></tr><tr><td>136</td><td>DLR0013</td><td>Aston Martin Motors</td></tr><tr><td>137</td><td>DLR0087</td><td>Hyundai Motors</td></tr><tr><td>138</td><td>DLR0056</td><td>Ferrari Motors</td></tr><tr><td>139</td><td>DLR0033</td><td>Chevrolet Motors</td></tr><tr><td>140</td><td>DLR0042</td><td>Daihatsu Motors</td></tr><tr><td>141</td><td>DLR0229</td><td>Herald Motors</td></tr><tr><td>142</td><td>DLR0070</td><td>Gilbern Motors</td></tr><tr><td>143</td><td>DLR0191</td><td>Tata Motors</td></tr><tr><td>144</td><td>DLR0203</td><td>Volkswagen Motors</td></tr><tr><td>145</td><td>DLR0100</td><td>JPX Motors</td></tr><tr><td>146</td><td>DLR0047</td><td>DeSoto Motors</td></tr><tr><td>147</td><td>DLR0214</td><td>Horch Motors</td></tr><tr><td>148</td><td>DLR0171</td><td>Samsung Motors</td></tr><tr><td>149</td><td>DLR0045</td><td>Delahaye Motors</td></tr><tr><td>150</td><td>DLR0264</td><td>Auverland Motors</td></tr><tr><td>151</td><td>DLR0162</td><td>Puma Motors</td></tr><tr><td>152</td><td>DLR0159</td><td>Porsche Motors</td></tr><tr><td>153</td><td>DLR0146</td><td>Packard Motors</td></tr><tr><td>154</td><td>DLR0261</td><td>Audi Motors</td></tr><tr><td>155</td><td>DLR0032</td><td>Checker Motors</td></tr><tr><td>156</td><td>DLR0009</td><td>Ariel Motors</td></tr><tr><td>157</td><td>DLR0225</td><td>Talbot  Motors</td></tr><tr><td>158</td><td>DLR0221</td><td>Austin  Motors</td></tr><tr><td>159</td><td>DLR0075</td><td>Gumpert Motors</td></tr><tr><td>160</td><td>DLR0069</td><td>Geo Motors</td></tr><tr><td>161</td><td>DLR0104</td><td>Lada Motors</td></tr><tr><td>162</td><td>DLR0039</td><td>Dacia Motors</td></tr><tr><td>163</td><td>DLR0245</td><td>Jennings Ford Automobile Dealership</td></tr><tr><td>164</td><td>DLR0238</td><td>Cass Motor Sales</td></tr><tr><td>165</td><td>DLR0064</td><td>Ford Europe Motors</td></tr><tr><td>166</td><td>DLR0109</td><td>Ligier Motors</td></tr><tr><td>167</td><td>DLR0144</td><td>null</td></tr><tr><td>168</td><td>DLR0176</td><td>Scion Motors</td></tr><tr><td>169</td><td>DLR0255</td><td>Anadol Motors</td></tr><tr><td>170</td><td>DLR0138</td><td>Naza Motors</td></tr><tr><td>171</td><td>DLR0003</td><td>Aixam-Mega (including Arola) Motors</td></tr><tr><td>172</td><td>DLR0265</td><td>Bentley Motors</td></tr><tr><td>173</td><td>DLR0217</td><td>Izh  Motors</td></tr><tr><td>174</td><td>DLR0185</td><td>SsangYong Motors</td></tr><tr><td>175</td><td>DLR0019</td><td>Bitter Motors</td></tr><tr><td>176</td><td>DLR0165</td><td>Renault Motors</td></tr><tr><td>177</td><td>DLR0108</td><td>Lexus Motors</td></tr><tr><td>178</td><td>DLR0117</td><td>Marlin Motors</td></tr><tr><td>179</td><td>DLR0118</td><td>Maruti Motors</td></tr><tr><td>180</td><td>DLR0027</td><td>Bugatti Motors</td></tr><tr><td>181</td><td>DLR0139</td><td>Nissan Motors</td></tr><tr><td>182</td><td>DLR0088</td><td>IFA (including Trabant, Wartburg, Barkas) Motors</td></tr><tr><td>183</td><td>DLR0051</td><td>Edsel Motors</td></tr><tr><td>184</td><td>DLR0010</td><td>ARO Motors</td></tr><tr><td>185</td><td>DLR0006</td><td>Alvis Motors</td></tr><tr><td>186</td><td>DLR0180</td><td>Simca do Brasil Motors</td></tr><tr><td>187</td><td>DLR0253</td><td>Alvis Motors</td></tr><tr><td>188</td><td>DLR0230</td><td>Zion Automobils</td></tr><tr><td>189</td><td>DLR0190</td><td>Suzuki Motors</td></tr><tr><td>190</td><td>DLR0232</td><td>2008 NRHP-listed</td></tr><tr><td>191</td><td>DLR0030</td><td>Cadillac Motors</td></tr><tr><td>192</td><td>DLR0215</td><td>Wanderer Motors</td></tr><tr><td>193</td><td>DLR0016</td><td>Auto-Union Motors</td></tr><tr><td>194</td><td>DLR0160</td><td>Premier Motors</td></tr><tr><td>195</td><td>DLR0025</td><td>Austin-Healey Motors</td></tr><tr><td>196</td><td>DLR0239</td><td>Claremore Auto Dealership</td></tr><tr><td>197</td><td>DLR0228</td><td>Deccan Motors</td></tr><tr><td>198</td><td>DLR0189</td><td>Sunbeam Motors</td></tr><tr><td>199</td><td>DLR0263</td><td>Auto-Union Motors</td></tr><tr><td>200</td><td>DLR0132</td><td>Mitsubishi Motors</td></tr><tr><td>201</td><td>DLR0244</td><td>Hupmobile Building</td></tr><tr><td>202</td><td>DLR0068</td><td>GAZ Motors</td></tr><tr><td>203</td><td>DLR0053</td><td>Eicher Polaris Motors</td></tr><tr><td>204</td><td>DLR0002</td><td>Acura Motors</td></tr><tr><td>205</td><td>DLR0194</td><td>Tesla Motors</td></tr><tr><td>206</td><td>DLR0233</td><td>Blankinship Motor Company Building</td></tr><tr><td>207</td><td>DLR0014</td><td>Audi Motors</td></tr><tr><td>208</td><td>DLR0093</td><td>Iso Motors</td></tr><tr><td>209</td><td>DLR0205</td><td>Volkswagen South Africa Motors</td></tr><tr><td>210</td><td>DLR0141</td><td>Noble Motors</td></tr><tr><td>211</td><td>DLR0140</td><td>Nissan India Motors</td></tr><tr><td>212</td><td>DLR0101</td><td>Kia Motors</td></tr><tr><td>213</td><td>DLR0234</td><td>Bohn Motor Company Automobile Dealership</td></tr><tr><td>214</td><td>DLR0235</td><td>Buick Automobile Company Building</td></tr><tr><td>215</td><td>DLR0256</td><td>Ariel Motors</td></tr><tr><td>216</td><td>DLR0004</td><td>Alfa Romeo Motors</td></tr><tr><td>217</td><td>DLR0084</td><td>Hudson Motors</td></tr><tr><td>218</td><td>DLR0133</td><td>Monica Motors</td></tr><tr><td>219</td><td>DLR0062</td><td>Ford Australia Motors</td></tr><tr><td>220</td><td>DLR0038</td><td>Cizeta-Moroder Motors</td></tr><tr><td>221</td><td>DLR0049</td><td>Dodge Motors</td></tr><tr><td>222</td><td>DLR0055</td><td>Facel Vega Motors</td></tr><tr><td>223</td><td>DLR0170</td><td>Saleen Motors</td></tr><tr><td>224</td><td>DLR0242</td><td>H Street Playhouse</td></tr><tr><td>225</td><td>DLR0243</td><td>Howard Motor Company Building</td></tr><tr><td>226</td><td>DLR0224</td><td>Standard  Motors</td></tr><tr><td>227</td><td>DLR0077</td><td>Heinkel Motors</td></tr><tr><td>228</td><td>DLR0031</td><td>Caterham Motors</td></tr><tr><td>229</td><td>DLR0127</td><td>Merkur Motors</td></tr><tr><td>230</td><td>DLR0043</td><td>Daimler Motors</td></tr><tr><td>231</td><td>DLR0168</td><td>Saab Motors</td></tr><tr><td>232</td><td>DLR0083</td><td>Honda India Motors</td></tr><tr><td>233</td><td>DLR0099</td><td>Jensen Motors</td></tr><tr><td>234</td><td>DLR0090</td><td>null</td></tr><tr><td>235</td><td>DLR0173</td><td>Santa Matilde Motors</td></tr><tr><td>236</td><td>DLR0067</td><td>FSO Motors</td></tr><tr><td>237</td><td>DLR0113</td><td>LuAZ Motors</td></tr><tr><td>238</td><td>DLR0011</td><td>Artega Motors</td></tr><tr><td>239</td><td>DLR0157</td><td>Polestar Motors</td></tr><tr><td>240</td><td>DLR0258</td><td>null</td></tr><tr><td>241</td><td>DLR0086</td><td>Hummer Motors</td></tr><tr><td>242</td><td>DLR0054</td><td>Elva Motors</td></tr><tr><td>243</td><td>DLR0178</td><td>Shelby SuperCars Motors</td></tr><tr><td>244</td><td>DLR0023</td><td>Bristol Motors</td></tr><tr><td>245</td><td>DLR0026</td><td>Austin, Rover Motors</td></tr><tr><td>246</td><td>DLR0219</td><td>MG  Motors</td></tr><tr><td>247</td><td>DLR0120</td><td>Mastretta Motors</td></tr><tr><td>248</td><td>DLR0028</td><td>Buick Motors</td></tr><tr><td>249</td><td>DLR0057</td><td>Fiat Motors</td></tr><tr><td>250</td><td>DLR0041</td><td>DAF Motors</td></tr><tr><td>251</td><td>DLR0095</td><td>Isuzu Motors</td></tr><tr><td>252</td><td>DLR0123</td><td>Mazzanti Motors</td></tr><tr><td>253</td><td>DLR0036</td><td>Chrysler Europe Motors</td></tr><tr><td>254</td><td>DLR0149</td><td>Panoz Motors</td></tr><tr><td>255</td><td>DLR0145</td><td>Opel Motors</td></tr><tr><td>256</td><td>DLR0105</td><td>Lamborghini Motors</td></tr><tr><td>257</td><td>DLR0097</td><td>Jaguar Motors</td></tr><tr><td>258</td><td>DLR0196</td><td>Toyota Motors</td></tr><tr><td>259</td><td>DLR0024</td><td>British Leyland Motors</td></tr><tr><td>260</td><td>DLR0241</td><td>Colman Automotive Building</td></tr><tr><td>261</td><td>DLR0012</td><td>Asia Motors Motors</td></tr><tr><td>262</td><td>DLR0122</td><td>Mazda Motors</td></tr><tr><td>263</td><td>DLR0060</td><td>Fisker, Karma Motors</td></tr><tr><td>264</td><td>DLR0106</td><td>Lancia Motors</td></tr><tr><td>265</td><td>DLR0158</td><td>Pontiac, Asüna Motors</td></tr><tr><td>266</td><td>DLR0015</td><td>Autobianchi Motors</td></tr><tr><td>267</td><td>DLR0081</td><td>Holden Motors</td></tr></tbody></table></div>"
      ]
     },
     "metadata": {
      "application/vnd.databricks.v1+output": {
       "addedWidgets": {},
       "aggData": [],
       "aggError": "",
       "aggOverflow": false,
       "aggSchema": [],
       "aggSeriesLimitReached": false,
       "aggType": "",
       "arguments": {},
       "columnCustomDisplayInfos": {},
       "data": [
        [
         1,
         "DLR0058",
         "Fiat do Brasil Motors"
        ],
        [
         2,
         "DLR0107",
         "Land Rover Motors"
        ],
        [
         3,
         "DLR0129",
         "Mia Motors"
        ],
        [
         4,
         "DLR0111",
         "Lotus Motors"
        ],
        [
         5,
         "DLR0085",
         "Humber Motors"
        ],
        [
         6,
         "DLR0001",
         "AC Cars Motors"
        ],
        [
         7,
         "DLR0218",
         "Lagonda  Motors"
        ],
        [
         8,
         "DLR0082",
         "Honda Motors"
        ],
        [
         9,
         "DLR0063",
         "Ford do Brasil Motors"
        ],
        [
         10,
         "DLR0193",
         "Tazzari Motors"
        ],
        [
         11,
         "DLR0134",
         "Monteverdi Motors"
        ],
        [
         12,
         "DLR0199",
         "TVR Motors"
        ],
        [
         13,
         "DLR0254",
         "AMC, Eagle Motors"
        ],
        [
         14,
         "DLR0094",
         "Isotta Fraschini Motors"
        ],
        [
         15,
         "DLR0236",
         "Cadillac Automobile Company Building"
        ],
        [
         16,
         "DLR0201",
         "Vauxhall Motors"
        ],
        [
         17,
         "DLR0175",
         "Saturn Motors"
        ],
        [
         18,
         "DLR0226",
         "Das Motors"
        ],
        [
         19,
         "DLR0207",
         "Westfield Motors"
        ],
        [
         20,
         "DLR0035",
         "Chrysler Motors"
        ],
        [
         21,
         "DLR0151",
         "Peel Motors"
        ],
        [
         22,
         "DLR0156",
         "Plymouth Motors"
        ],
        [
         23,
         "DLR0216",
         "Maybach  Motors"
        ],
        [
         24,
         "DLR0259",
         "Asia Motors Motors"
        ],
        [
         25,
         "DLR0037",
         "Citroën Motors"
        ],
        [
         26,
         "DLR0074",
         "GTA Spano Motors"
        ],
        [
         27,
         "DLR0150",
         "Panther Motors"
        ],
        [
         28,
         "DLR0135",
         "Morgan Motors"
        ],
        [
         29,
         "DLR0073",
         "GMC Motors"
        ],
        [
         30,
         "DLR0260",
         "Aston Martin Motors"
        ],
        [
         31,
         "DLR0153",
         "Peugeot Motors"
        ],
        [
         32,
         "DLR0124",
         "McLaren Motors"
        ],
        [
         33,
         "DLR0121",
         "Matra (including Deutsch-Bonnet, René Bonnet) Motors"
        ],
        [
         34,
         "DLR0211",
         "ZIL Motors"
        ],
        [
         35,
         "DLR0066",
         "Freightliner Motors"
        ],
        [
         36,
         "DLR0110",
         "Lincoln Motors"
        ],
        [
         37,
         "DLR0143",
         "Oldsmobile Motors"
        ],
        [
         38,
         "DLR0167",
         "Rolls-Royce Motors"
        ],
        [
         39,
         "DLR0048",
         "De Tomaso Motors"
        ],
        [
         40,
         "DLR0008",
         "Anadol Motors"
        ],
        [
         41,
         "DLR0128",
         "Messerschmitt Motors"
        ],
        [
         42,
         "DLR0177",
         "Seat Motors"
        ],
        [
         43,
         "DLR0181",
         "Singer Motors"
        ],
        [
         44,
         "DLR0079",
         "Hillman Motors"
        ],
        [
         45,
         "DLR0072",
         "Glas Motors"
        ],
        [
         46,
         "DLR0248",
         "AC Cars Motors"
        ],
        [
         47,
         "DLR0052",
         "e.GO Mobile Motors"
        ],
        [
         48,
         "DLR0197",
         "Toyota India Motors"
        ],
        [
         49,
         "DLR0080",
         "Hindustan Motors"
        ],
        [
         50,
         "DLR0164",
         "Reliant Motors"
        ],
        [
         51,
         "DLR0029",
         "Bytom Motors"
        ],
        [
         52,
         "DLR0195",
         "Tornado Motors"
        ],
        [
         53,
         "DLR0005",
         "Alpine Motors"
        ],
        [
         54,
         "DLR0007",
         "AMC, Eagle Motors"
        ],
        [
         55,
         "DLR0078",
         "Hennessey Motors"
        ],
        [
         56,
         "DLR0247",
         "Kindel Building"
        ],
        [
         57,
         "DLR0065",
         "Ford India Motors"
        ],
        [
         58,
         "DLR0174",
         "Santana Motors"
        ],
        [
         59,
         "DLR0022",
         "Borgward (including Goliath and Lloyd) Motors"
        ],
        [
         60,
         "DLR0116",
         "Marcos Motors"
        ],
        [
         61,
         "DLR0257",
         "ARO Motors"
        ],
        [
         62,
         "DLR0172",
         "San Motors"
        ],
        [
         63,
         "DLR0061",
         "Ford America Motors"
        ],
        [
         64,
         "DLR0240",
         "Clemens Automobile Company Building"
        ],
        [
         65,
         "DLR0103",
         "KTM Motors"
        ],
        [
         66,
         "DLR0096",
         "Iveco Motors"
        ],
        [
         67,
         "DLR0198",
         "Turner Motors"
        ],
        [
         68,
         "DLR0137",
         "Nash Motors"
        ],
        [
         69,
         "DLR0202",
         "Venturi Motors"
        ],
        [
         70,
         "DLR0125",
         "Mercedes-Benz (including Maybach) Motors"
        ],
        [
         71,
         "DLR0089",
         "Infiniti Motors"
        ],
        [
         72,
         "DLR0266",
         "Bitter Motors"
        ],
        [
         73,
         "DLR0148",
         "Panhard Motors"
        ],
        [
         74,
         "DLR0142",
         "NSU Motors"
        ],
        [
         75,
         "DLR0227",
         "Ramani Motors"
        ],
        [
         76,
         "DLR0206",
         "Volvo Motors"
        ],
        [
         77,
         "DLR0179",
         "Simca Motors"
        ],
        [
         78,
         "DLR0059",
         "Fiat India Motors"
        ],
        [
         79,
         "DLR0092",
         "Isdera Motors"
        ],
        [
         80,
         "DLR0018",
         "Bentley Motors"
        ],
        [
         81,
         "DLR0115",
         "Mahindra Motors"
        ],
        [
         82,
         "DLR0169",
         "SAIC Motor Motors"
        ],
        [
         83,
         "DLR0212",
         null
        ],
        [
         84,
         "DLR0192",
         "Tatra Motors"
        ],
        [
         85,
         "DLR0186",
         "Standard-Triumph Motors"
        ],
        [
         86,
         "DLR0021",
         "Bond Motors"
        ],
        [
         87,
         "DLR0147",
         "Pagani Motors"
        ],
        [
         88,
         "DLR0098",
         "Jeep Motors"
        ],
        [
         89,
         "DLR0209",
         "Zastava Motors"
        ],
        [
         90,
         "DLR0166",
         "Rivian Motors"
        ],
        [
         91,
         "DLR0250",
         "Aixam-Mega (including Arola) Motors"
        ],
        [
         92,
         "DLR0220",
         "Morris  Motors"
        ],
        [
         93,
         "DLR0183",
         "Smart Motors"
        ],
        [
         94,
         "DLR0102",
         "Koenigsegg Motors"
        ],
        [
         95,
         "DLR0188",
         "Subaru Motors"
        ],
        [
         96,
         "DLR0155",
         "Piaggio Motors"
        ],
        [
         97,
         "DLR0050",
         "Donkervoort Motors"
        ],
        [
         98,
         "DLR0252",
         "Alpine Motors"
        ],
        [
         99,
         "DLR0184",
         "Spyker Motors"
        ],
        [
         100,
         "DLR0267",
         "BMW Motors"
        ],
        [
         101,
         "DLR0091",
         "Invicta Motors"
        ],
        [
         102,
         "DLR0262",
         "Autobianchi Motors"
        ],
        [
         103,
         "DLR0249",
         "Acura Motors"
        ],
        [
         104,
         "DLR0208",
         "Wiesmann Motors"
        ],
        [
         105,
         "DLR0114",
         "Lynx Motors"
        ],
        [
         106,
         "DLR0204",
         "Volkswagen do Brasil Motors"
        ],
        [
         107,
         "DLR0200",
         "UAZ Motors"
        ],
        [
         108,
         "DLR0163",
         "Ranger Motors"
        ],
        [
         109,
         "DLR0223",
         "Wolseley  Motors"
        ],
        [
         110,
         "DLR0044",
         null
        ],
        [
         111,
         "DLR0231",
         "Atlantic Motor Company"
        ],
        [
         112,
         "DLR0034",
         "Chevrolet India Motors"
        ],
        [
         113,
         "DLR0126",
         "Mercury Motors"
        ],
        [
         114,
         "DLR0046",
         "DeLorean Motors"
        ],
        [
         115,
         "DLR0130",
         "Micro Motors"
        ],
        [
         116,
         "DLR0210",
         "ZAZ Motors"
        ],
        [
         117,
         "DLR0136",
         "Moskwitch Motors"
        ],
        [
         118,
         "DLR0222",
         "Riley  Motors"
        ],
        [
         119,
         "DLR0017",
         "Auverland Motors"
        ],
        [
         120,
         "DLR0182",
         "Skoda Motors"
        ],
        [
         121,
         "DLR0152",
         "Perodua Motors"
        ],
        [
         122,
         "DLR0071",
         "Ginetta Motors"
        ],
        [
         123,
         "DLR0161",
         "Proton Motors"
        ],
        [
         124,
         "DLR0246",
         "Jones Motor Company"
        ],
        [
         125,
         "DLR0020",
         "BMW Motors"
        ],
        [
         126,
         "DLR0076",
         "Healey Motors"
        ],
        [
         127,
         "DLR0237",
         "Casa de cadillac"
        ],
        [
         128,
         "DLR0131",
         "Mini Motors"
        ],
        [
         129,
         "DLR0112",
         "LTI Motors"
        ],
        [
         130,
         "DLR0213",
         "DKW Motors"
        ],
        [
         131,
         "DLR0040",
         "Daewoo, Saehan, Chevrolet Korea Motors"
        ],
        [
         132,
         "DLR0187",
         "Studebaker Motors"
        ],
        [
         133,
         "DLR0251",
         "Alfa Romeo Motors"
        ],
        [
         134,
         "DLR0154",
         "PGO Motors"
        ],
        [
         135,
         "DLR0119",
         "Maserati Motors"
        ],
        [
         136,
         "DLR0013",
         "Aston Martin Motors"
        ],
        [
         137,
         "DLR0087",
         "Hyundai Motors"
        ],
        [
         138,
         "DLR0056",
         "Ferrari Motors"
        ],
        [
         139,
         "DLR0033",
         "Chevrolet Motors"
        ],
        [
         140,
         "DLR0042",
         "Daihatsu Motors"
        ],
        [
         141,
         "DLR0229",
         "Herald Motors"
        ],
        [
         142,
         "DLR0070",
         "Gilbern Motors"
        ],
        [
         143,
         "DLR0191",
         "Tata Motors"
        ],
        [
         144,
         "DLR0203",
         "Volkswagen Motors"
        ],
        [
         145,
         "DLR0100",
         "JPX Motors"
        ],
        [
         146,
         "DLR0047",
         "DeSoto Motors"
        ],
        [
         147,
         "DLR0214",
         "Horch Motors"
        ],
        [
         148,
         "DLR0171",
         "Samsung Motors"
        ],
        [
         149,
         "DLR0045",
         "Delahaye Motors"
        ],
        [
         150,
         "DLR0264",
         "Auverland Motors"
        ],
        [
         151,
         "DLR0162",
         "Puma Motors"
        ],
        [
         152,
         "DLR0159",
         "Porsche Motors"
        ],
        [
         153,
         "DLR0146",
         "Packard Motors"
        ],
        [
         154,
         "DLR0261",
         "Audi Motors"
        ],
        [
         155,
         "DLR0032",
         "Checker Motors"
        ],
        [
         156,
         "DLR0009",
         "Ariel Motors"
        ],
        [
         157,
         "DLR0225",
         "Talbot  Motors"
        ],
        [
         158,
         "DLR0221",
         "Austin  Motors"
        ],
        [
         159,
         "DLR0075",
         "Gumpert Motors"
        ],
        [
         160,
         "DLR0069",
         "Geo Motors"
        ],
        [
         161,
         "DLR0104",
         "Lada Motors"
        ],
        [
         162,
         "DLR0039",
         "Dacia Motors"
        ],
        [
         163,
         "DLR0245",
         "Jennings Ford Automobile Dealership"
        ],
        [
         164,
         "DLR0238",
         "Cass Motor Sales"
        ],
        [
         165,
         "DLR0064",
         "Ford Europe Motors"
        ],
        [
         166,
         "DLR0109",
         "Ligier Motors"
        ],
        [
         167,
         "DLR0144",
         null
        ],
        [
         168,
         "DLR0176",
         "Scion Motors"
        ],
        [
         169,
         "DLR0255",
         "Anadol Motors"
        ],
        [
         170,
         "DLR0138",
         "Naza Motors"
        ],
        [
         171,
         "DLR0003",
         "Aixam-Mega (including Arola) Motors"
        ],
        [
         172,
         "DLR0265",
         "Bentley Motors"
        ],
        [
         173,
         "DLR0217",
         "Izh  Motors"
        ],
        [
         174,
         "DLR0185",
         "SsangYong Motors"
        ],
        [
         175,
         "DLR0019",
         "Bitter Motors"
        ],
        [
         176,
         "DLR0165",
         "Renault Motors"
        ],
        [
         177,
         "DLR0108",
         "Lexus Motors"
        ],
        [
         178,
         "DLR0117",
         "Marlin Motors"
        ],
        [
         179,
         "DLR0118",
         "Maruti Motors"
        ],
        [
         180,
         "DLR0027",
         "Bugatti Motors"
        ],
        [
         181,
         "DLR0139",
         "Nissan Motors"
        ],
        [
         182,
         "DLR0088",
         "IFA (including Trabant, Wartburg, Barkas) Motors"
        ],
        [
         183,
         "DLR0051",
         "Edsel Motors"
        ],
        [
         184,
         "DLR0010",
         "ARO Motors"
        ],
        [
         185,
         "DLR0006",
         "Alvis Motors"
        ],
        [
         186,
         "DLR0180",
         "Simca do Brasil Motors"
        ],
        [
         187,
         "DLR0253",
         "Alvis Motors"
        ],
        [
         188,
         "DLR0230",
         "Zion Automobils"
        ],
        [
         189,
         "DLR0190",
         "Suzuki Motors"
        ],
        [
         190,
         "DLR0232",
         "2008 NRHP-listed"
        ],
        [
         191,
         "DLR0030",
         "Cadillac Motors"
        ],
        [
         192,
         "DLR0215",
         "Wanderer Motors"
        ],
        [
         193,
         "DLR0016",
         "Auto-Union Motors"
        ],
        [
         194,
         "DLR0160",
         "Premier Motors"
        ],
        [
         195,
         "DLR0025",
         "Austin-Healey Motors"
        ],
        [
         196,
         "DLR0239",
         "Claremore Auto Dealership"
        ],
        [
         197,
         "DLR0228",
         "Deccan Motors"
        ],
        [
         198,
         "DLR0189",
         "Sunbeam Motors"
        ],
        [
         199,
         "DLR0263",
         "Auto-Union Motors"
        ],
        [
         200,
         "DLR0132",
         "Mitsubishi Motors"
        ],
        [
         201,
         "DLR0244",
         "Hupmobile Building"
        ],
        [
         202,
         "DLR0068",
         "GAZ Motors"
        ],
        [
         203,
         "DLR0053",
         "Eicher Polaris Motors"
        ],
        [
         204,
         "DLR0002",
         "Acura Motors"
        ],
        [
         205,
         "DLR0194",
         "Tesla Motors"
        ],
        [
         206,
         "DLR0233",
         "Blankinship Motor Company Building"
        ],
        [
         207,
         "DLR0014",
         "Audi Motors"
        ],
        [
         208,
         "DLR0093",
         "Iso Motors"
        ],
        [
         209,
         "DLR0205",
         "Volkswagen South Africa Motors"
        ],
        [
         210,
         "DLR0141",
         "Noble Motors"
        ],
        [
         211,
         "DLR0140",
         "Nissan India Motors"
        ],
        [
         212,
         "DLR0101",
         "Kia Motors"
        ],
        [
         213,
         "DLR0234",
         "Bohn Motor Company Automobile Dealership"
        ],
        [
         214,
         "DLR0235",
         "Buick Automobile Company Building"
        ],
        [
         215,
         "DLR0256",
         "Ariel Motors"
        ],
        [
         216,
         "DLR0004",
         "Alfa Romeo Motors"
        ],
        [
         217,
         "DLR0084",
         "Hudson Motors"
        ],
        [
         218,
         "DLR0133",
         "Monica Motors"
        ],
        [
         219,
         "DLR0062",
         "Ford Australia Motors"
        ],
        [
         220,
         "DLR0038",
         "Cizeta-Moroder Motors"
        ],
        [
         221,
         "DLR0049",
         "Dodge Motors"
        ],
        [
         222,
         "DLR0055",
         "Facel Vega Motors"
        ],
        [
         223,
         "DLR0170",
         "Saleen Motors"
        ],
        [
         224,
         "DLR0242",
         "H Street Playhouse"
        ],
        [
         225,
         "DLR0243",
         "Howard Motor Company Building"
        ],
        [
         226,
         "DLR0224",
         "Standard  Motors"
        ],
        [
         227,
         "DLR0077",
         "Heinkel Motors"
        ],
        [
         228,
         "DLR0031",
         "Caterham Motors"
        ],
        [
         229,
         "DLR0127",
         "Merkur Motors"
        ],
        [
         230,
         "DLR0043",
         "Daimler Motors"
        ],
        [
         231,
         "DLR0168",
         "Saab Motors"
        ],
        [
         232,
         "DLR0083",
         "Honda India Motors"
        ],
        [
         233,
         "DLR0099",
         "Jensen Motors"
        ],
        [
         234,
         "DLR0090",
         null
        ],
        [
         235,
         "DLR0173",
         "Santa Matilde Motors"
        ],
        [
         236,
         "DLR0067",
         "FSO Motors"
        ],
        [
         237,
         "DLR0113",
         "LuAZ Motors"
        ],
        [
         238,
         "DLR0011",
         "Artega Motors"
        ],
        [
         239,
         "DLR0157",
         "Polestar Motors"
        ],
        [
         240,
         "DLR0258",
         null
        ],
        [
         241,
         "DLR0086",
         "Hummer Motors"
        ],
        [
         242,
         "DLR0054",
         "Elva Motors"
        ],
        [
         243,
         "DLR0178",
         "Shelby SuperCars Motors"
        ],
        [
         244,
         "DLR0023",
         "Bristol Motors"
        ],
        [
         245,
         "DLR0026",
         "Austin, Rover Motors"
        ],
        [
         246,
         "DLR0219",
         "MG  Motors"
        ],
        [
         247,
         "DLR0120",
         "Mastretta Motors"
        ],
        [
         248,
         "DLR0028",
         "Buick Motors"
        ],
        [
         249,
         "DLR0057",
         "Fiat Motors"
        ],
        [
         250,
         "DLR0041",
         "DAF Motors"
        ],
        [
         251,
         "DLR0095",
         "Isuzu Motors"
        ],
        [
         252,
         "DLR0123",
         "Mazzanti Motors"
        ],
        [
         253,
         "DLR0036",
         "Chrysler Europe Motors"
        ],
        [
         254,
         "DLR0149",
         "Panoz Motors"
        ],
        [
         255,
         "DLR0145",
         "Opel Motors"
        ],
        [
         256,
         "DLR0105",
         "Lamborghini Motors"
        ],
        [
         257,
         "DLR0097",
         "Jaguar Motors"
        ],
        [
         258,
         "DLR0196",
         "Toyota Motors"
        ],
        [
         259,
         "DLR0024",
         "British Leyland Motors"
        ],
        [
         260,
         "DLR0241",
         "Colman Automotive Building"
        ],
        [
         261,
         "DLR0012",
         "Asia Motors Motors"
        ],
        [
         262,
         "DLR0122",
         "Mazda Motors"
        ],
        [
         263,
         "DLR0060",
         "Fisker, Karma Motors"
        ],
        [
         264,
         "DLR0106",
         "Lancia Motors"
        ],
        [
         265,
         "DLR0158",
         "Pontiac, Asüna Motors"
        ],
        [
         266,
         "DLR0015",
         "Autobianchi Motors"
        ],
        [
         267,
         "DLR0081",
         "Holden Motors"
        ]
       ],
       "datasetInfos": [],
       "dbfsResultPath": null,
       "isJsonSchema": true,
       "metadata": {},
       "overflow": false,
       "plotOptions": {
        "customPlotOptions": {},
        "displayType": "table",
        "pivotAggregation": null,
        "pivotColumns": null,
        "xColumns": null,
        "yColumns": null
       },
       "removedWidgets": [],
       "schema": [
        {
         "metadata": "{}",
         "name": "Dim_Dealer_Key",
         "type": "\"long\""
        },
        {
         "metadata": "{}",
         "name": "Dealer_ID",
         "type": "\"string\""
        },
        {
         "metadata": "{}",
         "name": "DealerName",
         "type": "\"string\""
        }
       ],
       "type": "table"
      }
     },
     "output_type": "display_data"
    }
   ],
   "source": [
    "dealer_sink_df.display()"
   ]
  },
  {
   "cell_type": "markdown",
   "metadata": {
    "application/vnd.databricks.v1+cell": {
     "cellMetadata": {
      "byteLimit": 2048000,
      "rowLimit": 10000
     },
     "inputWidgets": {},
     "nuid": "da132ebb-575a-4a6f-9449-41badf16e7d7",
     "showTitle": false,
     "tableResultSettingsMap": {},
     "title": ""
    }
   },
   "source": [
    "###Filtering New Records and Old Records"
   ]
  },
  {
   "cell_type": "code",
   "execution_count": 0,
   "metadata": {
    "application/vnd.databricks.v1+cell": {
     "cellMetadata": {
      "byteLimit": 2048000,
      "rowLimit": 10000
     },
     "inputWidgets": {},
     "nuid": "b0eccd4b-5b99-48e9-9392-5257005c8d45",
     "showTitle": false,
     "tableResultSettingsMap": {},
     "title": ""
    }
   },
   "outputs": [],
   "source": [
    "df_filter = dealer_src_df.join(dealer_sink_df, dealer_src_df.Dealer_ID == dealer_sink_df.Dealer_ID, how='left') \\\n",
    "                         .select(dealer_src_df.Dealer_ID, dealer_src_df.DealerName, dealer_sink_df.Dim_Dealer_Key)\n"
   ]
  },
  {
   "cell_type": "code",
   "execution_count": 0,
   "metadata": {
    "application/vnd.databricks.v1+cell": {
     "cellMetadata": {
      "byteLimit": 2048000,
      "rowLimit": 10000
     },
     "inputWidgets": {},
     "nuid": "e430f20c-9301-44b2-9ad2-56562353233c",
     "showTitle": false,
     "tableResultSettingsMap": {},
     "title": ""
    }
   },
   "outputs": [
    {
     "output_type": "display_data",
     "data": {
      "text/html": [
       "<style scoped>\n",
       "  .table-result-container {\n",
       "    max-height: 300px;\n",
       "    overflow: auto;\n",
       "  }\n",
       "  table, th, td {\n",
       "    border: 1px solid black;\n",
       "    border-collapse: collapse;\n",
       "  }\n",
       "  th, td {\n",
       "    padding: 5px;\n",
       "  }\n",
       "  th {\n",
       "    text-align: left;\n",
       "  }\n",
       "</style><div class='table-result-container'><table class='table-result'><thead style='background-color: white'><tr><th>Dealer_ID</th><th>DealerName</th><th>Dim_Dealer_Key</th></tr></thead><tbody><tr><td>DLR0063</td><td>Ford do Brasil Motors</td><td>9</td></tr><tr><td>XYZ0063</td><td>Datafam Dealers</td><td>null</td></tr><tr><td>DLR0062</td><td>Ford Australia Motors</td><td>219</td></tr><tr><td>DLR0060</td><td>Fisker, Karma Motors</td><td>263</td></tr></tbody></table></div>"
      ]
     },
     "metadata": {
      "application/vnd.databricks.v1+output": {
       "addedWidgets": {},
       "aggData": [],
       "aggError": "",
       "aggOverflow": false,
       "aggSchema": [],
       "aggSeriesLimitReached": false,
       "aggType": "",
       "arguments": {},
       "columnCustomDisplayInfos": {},
       "data": [
        [
         "DLR0063",
         "Ford do Brasil Motors",
         9
        ],
        [
         "XYZ0063",
         "Datafam Dealers",
         null
        ],
        [
         "DLR0062",
         "Ford Australia Motors",
         219
        ],
        [
         "DLR0060",
         "Fisker, Karma Motors",
         263
        ]
       ],
       "datasetInfos": [],
       "dbfsResultPath": null,
       "isJsonSchema": true,
       "metadata": {},
       "overflow": false,
       "plotOptions": {
        "customPlotOptions": {},
        "displayType": "table",
        "pivotAggregation": null,
        "pivotColumns": null,
        "xColumns": null,
        "yColumns": null
       },
       "removedWidgets": [],
       "schema": [
        {
         "metadata": "{}",
         "name": "Dealer_ID",
         "type": "\"string\""
        },
        {
         "metadata": "{}",
         "name": "DealerName",
         "type": "\"string\""
        },
        {
         "metadata": "{}",
         "name": "Dim_Dealer_Key",
         "type": "\"long\""
        }
       ],
       "type": "table"
      }
     },
     "output_type": "display_data"
    }
   ],
   "source": [
    "df_filter.display()"
   ]
  },
  {
   "cell_type": "markdown",
   "metadata": {
    "application/vnd.databricks.v1+cell": {
     "cellMetadata": {
      "byteLimit": 2048000,
      "rowLimit": 10000
     },
     "inputWidgets": {},
     "nuid": "67902e51-ac0a-42e9-b3d2-6f34c1b7d1c1",
     "showTitle": false,
     "tableResultSettingsMap": {},
     "title": ""
    }
   },
   "source": [
    "**df_filter_old**"
   ]
  },
  {
   "cell_type": "code",
   "execution_count": 0,
   "metadata": {
    "application/vnd.databricks.v1+cell": {
     "cellMetadata": {
      "byteLimit": 2048000,
      "rowLimit": 10000
     },
     "inputWidgets": {},
     "nuid": "287810d1-0c99-426e-9134-8e8a9ea8681b",
     "showTitle": false,
     "tableResultSettingsMap": {},
     "title": ""
    }
   },
   "outputs": [],
   "source": [
    "df_filter_old = df_filter.filter(col('Dim_Dealer_Key').isNotNull())  "
   ]
  },
  {
   "cell_type": "code",
   "execution_count": 0,
   "metadata": {
    "application/vnd.databricks.v1+cell": {
     "cellMetadata": {
      "byteLimit": 2048000,
      "rowLimit": 10000
     },
     "inputWidgets": {},
     "nuid": "7d92af7a-0ba0-447c-97a6-2485fd91431f",
     "showTitle": false,
     "tableResultSettingsMap": {},
     "title": ""
    }
   },
   "outputs": [
    {
     "output_type": "display_data",
     "data": {
      "text/html": [
       "<style scoped>\n",
       "  .table-result-container {\n",
       "    max-height: 300px;\n",
       "    overflow: auto;\n",
       "  }\n",
       "  table, th, td {\n",
       "    border: 1px solid black;\n",
       "    border-collapse: collapse;\n",
       "  }\n",
       "  th, td {\n",
       "    padding: 5px;\n",
       "  }\n",
       "  th {\n",
       "    text-align: left;\n",
       "  }\n",
       "</style><div class='table-result-container'><table class='table-result'><thead style='background-color: white'><tr><th>Dealer_ID</th><th>DealerName</th><th>Dim_Dealer_Key</th></tr></thead><tbody><tr><td>DLR0063</td><td>Ford do Brasil Motors</td><td>9</td></tr><tr><td>DLR0062</td><td>Ford Australia Motors</td><td>219</td></tr><tr><td>DLR0060</td><td>Fisker, Karma Motors</td><td>263</td></tr></tbody></table></div>"
      ]
     },
     "metadata": {
      "application/vnd.databricks.v1+output": {
       "addedWidgets": {},
       "aggData": [],
       "aggError": "",
       "aggOverflow": false,
       "aggSchema": [],
       "aggSeriesLimitReached": false,
       "aggType": "",
       "arguments": {},
       "columnCustomDisplayInfos": {},
       "data": [
        [
         "DLR0063",
         "Ford do Brasil Motors",
         9
        ],
        [
         "DLR0062",
         "Ford Australia Motors",
         219
        ],
        [
         "DLR0060",
         "Fisker, Karma Motors",
         263
        ]
       ],
       "datasetInfos": [],
       "dbfsResultPath": null,
       "isJsonSchema": true,
       "metadata": {},
       "overflow": false,
       "plotOptions": {
        "customPlotOptions": {},
        "displayType": "table",
        "pivotAggregation": null,
        "pivotColumns": null,
        "xColumns": null,
        "yColumns": null
       },
       "removedWidgets": [],
       "schema": [
        {
         "metadata": "{}",
         "name": "Dealer_ID",
         "type": "\"string\""
        },
        {
         "metadata": "{}",
         "name": "DealerName",
         "type": "\"string\""
        },
        {
         "metadata": "{}",
         "name": "Dim_Dealer_Key",
         "type": "\"long\""
        }
       ],
       "type": "table"
      }
     },
     "output_type": "display_data"
    }
   ],
   "source": [
    "df_filter_old.display()"
   ]
  },
  {
   "cell_type": "markdown",
   "metadata": {
    "application/vnd.databricks.v1+cell": {
     "cellMetadata": {
      "byteLimit": 2048000,
      "rowLimit": 10000
     },
     "inputWidgets": {},
     "nuid": "4cc7085e-a4fb-479c-bb7b-383bb99563a0",
     "showTitle": false,
     "tableResultSettingsMap": {},
     "title": ""
    }
   },
   "source": [
    "**df_filter_new**"
   ]
  },
  {
   "cell_type": "code",
   "execution_count": 0,
   "metadata": {
    "application/vnd.databricks.v1+cell": {
     "cellMetadata": {
      "byteLimit": 2048000,
      "rowLimit": 10000
     },
     "inputWidgets": {},
     "nuid": "0cfb0d58-72ca-4f49-a8e1-6ad7c93cd182",
     "showTitle": false,
     "tableResultSettingsMap": {},
     "title": ""
    }
   },
   "outputs": [],
   "source": [
    "df_filter_new = df_filter.filter(col('Dim_Dealer_Key').isNull()).select(dealer_src_df.Dealer_ID, dealer_src_df.DealerName)"
   ]
  },
  {
   "cell_type": "code",
   "execution_count": 0,
   "metadata": {
    "application/vnd.databricks.v1+cell": {
     "cellMetadata": {
      "byteLimit": 2048000,
      "rowLimit": 10000
     },
     "inputWidgets": {},
     "nuid": "0157e6b4-4309-4471-bedf-609e7dcae803",
     "showTitle": false,
     "tableResultSettingsMap": {},
     "title": ""
    }
   },
   "outputs": [
    {
     "output_type": "display_data",
     "data": {
      "text/html": [
       "<style scoped>\n",
       "  .table-result-container {\n",
       "    max-height: 300px;\n",
       "    overflow: auto;\n",
       "  }\n",
       "  table, th, td {\n",
       "    border: 1px solid black;\n",
       "    border-collapse: collapse;\n",
       "  }\n",
       "  th, td {\n",
       "    padding: 5px;\n",
       "  }\n",
       "  th {\n",
       "    text-align: left;\n",
       "  }\n",
       "</style><div class='table-result-container'><table class='table-result'><thead style='background-color: white'><tr><th>Dealer_ID</th><th>DealerName</th></tr></thead><tbody><tr><td>XYZ0063</td><td>Datafam Dealers</td></tr></tbody></table></div>"
      ]
     },
     "metadata": {
      "application/vnd.databricks.v1+output": {
       "addedWidgets": {},
       "aggData": [],
       "aggError": "",
       "aggOverflow": false,
       "aggSchema": [],
       "aggSeriesLimitReached": false,
       "aggType": "",
       "arguments": {},
       "columnCustomDisplayInfos": {},
       "data": [
        [
         "XYZ0063",
         "Datafam Dealers"
        ]
       ],
       "datasetInfos": [],
       "dbfsResultPath": null,
       "isJsonSchema": true,
       "metadata": {},
       "overflow": false,
       "plotOptions": {
        "customPlotOptions": {},
        "displayType": "table",
        "pivotAggregation": null,
        "pivotColumns": null,
        "xColumns": null,
        "yColumns": null
       },
       "removedWidgets": [],
       "schema": [
        {
         "metadata": "{}",
         "name": "Dealer_ID",
         "type": "\"string\""
        },
        {
         "metadata": "{}",
         "name": "DealerName",
         "type": "\"string\""
        }
       ],
       "type": "table"
      }
     },
     "output_type": "display_data"
    }
   ],
   "source": [
    "df_filter_new.display()"
   ]
  },
  {
   "cell_type": "markdown",
   "metadata": {
    "application/vnd.databricks.v1+cell": {
     "cellMetadata": {
      "byteLimit": 2048000,
      "rowLimit": 10000
     },
     "inputWidgets": {},
     "nuid": "2de7be04-353b-44b3-9e5e-63e65fd86933",
     "showTitle": false,
     "tableResultSettingsMap": {},
     "title": ""
    }
   },
   "source": [
    "###CREATE Surrogate key"
   ]
  },
  {
   "cell_type": "markdown",
   "metadata": {
    "application/vnd.databricks.v1+cell": {
     "cellMetadata": {
      "byteLimit": 2048000,
      "rowLimit": 10000
     },
     "inputWidgets": {},
     "nuid": "29c00a36-29cf-4ed0-a5c0-ab1c8e7b7ff6",
     "showTitle": false,
     "tableResultSettingsMap": {},
     "title": ""
    }
   },
   "source": [
    "####Fetch max surrogate key from existing table"
   ]
  },
  {
   "cell_type": "code",
   "execution_count": 0,
   "metadata": {
    "application/vnd.databricks.v1+cell": {
     "cellMetadata": {
      "byteLimit": 2048000,
      "rowLimit": 10000
     },
     "inputWidgets": {},
     "nuid": "ff3f3a98-ff32-44bc-8080-781029c79f21",
     "showTitle": false,
     "tableResultSettingsMap": {},
     "title": ""
    }
   },
   "outputs": [],
   "source": [
    "if incremental_flag == '0':\n",
    "    max_value = 1\n",
    "else:\n",
    "    max_value = spark.sql(\"SELECT max(Dim_Dealer_Key) FROM car_sales_catalog.refined.dim_dealer\").collect()[0][0] + 1"
   ]
  },
  {
   "cell_type": "code",
   "execution_count": 0,
   "metadata": {
    "application/vnd.databricks.v1+cell": {
     "cellMetadata": {
      "byteLimit": 2048000,
      "rowLimit": 10000
     },
     "inputWidgets": {},
     "nuid": "810771ef-968f-4458-8d8e-9e7f49319456",
     "showTitle": false,
     "tableResultSettingsMap": {},
     "title": ""
    }
   },
   "outputs": [],
   "source": [
    "df_filter_new = df_filter_new.withColumn('Dim_Dealer_Key', max_value + monotonically_increasing_id())"
   ]
  },
  {
   "cell_type": "code",
   "execution_count": 0,
   "metadata": {
    "application/vnd.databricks.v1+cell": {
     "cellMetadata": {
      "byteLimit": 2048000,
      "rowLimit": 10000
     },
     "inputWidgets": {},
     "nuid": "e2249af0-cb1d-4293-8f43-ab199dfb80d9",
     "showTitle": false,
     "tableResultSettingsMap": {},
     "title": ""
    }
   },
   "outputs": [
    {
     "output_type": "display_data",
     "data": {
      "text/html": [
       "<style scoped>\n",
       "  .table-result-container {\n",
       "    max-height: 300px;\n",
       "    overflow: auto;\n",
       "  }\n",
       "  table, th, td {\n",
       "    border: 1px solid black;\n",
       "    border-collapse: collapse;\n",
       "  }\n",
       "  th, td {\n",
       "    padding: 5px;\n",
       "  }\n",
       "  th {\n",
       "    text-align: left;\n",
       "  }\n",
       "</style><div class='table-result-container'><table class='table-result'><thead style='background-color: white'><tr><th>Dealer_ID</th><th>DealerName</th><th>Dim_Dealer_Key</th></tr></thead><tbody><tr><td>XYZ0063</td><td>Datafam Dealers</td><td>268</td></tr></tbody></table></div>"
      ]
     },
     "metadata": {
      "application/vnd.databricks.v1+output": {
       "addedWidgets": {},
       "aggData": [],
       "aggError": "",
       "aggOverflow": false,
       "aggSchema": [],
       "aggSeriesLimitReached": false,
       "aggType": "",
       "arguments": {},
       "columnCustomDisplayInfos": {},
       "data": [
        [
         "XYZ0063",
         "Datafam Dealers",
         268
        ]
       ],
       "datasetInfos": [],
       "dbfsResultPath": null,
       "isJsonSchema": true,
       "metadata": {},
       "overflow": false,
       "plotOptions": {
        "customPlotOptions": {},
        "displayType": "table",
        "pivotAggregation": null,
        "pivotColumns": null,
        "xColumns": null,
        "yColumns": null
       },
       "removedWidgets": [],
       "schema": [
        {
         "metadata": "{}",
         "name": "Dealer_ID",
         "type": "\"string\""
        },
        {
         "metadata": "{}",
         "name": "DealerName",
         "type": "\"string\""
        },
        {
         "metadata": "{}",
         "name": "Dim_Dealer_Key",
         "type": "\"long\""
        }
       ],
       "type": "table"
      }
     },
     "output_type": "display_data"
    }
   ],
   "source": [
    "df_filter_new.display()"
   ]
  },
  {
   "cell_type": "markdown",
   "metadata": {
    "application/vnd.databricks.v1+cell": {
     "cellMetadata": {
      "byteLimit": 2048000,
      "rowLimit": 10000
     },
     "inputWidgets": {},
     "nuid": "f3021c9a-9a0f-4ada-9811-0ec30523ba11",
     "showTitle": false,
     "tableResultSettingsMap": {},
     "title": ""
    }
   },
   "source": [
    "###Creating final df - df_filter_old + df_filter_new"
   ]
  },
  {
   "cell_type": "code",
   "execution_count": 0,
   "metadata": {
    "application/vnd.databricks.v1+cell": {
     "cellMetadata": {
      "byteLimit": 2048000,
      "rowLimit": 10000
     },
     "inputWidgets": {},
     "nuid": "a4095030-510a-4326-bb39-8cda113b64c6",
     "showTitle": false,
     "tableResultSettingsMap": {},
     "title": ""
    }
   },
   "outputs": [],
   "source": [
    "df_final = df_filter_new.union(df_filter_old)"
   ]
  },
  {
   "cell_type": "code",
   "execution_count": 0,
   "metadata": {
    "application/vnd.databricks.v1+cell": {
     "cellMetadata": {
      "byteLimit": 2048000,
      "rowLimit": 10000
     },
     "inputWidgets": {},
     "nuid": "2ddb57a2-f408-472e-874e-438abb6f8e05",
     "showTitle": false,
     "tableResultSettingsMap": {},
     "title": ""
    }
   },
   "outputs": [
    {
     "output_type": "display_data",
     "data": {
      "text/html": [
       "<style scoped>\n",
       "  .table-result-container {\n",
       "    max-height: 300px;\n",
       "    overflow: auto;\n",
       "  }\n",
       "  table, th, td {\n",
       "    border: 1px solid black;\n",
       "    border-collapse: collapse;\n",
       "  }\n",
       "  th, td {\n",
       "    padding: 5px;\n",
       "  }\n",
       "  th {\n",
       "    text-align: left;\n",
       "  }\n",
       "</style><div class='table-result-container'><table class='table-result'><thead style='background-color: white'><tr><th>Dealer_ID</th><th>DealerName</th><th>Dim_Dealer_Key</th></tr></thead><tbody><tr><td>XYZ0063</td><td>Datafam Dealers</td><td>268</td></tr><tr><td>DLR0063</td><td>Ford do Brasil Motors</td><td>9</td></tr><tr><td>DLR0062</td><td>Ford Australia Motors</td><td>219</td></tr><tr><td>DLR0060</td><td>Fisker, Karma Motors</td><td>263</td></tr></tbody></table></div>"
      ]
     },
     "metadata": {
      "application/vnd.databricks.v1+output": {
       "addedWidgets": {},
       "aggData": [],
       "aggError": "",
       "aggOverflow": false,
       "aggSchema": [],
       "aggSeriesLimitReached": false,
       "aggType": "",
       "arguments": {},
       "columnCustomDisplayInfos": {},
       "data": [
        [
         "XYZ0063",
         "Datafam Dealers",
         268
        ],
        [
         "DLR0063",
         "Ford do Brasil Motors",
         9
        ],
        [
         "DLR0062",
         "Ford Australia Motors",
         219
        ],
        [
         "DLR0060",
         "Fisker, Karma Motors",
         263
        ]
       ],
       "datasetInfos": [],
       "dbfsResultPath": null,
       "isJsonSchema": true,
       "metadata": {},
       "overflow": false,
       "plotOptions": {
        "customPlotOptions": {},
        "displayType": "table",
        "pivotAggregation": null,
        "pivotColumns": null,
        "xColumns": null,
        "yColumns": null
       },
       "removedWidgets": [],
       "schema": [
        {
         "metadata": "{}",
         "name": "Dealer_ID",
         "type": "\"string\""
        },
        {
         "metadata": "{}",
         "name": "DealerName",
         "type": "\"string\""
        },
        {
         "metadata": "{}",
         "name": "Dim_Dealer_Key",
         "type": "\"long\""
        }
       ],
       "type": "table"
      }
     },
     "output_type": "display_data"
    }
   ],
   "source": [
    "df_final.display()"
   ]
  },
  {
   "cell_type": "markdown",
   "metadata": {
    "application/vnd.databricks.v1+cell": {
     "cellMetadata": {
      "byteLimit": 2048000,
      "rowLimit": 10000
     },
     "inputWidgets": {},
     "nuid": "9903a36e-1b51-4219-8ad4-bd7cc3e91e11",
     "showTitle": false,
     "tableResultSettingsMap": {},
     "title": ""
    }
   },
   "source": [
    "###SCD Type 1 UPSERT"
   ]
  },
  {
   "cell_type": "code",
   "execution_count": 0,
   "metadata": {
    "application/vnd.databricks.v1+cell": {
     "cellMetadata": {
      "byteLimit": 2048000,
      "rowLimit": 10000
     },
     "inputWidgets": {},
     "nuid": "34c6b5a0-9afe-4e55-ad68-29e4006cddfd",
     "showTitle": false,
     "tableResultSettingsMap": {},
     "title": ""
    }
   },
   "outputs": [],
   "source": [
    "#Incremental run\n",
    "\n",
    "if spark.catalog.tableExists('car_sales_catalog.refined.dim_dealer'):\n",
    "    deltaTable = DeltaTable.forPath(spark, \"abfss://projects@projectstorageaccount1.dfs.core.windows.net/refined/CAR SALES/dim_dealer\")\n",
    "\n",
    "    deltaTable.alias(\"target\").merge(df_final.alias(\"source\"), \"target.Dim_Dealer_Key == source.Dim_Dealer_Key\")\\\n",
    "                                .whenMatchedUpdateAll()\\\n",
    "                                .whenNotMatchedInsertAll()\\\n",
    "                                .execute()    \n",
    "\n",
    "#Initial run\n",
    "else:\n",
    "    df_final.write.format(\"delta\")\\\n",
    "                    .mode(\"overwrite\")\\\n",
    "                    .option(\"path\",\"abfss://projects@projectstorageaccount1.dfs.core.windows.net/refined/CAR SALES/dim_dealer\" )\\\n",
    "                    .saveAsTable(\"car_sales_catalog.refined.dim_dealer\")"
   ]
  }
 ],
 "metadata": {
  "application/vnd.databricks.v1+notebook": {
   "computePreferences": null,
   "dashboards": [],
   "environmentMetadata": {
    "base_environment": "",
    "environment_version": "2"
   },
   "language": "python",
   "notebookMetadata": {
    "mostRecentlyExecutedCommandWithImplicitDF": {
     "commandId": 617343031813382,
     "dataframes": [
      "_sqldf"
     ]
    },
    "pythonIndentUnit": 4
   },
   "notebookName": "Refined_dim_dealer",
   "widgets": {
    "incremental_flag": {
     "currentValue": "1",
     "nuid": "877450d8-ec79-409f-b058-b64115f0ab99",
     "typedWidgetInfo": {
      "autoCreated": false,
      "defaultValue": "0",
      "label": null,
      "name": "incremental_flag",
      "options": {
       "widgetDisplayType": "Text",
       "validationRegex": null
      },
      "parameterDataType": "String"
     },
     "widgetInfo": {
      "widgetType": "text",
      "defaultValue": "0",
      "label": null,
      "name": "incremental_flag",
      "options": {
       "widgetType": "text",
       "autoCreated": null,
       "validationRegex": null
      }
     }
    }
   }
  },
  "language_info": {
   "name": "python"
  }
 },
 "nbformat": 4,
 "nbformat_minor": 0
}