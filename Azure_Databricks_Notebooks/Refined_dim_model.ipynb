{
 "cells": [
  {
   "cell_type": "code",
   "execution_count": 0,
   "metadata": {
    "application/vnd.databricks.v1+cell": {
     "cellMetadata": {
      "byteLimit": 2048000,
      "rowLimit": 10000
     },
     "inputWidgets": {},
     "nuid": "05f8804a-d433-4c31-ac34-ddd363cc6532",
     "showTitle": false,
     "tableResultSettingsMap": {},
     "title": ""
    }
   },
   "outputs": [],
   "source": [
    "#import libraries\n",
    "\n",
    "from pyspark.sql.functions import *\n",
    "from pyspark.sql.types import *\n",
    "from delta.tables import DeltaTable"
   ]
  },
  {
   "cell_type": "markdown",
   "metadata": {
    "application/vnd.databricks.v1+cell": {
     "cellMetadata": {
      "byteLimit": 2048000,
      "rowLimit": 10000
     },
     "inputWidgets": {},
     "nuid": "332d808f-17fc-415d-9180-bf047035308d",
     "showTitle": false,
     "tableResultSettingsMap": {},
     "title": ""
    }
   },
   "source": [
    "###CREATING FLAG PARAMETER"
   ]
  },
  {
   "cell_type": "code",
   "execution_count": 0,
   "metadata": {
    "application/vnd.databricks.v1+cell": {
     "cellMetadata": {
      "byteLimit": 2048000,
      "rowLimit": 10000
     },
     "inputWidgets": {},
     "nuid": "e1e803a3-1c4a-4cb2-b525-c0692b13f3ec",
     "showTitle": false,
     "tableResultSettingsMap": {},
     "title": ""
    }
   },
   "outputs": [],
   "source": [
    "dbutils.widgets.text(\"incremental_flag\",\"0\")"
   ]
  },
  {
   "cell_type": "code",
   "execution_count": 0,
   "metadata": {
    "application/vnd.databricks.v1+cell": {
     "cellMetadata": {
      "byteLimit": 2048000,
      "rowLimit": 10000
     },
     "inputWidgets": {},
     "nuid": "74194dd1-454b-4a80-a975-cb846dae0fa8",
     "showTitle": false,
     "tableResultSettingsMap": {},
     "title": ""
    }
   },
   "outputs": [],
   "source": [
    "#incremental_flag = 0 means first load\n",
    "\n",
    "incremental_flag = dbutils.widgets.get(\"incremental_flag\")"
   ]
  },
  {
   "cell_type": "markdown",
   "metadata": {
    "application/vnd.databricks.v1+cell": {
     "cellMetadata": {
      "byteLimit": 2048000,
      "rowLimit": 10000
     },
     "inputWidgets": {},
     "nuid": "fcf15177-02c5-449b-ac37-cf8c53069dfa",
     "showTitle": false,
     "tableResultSettingsMap": {},
     "title": ""
    }
   },
   "source": [
    "###CREATING DIMENSION MODEL"
   ]
  },
  {
   "cell_type": "code",
   "execution_count": 0,
   "metadata": {
    "application/vnd.databricks.v1+cell": {
     "cellMetadata": {
      "byteLimit": 2048000,
      "implicitDf": true,
      "rowLimit": 10000
     },
     "inputWidgets": {},
     "nuid": "40bc1822-adf9-47bc-a254-b8220372ad94",
     "showTitle": false,
     "tableResultSettingsMap": {},
     "title": ""
    }
   },
   "outputs": [
    {
     "output_type": "display_data",
     "data": {
      "text/html": [
       "<style scoped>\n",
       "  .table-result-container {\n",
       "    max-height: 300px;\n",
       "    overflow: auto;\n",
       "  }\n",
       "  table, th, td {\n",
       "    border: 1px solid black;\n",
       "    border-collapse: collapse;\n",
       "  }\n",
       "  th, td {\n",
       "    padding: 5px;\n",
       "  }\n",
       "  th {\n",
       "    text-align: left;\n",
       "  }\n",
       "</style><div class='table-result-container'><table class='table-result'><thead style='background-color: white'><tr><th>Branch_ID</th><th>Dealer_ID</th><th>Model_ID</th><th>Revenue</th><th>Units_Sold</th><th>Date_ID</th><th>Day</th><th>Month</th><th>Year</th><th>BranchName</th><th>DealerName</th><th>Product_Name</th><th>Model_Category</th><th>ItemPrice</th></tr></thead><tbody><tr><td>BR9546</td><td>DLR0060</td><td>Jee-M10</td><td>7223451</td><td>1</td><td>DT01246</td><td>28</td><td>5</td><td>2020</td><td>Premier Motors</td><td>Fisker, Karma Motors</td><td>Jeep</td><td>Jee</td><td>7223451.0</td></tr><tr><td>BR9666</td><td>DLR0062</td><td>Jee-M12</td><td>22093020</td><td>3</td><td>DT01246</td><td>30</td><td>5</td><td>2020</td><td>Puma Motors</td><td>Ford Australia Motors</td><td>Jeep</td><td>Jee</td><td>7364340.0</td></tr><tr><td>BR9726</td><td>DLR0063</td><td>Jee-M13</td><td>22372413</td><td>3</td><td>DT01247</td><td>31</td><td>5</td><td>2020</td><td>Power Ranger Motors</td><td>Ford do Brasil Motors</td><td>Jeep</td><td>Jee</td><td>7457471.0</td></tr><tr><td>XYZ9726</td><td>XYZ0063</td><td>ZYXM13</td><td>22372413</td><td>3</td><td>DT01247</td><td>31</td><td>5</td><td>2020</td><td>DataFam Motors</td><td>Datafam Dealers</td><td>Surprise</td><td>ZYXM13</td><td>7457471.0</td></tr></tbody></table></div>"
      ]
     },
     "metadata": {
      "application/vnd.databricks.v1+output": {
       "addedWidgets": {},
       "aggData": [],
       "aggError": "",
       "aggOverflow": false,
       "aggSchema": [],
       "aggSeriesLimitReached": false,
       "aggType": "",
       "arguments": {},
       "columnCustomDisplayInfos": {},
       "data": [
        [
         "BR9546",
         "DLR0060",
         "Jee-M10",
         7223451,
         1,
         "DT01246",
         28,
         5,
         2020,
         "Premier Motors",
         "Fisker, Karma Motors",
         "Jeep",
         "Jee",
         7223451.0
        ],
        [
         "BR9666",
         "DLR0062",
         "Jee-M12",
         22093020,
         3,
         "DT01246",
         30,
         5,
         2020,
         "Puma Motors",
         "Ford Australia Motors",
         "Jeep",
         "Jee",
         7364340.0
        ],
        [
         "BR9726",
         "DLR0063",
         "Jee-M13",
         22372413,
         3,
         "DT01247",
         31,
         5,
         2020,
         "Power Ranger Motors",
         "Ford do Brasil Motors",
         "Jeep",
         "Jee",
         7457471.0
        ],
        [
         "XYZ9726",
         "XYZ0063",
         "ZYXM13",
         22372413,
         3,
         "DT01247",
         31,
         5,
         2020,
         "DataFam Motors",
         "Datafam Dealers",
         "Surprise",
         "ZYXM13",
         7457471.0
        ]
       ],
       "datasetInfos": [],
       "dbfsResultPath": null,
       "isJsonSchema": true,
       "metadata": {
        "createTempViewForImplicitDf": true,
        "dataframeName": "_sqldf",
        "executionCount": 27
       },
       "overflow": false,
       "plotOptions": {
        "customPlotOptions": {},
        "displayType": "table",
        "pivotAggregation": null,
        "pivotColumns": null,
        "xColumns": null,
        "yColumns": null
       },
       "removedWidgets": [],
       "schema": [
        {
         "metadata": "{}",
         "name": "Branch_ID",
         "type": "\"string\""
        },
        {
         "metadata": "{}",
         "name": "Dealer_ID",
         "type": "\"string\""
        },
        {
         "metadata": "{}",
         "name": "Model_ID",
         "type": "\"string\""
        },
        {
         "metadata": "{}",
         "name": "Revenue",
         "type": "\"long\""
        },
        {
         "metadata": "{}",
         "name": "Units_Sold",
         "type": "\"long\""
        },
        {
         "metadata": "{}",
         "name": "Date_ID",
         "type": "\"string\""
        },
        {
         "metadata": "{}",
         "name": "Day",
         "type": "\"integer\""
        },
        {
         "metadata": "{}",
         "name": "Month",
         "type": "\"integer\""
        },
        {
         "metadata": "{}",
         "name": "Year",
         "type": "\"integer\""
        },
        {
         "metadata": "{}",
         "name": "BranchName",
         "type": "\"string\""
        },
        {
         "metadata": "{}",
         "name": "DealerName",
         "type": "\"string\""
        },
        {
         "metadata": "{}",
         "name": "Product_Name",
         "type": "\"string\""
        },
        {
         "metadata": "{}",
         "name": "Model_Category",
         "type": "\"string\""
        },
        {
         "metadata": "{}",
         "name": "ItemPrice",
         "type": "\"double\""
        }
       ],
       "type": "table"
      }
     },
     "output_type": "display_data"
    }
   ],
   "source": [
    "%sql\n",
    "SELECT * FROM parquet.`abfss://projects@projectstorageaccount1.dfs.core.windows.net/curated/CAR SALES/`;"
   ]
  },
  {
   "cell_type": "markdown",
   "metadata": {
    "application/vnd.databricks.v1+cell": {
     "cellMetadata": {
      "byteLimit": 2048000,
      "rowLimit": 10000
     },
     "inputWidgets": {},
     "nuid": "13d2e90f-76b8-41a3-afed-ec9ddccce3dd",
     "showTitle": false,
     "tableResultSettingsMap": {},
     "title": ""
    }
   },
   "source": [
    "###Fetch related columns"
   ]
  },
  {
   "cell_type": "code",
   "execution_count": 0,
   "metadata": {
    "application/vnd.databricks.v1+cell": {
     "cellMetadata": {
      "byteLimit": 2048000,
      "implicitDf": true,
      "rowLimit": 10000
     },
     "inputWidgets": {},
     "nuid": "ac61d01e-0968-41a1-8564-b174616f650a",
     "showTitle": false,
     "tableResultSettingsMap": {},
     "title": ""
    }
   },
   "outputs": [],
   "source": [
    "model_src_df = spark.sql('''\n",
    "                         SELECT DISTINCT Model_ID, Model_Category \n",
    "                         FROM parquet.`abfss://projects@projectstorageaccount1.dfs.core.windows.net/curated/CAR SALES/`;\n",
    "                         '''\n",
    "                        )\n"
   ]
  },
  {
   "cell_type": "code",
   "execution_count": 0,
   "metadata": {
    "application/vnd.databricks.v1+cell": {
     "cellMetadata": {
      "byteLimit": 2048000,
      "rowLimit": 10000
     },
     "inputWidgets": {},
     "nuid": "14431e8a-b916-4b67-a979-5edcb034a359",
     "showTitle": false,
     "tableResultSettingsMap": {},
     "title": ""
    }
   },
   "outputs": [
    {
     "output_type": "display_data",
     "data": {
      "text/html": [
       "<style scoped>\n",
       "  .table-result-container {\n",
       "    max-height: 300px;\n",
       "    overflow: auto;\n",
       "  }\n",
       "  table, th, td {\n",
       "    border: 1px solid black;\n",
       "    border-collapse: collapse;\n",
       "  }\n",
       "  th, td {\n",
       "    padding: 5px;\n",
       "  }\n",
       "  th {\n",
       "    text-align: left;\n",
       "  }\n",
       "</style><div class='table-result-container'><table class='table-result'><thead style='background-color: white'><tr><th>Model_ID</th><th>Model_Category</th></tr></thead><tbody><tr><td>Jee-M10</td><td>Jee</td></tr><tr><td>ZYXM13</td><td>ZYXM13</td></tr><tr><td>Jee-M12</td><td>Jee</td></tr><tr><td>Jee-M13</td><td>Jee</td></tr></tbody></table></div>"
      ]
     },
     "metadata": {
      "application/vnd.databricks.v1+output": {
       "addedWidgets": {},
       "aggData": [],
       "aggError": "",
       "aggOverflow": false,
       "aggSchema": [],
       "aggSeriesLimitReached": false,
       "aggType": "",
       "arguments": {},
       "columnCustomDisplayInfos": {},
       "data": [
        [
         "Jee-M10",
         "Jee"
        ],
        [
         "ZYXM13",
         "ZYXM13"
        ],
        [
         "Jee-M12",
         "Jee"
        ],
        [
         "Jee-M13",
         "Jee"
        ]
       ],
       "datasetInfos": [],
       "dbfsResultPath": null,
       "isJsonSchema": true,
       "metadata": {},
       "overflow": false,
       "plotOptions": {
        "customPlotOptions": {},
        "displayType": "table",
        "pivotAggregation": null,
        "pivotColumns": null,
        "xColumns": null,
        "yColumns": null
       },
       "removedWidgets": [],
       "schema": [
        {
         "metadata": "{}",
         "name": "Model_ID",
         "type": "\"string\""
        },
        {
         "metadata": "{}",
         "name": "Model_Category",
         "type": "\"string\""
        }
       ],
       "type": "table"
      }
     },
     "output_type": "display_data"
    }
   ],
   "source": [
    "model_src_df.display()"
   ]
  },
  {
   "cell_type": "markdown",
   "metadata": {
    "application/vnd.databricks.v1+cell": {
     "cellMetadata": {
      "byteLimit": 2048000,
      "rowLimit": 10000
     },
     "inputWidgets": {},
     "nuid": "25f0d159-79ec-49c2-8b89-df998a087b1e",
     "showTitle": false,
     "tableResultSettingsMap": {},
     "title": ""
    }
   },
   "source": [
    "###Dim Model sink - Initial and Incremental"
   ]
  },
  {
   "cell_type": "code",
   "execution_count": 0,
   "metadata": {
    "application/vnd.databricks.v1+cell": {
     "cellMetadata": {
      "byteLimit": 2048000,
      "implicitDf": true,
      "rowLimit": 10000
     },
     "inputWidgets": {},
     "nuid": "fabf63f0-fc0d-40d0-8168-cca62c22b4bf",
     "showTitle": false,
     "tableResultSettingsMap": {},
     "title": ""
    }
   },
   "outputs": [],
   "source": [
    "if spark.catalog.tableExists(\"car_sales_catalog.refined.dim_model\"):\n",
    "    \n",
    "    model_sink_df  = spark.sql('''\n",
    "                            SELECT Dim_Model_Key, Model_ID, Model_Category \n",
    "                            FROM car_sales_catalog.refined.dim_model\n",
    "                            '''\n",
    "                        )\n",
    "else:\n",
    "    model_sink_df  = spark.sql('''\n",
    "                            SELECT 1 as Dim_Model_Key, Model_ID, Model_Category \n",
    "                            FROM parquet.`abfss://projects@projectstorageaccount1.dfs.core.windows.net/curated/CAR SALES/`\n",
    "                            WHERE 1 = 0;\n",
    "                            '''\n",
    "                        )"
   ]
  },
  {
   "cell_type": "code",
   "execution_count": 0,
   "metadata": {
    "application/vnd.databricks.v1+cell": {
     "cellMetadata": {
      "byteLimit": 2048000,
      "rowLimit": 10000
     },
     "inputWidgets": {},
     "nuid": "b4a42940-ff51-478d-ba55-0b5555247125",
     "showTitle": false,
     "tableResultSettingsMap": {},
     "title": ""
    }
   },
   "outputs": [
    {
     "output_type": "display_data",
     "data": {
      "text/html": [
       "<style scoped>\n",
       "  .table-result-container {\n",
       "    max-height: 300px;\n",
       "    overflow: auto;\n",
       "  }\n",
       "  table, th, td {\n",
       "    border: 1px solid black;\n",
       "    border-collapse: collapse;\n",
       "  }\n",
       "  th, td {\n",
       "    padding: 5px;\n",
       "  }\n",
       "  th {\n",
       "    text-align: left;\n",
       "  }\n",
       "</style><div class='table-result-container'><table class='table-result'><thead style='background-color: white'><tr><th>Dim_Model_Key</th><th>Model_ID</th><th>Model_Category</th></tr></thead><tbody><tr><td>1</td><td>Mah-M167</td><td>Mah</td></tr><tr><td>2</td><td>Che-M47</td><td>Che</td></tr><tr><td>3</td><td>Toy-M205</td><td>Toy</td></tr><tr><td>4</td><td>BMW-M249</td><td>BMW</td></tr><tr><td>5</td><td>Mer-M122</td><td>Mer</td></tr><tr><td>6</td><td>Hon-M215</td><td>Hon</td></tr><tr><td>7</td><td>Nis-M82</td><td>Nis</td></tr><tr><td>8</td><td>Toy-M206</td><td>Toy</td></tr><tr><td>9</td><td>Mar-M139</td><td>Mar</td></tr><tr><td>10</td><td>Ren-M207</td><td>Ren</td></tr><tr><td>11</td><td>Mar-M146</td><td>Mar</td></tr><tr><td>12</td><td>Mar-M141</td><td>Mar</td></tr><tr><td>13</td><td>Lin-M28</td><td>Lin</td></tr><tr><td>14</td><td>Hon-M69</td><td>Hon</td></tr><tr><td>15</td><td>Toy-M202</td><td>Toy</td></tr><tr><td>16</td><td>Cad-M32</td><td>Cad</td></tr><tr><td>17</td><td>Tat-M185</td><td>Tat</td></tr><tr><td>18</td><td>Aud-M231</td><td>Aud</td></tr><tr><td>19</td><td>Tat-M192</td><td>Tat</td></tr><tr><td>20</td><td>Che-M41</td><td>Che</td></tr><tr><td>21</td><td>Ram-M14</td><td>Ram</td></tr><tr><td>22</td><td>Mar-M138</td><td>Mar</td></tr><tr><td>23</td><td>Aud-M236</td><td>Aud</td></tr><tr><td>24</td><td>Mar-M151</td><td>Mar</td></tr><tr><td>25</td><td>Acu-M59</td><td>Acu</td></tr><tr><td>26</td><td>Hon-M70</td><td>Hon</td></tr><tr><td>27</td><td>Mah-M174</td><td>Mah</td></tr><tr><td>28</td><td>Dod-M9</td><td>Dod</td></tr><tr><td>29</td><td>Tes-M96</td><td>Tes</td></tr><tr><td>30</td><td>Tat-M194</td><td>Tat</td></tr><tr><td>31</td><td>For-M23</td><td>For</td></tr><tr><td>32</td><td>BMW-M3</td><td>BMW</td></tr><tr><td>33</td><td>Vol-M108</td><td>Vol</td></tr><tr><td>34</td><td>Nis-M263</td><td>Nis</td></tr><tr><td>35</td><td>BMW-M250</td><td>BMW</td></tr><tr><td>36</td><td>Aud-M234</td><td>Aud</td></tr><tr><td>37</td><td>Toy-M103</td><td>Toy</td></tr><tr><td>38</td><td>For-M25</td><td>For</td></tr><tr><td>39</td><td>Ren-M129</td><td>Ren</td></tr><tr><td>40</td><td>Nis-M267</td><td>Nis</td></tr><tr><td>41</td><td>Hon-M68</td><td>Hon</td></tr><tr><td>42</td><td>Nis-M85</td><td>Nis</td></tr><tr><td>43</td><td>Hyu-M163</td><td>Hyu</td></tr><tr><td>44</td><td>Aud-M235</td><td>Aud</td></tr><tr><td>45</td><td>Lex-M99</td><td>Lex</td></tr><tr><td>46</td><td>Toy-M133</td><td>Toy</td></tr><tr><td>47</td><td>Kia-M76</td><td>Kia</td></tr><tr><td>48</td><td>Tat-M187</td><td>Tat</td></tr><tr><td>49</td><td>Jee-M10</td><td>Jee</td></tr><tr><td>50</td><td>Cit-M115</td><td>Cit</td></tr><tr><td>51</td><td>Sko-M274</td><td>Sko</td></tr><tr><td>52</td><td>Ren-M209</td><td>Ren</td></tr><tr><td>53</td><td>Hyu-M154</td><td>Hyu</td></tr><tr><td>54</td><td>Mer-M123</td><td>Mer</td></tr><tr><td>55</td><td>Mer-M7</td><td>Mer</td></tr><tr><td>56</td><td>Cad-M36</td><td>Cad</td></tr><tr><td>57</td><td>Ren-M208</td><td>Ren</td></tr><tr><td>58</td><td>For-M119</td><td>For</td></tr><tr><td>59</td><td>Hon-M67</td><td>Hon</td></tr><tr><td>60</td><td>Hyu-M162</td><td>Hyu</td></tr><tr><td>61</td><td>Toy-M203</td><td>Toy</td></tr><tr><td>62</td><td>Mar-M145</td><td>Mar</td></tr><tr><td>63</td><td>Che-M51</td><td>Che</td></tr><tr><td>64</td><td>Nis-M84</td><td>Nis</td></tr><tr><td>65</td><td>Mah-M177</td><td>Mah</td></tr><tr><td>66</td><td>Peu-M125</td><td>Peu</td></tr><tr><td>67</td><td>Toy-M198</td><td>Toy</td></tr><tr><td>68</td><td>Toy-M104</td><td>Toy</td></tr><tr><td>69</td><td>For-M16</td><td>For</td></tr><tr><td>70</td><td>BMW-M4</td><td>BMW</td></tr><tr><td>71</td><td>Nis-M88</td><td>Nis</td></tr><tr><td>72</td><td>Che-M114</td><td>Che</td></tr><tr><td>73</td><td>Aud-M233</td><td>Aud</td></tr><tr><td>74</td><td>Mar-M147</td><td>Mar</td></tr><tr><td>75</td><td>Nis-M269</td><td>Nis</td></tr><tr><td>76</td><td>Tes-M98</td><td>Tes</td></tr><tr><td>77</td><td>Acu-M60</td><td>Acu</td></tr><tr><td>78</td><td>Aud-M241</td><td>Aud</td></tr><tr><td>79</td><td>Mah-M175</td><td>Mah</td></tr><tr><td>80</td><td>Toy-M106</td><td>Toy</td></tr><tr><td>81</td><td>Hyu-M155</td><td>Hyu</td></tr><tr><td>82</td><td>Vol-M110</td><td>Vol</td></tr><tr><td>83</td><td>Mah-M171</td><td>Mah</td></tr><tr><td>84</td><td>Lin-M30</td><td>Lin</td></tr><tr><td>85</td><td>BMW-M242</td><td>BMW</td></tr><tr><td>86</td><td>For-M223</td><td>For</td></tr><tr><td>87</td><td>Ren-M127</td><td>Ren</td></tr><tr><td>88</td><td>Aud-M229</td><td>Aud</td></tr><tr><td>89</td><td>Mah-M168</td><td>Mah</td></tr><tr><td>90</td><td>For-M225</td><td>For</td></tr><tr><td>91</td><td>Aud-M232</td><td>Aud</td></tr><tr><td>92</td><td>Toy-M200</td><td>Toy</td></tr><tr><td>93</td><td>Kia-M77</td><td>Kia</td></tr><tr><td>94</td><td>BMW-M248</td><td>BMW</td></tr><tr><td>95</td><td>Hyu-M164</td><td>Hyu</td></tr><tr><td>96</td><td>Ren-M211</td><td>Ren</td></tr><tr><td>97</td><td>Mar-M149</td><td>Mar</td></tr><tr><td>98</td><td>GMC-M53</td><td>GMC</td></tr><tr><td>99</td><td>Mit-M275</td><td>Mit</td></tr><tr><td>100</td><td>Ren-M131</td><td>Ren</td></tr><tr><td>101</td><td>Tat-M186</td><td>Tat</td></tr><tr><td>102</td><td>Hon-M217</td><td>Hon</td></tr><tr><td>103</td><td>Mar-M152</td><td>Mar</td></tr><tr><td>104</td><td>Jee-M11</td><td>Jee</td></tr><tr><td>105</td><td>Vol-M135</td><td>Vol</td></tr><tr><td>106</td><td>Ren-M128</td><td>Ren</td></tr><tr><td>107</td><td>Cad-M38</td><td>Cad</td></tr><tr><td>108</td><td>Tat-M190</td><td>Tat</td></tr><tr><td>109</td><td>Hyu-M153</td><td>Hyu</td></tr><tr><td>110</td><td>Mer-M8</td><td>Mer</td></tr><tr><td>111</td><td>GMC-M55</td><td>GMC</td></tr><tr><td>112</td><td>Toy-M201</td><td>Toy</td></tr><tr><td>113</td><td>BMW-M244</td><td>BMW</td></tr><tr><td>114</td><td>Toy-M134</td><td>Toy</td></tr><tr><td>115</td><td>Agr-M111</td><td>Agr</td></tr><tr><td>116</td><td>Fia-M117</td><td>Fia</td></tr><tr><td>117</td><td>Mit-M276</td><td>Mit</td></tr><tr><td>118</td><td>Kia-M78</td><td>Kia</td></tr><tr><td>119</td><td>Aud-M230</td><td>Aud</td></tr><tr><td>120</td><td>Tat-M193</td><td>Tat</td></tr><tr><td>121</td><td>Ram-M15</td><td>Ram</td></tr><tr><td>122</td><td>For-M22</td><td>For</td></tr><tr><td>123</td><td>Acu-M62</td><td>Acu</td></tr><tr><td>124</td><td>Mah-M165</td><td>Mah</td></tr><tr><td>125</td><td>Fia-M118</td><td>Fia</td></tr><tr><td>126</td><td>Toy-M195</td><td>Toy</td></tr><tr><td>127</td><td>Che-M49</td><td>Che</td></tr><tr><td>128</td><td>Bui-M31</td><td>Bui</td></tr><tr><td>129</td><td>For-M26</td><td>For</td></tr><tr><td>130</td><td>Peu-M124</td><td>Peu</td></tr><tr><td>131</td><td>Nis-M83</td><td>Nis</td></tr><tr><td>132</td><td>Nis-M266</td><td>Nis</td></tr><tr><td>133</td><td>Mar-M142</td><td>Mar</td></tr><tr><td>134</td><td>For-M18</td><td>For</td></tr><tr><td>135</td><td>Jee-M253</td><td>Jee</td></tr><tr><td>136</td><td>Tat-M181</td><td>Tat</td></tr><tr><td>137</td><td>Hyu-M157</td><td>Hyu</td></tr><tr><td>138</td><td>Cad-M39</td><td>Cad</td></tr><tr><td>139</td><td>For-M221</td><td>For</td></tr><tr><td>140</td><td>Aud-M240</td><td>Aud</td></tr><tr><td>141</td><td>Ren-M210</td><td>Ren</td></tr><tr><td>142</td><td>Acu-M61</td><td>Acu</td></tr><tr><td>143</td><td>Toy-M102</td><td>Toy</td></tr><tr><td>144</td><td>Nis-M262</td><td>Nis</td></tr><tr><td>145</td><td>Hon-M216</td><td>Hon</td></tr><tr><td>146</td><td>MG-M252</td><td>MG</td></tr><tr><td>147</td><td>Mah-M178</td><td>Mah</td></tr><tr><td>148</td><td>Sub-M93</td><td>Sub</td></tr><tr><td>149</td><td>Kia-M213</td><td>Kia</td></tr><tr><td>150</td><td>Hyu-M75</td><td>Hyu</td></tr><tr><td>151</td><td>Mah-M170</td><td>Mah</td></tr><tr><td>152</td><td>Aud-M239</td><td>Aud</td></tr><tr><td>153</td><td>Tat-M180</td><td>Tat</td></tr><tr><td>154</td><td>Hyu-M74</td><td>Hyu</td></tr><tr><td>155</td><td>BMW-M1</td><td>BMW</td></tr><tr><td>156</td><td>Cad-M35</td><td>Cad</td></tr><tr><td>157</td><td>BMW-M246</td><td>BMW</td></tr><tr><td>158</td><td>Ren-M132</td><td>Ren</td></tr><tr><td>159</td><td>GMC-M58</td><td>GMC</td></tr><tr><td>160</td><td>Mar-M148</td><td>Mar</td></tr><tr><td>161</td><td>Hyu-M161</td><td>Hyu</td></tr><tr><td>162</td><td>Toy-M105</td><td>Toy</td></tr><tr><td>163</td><td>Aud-M228</td><td>Aud</td></tr><tr><td>164</td><td>Aud-M237</td><td>Aud</td></tr><tr><td>165</td><td>Nis-M89</td><td>Nis</td></tr><tr><td>166</td><td>Hyu-M72</td><td>Hyu</td></tr><tr><td>167</td><td>BMW-M243</td><td>BMW</td></tr><tr><td>168</td><td>Mar-M140</td><td>Mar</td></tr><tr><td>169</td><td>Toy-M196</td><td>Toy</td></tr><tr><td>170</td><td>Che-M42</td><td>Che</td></tr><tr><td>171</td><td>Tes-M97</td><td>Tes</td></tr><tr><td>172</td><td>Vol-M260</td><td>Vol</td></tr><tr><td>173</td><td>Mah-M176</td><td>Mah</td></tr><tr><td>174</td><td>Nis-M86</td><td>Nis</td></tr><tr><td>175</td><td>Hon-M64</td><td>Hon</td></tr><tr><td>176</td><td>MG-M251</td><td>MG</td></tr><tr><td>177</td><td>Mer-M121</td><td>Mer</td></tr><tr><td>178</td><td>Nis-M81</td><td>Nis</td></tr><tr><td>179</td><td>GMC-M54</td><td>GMC</td></tr><tr><td>180</td><td>Hon-M220</td><td>Hon</td></tr><tr><td>181</td><td>Che-M50</td><td>Che</td></tr><tr><td>182</td><td>Cad-M37</td><td>Cad</td></tr><tr><td>183</td><td>Hyu-M158</td><td>Hyu</td></tr><tr><td>184</td><td>Inf-M79</td><td>Inf</td></tr><tr><td>185</td><td>BMW-M2</td><td>BMW</td></tr><tr><td>186</td><td>GMC-M57</td><td>GMC</td></tr><tr><td>187</td><td>GMC-M52</td><td>GMC</td></tr><tr><td>188</td><td>Cit-M116</td><td>Cit</td></tr><tr><td>189</td><td>Mar-M144</td><td>Mar</td></tr><tr><td>190</td><td>For-M17</td><td>For</td></tr><tr><td>191</td><td>Tat-M184</td><td>Tat</td></tr><tr><td>192</td><td>Hyu-M159</td><td>Hyu</td></tr><tr><td>193</td><td>Tat-M183</td><td>Tat</td></tr><tr><td>194</td><td>Nis-M264</td><td>Nis</td></tr><tr><td>195</td><td>BMW-M5</td><td>BMW</td></tr><tr><td>196</td><td>Che-M43</td><td>Che</td></tr><tr><td>197</td><td>Mah-M169</td><td>Mah</td></tr><tr><td>198</td><td>Tat-M182</td><td>Tat</td></tr><tr><td>199</td><td>Tat-M188</td><td>Tat</td></tr><tr><td>200</td><td>Aud-M227</td><td>Aud</td></tr><tr><td>201</td><td>Mah-M166</td><td>Mah</td></tr><tr><td>202</td><td>Riv-M91</td><td>Riv</td></tr><tr><td>203</td><td>Hon-M71</td><td>Hon</td></tr><tr><td>204</td><td>Hyu-M73</td><td>Hyu</td></tr><tr><td>205</td><td>Hyu-M156</td><td>Hyu</td></tr><tr><td>206</td><td>Lin-M27</td><td>Lin</td></tr><tr><td>207</td><td>Cad-M34</td><td>Cad</td></tr><tr><td>208</td><td>Mar-M137</td><td>Mar</td></tr><tr><td>209</td><td>Mah-M173</td><td>Mah</td></tr><tr><td>210</td><td>Tat-M179</td><td>Tat</td></tr><tr><td>211</td><td>Sub-M94</td><td>Sub</td></tr><tr><td>212</td><td>Jee-M254</td><td>Jee</td></tr><tr><td>213</td><td>GMC-M56</td><td>GMC</td></tr><tr><td>214</td><td>Hyu-M160</td><td>Hyu</td></tr><tr><td>215</td><td>Vol-M109</td><td>Vol</td></tr><tr><td>216</td><td>Peu-M126</td><td>Peu</td></tr><tr><td>217</td><td>For-M222</td><td>For</td></tr><tr><td>218</td><td>Toy-M101</td><td>Toy</td></tr><tr><td>219</td><td>Kia-M214</td><td>Kia</td></tr><tr><td>220</td><td>Sub-M95</td><td>Sub</td></tr><tr><td>221</td><td>Mar-M143</td><td>Mar</td></tr><tr><td>222</td><td>Nis-M265</td><td>Nis</td></tr><tr><td>223</td><td>Hon-M65</td><td>Hon</td></tr><tr><td>224</td><td>Sko-M272</td><td>Sko</td></tr><tr><td>225</td><td>Che-M45</td><td>Che</td></tr><tr><td>226</td><td>Toy-M107</td><td>Toy</td></tr><tr><td>227</td><td>Jee-M12</td><td>Jee</td></tr><tr><td>228</td><td>Mit-M277</td><td>Mit</td></tr><tr><td>229</td><td>Hon-M66</td><td>Hon</td></tr><tr><td>230</td><td>Toy-M100</td><td>Toy</td></tr><tr><td>231</td><td>For-M19</td><td>For</td></tr><tr><td>232</td><td>Agr-M113</td><td>Agr</td></tr><tr><td>233</td><td>Toy-M204</td><td>Toy</td></tr><tr><td>234</td><td>Hon-M120</td><td>Hon</td></tr><tr><td>235</td><td>Sko-M271</td><td>Sko</td></tr><tr><td>236</td><td>Vol-M255</td><td>Vol</td></tr><tr><td>237</td><td>Toy-M199</td><td>Toy</td></tr><tr><td>238</td><td>Vol-M256</td><td>Vol</td></tr><tr><td>239</td><td>Sub-M92</td><td>Sub</td></tr><tr><td>240</td><td>Toy-M197</td><td>Toy</td></tr><tr><td>241</td><td>Mah-M172</td><td>Mah</td></tr><tr><td>242</td><td>Che-M48</td><td>Che</td></tr><tr><td>243</td><td>Nis-M87</td><td>Nis</td></tr><tr><td>244</td><td>Mar-M150</td><td>Mar</td></tr><tr><td>245</td><td>Acu-M63</td><td>Acu</td></tr><tr><td>246</td><td>BMW-M247</td><td>BMW</td></tr><tr><td>247</td><td>For-M226</td><td>For</td></tr><tr><td>248</td><td>Vol-M257</td><td>Vol</td></tr><tr><td>249</td><td>Vol-M259</td><td>Vol</td></tr><tr><td>250</td><td>Nis-M80</td><td>Nis</td></tr><tr><td>251</td><td>Kia-M212</td><td>Kia</td></tr><tr><td>252</td><td>Hon-M218</td><td>Hon</td></tr><tr><td>253</td><td>For-M24</td><td>For</td></tr><tr><td>254</td><td>Sko-M273</td><td>Sko</td></tr><tr><td>255</td><td>Lin-M29</td><td>Lin</td></tr><tr><td>256</td><td>Agr-M112</td><td>Agr</td></tr><tr><td>257</td><td>Tat-M189</td><td>Tat</td></tr><tr><td>258</td><td>Nis-M270</td><td>Nis</td></tr><tr><td>259</td><td>Riv-M90</td><td>Riv</td></tr><tr><td>260</td><td>Che-M44</td><td>Che</td></tr><tr><td>261</td><td>Aud-M238</td><td>Aud</td></tr><tr><td>262</td><td>Vol-M136</td><td>Vol</td></tr><tr><td>263</td><td>For-M21</td><td>For</td></tr><tr><td>264</td><td>For-M224</td><td>For</td></tr><tr><td>265</td><td>Che-M40</td><td>Che</td></tr><tr><td>266</td><td>Ren-M130</td><td>Ren</td></tr><tr><td>267</td><td>Hon-M219</td><td>Hon</td></tr><tr><td>268</td><td>Che-M46</td><td>Che</td></tr><tr><td>269</td><td>Mer-M6</td><td>Mer</td></tr><tr><td>270</td><td>Vol-M258</td><td>Vol</td></tr><tr><td>271</td><td>Jee-M13</td><td>Jee</td></tr><tr><td>272</td><td>Nis-M261</td><td>Nis</td></tr><tr><td>273</td><td>For-M20</td><td>For</td></tr><tr><td>274</td><td>Tat-M191</td><td>Tat</td></tr><tr><td>275</td><td>BMW-M245</td><td>BMW</td></tr><tr><td>276</td><td>Nis-M268</td><td>Nis</td></tr><tr><td>277</td><td>Cad-M33</td><td>Cad</td></tr></tbody></table></div>"
      ]
     },
     "metadata": {
      "application/vnd.databricks.v1+output": {
       "addedWidgets": {},
       "aggData": [],
       "aggError": "",
       "aggOverflow": false,
       "aggSchema": [],
       "aggSeriesLimitReached": false,
       "aggType": "",
       "arguments": {},
       "columnCustomDisplayInfos": {},
       "data": [
        [
         1,
         "Mah-M167",
         "Mah"
        ],
        [
         2,
         "Che-M47",
         "Che"
        ],
        [
         3,
         "Toy-M205",
         "Toy"
        ],
        [
         4,
         "BMW-M249",
         "BMW"
        ],
        [
         5,
         "Mer-M122",
         "Mer"
        ],
        [
         6,
         "Hon-M215",
         "Hon"
        ],
        [
         7,
         "Nis-M82",
         "Nis"
        ],
        [
         8,
         "Toy-M206",
         "Toy"
        ],
        [
         9,
         "Mar-M139",
         "Mar"
        ],
        [
         10,
         "Ren-M207",
         "Ren"
        ],
        [
         11,
         "Mar-M146",
         "Mar"
        ],
        [
         12,
         "Mar-M141",
         "Mar"
        ],
        [
         13,
         "Lin-M28",
         "Lin"
        ],
        [
         14,
         "Hon-M69",
         "Hon"
        ],
        [
         15,
         "Toy-M202",
         "Toy"
        ],
        [
         16,
         "Cad-M32",
         "Cad"
        ],
        [
         17,
         "Tat-M185",
         "Tat"
        ],
        [
         18,
         "Aud-M231",
         "Aud"
        ],
        [
         19,
         "Tat-M192",
         "Tat"
        ],
        [
         20,
         "Che-M41",
         "Che"
        ],
        [
         21,
         "Ram-M14",
         "Ram"
        ],
        [
         22,
         "Mar-M138",
         "Mar"
        ],
        [
         23,
         "Aud-M236",
         "Aud"
        ],
        [
         24,
         "Mar-M151",
         "Mar"
        ],
        [
         25,
         "Acu-M59",
         "Acu"
        ],
        [
         26,
         "Hon-M70",
         "Hon"
        ],
        [
         27,
         "Mah-M174",
         "Mah"
        ],
        [
         28,
         "Dod-M9",
         "Dod"
        ],
        [
         29,
         "Tes-M96",
         "Tes"
        ],
        [
         30,
         "Tat-M194",
         "Tat"
        ],
        [
         31,
         "For-M23",
         "For"
        ],
        [
         32,
         "BMW-M3",
         "BMW"
        ],
        [
         33,
         "Vol-M108",
         "Vol"
        ],
        [
         34,
         "Nis-M263",
         "Nis"
        ],
        [
         35,
         "BMW-M250",
         "BMW"
        ],
        [
         36,
         "Aud-M234",
         "Aud"
        ],
        [
         37,
         "Toy-M103",
         "Toy"
        ],
        [
         38,
         "For-M25",
         "For"
        ],
        [
         39,
         "Ren-M129",
         "Ren"
        ],
        [
         40,
         "Nis-M267",
         "Nis"
        ],
        [
         41,
         "Hon-M68",
         "Hon"
        ],
        [
         42,
         "Nis-M85",
         "Nis"
        ],
        [
         43,
         "Hyu-M163",
         "Hyu"
        ],
        [
         44,
         "Aud-M235",
         "Aud"
        ],
        [
         45,
         "Lex-M99",
         "Lex"
        ],
        [
         46,
         "Toy-M133",
         "Toy"
        ],
        [
         47,
         "Kia-M76",
         "Kia"
        ],
        [
         48,
         "Tat-M187",
         "Tat"
        ],
        [
         49,
         "Jee-M10",
         "Jee"
        ],
        [
         50,
         "Cit-M115",
         "Cit"
        ],
        [
         51,
         "Sko-M274",
         "Sko"
        ],
        [
         52,
         "Ren-M209",
         "Ren"
        ],
        [
         53,
         "Hyu-M154",
         "Hyu"
        ],
        [
         54,
         "Mer-M123",
         "Mer"
        ],
        [
         55,
         "Mer-M7",
         "Mer"
        ],
        [
         56,
         "Cad-M36",
         "Cad"
        ],
        [
         57,
         "Ren-M208",
         "Ren"
        ],
        [
         58,
         "For-M119",
         "For"
        ],
        [
         59,
         "Hon-M67",
         "Hon"
        ],
        [
         60,
         "Hyu-M162",
         "Hyu"
        ],
        [
         61,
         "Toy-M203",
         "Toy"
        ],
        [
         62,
         "Mar-M145",
         "Mar"
        ],
        [
         63,
         "Che-M51",
         "Che"
        ],
        [
         64,
         "Nis-M84",
         "Nis"
        ],
        [
         65,
         "Mah-M177",
         "Mah"
        ],
        [
         66,
         "Peu-M125",
         "Peu"
        ],
        [
         67,
         "Toy-M198",
         "Toy"
        ],
        [
         68,
         "Toy-M104",
         "Toy"
        ],
        [
         69,
         "For-M16",
         "For"
        ],
        [
         70,
         "BMW-M4",
         "BMW"
        ],
        [
         71,
         "Nis-M88",
         "Nis"
        ],
        [
         72,
         "Che-M114",
         "Che"
        ],
        [
         73,
         "Aud-M233",
         "Aud"
        ],
        [
         74,
         "Mar-M147",
         "Mar"
        ],
        [
         75,
         "Nis-M269",
         "Nis"
        ],
        [
         76,
         "Tes-M98",
         "Tes"
        ],
        [
         77,
         "Acu-M60",
         "Acu"
        ],
        [
         78,
         "Aud-M241",
         "Aud"
        ],
        [
         79,
         "Mah-M175",
         "Mah"
        ],
        [
         80,
         "Toy-M106",
         "Toy"
        ],
        [
         81,
         "Hyu-M155",
         "Hyu"
        ],
        [
         82,
         "Vol-M110",
         "Vol"
        ],
        [
         83,
         "Mah-M171",
         "Mah"
        ],
        [
         84,
         "Lin-M30",
         "Lin"
        ],
        [
         85,
         "BMW-M242",
         "BMW"
        ],
        [
         86,
         "For-M223",
         "For"
        ],
        [
         87,
         "Ren-M127",
         "Ren"
        ],
        [
         88,
         "Aud-M229",
         "Aud"
        ],
        [
         89,
         "Mah-M168",
         "Mah"
        ],
        [
         90,
         "For-M225",
         "For"
        ],
        [
         91,
         "Aud-M232",
         "Aud"
        ],
        [
         92,
         "Toy-M200",
         "Toy"
        ],
        [
         93,
         "Kia-M77",
         "Kia"
        ],
        [
         94,
         "BMW-M248",
         "BMW"
        ],
        [
         95,
         "Hyu-M164",
         "Hyu"
        ],
        [
         96,
         "Ren-M211",
         "Ren"
        ],
        [
         97,
         "Mar-M149",
         "Mar"
        ],
        [
         98,
         "GMC-M53",
         "GMC"
        ],
        [
         99,
         "Mit-M275",
         "Mit"
        ],
        [
         100,
         "Ren-M131",
         "Ren"
        ],
        [
         101,
         "Tat-M186",
         "Tat"
        ],
        [
         102,
         "Hon-M217",
         "Hon"
        ],
        [
         103,
         "Mar-M152",
         "Mar"
        ],
        [
         104,
         "Jee-M11",
         "Jee"
        ],
        [
         105,
         "Vol-M135",
         "Vol"
        ],
        [
         106,
         "Ren-M128",
         "Ren"
        ],
        [
         107,
         "Cad-M38",
         "Cad"
        ],
        [
         108,
         "Tat-M190",
         "Tat"
        ],
        [
         109,
         "Hyu-M153",
         "Hyu"
        ],
        [
         110,
         "Mer-M8",
         "Mer"
        ],
        [
         111,
         "GMC-M55",
         "GMC"
        ],
        [
         112,
         "Toy-M201",
         "Toy"
        ],
        [
         113,
         "BMW-M244",
         "BMW"
        ],
        [
         114,
         "Toy-M134",
         "Toy"
        ],
        [
         115,
         "Agr-M111",
         "Agr"
        ],
        [
         116,
         "Fia-M117",
         "Fia"
        ],
        [
         117,
         "Mit-M276",
         "Mit"
        ],
        [
         118,
         "Kia-M78",
         "Kia"
        ],
        [
         119,
         "Aud-M230",
         "Aud"
        ],
        [
         120,
         "Tat-M193",
         "Tat"
        ],
        [
         121,
         "Ram-M15",
         "Ram"
        ],
        [
         122,
         "For-M22",
         "For"
        ],
        [
         123,
         "Acu-M62",
         "Acu"
        ],
        [
         124,
         "Mah-M165",
         "Mah"
        ],
        [
         125,
         "Fia-M118",
         "Fia"
        ],
        [
         126,
         "Toy-M195",
         "Toy"
        ],
        [
         127,
         "Che-M49",
         "Che"
        ],
        [
         128,
         "Bui-M31",
         "Bui"
        ],
        [
         129,
         "For-M26",
         "For"
        ],
        [
         130,
         "Peu-M124",
         "Peu"
        ],
        [
         131,
         "Nis-M83",
         "Nis"
        ],
        [
         132,
         "Nis-M266",
         "Nis"
        ],
        [
         133,
         "Mar-M142",
         "Mar"
        ],
        [
         134,
         "For-M18",
         "For"
        ],
        [
         135,
         "Jee-M253",
         "Jee"
        ],
        [
         136,
         "Tat-M181",
         "Tat"
        ],
        [
         137,
         "Hyu-M157",
         "Hyu"
        ],
        [
         138,
         "Cad-M39",
         "Cad"
        ],
        [
         139,
         "For-M221",
         "For"
        ],
        [
         140,
         "Aud-M240",
         "Aud"
        ],
        [
         141,
         "Ren-M210",
         "Ren"
        ],
        [
         142,
         "Acu-M61",
         "Acu"
        ],
        [
         143,
         "Toy-M102",
         "Toy"
        ],
        [
         144,
         "Nis-M262",
         "Nis"
        ],
        [
         145,
         "Hon-M216",
         "Hon"
        ],
        [
         146,
         "MG-M252",
         "MG"
        ],
        [
         147,
         "Mah-M178",
         "Mah"
        ],
        [
         148,
         "Sub-M93",
         "Sub"
        ],
        [
         149,
         "Kia-M213",
         "Kia"
        ],
        [
         150,
         "Hyu-M75",
         "Hyu"
        ],
        [
         151,
         "Mah-M170",
         "Mah"
        ],
        [
         152,
         "Aud-M239",
         "Aud"
        ],
        [
         153,
         "Tat-M180",
         "Tat"
        ],
        [
         154,
         "Hyu-M74",
         "Hyu"
        ],
        [
         155,
         "BMW-M1",
         "BMW"
        ],
        [
         156,
         "Cad-M35",
         "Cad"
        ],
        [
         157,
         "BMW-M246",
         "BMW"
        ],
        [
         158,
         "Ren-M132",
         "Ren"
        ],
        [
         159,
         "GMC-M58",
         "GMC"
        ],
        [
         160,
         "Mar-M148",
         "Mar"
        ],
        [
         161,
         "Hyu-M161",
         "Hyu"
        ],
        [
         162,
         "Toy-M105",
         "Toy"
        ],
        [
         163,
         "Aud-M228",
         "Aud"
        ],
        [
         164,
         "Aud-M237",
         "Aud"
        ],
        [
         165,
         "Nis-M89",
         "Nis"
        ],
        [
         166,
         "Hyu-M72",
         "Hyu"
        ],
        [
         167,
         "BMW-M243",
         "BMW"
        ],
        [
         168,
         "Mar-M140",
         "Mar"
        ],
        [
         169,
         "Toy-M196",
         "Toy"
        ],
        [
         170,
         "Che-M42",
         "Che"
        ],
        [
         171,
         "Tes-M97",
         "Tes"
        ],
        [
         172,
         "Vol-M260",
         "Vol"
        ],
        [
         173,
         "Mah-M176",
         "Mah"
        ],
        [
         174,
         "Nis-M86",
         "Nis"
        ],
        [
         175,
         "Hon-M64",
         "Hon"
        ],
        [
         176,
         "MG-M251",
         "MG"
        ],
        [
         177,
         "Mer-M121",
         "Mer"
        ],
        [
         178,
         "Nis-M81",
         "Nis"
        ],
        [
         179,
         "GMC-M54",
         "GMC"
        ],
        [
         180,
         "Hon-M220",
         "Hon"
        ],
        [
         181,
         "Che-M50",
         "Che"
        ],
        [
         182,
         "Cad-M37",
         "Cad"
        ],
        [
         183,
         "Hyu-M158",
         "Hyu"
        ],
        [
         184,
         "Inf-M79",
         "Inf"
        ],
        [
         185,
         "BMW-M2",
         "BMW"
        ],
        [
         186,
         "GMC-M57",
         "GMC"
        ],
        [
         187,
         "GMC-M52",
         "GMC"
        ],
        [
         188,
         "Cit-M116",
         "Cit"
        ],
        [
         189,
         "Mar-M144",
         "Mar"
        ],
        [
         190,
         "For-M17",
         "For"
        ],
        [
         191,
         "Tat-M184",
         "Tat"
        ],
        [
         192,
         "Hyu-M159",
         "Hyu"
        ],
        [
         193,
         "Tat-M183",
         "Tat"
        ],
        [
         194,
         "Nis-M264",
         "Nis"
        ],
        [
         195,
         "BMW-M5",
         "BMW"
        ],
        [
         196,
         "Che-M43",
         "Che"
        ],
        [
         197,
         "Mah-M169",
         "Mah"
        ],
        [
         198,
         "Tat-M182",
         "Tat"
        ],
        [
         199,
         "Tat-M188",
         "Tat"
        ],
        [
         200,
         "Aud-M227",
         "Aud"
        ],
        [
         201,
         "Mah-M166",
         "Mah"
        ],
        [
         202,
         "Riv-M91",
         "Riv"
        ],
        [
         203,
         "Hon-M71",
         "Hon"
        ],
        [
         204,
         "Hyu-M73",
         "Hyu"
        ],
        [
         205,
         "Hyu-M156",
         "Hyu"
        ],
        [
         206,
         "Lin-M27",
         "Lin"
        ],
        [
         207,
         "Cad-M34",
         "Cad"
        ],
        [
         208,
         "Mar-M137",
         "Mar"
        ],
        [
         209,
         "Mah-M173",
         "Mah"
        ],
        [
         210,
         "Tat-M179",
         "Tat"
        ],
        [
         211,
         "Sub-M94",
         "Sub"
        ],
        [
         212,
         "Jee-M254",
         "Jee"
        ],
        [
         213,
         "GMC-M56",
         "GMC"
        ],
        [
         214,
         "Hyu-M160",
         "Hyu"
        ],
        [
         215,
         "Vol-M109",
         "Vol"
        ],
        [
         216,
         "Peu-M126",
         "Peu"
        ],
        [
         217,
         "For-M222",
         "For"
        ],
        [
         218,
         "Toy-M101",
         "Toy"
        ],
        [
         219,
         "Kia-M214",
         "Kia"
        ],
        [
         220,
         "Sub-M95",
         "Sub"
        ],
        [
         221,
         "Mar-M143",
         "Mar"
        ],
        [
         222,
         "Nis-M265",
         "Nis"
        ],
        [
         223,
         "Hon-M65",
         "Hon"
        ],
        [
         224,
         "Sko-M272",
         "Sko"
        ],
        [
         225,
         "Che-M45",
         "Che"
        ],
        [
         226,
         "Toy-M107",
         "Toy"
        ],
        [
         227,
         "Jee-M12",
         "Jee"
        ],
        [
         228,
         "Mit-M277",
         "Mit"
        ],
        [
         229,
         "Hon-M66",
         "Hon"
        ],
        [
         230,
         "Toy-M100",
         "Toy"
        ],
        [
         231,
         "For-M19",
         "For"
        ],
        [
         232,
         "Agr-M113",
         "Agr"
        ],
        [
         233,
         "Toy-M204",
         "Toy"
        ],
        [
         234,
         "Hon-M120",
         "Hon"
        ],
        [
         235,
         "Sko-M271",
         "Sko"
        ],
        [
         236,
         "Vol-M255",
         "Vol"
        ],
        [
         237,
         "Toy-M199",
         "Toy"
        ],
        [
         238,
         "Vol-M256",
         "Vol"
        ],
        [
         239,
         "Sub-M92",
         "Sub"
        ],
        [
         240,
         "Toy-M197",
         "Toy"
        ],
        [
         241,
         "Mah-M172",
         "Mah"
        ],
        [
         242,
         "Che-M48",
         "Che"
        ],
        [
         243,
         "Nis-M87",
         "Nis"
        ],
        [
         244,
         "Mar-M150",
         "Mar"
        ],
        [
         245,
         "Acu-M63",
         "Acu"
        ],
        [
         246,
         "BMW-M247",
         "BMW"
        ],
        [
         247,
         "For-M226",
         "For"
        ],
        [
         248,
         "Vol-M257",
         "Vol"
        ],
        [
         249,
         "Vol-M259",
         "Vol"
        ],
        [
         250,
         "Nis-M80",
         "Nis"
        ],
        [
         251,
         "Kia-M212",
         "Kia"
        ],
        [
         252,
         "Hon-M218",
         "Hon"
        ],
        [
         253,
         "For-M24",
         "For"
        ],
        [
         254,
         "Sko-M273",
         "Sko"
        ],
        [
         255,
         "Lin-M29",
         "Lin"
        ],
        [
         256,
         "Agr-M112",
         "Agr"
        ],
        [
         257,
         "Tat-M189",
         "Tat"
        ],
        [
         258,
         "Nis-M270",
         "Nis"
        ],
        [
         259,
         "Riv-M90",
         "Riv"
        ],
        [
         260,
         "Che-M44",
         "Che"
        ],
        [
         261,
         "Aud-M238",
         "Aud"
        ],
        [
         262,
         "Vol-M136",
         "Vol"
        ],
        [
         263,
         "For-M21",
         "For"
        ],
        [
         264,
         "For-M224",
         "For"
        ],
        [
         265,
         "Che-M40",
         "Che"
        ],
        [
         266,
         "Ren-M130",
         "Ren"
        ],
        [
         267,
         "Hon-M219",
         "Hon"
        ],
        [
         268,
         "Che-M46",
         "Che"
        ],
        [
         269,
         "Mer-M6",
         "Mer"
        ],
        [
         270,
         "Vol-M258",
         "Vol"
        ],
        [
         271,
         "Jee-M13",
         "Jee"
        ],
        [
         272,
         "Nis-M261",
         "Nis"
        ],
        [
         273,
         "For-M20",
         "For"
        ],
        [
         274,
         "Tat-M191",
         "Tat"
        ],
        [
         275,
         "BMW-M245",
         "BMW"
        ],
        [
         276,
         "Nis-M268",
         "Nis"
        ],
        [
         277,
         "Cad-M33",
         "Cad"
        ]
       ],
       "datasetInfos": [],
       "dbfsResultPath": null,
       "isJsonSchema": true,
       "metadata": {},
       "overflow": false,
       "plotOptions": {
        "customPlotOptions": {},
        "displayType": "table",
        "pivotAggregation": null,
        "pivotColumns": null,
        "xColumns": null,
        "yColumns": null
       },
       "removedWidgets": [],
       "schema": [
        {
         "metadata": "{}",
         "name": "Dim_Model_Key",
         "type": "\"long\""
        },
        {
         "metadata": "{}",
         "name": "Model_ID",
         "type": "\"string\""
        },
        {
         "metadata": "{}",
         "name": "Model_Category",
         "type": "\"string\""
        }
       ],
       "type": "table"
      }
     },
     "output_type": "display_data"
    }
   ],
   "source": [
    "model_sink_df.display()"
   ]
  },
  {
   "cell_type": "markdown",
   "metadata": {
    "application/vnd.databricks.v1+cell": {
     "cellMetadata": {
      "byteLimit": 2048000,
      "rowLimit": 10000
     },
     "inputWidgets": {},
     "nuid": "da132ebb-575a-4a6f-9449-41badf16e7d7",
     "showTitle": false,
     "tableResultSettingsMap": {},
     "title": ""
    }
   },
   "source": [
    "###Filtering New Records and Old Records"
   ]
  },
  {
   "cell_type": "code",
   "execution_count": 0,
   "metadata": {
    "application/vnd.databricks.v1+cell": {
     "cellMetadata": {
      "byteLimit": 2048000,
      "rowLimit": 10000
     },
     "inputWidgets": {},
     "nuid": "b0eccd4b-5b99-48e9-9392-5257005c8d45",
     "showTitle": false,
     "tableResultSettingsMap": {},
     "title": ""
    }
   },
   "outputs": [],
   "source": [
    "df_filter = model_src_df.join(model_sink_df, model_src_df.Model_ID == model_sink_df.Model_ID, \"left\").select(model_src_df.Model_ID, model_src_df.Model_Category,model_sink_df.Dim_Model_Key )"
   ]
  },
  {
   "cell_type": "code",
   "execution_count": 0,
   "metadata": {
    "application/vnd.databricks.v1+cell": {
     "cellMetadata": {
      "byteLimit": 2048000,
      "rowLimit": 10000
     },
     "inputWidgets": {},
     "nuid": "e430f20c-9301-44b2-9ad2-56562353233c",
     "showTitle": false,
     "tableResultSettingsMap": {},
     "title": ""
    }
   },
   "outputs": [
    {
     "output_type": "display_data",
     "data": {
      "text/html": [
       "<style scoped>\n",
       "  .table-result-container {\n",
       "    max-height: 300px;\n",
       "    overflow: auto;\n",
       "  }\n",
       "  table, th, td {\n",
       "    border: 1px solid black;\n",
       "    border-collapse: collapse;\n",
       "  }\n",
       "  th, td {\n",
       "    padding: 5px;\n",
       "  }\n",
       "  th {\n",
       "    text-align: left;\n",
       "  }\n",
       "</style><div class='table-result-container'><table class='table-result'><thead style='background-color: white'><tr><th>Model_ID</th><th>Model_Category</th><th>Dim_Model_Key</th></tr></thead><tbody><tr><td>Jee-M10</td><td>Jee</td><td>49</td></tr><tr><td>ZYXM13</td><td>ZYXM13</td><td>null</td></tr><tr><td>Jee-M12</td><td>Jee</td><td>227</td></tr><tr><td>Jee-M13</td><td>Jee</td><td>271</td></tr></tbody></table></div>"
      ]
     },
     "metadata": {
      "application/vnd.databricks.v1+output": {
       "addedWidgets": {},
       "aggData": [],
       "aggError": "",
       "aggOverflow": false,
       "aggSchema": [],
       "aggSeriesLimitReached": false,
       "aggType": "",
       "arguments": {},
       "columnCustomDisplayInfos": {},
       "data": [
        [
         "Jee-M10",
         "Jee",
         49
        ],
        [
         "ZYXM13",
         "ZYXM13",
         null
        ],
        [
         "Jee-M12",
         "Jee",
         227
        ],
        [
         "Jee-M13",
         "Jee",
         271
        ]
       ],
       "datasetInfos": [],
       "dbfsResultPath": null,
       "isJsonSchema": true,
       "metadata": {},
       "overflow": false,
       "plotOptions": {
        "customPlotOptions": {},
        "displayType": "table",
        "pivotAggregation": null,
        "pivotColumns": null,
        "xColumns": null,
        "yColumns": null
       },
       "removedWidgets": [],
       "schema": [
        {
         "metadata": "{}",
         "name": "Model_ID",
         "type": "\"string\""
        },
        {
         "metadata": "{}",
         "name": "Model_Category",
         "type": "\"string\""
        },
        {
         "metadata": "{}",
         "name": "Dim_Model_Key",
         "type": "\"long\""
        }
       ],
       "type": "table"
      }
     },
     "output_type": "display_data"
    }
   ],
   "source": [
    "df_filter.display()"
   ]
  },
  {
   "cell_type": "markdown",
   "metadata": {
    "application/vnd.databricks.v1+cell": {
     "cellMetadata": {
      "byteLimit": 2048000,
      "rowLimit": 10000
     },
     "inputWidgets": {},
     "nuid": "67902e51-ac0a-42e9-b3d2-6f34c1b7d1c1",
     "showTitle": false,
     "tableResultSettingsMap": {},
     "title": ""
    }
   },
   "source": [
    "**df_filter_old**"
   ]
  },
  {
   "cell_type": "code",
   "execution_count": 0,
   "metadata": {
    "application/vnd.databricks.v1+cell": {
     "cellMetadata": {
      "byteLimit": 2048000,
      "rowLimit": 10000
     },
     "inputWidgets": {},
     "nuid": "287810d1-0c99-426e-9134-8e8a9ea8681b",
     "showTitle": false,
     "tableResultSettingsMap": {},
     "title": ""
    }
   },
   "outputs": [],
   "source": [
    "df_filter_old = df_filter.filter(col('Dim_Model_Key').isNotNull())  "
   ]
  },
  {
   "cell_type": "code",
   "execution_count": 0,
   "metadata": {
    "application/vnd.databricks.v1+cell": {
     "cellMetadata": {
      "byteLimit": 2048000,
      "rowLimit": 10000
     },
     "inputWidgets": {},
     "nuid": "7d92af7a-0ba0-447c-97a6-2485fd91431f",
     "showTitle": false,
     "tableResultSettingsMap": {},
     "title": ""
    }
   },
   "outputs": [
    {
     "output_type": "display_data",
     "data": {
      "text/html": [
       "<style scoped>\n",
       "  .table-result-container {\n",
       "    max-height: 300px;\n",
       "    overflow: auto;\n",
       "  }\n",
       "  table, th, td {\n",
       "    border: 1px solid black;\n",
       "    border-collapse: collapse;\n",
       "  }\n",
       "  th, td {\n",
       "    padding: 5px;\n",
       "  }\n",
       "  th {\n",
       "    text-align: left;\n",
       "  }\n",
       "</style><div class='table-result-container'><table class='table-result'><thead style='background-color: white'><tr><th>Model_ID</th><th>Model_Category</th><th>Dim_Model_Key</th></tr></thead><tbody><tr><td>Jee-M10</td><td>Jee</td><td>49</td></tr><tr><td>Jee-M12</td><td>Jee</td><td>227</td></tr><tr><td>Jee-M13</td><td>Jee</td><td>271</td></tr></tbody></table></div>"
      ]
     },
     "metadata": {
      "application/vnd.databricks.v1+output": {
       "addedWidgets": {},
       "aggData": [],
       "aggError": "",
       "aggOverflow": false,
       "aggSchema": [],
       "aggSeriesLimitReached": false,
       "aggType": "",
       "arguments": {},
       "columnCustomDisplayInfos": {},
       "data": [
        [
         "Jee-M10",
         "Jee",
         49
        ],
        [
         "Jee-M12",
         "Jee",
         227
        ],
        [
         "Jee-M13",
         "Jee",
         271
        ]
       ],
       "datasetInfos": [],
       "dbfsResultPath": null,
       "isJsonSchema": true,
       "metadata": {},
       "overflow": false,
       "plotOptions": {
        "customPlotOptions": {},
        "displayType": "table",
        "pivotAggregation": null,
        "pivotColumns": null,
        "xColumns": null,
        "yColumns": null
       },
       "removedWidgets": [],
       "schema": [
        {
         "metadata": "{}",
         "name": "Model_ID",
         "type": "\"string\""
        },
        {
         "metadata": "{}",
         "name": "Model_Category",
         "type": "\"string\""
        },
        {
         "metadata": "{}",
         "name": "Dim_Model_Key",
         "type": "\"long\""
        }
       ],
       "type": "table"
      }
     },
     "output_type": "display_data"
    }
   ],
   "source": [
    "df_filter_old.display()"
   ]
  },
  {
   "cell_type": "markdown",
   "metadata": {
    "application/vnd.databricks.v1+cell": {
     "cellMetadata": {
      "byteLimit": 2048000,
      "rowLimit": 10000
     },
     "inputWidgets": {},
     "nuid": "4cc7085e-a4fb-479c-bb7b-383bb99563a0",
     "showTitle": false,
     "tableResultSettingsMap": {},
     "title": ""
    }
   },
   "source": [
    "**df_filter_new**"
   ]
  },
  {
   "cell_type": "code",
   "execution_count": 0,
   "metadata": {
    "application/vnd.databricks.v1+cell": {
     "cellMetadata": {
      "byteLimit": 2048000,
      "rowLimit": 10000
     },
     "inputWidgets": {},
     "nuid": "0cfb0d58-72ca-4f49-a8e1-6ad7c93cd182",
     "showTitle": false,
     "tableResultSettingsMap": {},
     "title": ""
    }
   },
   "outputs": [],
   "source": [
    "df_filter_new = df_filter.filter(col('Dim_Model_Key').isNull()).select(model_src_df.Model_ID, model_src_df.Model_Category)"
   ]
  },
  {
   "cell_type": "code",
   "execution_count": 0,
   "metadata": {
    "application/vnd.databricks.v1+cell": {
     "cellMetadata": {
      "byteLimit": 2048000,
      "rowLimit": 10000
     },
     "inputWidgets": {},
     "nuid": "0157e6b4-4309-4471-bedf-609e7dcae803",
     "showTitle": false,
     "tableResultSettingsMap": {},
     "title": ""
    }
   },
   "outputs": [
    {
     "output_type": "display_data",
     "data": {
      "text/html": [
       "<style scoped>\n",
       "  .table-result-container {\n",
       "    max-height: 300px;\n",
       "    overflow: auto;\n",
       "  }\n",
       "  table, th, td {\n",
       "    border: 1px solid black;\n",
       "    border-collapse: collapse;\n",
       "  }\n",
       "  th, td {\n",
       "    padding: 5px;\n",
       "  }\n",
       "  th {\n",
       "    text-align: left;\n",
       "  }\n",
       "</style><div class='table-result-container'><table class='table-result'><thead style='background-color: white'><tr><th>Model_ID</th><th>Model_Category</th></tr></thead><tbody><tr><td>ZYXM13</td><td>ZYXM13</td></tr></tbody></table></div>"
      ]
     },
     "metadata": {
      "application/vnd.databricks.v1+output": {
       "addedWidgets": {},
       "aggData": [],
       "aggError": "",
       "aggOverflow": false,
       "aggSchema": [],
       "aggSeriesLimitReached": false,
       "aggType": "",
       "arguments": {},
       "columnCustomDisplayInfos": {},
       "data": [
        [
         "ZYXM13",
         "ZYXM13"
        ]
       ],
       "datasetInfos": [],
       "dbfsResultPath": null,
       "isJsonSchema": true,
       "metadata": {},
       "overflow": false,
       "plotOptions": {
        "customPlotOptions": {},
        "displayType": "table",
        "pivotAggregation": null,
        "pivotColumns": null,
        "xColumns": null,
        "yColumns": null
       },
       "removedWidgets": [],
       "schema": [
        {
         "metadata": "{}",
         "name": "Model_ID",
         "type": "\"string\""
        },
        {
         "metadata": "{}",
         "name": "Model_Category",
         "type": "\"string\""
        }
       ],
       "type": "table"
      }
     },
     "output_type": "display_data"
    }
   ],
   "source": [
    "df_filter_new.display()"
   ]
  },
  {
   "cell_type": "markdown",
   "metadata": {
    "application/vnd.databricks.v1+cell": {
     "cellMetadata": {
      "byteLimit": 2048000,
      "rowLimit": 10000
     },
     "inputWidgets": {},
     "nuid": "2de7be04-353b-44b3-9e5e-63e65fd86933",
     "showTitle": false,
     "tableResultSettingsMap": {},
     "title": ""
    }
   },
   "source": [
    "###CREATE Surrogate key"
   ]
  },
  {
   "cell_type": "markdown",
   "metadata": {
    "application/vnd.databricks.v1+cell": {
     "cellMetadata": {
      "byteLimit": 2048000,
      "rowLimit": 10000
     },
     "inputWidgets": {},
     "nuid": "29c00a36-29cf-4ed0-a5c0-ab1c8e7b7ff6",
     "showTitle": false,
     "tableResultSettingsMap": {},
     "title": ""
    }
   },
   "source": [
    "####Fetch max surrogate key from existing table"
   ]
  },
  {
   "cell_type": "code",
   "execution_count": 0,
   "metadata": {
    "application/vnd.databricks.v1+cell": {
     "cellMetadata": {
      "byteLimit": 2048000,
      "rowLimit": 10000
     },
     "inputWidgets": {},
     "nuid": "ff3f3a98-ff32-44bc-8080-781029c79f21",
     "showTitle": false,
     "tableResultSettingsMap": {},
     "title": ""
    }
   },
   "outputs": [],
   "source": [
    "if incremental_flag == '0':\n",
    "    max_value = 1\n",
    "else:\n",
    "    max_value = spark.sql(\"SELECT max(Dim_Model_Key) FROM car_sales_catalog.refined.dim_model\").collect()[0][0] + 1"
   ]
  },
  {
   "cell_type": "code",
   "execution_count": 0,
   "metadata": {
    "application/vnd.databricks.v1+cell": {
     "cellMetadata": {
      "byteLimit": 2048000,
      "rowLimit": 10000
     },
     "inputWidgets": {},
     "nuid": "810771ef-968f-4458-8d8e-9e7f49319456",
     "showTitle": false,
     "tableResultSettingsMap": {},
     "title": ""
    }
   },
   "outputs": [],
   "source": [
    "df_filter_new = df_filter_new.withColumn('Dim_Model_Key', max_value + monotonically_increasing_id())"
   ]
  },
  {
   "cell_type": "code",
   "execution_count": 0,
   "metadata": {
    "application/vnd.databricks.v1+cell": {
     "cellMetadata": {
      "byteLimit": 2048000,
      "rowLimit": 10000
     },
     "inputWidgets": {},
     "nuid": "e2249af0-cb1d-4293-8f43-ab199dfb80d9",
     "showTitle": false,
     "tableResultSettingsMap": {},
     "title": ""
    }
   },
   "outputs": [
    {
     "output_type": "display_data",
     "data": {
      "text/html": [
       "<style scoped>\n",
       "  .table-result-container {\n",
       "    max-height: 300px;\n",
       "    overflow: auto;\n",
       "  }\n",
       "  table, th, td {\n",
       "    border: 1px solid black;\n",
       "    border-collapse: collapse;\n",
       "  }\n",
       "  th, td {\n",
       "    padding: 5px;\n",
       "  }\n",
       "  th {\n",
       "    text-align: left;\n",
       "  }\n",
       "</style><div class='table-result-container'><table class='table-result'><thead style='background-color: white'><tr><th>Model_ID</th><th>Model_Category</th><th>Dim_Model_Key</th></tr></thead><tbody><tr><td>ZYXM13</td><td>ZYXM13</td><td>278</td></tr></tbody></table></div>"
      ]
     },
     "metadata": {
      "application/vnd.databricks.v1+output": {
       "addedWidgets": {},
       "aggData": [],
       "aggError": "",
       "aggOverflow": false,
       "aggSchema": [],
       "aggSeriesLimitReached": false,
       "aggType": "",
       "arguments": {},
       "columnCustomDisplayInfos": {},
       "data": [
        [
         "ZYXM13",
         "ZYXM13",
         278
        ]
       ],
       "datasetInfos": [],
       "dbfsResultPath": null,
       "isJsonSchema": true,
       "metadata": {},
       "overflow": false,
       "plotOptions": {
        "customPlotOptions": {},
        "displayType": "table",
        "pivotAggregation": null,
        "pivotColumns": null,
        "xColumns": null,
        "yColumns": null
       },
       "removedWidgets": [],
       "schema": [
        {
         "metadata": "{}",
         "name": "Model_ID",
         "type": "\"string\""
        },
        {
         "metadata": "{}",
         "name": "Model_Category",
         "type": "\"string\""
        },
        {
         "metadata": "{}",
         "name": "Dim_Model_Key",
         "type": "\"long\""
        }
       ],
       "type": "table"
      }
     },
     "output_type": "display_data"
    }
   ],
   "source": [
    "df_filter_new.display()"
   ]
  },
  {
   "cell_type": "markdown",
   "metadata": {
    "application/vnd.databricks.v1+cell": {
     "cellMetadata": {
      "byteLimit": 2048000,
      "rowLimit": 10000
     },
     "inputWidgets": {},
     "nuid": "f3021c9a-9a0f-4ada-9811-0ec30523ba11",
     "showTitle": false,
     "tableResultSettingsMap": {},
     "title": ""
    }
   },
   "source": [
    "###Creating final df - df_filter_old + df_filter_new"
   ]
  },
  {
   "cell_type": "code",
   "execution_count": 0,
   "metadata": {
    "application/vnd.databricks.v1+cell": {
     "cellMetadata": {
      "byteLimit": 2048000,
      "rowLimit": 10000
     },
     "inputWidgets": {},
     "nuid": "a4095030-510a-4326-bb39-8cda113b64c6",
     "showTitle": false,
     "tableResultSettingsMap": {},
     "title": ""
    }
   },
   "outputs": [],
   "source": [
    "df_final = df_filter_new.union(df_filter_old)"
   ]
  },
  {
   "cell_type": "code",
   "execution_count": 0,
   "metadata": {
    "application/vnd.databricks.v1+cell": {
     "cellMetadata": {
      "byteLimit": 2048000,
      "rowLimit": 10000
     },
     "inputWidgets": {},
     "nuid": "2ddb57a2-f408-472e-874e-438abb6f8e05",
     "showTitle": false,
     "tableResultSettingsMap": {},
     "title": ""
    }
   },
   "outputs": [
    {
     "output_type": "display_data",
     "data": {
      "text/html": [
       "<style scoped>\n",
       "  .table-result-container {\n",
       "    max-height: 300px;\n",
       "    overflow: auto;\n",
       "  }\n",
       "  table, th, td {\n",
       "    border: 1px solid black;\n",
       "    border-collapse: collapse;\n",
       "  }\n",
       "  th, td {\n",
       "    padding: 5px;\n",
       "  }\n",
       "  th {\n",
       "    text-align: left;\n",
       "  }\n",
       "</style><div class='table-result-container'><table class='table-result'><thead style='background-color: white'><tr><th>Model_ID</th><th>Model_Category</th><th>Dim_Model_Key</th></tr></thead><tbody><tr><td>ZYXM13</td><td>ZYXM13</td><td>278</td></tr><tr><td>Jee-M10</td><td>Jee</td><td>49</td></tr><tr><td>Jee-M12</td><td>Jee</td><td>227</td></tr><tr><td>Jee-M13</td><td>Jee</td><td>271</td></tr></tbody></table></div>"
      ]
     },
     "metadata": {
      "application/vnd.databricks.v1+output": {
       "addedWidgets": {},
       "aggData": [],
       "aggError": "",
       "aggOverflow": false,
       "aggSchema": [],
       "aggSeriesLimitReached": false,
       "aggType": "",
       "arguments": {},
       "columnCustomDisplayInfos": {},
       "data": [
        [
         "ZYXM13",
         "ZYXM13",
         278
        ],
        [
         "Jee-M10",
         "Jee",
         49
        ],
        [
         "Jee-M12",
         "Jee",
         227
        ],
        [
         "Jee-M13",
         "Jee",
         271
        ]
       ],
       "datasetInfos": [],
       "dbfsResultPath": null,
       "isJsonSchema": true,
       "metadata": {},
       "overflow": false,
       "plotOptions": {
        "customPlotOptions": {},
        "displayType": "table",
        "pivotAggregation": null,
        "pivotColumns": null,
        "xColumns": null,
        "yColumns": null
       },
       "removedWidgets": [],
       "schema": [
        {
         "metadata": "{}",
         "name": "Model_ID",
         "type": "\"string\""
        },
        {
         "metadata": "{}",
         "name": "Model_Category",
         "type": "\"string\""
        },
        {
         "metadata": "{}",
         "name": "Dim_Model_Key",
         "type": "\"long\""
        }
       ],
       "type": "table"
      }
     },
     "output_type": "display_data"
    }
   ],
   "source": [
    "df_final.display()"
   ]
  },
  {
   "cell_type": "markdown",
   "metadata": {
    "application/vnd.databricks.v1+cell": {
     "cellMetadata": {
      "byteLimit": 2048000,
      "rowLimit": 10000
     },
     "inputWidgets": {},
     "nuid": "9903a36e-1b51-4219-8ad4-bd7cc3e91e11",
     "showTitle": false,
     "tableResultSettingsMap": {},
     "title": ""
    }
   },
   "source": [
    "###SCD Type 1 UPSERT"
   ]
  },
  {
   "cell_type": "code",
   "execution_count": 0,
   "metadata": {
    "application/vnd.databricks.v1+cell": {
     "cellMetadata": {
      "byteLimit": 2048000,
      "rowLimit": 10000
     },
     "inputWidgets": {},
     "nuid": "34c6b5a0-9afe-4e55-ad68-29e4006cddfd",
     "showTitle": false,
     "tableResultSettingsMap": {},
     "title": ""
    }
   },
   "outputs": [],
   "source": [
    "#Incremental run\n",
    "\n",
    "if spark.catalog.tableExists('car_sales_catalog.refined.dim_model'):\n",
    "    deltaTable = DeltaTable.forPath(spark, \"abfss://projects@projectstorageaccount1.dfs.core.windows.net/refined/CAR SALES/dim_model\")\n",
    "\n",
    "    deltaTable.alias(\"target\").merge(df_final.alias(\"source\"), \"target.Dim_Model_Key == source.Dim_Model_Key\")\\\n",
    "                                .whenMatchedUpdateAll()\\\n",
    "                                .whenNotMatchedInsertAll()\\\n",
    "                                .execute()    \n",
    "\n",
    "#Initial run\n",
    "else:\n",
    "    df_final.write.format(\"delta\")\\\n",
    "                    .mode(\"overwrite\")\\\n",
    "                    .option(\"path\",\"abfss://projects@projectstorageaccount1.dfs.core.windows.net/refined/CAR SALES/dim_model\" )\\\n",
    "                    .saveAsTable(\"car_sales_catalog.refined.dim_model\")"
   ]
  }
 ],
 "metadata": {
  "application/vnd.databricks.v1+notebook": {
   "computePreferences": null,
   "dashboards": [],
   "environmentMetadata": {
    "base_environment": "",
    "environment_version": "2"
   },
   "language": "python",
   "notebookMetadata": {
    "mostRecentlyExecutedCommandWithImplicitDF": {
     "commandId": 5997714748639665,
     "dataframes": [
      "_sqldf"
     ]
    },
    "pythonIndentUnit": 4
   },
   "notebookName": "Refined_dim_model",
   "widgets": {
    "incremental_flag": {
     "currentValue": "1",
     "nuid": "877450d8-ec79-409f-b058-b64115f0ab99",
     "typedWidgetInfo": {
      "autoCreated": false,
      "defaultValue": "0",
      "label": null,
      "name": "incremental_flag",
      "options": {
       "widgetDisplayType": "Text",
       "validationRegex": null
      },
      "parameterDataType": "String"
     },
     "widgetInfo": {
      "widgetType": "text",
      "defaultValue": "0",
      "label": null,
      "name": "incremental_flag",
      "options": {
       "widgetType": "text",
       "autoCreated": null,
       "validationRegex": null
      }
     }
    }
   }
  },
  "language_info": {
   "name": "python"
  }
 },
 "nbformat": 4,
 "nbformat_minor": 0
}