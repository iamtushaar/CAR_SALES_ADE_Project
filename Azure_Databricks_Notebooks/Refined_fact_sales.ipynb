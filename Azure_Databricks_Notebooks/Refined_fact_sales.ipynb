{
 "cells": [
  {
   "cell_type": "code",
   "execution_count": 0,
   "metadata": {
    "application/vnd.databricks.v1+cell": {
     "cellMetadata": {
      "byteLimit": 2048000,
      "rowLimit": 10000
     },
     "inputWidgets": {},
     "nuid": "894b51b0-e26a-4236-bb21-a51dd6d55c83",
     "showTitle": false,
     "tableResultSettingsMap": {},
     "title": ""
    }
   },
   "outputs": [],
   "source": [
    "#import libraries\n",
    "\n",
    "from pyspark.sql.functions import *\n",
    "from pyspark.sql.types import *\n",
    "from delta.tables import DeltaTable"
   ]
  },
  {
   "cell_type": "markdown",
   "metadata": {
    "application/vnd.databricks.v1+cell": {
     "cellMetadata": {
      "byteLimit": 2048000,
      "rowLimit": 10000
     },
     "inputWidgets": {},
     "nuid": "df32e397-05f3-4bbb-8fcb-ef377f6a1693",
     "showTitle": false,
     "tableResultSettingsMap": {},
     "title": ""
    }
   },
   "source": [
    "###CREATE FACT TABLE"
   ]
  },
  {
   "cell_type": "code",
   "execution_count": 0,
   "metadata": {
    "application/vnd.databricks.v1+cell": {
     "cellMetadata": {
      "byteLimit": 2048000,
      "implicitDf": true,
      "rowLimit": 10000
     },
     "inputWidgets": {},
     "nuid": "c5b270b8-806e-420d-b822-c2f6ab124688",
     "showTitle": false,
     "tableResultSettingsMap": {},
     "title": ""
    }
   },
   "outputs": [],
   "source": [
    "#Reading Curated data\n",
    "\n",
    "df_curated = spark.sql('SELECT * FROM parquet.`abfss://projects@projectstorageaccount1.dfs.core.windows.net/curated/CAR SALES/`')"
   ]
  },
  {
   "cell_type": "code",
   "execution_count": 0,
   "metadata": {
    "application/vnd.databricks.v1+cell": {
     "cellMetadata": {
      "byteLimit": 2048000,
      "rowLimit": 10000
     },
     "inputWidgets": {},
     "nuid": "c6d048ca-0eb3-4b46-a008-e399e32b362d",
     "showTitle": false,
     "tableResultSettingsMap": {},
     "title": ""
    }
   },
   "outputs": [
    {
     "output_type": "display_data",
     "data": {
      "text/html": [
       "<style scoped>\n",
       "  .table-result-container {\n",
       "    max-height: 300px;\n",
       "    overflow: auto;\n",
       "  }\n",
       "  table, th, td {\n",
       "    border: 1px solid black;\n",
       "    border-collapse: collapse;\n",
       "  }\n",
       "  th, td {\n",
       "    padding: 5px;\n",
       "  }\n",
       "  th {\n",
       "    text-align: left;\n",
       "  }\n",
       "</style><div class='table-result-container'><table class='table-result'><thead style='background-color: white'><tr><th>Branch_ID</th><th>Dealer_ID</th><th>Model_ID</th><th>Revenue</th><th>Units_Sold</th><th>Date_ID</th><th>Day</th><th>Month</th><th>Year</th><th>BranchName</th><th>DealerName</th><th>Product_Name</th><th>Model_Category</th><th>ItemPrice</th></tr></thead><tbody><tr><td>BR9546</td><td>DLR0060</td><td>Jee-M10</td><td>7223451</td><td>1</td><td>DT01246</td><td>28</td><td>5</td><td>2020</td><td>Premier Motors</td><td>Fisker, Karma Motors</td><td>Jeep</td><td>Jee</td><td>7223451.0</td></tr><tr><td>BR9666</td><td>DLR0062</td><td>Jee-M12</td><td>22093020</td><td>3</td><td>DT01246</td><td>30</td><td>5</td><td>2020</td><td>Puma Motors</td><td>Ford Australia Motors</td><td>Jeep</td><td>Jee</td><td>7364340.0</td></tr><tr><td>BR9726</td><td>DLR0063</td><td>Jee-M13</td><td>22372413</td><td>3</td><td>DT01247</td><td>31</td><td>5</td><td>2020</td><td>Power Ranger Motors</td><td>Ford do Brasil Motors</td><td>Jeep</td><td>Jee</td><td>7457471.0</td></tr><tr><td>XYZ9726</td><td>XYZ0063</td><td>ZYXM13</td><td>22372413</td><td>3</td><td>DT01247</td><td>31</td><td>5</td><td>2020</td><td>DataFam Motors</td><td>Datafam Dealers</td><td>Surprise</td><td>ZYXM13</td><td>7457471.0</td></tr></tbody></table></div>"
      ]
     },
     "metadata": {
      "application/vnd.databricks.v1+output": {
       "addedWidgets": {},
       "aggData": [],
       "aggError": "",
       "aggOverflow": false,
       "aggSchema": [],
       "aggSeriesLimitReached": false,
       "aggType": "",
       "arguments": {},
       "columnCustomDisplayInfos": {},
       "data": [
        [
         "BR9546",
         "DLR0060",
         "Jee-M10",
         7223451,
         1,
         "DT01246",
         28,
         5,
         2020,
         "Premier Motors",
         "Fisker, Karma Motors",
         "Jeep",
         "Jee",
         7223451.0
        ],
        [
         "BR9666",
         "DLR0062",
         "Jee-M12",
         22093020,
         3,
         "DT01246",
         30,
         5,
         2020,
         "Puma Motors",
         "Ford Australia Motors",
         "Jeep",
         "Jee",
         7364340.0
        ],
        [
         "BR9726",
         "DLR0063",
         "Jee-M13",
         22372413,
         3,
         "DT01247",
         31,
         5,
         2020,
         "Power Ranger Motors",
         "Ford do Brasil Motors",
         "Jeep",
         "Jee",
         7457471.0
        ],
        [
         "XYZ9726",
         "XYZ0063",
         "ZYXM13",
         22372413,
         3,
         "DT01247",
         31,
         5,
         2020,
         "DataFam Motors",
         "Datafam Dealers",
         "Surprise",
         "ZYXM13",
         7457471.0
        ]
       ],
       "datasetInfos": [],
       "dbfsResultPath": null,
       "isJsonSchema": true,
       "metadata": {},
       "overflow": false,
       "plotOptions": {
        "customPlotOptions": {},
        "displayType": "table",
        "pivotAggregation": null,
        "pivotColumns": null,
        "xColumns": null,
        "yColumns": null
       },
       "removedWidgets": [],
       "schema": [
        {
         "metadata": "{}",
         "name": "Branch_ID",
         "type": "\"string\""
        },
        {
         "metadata": "{}",
         "name": "Dealer_ID",
         "type": "\"string\""
        },
        {
         "metadata": "{}",
         "name": "Model_ID",
         "type": "\"string\""
        },
        {
         "metadata": "{}",
         "name": "Revenue",
         "type": "\"long\""
        },
        {
         "metadata": "{}",
         "name": "Units_Sold",
         "type": "\"long\""
        },
        {
         "metadata": "{}",
         "name": "Date_ID",
         "type": "\"string\""
        },
        {
         "metadata": "{}",
         "name": "Day",
         "type": "\"integer\""
        },
        {
         "metadata": "{}",
         "name": "Month",
         "type": "\"integer\""
        },
        {
         "metadata": "{}",
         "name": "Year",
         "type": "\"integer\""
        },
        {
         "metadata": "{}",
         "name": "BranchName",
         "type": "\"string\""
        },
        {
         "metadata": "{}",
         "name": "DealerName",
         "type": "\"string\""
        },
        {
         "metadata": "{}",
         "name": "Product_Name",
         "type": "\"string\""
        },
        {
         "metadata": "{}",
         "name": "Model_Category",
         "type": "\"string\""
        },
        {
         "metadata": "{}",
         "name": "ItemPrice",
         "type": "\"double\""
        }
       ],
       "type": "table"
      }
     },
     "output_type": "display_data"
    }
   ],
   "source": [
    "df_curated.display()"
   ]
  },
  {
   "cell_type": "markdown",
   "metadata": {
    "application/vnd.databricks.v1+cell": {
     "cellMetadata": {
      "byteLimit": 2048000,
      "rowLimit": 10000
     },
     "inputWidgets": {},
     "nuid": "013b5acf-6a2d-47e9-824d-f449a1472ed3",
     "showTitle": false,
     "tableResultSettingsMap": {},
     "title": ""
    }
   },
   "source": [
    "####Read all Dim tables"
   ]
  },
  {
   "cell_type": "code",
   "execution_count": 0,
   "metadata": {
    "application/vnd.databricks.v1+cell": {
     "cellMetadata": {
      "byteLimit": 2048000,
      "rowLimit": 10000
     },
     "inputWidgets": {},
     "nuid": "e5e8774f-1098-4e53-90d2-6b2b044837b7",
     "showTitle": false,
     "tableResultSettingsMap": {},
     "title": ""
    }
   },
   "outputs": [],
   "source": [
    "df_model = spark.sql('SELECT * FROM car_sales_catalog.refined.dim_model')\n",
    "df_branch = spark.sql('SELECT * FROM car_sales_catalog.refined.dim_branch')\n",
    "df_dealer = spark.sql('SELECT * FROM car_sales_catalog.refined.dim_dealer')"
   ]
  },
  {
   "cell_type": "markdown",
   "metadata": {
    "application/vnd.databricks.v1+cell": {
     "cellMetadata": {
      "byteLimit": 2048000,
      "rowLimit": 10000
     },
     "inputWidgets": {},
     "nuid": "6f0a574a-5afe-40cc-9657-bba2f54e449a",
     "showTitle": false,
     "tableResultSettingsMap": {},
     "title": ""
    }
   },
   "source": [
    "####Bringing keys to the Fact"
   ]
  },
  {
   "cell_type": "code",
   "execution_count": 0,
   "metadata": {
    "application/vnd.databricks.v1+cell": {
     "cellMetadata": {
      "byteLimit": 2048000,
      "rowLimit": 10000
     },
     "inputWidgets": {},
     "nuid": "ed56cdbb-a5c8-4a1d-b8ca-69b95bf2d9de",
     "showTitle": false,
     "tableResultSettingsMap": {},
     "title": ""
    }
   },
   "outputs": [],
   "source": [
    "df_fact = df_curated.join(df_model, df_curated.Model_ID == df_model.Model_ID, 'left')\\\n",
    "                    .join(df_branch, df_curated.Branch_ID == df_branch.Branch_ID, 'left')\\\n",
    "                    .join(df_dealer, df_curated.Dealer_ID == df_dealer.Dealer_ID, 'left')\\\n",
    "                    .select(df_curated.Revenue, df_curated.Units_Sold,df_curated.ItemPrice, df_model.Dim_Model_Key, df_branch.Dim_Branch_Key, df_dealer.Dim_Dealer_Key)        "
   ]
  },
  {
   "cell_type": "code",
   "execution_count": 0,
   "metadata": {
    "application/vnd.databricks.v1+cell": {
     "cellMetadata": {
      "byteLimit": 2048000,
      "rowLimit": 10000
     },
     "inputWidgets": {},
     "nuid": "884bf2a8-028b-446e-8267-7ca51f574dfc",
     "showTitle": false,
     "tableResultSettingsMap": {},
     "title": ""
    }
   },
   "outputs": [
    {
     "output_type": "display_data",
     "data": {
      "text/html": [
       "<style scoped>\n",
       "  .table-result-container {\n",
       "    max-height: 300px;\n",
       "    overflow: auto;\n",
       "  }\n",
       "  table, th, td {\n",
       "    border: 1px solid black;\n",
       "    border-collapse: collapse;\n",
       "  }\n",
       "  th, td {\n",
       "    padding: 5px;\n",
       "  }\n",
       "  th {\n",
       "    text-align: left;\n",
       "  }\n",
       "</style><div class='table-result-container'><table class='table-result'><thead style='background-color: white'><tr><th>Revenue</th><th>Units_Sold</th><th>ItemPrice</th><th>Dim_Model_Key</th><th>Dim_Branch_Key</th><th>Dim_Dealer_Key</th></tr></thead><tbody><tr><td>7223451</td><td>1</td><td>7223451.0</td><td>49</td><td>1839</td><td>263</td></tr><tr><td>22093020</td><td>3</td><td>7364340.0</td><td>227</td><td>1837</td><td>219</td></tr><tr><td>22372413</td><td>3</td><td>7457471.0</td><td>271</td><td>1838</td><td>9</td></tr><tr><td>22372413</td><td>3</td><td>7457471.0</td><td>278</td><td>1840</td><td>268</td></tr></tbody></table></div>"
      ]
     },
     "metadata": {
      "application/vnd.databricks.v1+output": {
       "addedWidgets": {},
       "aggData": [],
       "aggError": "",
       "aggOverflow": false,
       "aggSchema": [],
       "aggSeriesLimitReached": false,
       "aggType": "",
       "arguments": {},
       "columnCustomDisplayInfos": {},
       "data": [
        [
         7223451,
         1,
         7223451.0,
         49,
         1839,
         263
        ],
        [
         22093020,
         3,
         7364340.0,
         227,
         1837,
         219
        ],
        [
         22372413,
         3,
         7457471.0,
         271,
         1838,
         9
        ],
        [
         22372413,
         3,
         7457471.0,
         278,
         1840,
         268
        ]
       ],
       "datasetInfos": [],
       "dbfsResultPath": null,
       "isJsonSchema": true,
       "metadata": {},
       "overflow": false,
       "plotOptions": {
        "customPlotOptions": {},
        "displayType": "table",
        "pivotAggregation": null,
        "pivotColumns": null,
        "xColumns": null,
        "yColumns": null
       },
       "removedWidgets": [],
       "schema": [
        {
         "metadata": "{}",
         "name": "Revenue",
         "type": "\"long\""
        },
        {
         "metadata": "{}",
         "name": "Units_Sold",
         "type": "\"long\""
        },
        {
         "metadata": "{}",
         "name": "ItemPrice",
         "type": "\"double\""
        },
        {
         "metadata": "{}",
         "name": "Dim_Model_Key",
         "type": "\"long\""
        },
        {
         "metadata": "{}",
         "name": "Dim_Branch_Key",
         "type": "\"long\""
        },
        {
         "metadata": "{}",
         "name": "Dim_Dealer_Key",
         "type": "\"long\""
        }
       ],
       "type": "table"
      }
     },
     "output_type": "display_data"
    }
   ],
   "source": [
    "df_fact.display()"
   ]
  },
  {
   "cell_type": "code",
   "execution_count": 0,
   "metadata": {
    "application/vnd.databricks.v1+cell": {
     "cellMetadata": {
      "byteLimit": 2048000,
      "rowLimit": 10000
     },
     "inputWidgets": {},
     "nuid": "662929bf-b4b6-4037-a67f-16c8effb7e7f",
     "showTitle": false,
     "tableResultSettingsMap": {},
     "title": ""
    }
   },
   "outputs": [],
   "source": [
    "if spark.catalog.tableExists('car_sales_catalog.refined.fact_sales'):\n",
    "    deltaTable = DeltaTable.forPath(spark, \"abfss://projects@projectstorageaccount1.dfs.core.windows.net/refined/CAR SALES/fact_sales\")\n",
    "\n",
    "    deltaTable.alias(\"target\").merge(df_fact.alias(\"source\"), \"target.Dim_Branch_Key = source.Dim_Branch_Key AND target.Dim_Dealer_Key = source.Dim_Dealer_Key AND target.Dim_Model_Key = source.Dim_Model_Key\")\\\n",
    "                                .whenMatchedUpdateAll()\\\n",
    "                                .whenNotMatchedInsertAll()\\\n",
    "                                .execute() \n",
    "\n",
    "else:\n",
    "    df_fact.write.format('delta')\\\n",
    "                    .mode('overwrite')\\\n",
    "                    .option('path','abfss://projects@projectstorageaccount1.dfs.core.windows.net/refined/CAR SALES/fact_sales')\\\n",
    "                    .saveAsTable('car_sales_catalog.refined.fact_sales')"
   ]
  }
 ],
 "metadata": {
  "application/vnd.databricks.v1+notebook": {
   "computePreferences": null,
   "dashboards": [],
   "environmentMetadata": {
    "base_environment": "",
    "environment_version": "2"
   },
   "language": "python",
   "notebookMetadata": {
    "mostRecentlyExecutedCommandWithImplicitDF": {
     "commandId": 6576566339663527,
     "dataframes": [
      "_sqldf"
     ]
    },
    "pythonIndentUnit": 4
   },
   "notebookName": "Refined_fact_sales",
   "widgets": {}
  },
  "language_info": {
   "name": "python"
  }
 },
 "nbformat": 4,
 "nbformat_minor": 0
}