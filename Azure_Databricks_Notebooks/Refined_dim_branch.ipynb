{
 "cells": [
  {
   "cell_type": "code",
   "execution_count": 0,
   "metadata": {
    "application/vnd.databricks.v1+cell": {
     "cellMetadata": {
      "byteLimit": 2048000,
      "rowLimit": 10000
     },
     "inputWidgets": {},
     "nuid": "05f8804a-d433-4c31-ac34-ddd363cc6532",
     "showTitle": false,
     "tableResultSettingsMap": {},
     "title": ""
    }
   },
   "outputs": [],
   "source": [
    "#import libraries\n",
    "\n",
    "from pyspark.sql.functions import *\n",
    "from pyspark.sql.types import *\n",
    "from delta.tables import DeltaTable"
   ]
  },
  {
   "cell_type": "markdown",
   "metadata": {
    "application/vnd.databricks.v1+cell": {
     "cellMetadata": {
      "byteLimit": 2048000,
      "rowLimit": 10000
     },
     "inputWidgets": {},
     "nuid": "332d808f-17fc-415d-9180-bf047035308d",
     "showTitle": false,
     "tableResultSettingsMap": {},
     "title": ""
    }
   },
   "source": [
    "###CREATING FLAG PARAMETER"
   ]
  },
  {
   "cell_type": "code",
   "execution_count": 0,
   "metadata": {
    "application/vnd.databricks.v1+cell": {
     "cellMetadata": {},
     "inputWidgets": {},
     "nuid": "75d0f0f4-e357-461f-a8e2-c8f6284d5b89",
     "showTitle": false,
     "tableResultSettingsMap": {},
     "title": ""
    }
   },
   "outputs": [],
   "source": [
    "dbutils.widgets.text(\"incremental_flag\",\"0\")"
   ]
  },
  {
   "cell_type": "code",
   "execution_count": 0,
   "metadata": {
    "application/vnd.databricks.v1+cell": {
     "cellMetadata": {
      "byteLimit": 2048000,
      "rowLimit": 10000
     },
     "inputWidgets": {},
     "nuid": "74194dd1-454b-4a80-a975-cb846dae0fa8",
     "showTitle": false,
     "tableResultSettingsMap": {},
     "title": ""
    }
   },
   "outputs": [],
   "source": [
    "#incremental_flag = 0 means first load\n",
    "\n",
    "incremental_flag = dbutils.widgets.get(\"incremental_flag\")"
   ]
  },
  {
   "cell_type": "markdown",
   "metadata": {
    "application/vnd.databricks.v1+cell": {
     "cellMetadata": {
      "byteLimit": 2048000,
      "rowLimit": 10000
     },
     "inputWidgets": {},
     "nuid": "fcf15177-02c5-449b-ac37-cf8c53069dfa",
     "showTitle": false,
     "tableResultSettingsMap": {},
     "title": ""
    }
   },
   "source": [
    "###CREATING DIMENSION BRANCH  "
   ]
  },
  {
   "cell_type": "code",
   "execution_count": 0,
   "metadata": {
    "application/vnd.databricks.v1+cell": {
     "cellMetadata": {
      "byteLimit": 2048000,
      "implicitDf": true,
      "rowLimit": 10000
     },
     "inputWidgets": {},
     "nuid": "40bc1822-adf9-47bc-a254-b8220372ad94",
     "showTitle": false,
     "tableResultSettingsMap": {},
     "title": ""
    }
   },
   "outputs": [
    {
     "output_type": "display_data",
     "data": {
      "text/html": [
       "<style scoped>\n",
       "  .table-result-container {\n",
       "    max-height: 300px;\n",
       "    overflow: auto;\n",
       "  }\n",
       "  table, th, td {\n",
       "    border: 1px solid black;\n",
       "    border-collapse: collapse;\n",
       "  }\n",
       "  th, td {\n",
       "    padding: 5px;\n",
       "  }\n",
       "  th {\n",
       "    text-align: left;\n",
       "  }\n",
       "</style><div class='table-result-container'><table class='table-result'><thead style='background-color: white'><tr><th>Branch_ID</th><th>Dealer_ID</th><th>Model_ID</th><th>Revenue</th><th>Units_Sold</th><th>Date_ID</th><th>Day</th><th>Month</th><th>Year</th><th>BranchName</th><th>DealerName</th><th>Product_Name</th><th>Model_Category</th><th>ItemPrice</th></tr></thead><tbody><tr><td>BR9546</td><td>DLR0060</td><td>Jee-M10</td><td>7223451</td><td>1</td><td>DT01246</td><td>28</td><td>5</td><td>2020</td><td>Premier Motors</td><td>Fisker, Karma Motors</td><td>Jeep</td><td>Jee</td><td>7223451.0</td></tr><tr><td>BR9666</td><td>DLR0062</td><td>Jee-M12</td><td>22093020</td><td>3</td><td>DT01246</td><td>30</td><td>5</td><td>2020</td><td>Puma Motors</td><td>Ford Australia Motors</td><td>Jeep</td><td>Jee</td><td>7364340.0</td></tr><tr><td>BR9726</td><td>DLR0063</td><td>Jee-M13</td><td>22372413</td><td>3</td><td>DT01247</td><td>31</td><td>5</td><td>2020</td><td>Power Ranger Motors</td><td>Ford do Brasil Motors</td><td>Jeep</td><td>Jee</td><td>7457471.0</td></tr><tr><td>XYZ9726</td><td>XYZ0063</td><td>ZYXM13</td><td>22372413</td><td>3</td><td>DT01247</td><td>31</td><td>5</td><td>2020</td><td>DataFam Motors</td><td>Datafam Dealers</td><td>Surprise</td><td>ZYXM13</td><td>7457471.0</td></tr></tbody></table></div>"
      ]
     },
     "metadata": {
      "application/vnd.databricks.v1+output": {
       "addedWidgets": {},
       "aggData": [],
       "aggError": "",
       "aggOverflow": false,
       "aggSchema": [],
       "aggSeriesLimitReached": false,
       "aggType": "",
       "arguments": {},
       "columnCustomDisplayInfos": {},
       "data": [
        [
         "BR9546",
         "DLR0060",
         "Jee-M10",
         7223451,
         1,
         "DT01246",
         28,
         5,
         2020,
         "Premier Motors",
         "Fisker, Karma Motors",
         "Jeep",
         "Jee",
         7223451.0
        ],
        [
         "BR9666",
         "DLR0062",
         "Jee-M12",
         22093020,
         3,
         "DT01246",
         30,
         5,
         2020,
         "Puma Motors",
         "Ford Australia Motors",
         "Jeep",
         "Jee",
         7364340.0
        ],
        [
         "BR9726",
         "DLR0063",
         "Jee-M13",
         22372413,
         3,
         "DT01247",
         31,
         5,
         2020,
         "Power Ranger Motors",
         "Ford do Brasil Motors",
         "Jeep",
         "Jee",
         7457471.0
        ],
        [
         "XYZ9726",
         "XYZ0063",
         "ZYXM13",
         22372413,
         3,
         "DT01247",
         31,
         5,
         2020,
         "DataFam Motors",
         "Datafam Dealers",
         "Surprise",
         "ZYXM13",
         7457471.0
        ]
       ],
       "datasetInfos": [],
       "dbfsResultPath": null,
       "isJsonSchema": true,
       "metadata": {
        "createTempViewForImplicitDf": true,
        "dataframeName": "_sqldf",
        "executionCount": 25
       },
       "overflow": false,
       "plotOptions": {
        "customPlotOptions": {},
        "displayType": "table",
        "pivotAggregation": null,
        "pivotColumns": null,
        "xColumns": null,
        "yColumns": null
       },
       "removedWidgets": [],
       "schema": [
        {
         "metadata": "{}",
         "name": "Branch_ID",
         "type": "\"string\""
        },
        {
         "metadata": "{}",
         "name": "Dealer_ID",
         "type": "\"string\""
        },
        {
         "metadata": "{}",
         "name": "Model_ID",
         "type": "\"string\""
        },
        {
         "metadata": "{}",
         "name": "Revenue",
         "type": "\"long\""
        },
        {
         "metadata": "{}",
         "name": "Units_Sold",
         "type": "\"long\""
        },
        {
         "metadata": "{}",
         "name": "Date_ID",
         "type": "\"string\""
        },
        {
         "metadata": "{}",
         "name": "Day",
         "type": "\"integer\""
        },
        {
         "metadata": "{}",
         "name": "Month",
         "type": "\"integer\""
        },
        {
         "metadata": "{}",
         "name": "Year",
         "type": "\"integer\""
        },
        {
         "metadata": "{}",
         "name": "BranchName",
         "type": "\"string\""
        },
        {
         "metadata": "{}",
         "name": "DealerName",
         "type": "\"string\""
        },
        {
         "metadata": "{}",
         "name": "Product_Name",
         "type": "\"string\""
        },
        {
         "metadata": "{}",
         "name": "Model_Category",
         "type": "\"string\""
        },
        {
         "metadata": "{}",
         "name": "ItemPrice",
         "type": "\"double\""
        }
       ],
       "type": "table"
      }
     },
     "output_type": "display_data"
    }
   ],
   "source": [
    "%sql\n",
    "SELECT * FROM parquet.`abfss://projects@projectstorageaccount1.dfs.core.windows.net/curated/CAR SALES/`;"
   ]
  },
  {
   "cell_type": "markdown",
   "metadata": {
    "application/vnd.databricks.v1+cell": {
     "cellMetadata": {
      "byteLimit": 2048000,
      "rowLimit": 10000
     },
     "inputWidgets": {},
     "nuid": "13d2e90f-76b8-41a3-afed-ec9ddccce3dd",
     "showTitle": false,
     "tableResultSettingsMap": {},
     "title": ""
    }
   },
   "source": [
    "###Fetch related columns"
   ]
  },
  {
   "cell_type": "code",
   "execution_count": 0,
   "metadata": {
    "application/vnd.databricks.v1+cell": {
     "cellMetadata": {
      "byteLimit": 2048000,
      "implicitDf": true,
      "rowLimit": 10000
     },
     "inputWidgets": {},
     "nuid": "ac61d01e-0968-41a1-8564-b174616f650a",
     "showTitle": false,
     "tableResultSettingsMap": {},
     "title": ""
    }
   },
   "outputs": [],
   "source": [
    "branch_src_df = spark.sql('''\n",
    "                         SELECT DISTINCT Branch_ID, BranchName \n",
    "                         FROM parquet.`abfss://projects@projectstorageaccount1.dfs.core.windows.net/curated/CAR SALES/`;\n",
    "                         '''\n",
    "                        )\n"
   ]
  },
  {
   "cell_type": "code",
   "execution_count": 0,
   "metadata": {
    "application/vnd.databricks.v1+cell": {
     "cellMetadata": {
      "byteLimit": 2048000,
      "rowLimit": 10000
     },
     "inputWidgets": {},
     "nuid": "14431e8a-b916-4b67-a979-5edcb034a359",
     "showTitle": false,
     "tableResultSettingsMap": {},
     "title": ""
    }
   },
   "outputs": [
    {
     "output_type": "display_data",
     "data": {
      "text/html": [
       "<style scoped>\n",
       "  .table-result-container {\n",
       "    max-height: 300px;\n",
       "    overflow: auto;\n",
       "  }\n",
       "  table, th, td {\n",
       "    border: 1px solid black;\n",
       "    border-collapse: collapse;\n",
       "  }\n",
       "  th, td {\n",
       "    padding: 5px;\n",
       "  }\n",
       "  th {\n",
       "    text-align: left;\n",
       "  }\n",
       "</style><div class='table-result-container'><table class='table-result'><thead style='background-color: white'><tr><th>Branch_ID</th><th>BranchName</th></tr></thead><tbody><tr><td>BR9666</td><td>Puma Motors</td></tr><tr><td>BR9726</td><td>Power Ranger Motors</td></tr><tr><td>BR9546</td><td>Premier Motors</td></tr><tr><td>XYZ9726</td><td>DataFam Motors</td></tr></tbody></table></div>"
      ]
     },
     "metadata": {
      "application/vnd.databricks.v1+output": {
       "addedWidgets": {},
       "aggData": [],
       "aggError": "",
       "aggOverflow": false,
       "aggSchema": [],
       "aggSeriesLimitReached": false,
       "aggType": "",
       "arguments": {},
       "columnCustomDisplayInfos": {},
       "data": [
        [
         "BR9666",
         "Puma Motors"
        ],
        [
         "BR9726",
         "Power Ranger Motors"
        ],
        [
         "BR9546",
         "Premier Motors"
        ],
        [
         "XYZ9726",
         "DataFam Motors"
        ]
       ],
       "datasetInfos": [],
       "dbfsResultPath": null,
       "isJsonSchema": true,
       "metadata": {},
       "overflow": false,
       "plotOptions": {
        "customPlotOptions": {},
        "displayType": "table",
        "pivotAggregation": null,
        "pivotColumns": null,
        "xColumns": null,
        "yColumns": null
       },
       "removedWidgets": [],
       "schema": [
        {
         "metadata": "{}",
         "name": "Branch_ID",
         "type": "\"string\""
        },
        {
         "metadata": "{}",
         "name": "BranchName",
         "type": "\"string\""
        }
       ],
       "type": "table"
      }
     },
     "output_type": "display_data"
    }
   ],
   "source": [
    "branch_src_df.display()"
   ]
  },
  {
   "cell_type": "markdown",
   "metadata": {
    "application/vnd.databricks.v1+cell": {
     "cellMetadata": {
      "byteLimit": 2048000,
      "rowLimit": 10000
     },
     "inputWidgets": {},
     "nuid": "25f0d159-79ec-49c2-8b89-df998a087b1e",
     "showTitle": false,
     "tableResultSettingsMap": {},
     "title": ""
    }
   },
   "source": [
    "###Dim Branch sink - Initial and Incremental"
   ]
  },
  {
   "cell_type": "code",
   "execution_count": 0,
   "metadata": {
    "application/vnd.databricks.v1+cell": {
     "cellMetadata": {
      "byteLimit": 2048000,
      "implicitDf": true,
      "rowLimit": 10000
     },
     "inputWidgets": {},
     "nuid": "fabf63f0-fc0d-40d0-8168-cca62c22b4bf",
     "showTitle": false,
     "tableResultSettingsMap": {},
     "title": ""
    }
   },
   "outputs": [],
   "source": [
    "if spark.catalog.tableExists(\"car_sales_catalog.refined.dim_branch\"):\n",
    "    \n",
    "    branch_sink_df  = spark.sql('''\n",
    "                            SELECT Dim_Branch_Key, Branch_ID, BranchName\n",
    "                            FROM car_sales_catalog.refined.dim_branch\n",
    "                            '''\n",
    "                        )\n",
    "else:\n",
    "    branch_sink_df  = spark.sql('''\n",
    "                            SELECT 1 as Dim_Branch_Key, Branch_ID, BranchName \n",
    "                            FROM parquet.`abfss://projects@projectstorageaccount1.dfs.core.windows.net/curated/CAR SALES/`\n",
    "                            WHERE 1 = 0;\n",
    "                            '''\n",
    "                        )"
   ]
  },
  {
   "cell_type": "code",
   "execution_count": 0,
   "metadata": {
    "application/vnd.databricks.v1+cell": {
     "cellMetadata": {
      "byteLimit": 2048000,
      "rowLimit": 10000
     },
     "inputWidgets": {},
     "nuid": "b4a42940-ff51-478d-ba55-0b5555247125",
     "showTitle": false,
     "tableResultSettingsMap": {},
     "title": ""
    }
   },
   "outputs": [
    {
     "output_type": "display_data",
     "data": {
      "text/html": [
       "<style scoped>\n",
       "  .table-result-container {\n",
       "    max-height: 300px;\n",
       "    overflow: auto;\n",
       "  }\n",
       "  table, th, td {\n",
       "    border: 1px solid black;\n",
       "    border-collapse: collapse;\n",
       "  }\n",
       "  th, td {\n",
       "    padding: 5px;\n",
       "  }\n",
       "  th {\n",
       "    text-align: left;\n",
       "  }\n",
       "</style><div class='table-result-container'><table class='table-result'><thead style='background-color: white'><tr><th>Dim_Branch_Key</th><th>Branch_ID</th><th>BranchName</th></tr></thead><tbody><tr><td>1</td><td>BR0131</td><td>Audi Motors</td></tr><tr><td>2</td><td>BR0760</td><td>Healey Motors</td></tr><tr><td>3</td><td>BR0789</td><td>Hillman Motors</td></tr><tr><td>4</td><td>BR0938</td><td>Isotta Fraschini Motors</td></tr><tr><td>5</td><td>BR1040</td><td>Lada Motors</td></tr><tr><td>6</td><td>BR1693</td><td>Saleen Motors</td></tr><tr><td>7</td><td>BR1792</td><td>Simca do Brasil Motors</td></tr><tr><td>8</td><td>BR1799</td><td>Simca do Brasil Motors</td></tr><tr><td>9</td><td>BR1955</td><td>Toyota Motors</td></tr><tr><td>10</td><td>BR1978</td><td>Turner Motors</td></tr><tr><td>11</td><td>BR2068</td><td>Westfield Motors</td></tr><tr><td>12</td><td>BR2332</td><td>Bohn Motor Company Automobile Dealership</td></tr><tr><td>13</td><td>BR0151</td><td>Auto-Union Motors</td></tr><tr><td>14</td><td>BR0409</td><td>DAF Motors</td></tr><tr><td>15</td><td>BR0434</td><td>Datsun Motors</td></tr><tr><td>16</td><td>BR0599</td><td>Fisker, Karma Motors</td></tr><tr><td>17</td><td>BR0753</td><td>Healey Motors</td></tr><tr><td>18</td><td>BR1143</td><td>Mahindra Motors</td></tr><tr><td>19</td><td>BR12246</td><td>Volkswagen South Africa Motors</td></tr><tr><td>20</td><td>BR1233</td><td>McLaren Motors</td></tr><tr><td>21</td><td>BR1558</td><td>Plymouth Motors</td></tr><tr><td>22</td><td>BR1795</td><td>Simca do Brasil Motors</td></tr><tr><td>23</td><td>BR1847</td><td>SsangYong Motors</td></tr><tr><td>24</td><td>BR1943</td><td>Tornado Motors</td></tr><tr><td>25</td><td>BR2054</td><td>Volvo Motors</td></tr><tr><td>26</td><td>BR2063</td><td>Westfield Motors</td></tr><tr><td>27</td><td>BR0019</td><td>Acura Motors</td></tr><tr><td>28</td><td>BR0145</td><td>Autobianchi Motors</td></tr><tr><td>29</td><td>BR0913</td><td>Isdera Motors</td></tr><tr><td>30</td><td>BR1340</td><td>Monteverdi Motors</td></tr><tr><td>31</td><td>BR1630</td><td>Ranger Motors</td></tr><tr><td>32</td><td>BR1865</td><td>Studebaker Motors</td></tr><tr><td>33</td><td>BR2139</td><td>Horch Motors</td></tr><tr><td>34</td><td>BR0274</td><td>Buick Motors</td></tr><tr><td>35</td><td>BR0308</td><td>Caterham Motors</td></tr><tr><td>36</td><td>BR0399</td><td>Daewoo, Saehan, Chevrolet Korea Motors</td></tr><tr><td>37</td><td>BR0471</td><td>De Tomaso Motors</td></tr><tr><td>38</td><td>BR0731</td><td>GTA Spano Motors</td></tr><tr><td>39</td><td>BR0759</td><td>Healey Motors</td></tr><tr><td>40</td><td>BR1383</td><td>Nissan Motors</td></tr><tr><td>41</td><td>BR1664</td><td>Rolls-Royce Motors</td></tr><tr><td>42</td><td>BR1769</td><td>Seat Motors</td></tr><tr><td>43</td><td>BR2262</td><td>Ramani Motors</td></tr><tr><td>44</td><td>BR2352</td><td>Cadillac Automobile Company Building</td></tr><tr><td>45</td><td>BR0114</td><td>Asia Motors Motors</td></tr><tr><td>46</td><td>BR0462</td><td>DeSoto Motors</td></tr><tr><td>47</td><td>BR0699</td><td>Gilbern Motors</td></tr><tr><td>48</td><td>BR0793</td><td>Hindustan Motors</td></tr><tr><td>49</td><td>BR1479</td><td>Panhard Motors</td></tr><tr><td>50</td><td>BR2275</td><td>Deccan Motors</td></tr><tr><td>51</td><td>BR0138</td><td>Audi Motors</td></tr><tr><td>52</td><td>BR0202</td><td>Bond Motors</td></tr><tr><td>53</td><td>BR0700</td><td>Gilbern Motors</td></tr><tr><td>54</td><td>BR0988</td><td>Jensen Motors</td></tr><tr><td>55</td><td>BR9246</td><td>Piaggio Motors</td></tr><tr><td>56</td><td>BR0095</td><td>ARO Motors</td></tr><tr><td>57</td><td>BR0351</td><td>Chrysler Europe Motors</td></tr><tr><td>58</td><td>BR0368</td><td>Citroën Motors</td></tr><tr><td>59</td><td>BR0614</td><td>Ford Australia Motors</td></tr><tr><td>60</td><td>BR1248</td><td>Mercedes-Benz (including Maybach) Motors</td></tr><tr><td>61</td><td>BR1884</td><td>Sunbeam Motors</td></tr><tr><td>62</td><td>BR2035</td><td>Volkswagen do Brasil Motors</td></tr><tr><td>63</td><td>BR0070</td><td>AMC, Eagle Motors</td></tr><tr><td>64</td><td>BR0251</td><td>Austin, Rover Motors</td></tr><tr><td>65</td><td>BR0262</td><td>Bugatti Motors</td></tr><tr><td>66</td><td>BR1243</td><td>Mercedes-Benz (including Maybach) Motors</td></tr><tr><td>67</td><td>BR1289</td><td>Mia Motors</td></tr><tr><td>68</td><td>BR1405</td><td>Noble Motors</td></tr><tr><td>69</td><td>BR2033</td><td>Volkswagen do Brasil Motors</td></tr><tr><td>70</td><td>BR2329</td><td>Blankinship Motor Company Building</td></tr><tr><td>71</td><td>BR2385</td><td>Claremore Auto Dealership</td></tr><tr><td>72</td><td>BR0130</td><td>Aston Martin Motors</td></tr><tr><td>73</td><td>BR0891</td><td>Innocenti Motors</td></tr><tr><td>74</td><td>BR1177</td><td>Maruti Motors</td></tr><tr><td>75</td><td>BR1321</td><td>Monica Motors</td></tr><tr><td>76</td><td>BR13626</td><td>Deccan Motors</td></tr><tr><td>77</td><td>BR0064</td><td>AMC, Eagle Motors</td></tr><tr><td>78</td><td>BR0673</td><td>GAZ Motors</td></tr><tr><td>79</td><td>BR0685</td><td>Geo Motors</td></tr><tr><td>80</td><td>BR0718</td><td>Glas Motors</td></tr><tr><td>81</td><td>BR1298</td><td>Micro Motors</td></tr><tr><td>82</td><td>BR1300</td><td>Micro Motors</td></tr><tr><td>83</td><td>BR1347</td><td>Morgan Motors</td></tr><tr><td>84</td><td>BR1373</td><td>Naza Motors</td></tr><tr><td>85</td><td>BR2337</td><td>Bohn Motor Company Automobile Dealership</td></tr><tr><td>86</td><td>BR0231</td><td>British Leyland Motors</td></tr><tr><td>87</td><td>BR0895</td><td>Innocenti Motors</td></tr><tr><td>88</td><td>BR1228</td><td>Mazzanti Motors</td></tr><tr><td>89</td><td>BR1617</td><td>Puma Motors</td></tr><tr><td>90</td><td>BR1637</td><td>Reliant Motors</td></tr><tr><td>91</td><td>BR1680</td><td>Saab Motors</td></tr><tr><td>92</td><td>BR1821</td><td>Smart Motors</td></tr><tr><td>93</td><td>BR1940</td><td>Tesla Motors</td></tr><tr><td>94</td><td>BR2391</td><td>Clemens Automobile Company Building</td></tr><tr><td>95</td><td>BR2467</td><td>Kindel Building</td></tr><tr><td>96</td><td>BR3186</td><td>Elva Motors</td></tr><tr><td>97</td><td>BR5466</td><td>Isdera Motors</td></tr><tr><td>98</td><td>BR9126</td><td>Peugeot Motors</td></tr><tr><td>99</td><td>BR0104</td><td>Artega Motors</td></tr><tr><td>100</td><td>BR0354</td><td>Chrysler Europe Motors</td></tr><tr><td>101</td><td>BR0494</td><td>Donkervoort Motors</td></tr><tr><td>102</td><td>BR0528</td><td>Eicher Polaris Motors</td></tr><tr><td>103</td><td>BR1074</td><td>Lexus Motors</td></tr><tr><td>104</td><td>BR1503</td><td>Peel Motors</td></tr><tr><td>105</td><td>BR1718</td><td>San Motors</td></tr><tr><td>106</td><td>BR1864</td><td>Studebaker Motors</td></tr><tr><td>107</td><td>BR1993</td><td>UAZ Motors</td></tr><tr><td>108</td><td>BR2217</td><td>Riley  Motors</td></tr><tr><td>109</td><td>BR0682</td><td>Geo Motors</td></tr><tr><td>110</td><td>BR0905</td><td>Invicta Motors</td></tr><tr><td>111</td><td>BR10686</td><td>Simca Motors</td></tr><tr><td>112</td><td>BR1325</td><td>Monica Motors</td></tr><tr><td>113</td><td>BR1568</td><td>Polestar Motors</td></tr><tr><td>114</td><td>BR1822</td><td>Smart Motors</td></tr><tr><td>115</td><td>BR2154</td><td>Maybach  Motors</td></tr><tr><td>116</td><td>BR0011</td><td>Acura Motors</td></tr><tr><td>117</td><td>BR0115</td><td>Asia Motors Motors</td></tr><tr><td>118</td><td>BR0223</td><td>Bristol Motors</td></tr><tr><td>119</td><td>BR0490</td><td>Dodge Motors</td></tr><tr><td>120</td><td>BR0625</td><td>Ford do Brasil Motors</td></tr><tr><td>121</td><td>BR1111</td><td>LTI Motors</td></tr><tr><td>122</td><td>BR1829</td><td>Smart Motors</td></tr><tr><td>123</td><td>BR2277</td><td>Deccan Motors</td></tr><tr><td>124</td><td>BR2369</td><td>Casa de cadillac</td></tr><tr><td>125</td><td>BR6066</td><td>Koenigsegg Motors</td></tr><tr><td>126</td><td>BR0512</td><td>e.GO Mobile Motors</td></tr><tr><td>127</td><td>BR0584</td><td>Fiat India Motors</td></tr><tr><td>128</td><td>BR1691</td><td>Saleen Motors</td></tr><tr><td>129</td><td>BR1845</td><td>SsangYong Motors</td></tr><tr><td>130</td><td>BR1932</td><td>Tesla Motors</td></tr><tr><td>131</td><td>BR0360</td><td>Chrysler Europe Motors</td></tr><tr><td>132</td><td>BR0388</td><td>Dacia Motors</td></tr><tr><td>133</td><td>BR0486</td><td>Ariel Motors</td></tr><tr><td>134</td><td>BR0811</td><td>Honda Motors</td></tr><tr><td>135</td><td>BR1105</td><td>Lotus Motors</td></tr><tr><td>136</td><td>BR1762</td><td>Seat Motors</td></tr><tr><td>137</td><td>BR1768</td><td>Seat Motors</td></tr><tr><td>138</td><td>BR1960</td><td>Toyota Motors</td></tr><tr><td>139</td><td>BR2322</td><td>Blankinship Motor Company Building</td></tr><tr><td>140</td><td>BR2412</td><td>H Street Playhouse</td></tr><tr><td>141</td><td>BR2440</td><td>Hupmobile Building</td></tr><tr><td>142</td><td>BR0058</td><td>Alvis Motors</td></tr><tr><td>143</td><td>BR0447</td><td>Delahaye Motors</td></tr><tr><td>144</td><td>BR0479</td><td>De Tomaso Motors</td></tr><tr><td>145</td><td>BR0501</td><td>Edsel Motors</td></tr><tr><td>146</td><td>BR0919</td><td>Isdera Motors</td></tr><tr><td>147</td><td>BR1152</td><td>Marcos Motors</td></tr><tr><td>148</td><td>BR2289</td><td>Herald Motors</td></tr><tr><td>149</td><td>BR9426</td><td>Pontiac, Asüna Motors</td></tr><tr><td>150</td><td>BR0027</td><td>Aixam-Mega (including Arola) Motors</td></tr><tr><td>151</td><td>BR0411</td><td>Daihatsu Motors</td></tr><tr><td>152</td><td>BR1140</td><td>Lynx Motors</td></tr><tr><td>153</td><td>BR2087</td><td>Zastava Motors</td></tr><tr><td>154</td><td>BR2155</td><td>Maybach  Motors</td></tr><tr><td>155</td><td>BR2233</td><td>Standard  Motors</td></tr><tr><td>156</td><td>BR5406</td><td>Invicta Motors</td></tr><tr><td>157</td><td>BR0463</td><td>DeSoto Motors</td></tr><tr><td>158</td><td>BR0606</td><td>Artega Motors</td></tr><tr><td>159</td><td>BR0662</td><td>FSO Motors</td></tr><tr><td>160</td><td>BR1180</td><td>Maruti Motors</td></tr><tr><td>161</td><td>BR1380</td><td>Naza Motors</td></tr><tr><td>162</td><td>BR13986</td><td>Bohn Motor Company Automobile Dealership</td></tr><tr><td>163</td><td>BR1553</td><td>Plymouth Motors</td></tr><tr><td>164</td><td>BR1789</td><td>Simca Motors</td></tr><tr><td>165</td><td>BR1957</td><td>Toyota Motors</td></tr><tr><td>166</td><td>BR2025</td><td>Volkswagen Motors</td></tr><tr><td>167</td><td>BR2100</td><td>ZAZ Motors</td></tr><tr><td>168</td><td>BR2378</td><td>Cass Motor Sales</td></tr><tr><td>169</td><td>BR0089</td><td>Ariel Motors</td></tr><tr><td>170</td><td>BR0608</td><td>Ford America Motors</td></tr><tr><td>171</td><td>BR0941</td><td>Isuzu Motors</td></tr><tr><td>172</td><td>BR1273</td><td>Messerschmitt Motors</td></tr><tr><td>173</td><td>BR1860</td><td>Standard-Triumph Motors</td></tr><tr><td>174</td><td>BR1888</td><td>Sunbeam Motors</td></tr><tr><td>175</td><td>BR2142</td><td>Wanderer Motors</td></tr><tr><td>176</td><td>BR2319</td><td>2008 NRHP-listed</td></tr><tr><td>177</td><td>BR0264</td><td>Bugatti Motors</td></tr><tr><td>178</td><td>BR0498</td><td>Donkervoort Motors</td></tr><tr><td>179</td><td>BR0829</td><td>Honda India Motors</td></tr><tr><td>180</td><td>BR0890</td><td>Infiniti Motors</td></tr><tr><td>181</td><td>BR1044</td><td>Lamborghini Motors</td></tr><tr><td>182</td><td>BR13746</td><td>Zion Automobils</td></tr><tr><td>183</td><td>BR1398</td><td>Nissan India Motors</td></tr><tr><td>184</td><td>BR1877</td><td>Subaru Motors</td></tr><tr><td>185</td><td>BR1927</td><td>Tazzari Motors</td></tr><tr><td>186</td><td>BR2410</td><td>Colman Automotive Building</td></tr><tr><td>187</td><td>BR0534</td><td>Elva Motors</td></tr><tr><td>188</td><td>BR1442</td><td>Opel Motors</td></tr><tr><td>189</td><td>BR1722</td><td>Santa Matilde Motors</td></tr><tr><td>190</td><td>BR1990</td><td>TVR Motors</td></tr><tr><td>191</td><td>BR2070</td><td>Westfield Motors</td></tr><tr><td>192</td><td>BR2204</td><td>Austin  Motors</td></tr><tr><td>193</td><td>BR0204</td><td>Bond Motors</td></tr><tr><td>194</td><td>BR0717</td><td>Glas Motors</td></tr><tr><td>195</td><td>BR0947</td><td>Isuzu Motors</td></tr><tr><td>196</td><td>BR0983</td><td>Jensen Motors</td></tr><tr><td>197</td><td>BR1003</td><td>Kia Motors</td></tr><tr><td>198</td><td>BR11706</td><td>Toyota Motors</td></tr><tr><td>199</td><td>BR1232</td><td>McLaren Motors</td></tr><tr><td>200</td><td>BR1688</td><td>SAIC Motor Motors</td></tr><tr><td>201</td><td>BR1809</td><td>Singer Motors</td></tr><tr><td>202</td><td>BR1968</td><td>Toyota India Motors</td></tr><tr><td>203</td><td>BR2018</td><td>Venturi Motors</td></tr><tr><td>204</td><td>BR2022</td><td>Volkswagen Motors</td></tr><tr><td>205</td><td>BR2226</td><td>Cizeta-Moroder Motors</td></tr><tr><td>206</td><td>BR0235</td><td>British Leyland Motors</td></tr><tr><td>207</td><td>BR0634</td><td>Ford Europe Motors</td></tr><tr><td>208</td><td>BR0889</td><td>Infiniti Motors</td></tr><tr><td>209</td><td>BR1318</td><td>Mitsubishi Motors</td></tr><tr><td>210</td><td>BR1626</td><td>Buick Motors</td></tr><tr><td>211</td><td>BR2267</td><td>Ramani Motors</td></tr><tr><td>212</td><td>BR0591</td><td>Fisker, Karma Motors</td></tr><tr><td>213</td><td>BR0642</td><td>Ford India Motors</td></tr><tr><td>214</td><td>BR0930</td><td>Iso Motors</td></tr><tr><td>215</td><td>BR1027</td><td>KTM Motors</td></tr><tr><td>216</td><td>BR1065</td><td>Land Rover Motors</td></tr><tr><td>217</td><td>BR1382</td><td>Nissan Motors</td></tr><tr><td>218</td><td>BR1749</td><td>Saturn Motors</td></tr><tr><td>219</td><td>BR2433</td><td>Hupmobile Building</td></tr><tr><td>220</td><td>BR8406</td><td>Noble Motors</td></tr><tr><td>221</td><td>BR0040</td><td>Alfa Romeo Motors</td></tr><tr><td>222</td><td>BR0218</td><td>Borgward (including Goliath and Lloyd) Motors</td></tr><tr><td>223</td><td>BR0337</td><td>Chevrolet India Motors</td></tr><tr><td>224</td><td>BR1162</td><td>Marlin Motors</td></tr><tr><td>225</td><td>BR0082</td><td>Ariel Motors</td></tr><tr><td>226</td><td>BR0164</td><td>Auverland Motors</td></tr><tr><td>227</td><td>BR0598</td><td>Fisker, Karma Motors</td></tr><tr><td>228</td><td>BR0735</td><td>GTA Spano Motors</td></tr><tr><td>229</td><td>BR1063</td><td>Land Rover Motors</td></tr><tr><td>230</td><td>BR1579</td><td>Pontiac, Asüna Motors</td></tr><tr><td>231</td><td>BR2149</td><td>Wanderer Motors</td></tr><tr><td>232</td><td>BR2168</td><td>Izh  Motors</td></tr><tr><td>233</td><td>BR0279</td><td>Buick Motors</td></tr><tr><td>234</td><td>BR0884</td><td>Infiniti Motors</td></tr><tr><td>235</td><td>BR1048</td><td>Lamborghini Motors</td></tr><tr><td>236</td><td>BR1094</td><td>Lincoln Motors</td></tr><tr><td>237</td><td>BR1292</td><td>Micro Motors</td></tr><tr><td>238</td><td>BR1323</td><td>Monica Motors</td></tr><tr><td>239</td><td>BR1395</td><td>Nissan India Motors</td></tr><tr><td>240</td><td>BR1424</td><td>Oldsmobile Motors</td></tr><tr><td>241</td><td>BR1477</td><td>Panhard Motors</td></tr><tr><td>242</td><td>BR1670</td><td>Rolls-Royce Motors</td></tr><tr><td>243</td><td>BR1708</td><td>Samsung Motors</td></tr><tr><td>244</td><td>BR2039</td><td>Volkswagen do Brasil Motors</td></tr><tr><td>245</td><td>BR2404</td><td>Colman Automotive Building</td></tr><tr><td>246</td><td>BR0270</td><td>Bugatti Motors</td></tr><tr><td>247</td><td>BR0275</td><td>Buick Motors</td></tr><tr><td>248</td><td>BR0378</td><td>Cizeta-Moroder Motors</td></tr><tr><td>249</td><td>BR0405</td><td>DAF Motors</td></tr><tr><td>250</td><td>BR0592</td><td>Fisker, Karma Motors</td></tr><tr><td>251</td><td>BR0881</td><td>Infiniti Motors</td></tr><tr><td>252</td><td>BR0963</td><td>Jaguar Motors</td></tr><tr><td>253</td><td>BR1320</td><td>Mitsubishi Motors</td></tr><tr><td>254</td><td>BR1531</td><td>PGO Motors</td></tr><tr><td>255</td><td>BR1612</td><td>Puma Motors</td></tr><tr><td>256</td><td>BR1873</td><td>Subaru Motors</td></tr><tr><td>257</td><td>BR2077</td><td>Wiesmann Motors</td></tr><tr><td>258</td><td>BR2143</td><td>Wanderer Motors</td></tr><tr><td>259</td><td>BR2223</td><td>Wolseley  Motors</td></tr><tr><td>260</td><td>BR0509</td><td>Edsel Motors</td></tr><tr><td>261</td><td>BR1267</td><td>Merkur Motors</td></tr><tr><td>262</td><td>BR2225</td><td>Wolseley  Motors</td></tr><tr><td>263</td><td>BR0168</td><td>Auverland Motors</td></tr><tr><td>264</td><td>BR0318</td><td>Checker Motors</td></tr><tr><td>265</td><td>BR0362</td><td>Citroën Motors</td></tr><tr><td>266</td><td>BR0562</td><td>Fiat Motors</td></tr><tr><td>267</td><td>BR0738</td><td>GTA Spano Motors</td></tr><tr><td>268</td><td>BR0805</td><td>Holden Motors</td></tr><tr><td>269</td><td>BR0934</td><td>Isotta Fraschini Motors</td></tr><tr><td>270</td><td>BR1051</td><td>Lancia Motors</td></tr><tr><td>271</td><td>BR11466</td><td>Tatra Motors</td></tr><tr><td>272</td><td>BR1192</td><td>Mastretta Motors</td></tr><tr><td>273</td><td>BR1746</td><td>Cadillac Motors</td></tr><tr><td>274</td><td>BR1830</td><td>Smart Motors</td></tr><tr><td>275</td><td>BR2297</td><td>Zion Automobils</td></tr><tr><td>276</td><td>BR8046</td><td>Morgan Motors</td></tr><tr><td>277</td><td>BR0037</td><td>Alfa Romeo Motors</td></tr><tr><td>278</td><td>BR0268</td><td>Bugatti Motors</td></tr><tr><td>279</td><td>BR0367</td><td>Citroën Motors</td></tr><tr><td>280</td><td>BR1212</td><td>Mazda Motors</td></tr><tr><td>281</td><td>BR13806</td><td>Atlantic Motor Company</td></tr><tr><td>282</td><td>BR1491</td><td>Panther Motors</td></tr><tr><td>283</td><td>BR1750</td><td>Saturn Motors</td></tr><tr><td>284</td><td>BR1820</td><td>Skoda Motors</td></tr><tr><td>285</td><td>BR2037</td><td>Volkswagen do Brasil Motors</td></tr><tr><td>286</td><td>BR2248</td><td>Talbot  Motors</td></tr><tr><td>287</td><td>BR2280</td><td>Deccan Motors</td></tr><tr><td>288</td><td>BR7926</td><td>Monica Motors</td></tr><tr><td>289</td><td>BR1149</td><td>Mahindra Motors</td></tr><tr><td>290</td><td>BR1449</td><td>Opel Motors</td></tr><tr><td>291</td><td>BR6786</td><td>Lynx Motors</td></tr><tr><td>292</td><td>BR0059</td><td>Alvis Motors</td></tr><tr><td>293</td><td>BR0497</td><td>Donkervoort Motors</td></tr><tr><td>294</td><td>BR0561</td><td>Fiat Motors</td></tr><tr><td>295</td><td>BR0933</td><td>Isotta Fraschini Motors</td></tr><tr><td>296</td><td>BR1164</td><td>Marlin Motors</td></tr><tr><td>297</td><td>BR11946</td><td>UAZ Motors</td></tr><tr><td>298</td><td>BR1399</td><td>Nissan India Motors</td></tr><tr><td>299</td><td>BR1414</td><td>NSU Motors</td></tr><tr><td>300</td><td>BR1935</td><td>Tesla Motors</td></tr><tr><td>301</td><td>BR2210</td><td>Austin  Motors</td></tr><tr><td>302</td><td>BR3306</td><td>Ferrari Motors</td></tr><tr><td>303</td><td>BR3546</td><td>Fisker, Karma Motors</td></tr><tr><td>304</td><td>BR0075</td><td>Anadol Motors</td></tr><tr><td>305</td><td>BR0135</td><td>Audi Motors</td></tr><tr><td>306</td><td>BR0163</td><td>Auverland Motors</td></tr><tr><td>307</td><td>BR0491</td><td>Donkervoort Motors</td></tr><tr><td>308</td><td>BR0647</td><td>Ford India Motors</td></tr><tr><td>309</td><td>BR0765</td><td>Heinkel Motors</td></tr><tr><td>310</td><td>BR10206</td><td>Samsung Motors</td></tr><tr><td>311</td><td>BR1353</td><td>Moskwitch Motors</td></tr><tr><td>312</td><td>BR1561</td><td>Polestar Motors</td></tr><tr><td>313</td><td>BR1828</td><td>Smart Motors</td></tr><tr><td>314</td><td>BR2062</td><td>Westfield Motors</td></tr><tr><td>315</td><td>BR2084</td><td>Zastava Motors</td></tr><tr><td>316</td><td>BR2383</td><td>Claremore Auto Dealership</td></tr><tr><td>317</td><td>BR0451</td><td>DeLorean Motors</td></tr><tr><td>318</td><td>BR0701</td><td>Ginetta Motors</td></tr><tr><td>319</td><td>BR0786</td><td>Audi Motors</td></tr><tr><td>320</td><td>BR1293</td><td>Micro Motors</td></tr><tr><td>321</td><td>BR2191</td><td>Morris  Motors</td></tr><tr><td>322</td><td>BR4146</td><td>Gilbern Motors</td></tr><tr><td>323</td><td>BR0285</td><td>Bytom Motors</td></tr><tr><td>324</td><td>BR0525</td><td>Eicher Polaris Motors</td></tr><tr><td>325</td><td>BR0714</td><td>Glas Motors</td></tr><tr><td>326</td><td>BR1452</td><td>Packard Motors</td></tr><tr><td>327</td><td>BR1660</td><td>Rivian Motors</td></tr><tr><td>328</td><td>BR2244</td><td>Talbot  Motors</td></tr><tr><td>329</td><td>BR5646</td><td>Isuzu Motors</td></tr><tr><td>330</td><td>BR0575</td><td>Fiat do Brasil Motors</td></tr><tr><td>331</td><td>BR0803</td><td>Holden Motors</td></tr><tr><td>332</td><td>BR1195</td><td>Mastretta Motors</td></tr><tr><td>333</td><td>BR1279</td><td>Messerschmitt Motors</td></tr><tr><td>334</td><td>BR1844</td><td>SsangYong Motors</td></tr><tr><td>335</td><td>BR2221</td><td>Wolseley  Motors</td></tr><tr><td>336</td><td>BR0553</td><td>Ferrari Motors</td></tr><tr><td>337</td><td>BR0579</td><td>Fiat do Brasil Motors</td></tr><tr><td>338</td><td>BR0841</td><td>Humber Motors</td></tr><tr><td>339</td><td>BR1045</td><td>Lamborghini Motors</td></tr><tr><td>340</td><td>BR1112</td><td>LTI Motors</td></tr><tr><td>341</td><td>BR12186</td><td>Volkswagen do Brasil Motors</td></tr><tr><td>342</td><td>BR12366</td><td>Westfield Motors</td></tr><tr><td>343</td><td>BR1460</td><td>Packard Motors</td></tr><tr><td>344</td><td>BR1597</td><td>Premier Motors</td></tr><tr><td>345</td><td>BR2192</td><td>Morris  Motors</td></tr><tr><td>346</td><td>BR0158</td><td>Auto-Union Motors</td></tr><tr><td>347</td><td>BR0243</td><td>Austin-Healey Motors</td></tr><tr><td>348</td><td>BR0298</td><td>Cadillac Motors</td></tr><tr><td>349</td><td>BR0771</td><td>Hennessey Motors</td></tr><tr><td>350</td><td>BR0857</td><td>Hummer Motors</td></tr><tr><td>351</td><td>BR1155</td><td>Marcos Motors</td></tr><tr><td>352</td><td>BR12786</td><td>Horch Motors</td></tr><tr><td>353</td><td>BR12966</td><td>Izh  Motors</td></tr><tr><td>354</td><td>BR2185</td><td>MG  Motors</td></tr><tr><td>355</td><td>BR7446</td><td>Mercedes-Benz (including Maybach) Motors</td></tr><tr><td>356</td><td>BR0172</td><td>Bentley Motors</td></tr><tr><td>357</td><td>BR0392</td><td>Daewoo, Saehan, Chevrolet Korea Motors</td></tr><tr><td>358</td><td>BR0943</td><td>Isuzu Motors</td></tr><tr><td>359</td><td>BR1047</td><td>Lamborghini Motors</td></tr><tr><td>360</td><td>BR14706</td><td>Jones Motor Company</td></tr><tr><td>361</td><td>BR1598</td><td>Premier Motors</td></tr><tr><td>362</td><td>BR1755</td><td>Scion Motors</td></tr><tr><td>363</td><td>BR2005</td><td>Vauxhall Motors</td></tr><tr><td>364</td><td>BR2188</td><td>MG  Motors</td></tr><tr><td>365</td><td>BR0017</td><td>Acura Motors</td></tr><tr><td>366</td><td>BR0651</td><td>Freightliner Motors</td></tr><tr><td>367</td><td>BR0900</td><td>Innocenti Motors</td></tr><tr><td>368</td><td>BR1288</td><td>Mia Motors</td></tr><tr><td>369</td><td>BR1330</td><td>Monica Motors</td></tr><tr><td>370</td><td>BR1390</td><td>Nissan Motors</td></tr><tr><td>371</td><td>BR1862</td><td>Studebaker Motors</td></tr><tr><td>372</td><td>BR1871</td><td>Subaru Motors</td></tr><tr><td>373</td><td>BR1939</td><td>Tesla Motors</td></tr><tr><td>374</td><td>BR1951</td><td>Toyota Motors</td></tr><tr><td>375</td><td>BR2083</td><td>Zastava Motors</td></tr><tr><td>376</td><td>BR2415</td><td>H Street Playhouse</td></tr><tr><td>377</td><td>BR4086</td><td>Geo Motors</td></tr><tr><td>378</td><td>BR0708</td><td>Ginetta Motors</td></tr><tr><td>379</td><td>BR0801</td><td>Holden Motors</td></tr><tr><td>380</td><td>BR1220</td><td>Mazda Motors</td></tr><tr><td>381</td><td>BR1369</td><td>Nash Motors</td></tr><tr><td>382</td><td>BR1384</td><td>Nissan Motors</td></tr><tr><td>383</td><td>BR1464</td><td>Pagani Motors</td></tr><tr><td>384</td><td>BR1778</td><td>Shelby SuperCars Motors</td></tr><tr><td>385</td><td>BR2097</td><td>ZAZ Motors</td></tr><tr><td>386</td><td>BR1438</td><td>Oltcit Motors</td></tr><tr><td>387</td><td>BR1461</td><td>Pagani Motors</td></tr><tr><td>388</td><td>BR1771</td><td>Shelby SuperCars Motors</td></tr><tr><td>389</td><td>BR2445</td><td>Jennings Ford Automobile Dealership</td></tr><tr><td>390</td><td>BR2449</td><td>Jennings Ford Automobile Dealership</td></tr><tr><td>391</td><td>BR2706</td><td>DeLorean Motors</td></tr><tr><td>392</td><td>BR0347</td><td>Chrysler Motors</td></tr><tr><td>393</td><td>BR0353</td><td>Chrysler Europe Motors</td></tr><tr><td>394</td><td>BR0604</td><td>Ford America Motors</td></tr><tr><td>395</td><td>BR0770</td><td>Heinkel Motors</td></tr><tr><td>396</td><td>BR1632</td><td>Reliant Motors</td></tr><tr><td>397</td><td>BR2420</td><td>H Street Playhouse</td></tr><tr><td>398</td><td>BR4986</td><td>Hudson Motors</td></tr><tr><td>399</td><td>BR0980</td><td>Jeep Motors</td></tr><tr><td>400</td><td>BR1861</td><td>Studebaker Motors</td></tr><tr><td>401</td><td>BR1991</td><td>UAZ Motors</td></tr><tr><td>402</td><td>BR2308</td><td>Atlantic Motor Company</td></tr><tr><td>403</td><td>BR2452</td><td>Jones Motor Company</td></tr><tr><td>404</td><td>BR6486</td><td>Ligier Motors</td></tr><tr><td>405</td><td>BR0225</td><td>Bristol Motors</td></tr><tr><td>406</td><td>BR0269</td><td>Bugatti Motors</td></tr><tr><td>407</td><td>BR0300</td><td>Cadillac Motors</td></tr><tr><td>408</td><td>BR0415</td><td>Daihatsu Motors</td></tr><tr><td>409</td><td>BR0732</td><td>GTA Spano Motors</td></tr><tr><td>410</td><td>BR0927</td><td>Iso Motors</td></tr><tr><td>411</td><td>BR1608</td><td>Proton Motors</td></tr><tr><td>412</td><td>BR1913</td><td>Tatra Motors</td></tr><tr><td>413</td><td>BR1917</td><td>Tatra Motors</td></tr><tr><td>414</td><td>BR2047</td><td>Volkswagen South Africa Motors</td></tr><tr><td>415</td><td>BR2179</td><td>Lagonda  Motors</td></tr><tr><td>416</td><td>BR2237</td><td>Standard  Motors</td></tr><tr><td>417</td><td>BR2946</td><td>Donkervoort Motors</td></tr><tr><td>418</td><td>BR0001</td><td>AC Cars Motors</td></tr><tr><td>419</td><td>BR0018</td><td>Acura Motors</td></tr><tr><td>420</td><td>BR0304</td><td>Caterham Motors</td></tr><tr><td>421</td><td>BR0407</td><td>DAF Motors</td></tr><tr><td>422</td><td>BR0960</td><td>Iveco Motors</td></tr><tr><td>423</td><td>BR0989</td><td>Jensen Motors</td></tr><tr><td>424</td><td>BR10326</td><td>Santa Matilde Motors</td></tr><tr><td>425</td><td>BR1418</td><td>NSU Motors</td></tr><tr><td>426</td><td>BR1600</td><td>Premier Motors</td></tr><tr><td>427</td><td>BR1757</td><td>Scion Motors</td></tr><tr><td>428</td><td>BR1931</td><td>Tesla Motors</td></tr><tr><td>429</td><td>BR2072</td><td>Wiesmann Motors</td></tr><tr><td>430</td><td>BR2117</td><td>Audi Motors</td></tr><tr><td>431</td><td>BR7746</td><td>Micro Motors</td></tr><tr><td>432</td><td>BR0013</td><td>Acura Motors</td></tr><tr><td>433</td><td>BR0182</td><td>Bitter Motors</td></tr><tr><td>434</td><td>BR0219</td><td>Borgward (including Goliath and Lloyd) Motors</td></tr><tr><td>435</td><td>BR0252</td><td>Austin, Rover Motors</td></tr><tr><td>436</td><td>BR0363</td><td>Citroën Motors</td></tr><tr><td>437</td><td>BR0792</td><td>Hindustan Motors</td></tr><tr><td>438</td><td>BR0877</td><td>IFA (including Trabant, Wartburg, Barkas) Motors</td></tr><tr><td>439</td><td>BR0888</td><td>Infiniti Motors</td></tr><tr><td>440</td><td>BR0972</td><td>Jeep Motors</td></tr><tr><td>441</td><td>BR12006</td><td>Vauxhall Motors</td></tr><tr><td>442</td><td>BR1547</td><td>Piaggio Motors</td></tr><tr><td>443</td><td>BR2061</td><td>Westfield Motors</td></tr><tr><td>444</td><td>BR2158</td><td>Maybach  Motors</td></tr><tr><td>445</td><td>BR2252</td><td>Das Motors</td></tr><tr><td>446</td><td>BR2377</td><td>Cass Motor Sales</td></tr><tr><td>447</td><td>BR0505</td><td>Edsel Motors</td></tr><tr><td>448</td><td>BR10986</td><td>Spyker Motors</td></tr><tr><td>449</td><td>BR1351</td><td>Moskwitch Motors</td></tr><tr><td>450</td><td>BR1549</td><td>Piaggio Motors</td></tr><tr><td>451</td><td>BR1604</td><td>Proton Motors</td></tr><tr><td>452</td><td>BR1677</td><td>Saab Motors</td></tr><tr><td>453</td><td>BR1840</td><td>Spyker Motors</td></tr><tr><td>454</td><td>BR1863</td><td>Studebaker Motors</td></tr><tr><td>455</td><td>BR1919</td><td>Tatra Motors</td></tr><tr><td>456</td><td>BR2147</td><td>Wanderer Motors</td></tr><tr><td>457</td><td>BR2160</td><td>Maybach  Motors</td></tr><tr><td>458</td><td>BR2293</td><td>Zion Automobils</td></tr><tr><td>459</td><td>BR2406</td><td>DAF Motors</td></tr><tr><td>460</td><td>BR8106</td><td>Moskwitch Motors</td></tr><tr><td>461</td><td>BR0531</td><td>Elva Motors</td></tr><tr><td>462</td><td>BR0691</td><td>Gilbern Motors</td></tr><tr><td>463</td><td>BR0828</td><td>Honda India Motors</td></tr><tr><td>464</td><td>BR10566</td><td>Seat Motors</td></tr><tr><td>465</td><td>BR1067</td><td>Land Rover Motors</td></tr><tr><td>466</td><td>BR1812</td><td>Skoda Motors</td></tr><tr><td>467</td><td>BR1910</td><td>Tata Motors</td></tr><tr><td>468</td><td>BR2291</td><td>Zion Automobils</td></tr><tr><td>469</td><td>BR7866</td><td>Mitsubishi Motors</td></tr><tr><td>470</td><td>BR1270</td><td>Merkur Motors</td></tr><tr><td>471</td><td>BR13926</td><td>Blankinship Motor Company Building</td></tr><tr><td>472</td><td>BR1984</td><td>TVR Motors</td></tr><tr><td>473</td><td>BR2050</td><td>Volkswagen South Africa Motors</td></tr><tr><td>474</td><td>BR2213</td><td>Riley  Motors</td></tr><tr><td>475</td><td>BR2360</td><td>Cadillac Automobile Company Building</td></tr><tr><td>476</td><td>BR2646</td><td>Delahaye Motors</td></tr><tr><td>477</td><td>BR5046</td><td>Humber Motors</td></tr><tr><td>478</td><td>BR0065</td><td>AMC, Eagle Motors</td></tr><tr><td>479</td><td>BR0313</td><td>Checker Motors</td></tr><tr><td>480</td><td>BR0393</td><td>Daewoo, Saehan, Chevrolet Korea Motors</td></tr><tr><td>481</td><td>BR0802</td><td>Holden Motors</td></tr><tr><td>482</td><td>BR1413</td><td>NSU Motors</td></tr><tr><td>483</td><td>BR1681</td><td>SAIC Motor Motors</td></tr><tr><td>484</td><td>BR1735</td><td>Santana Motors</td></tr><tr><td>485</td><td>BR1752</td><td>Scion Motors</td></tr><tr><td>486</td><td>BR2064</td><td>Westfield Motors</td></tr><tr><td>487</td><td>BR2125</td><td>DKW Motors</td></tr><tr><td>488</td><td>BR0189</td><td>Bitter Motors</td></tr><tr><td>489</td><td>BR0513</td><td>e.GO Mobile Motors</td></tr><tr><td>490</td><td>BR0544</td><td>Facel Vega Motors</td></tr><tr><td>491</td><td>BR0775</td><td>Hennessey Motors</td></tr><tr><td>492</td><td>BR1445</td><td>Opel Motors</td></tr><tr><td>493</td><td>BR1654</td><td>Rivian Motors</td></tr><tr><td>494</td><td>BR1743</td><td>Saturn Motors</td></tr><tr><td>495</td><td>BR2046</td><td>Chrysler Motors</td></tr><tr><td>496</td><td>BR2138</td><td>Horch Motors</td></tr><tr><td>497</td><td>BR0006</td><td>AC Cars Motors</td></tr><tr><td>498</td><td>BR0139</td><td>Audi Motors</td></tr><tr><td>499</td><td>BR0649</td><td>Ford India Motors</td></tr><tr><td>500</td><td>BR1050</td><td>Lamborghini Motors</td></tr><tr><td>501</td><td>BR1071</td><td>Lexus Motors</td></tr><tr><td>502</td><td>BR12486</td><td>Zastava Motors</td></tr><tr><td>503</td><td>BR1307</td><td>Mini Motors</td></tr><tr><td>504</td><td>BR1661</td><td>Rolls-Royce Motors</td></tr><tr><td>505</td><td>BR1832</td><td>Spyker Motors</td></tr><tr><td>506</td><td>BR1934</td><td>Tesla Motors</td></tr><tr><td>507</td><td>BR2065</td><td>Westfield Motors</td></tr><tr><td>508</td><td>BR2129</td><td>DKW Motors</td></tr><tr><td>509</td><td>BR2441</td><td>Jennings Ford Automobile Dealership</td></tr><tr><td>510</td><td>BR0153</td><td>Auto-Union Motors</td></tr><tr><td>511</td><td>BR0968</td><td>Jaguar Motors</td></tr><tr><td>512</td><td>BR11586</td><td>Tesla Motors</td></tr><tr><td>513</td><td>BR1255</td><td>Mercury Motors</td></tr><tr><td>514</td><td>BR1402</td><td>Noble Motors</td></tr><tr><td>515</td><td>BR1965</td><td>Toyota India Motors</td></tr><tr><td>516</td><td>BR1969</td><td>Toyota India Motors</td></tr><tr><td>517</td><td>BR2085</td><td>Zastava Motors</td></tr><tr><td>518</td><td>BR2288</td><td>Herald Motors</td></tr><tr><td>519</td><td>BR5706</td><td>Iveco Motors</td></tr><tr><td>520</td><td>BR0461</td><td>DeSoto Motors</td></tr><tr><td>521</td><td>BR0568</td><td>Fiat Motors</td></tr><tr><td>522</td><td>BR0666</td><td>Asia Motors Motors</td></tr><tr><td>523</td><td>BR0773</td><td>Hennessey Motors</td></tr><tr><td>524</td><td>BR0852</td><td>Hummer Motors</td></tr><tr><td>525</td><td>BR1322</td><td>Monica Motors</td></tr><tr><td>526</td><td>BR0032</td><td>Alfa Romeo Motors</td></tr><tr><td>527</td><td>BR0212</td><td>Borgward (including Goliath and Lloyd) Motors</td></tr><tr><td>528</td><td>BR0728</td><td>GMC Motors</td></tr><tr><td>529</td><td>BR0861</td><td>Hyundai Motors</td></tr><tr><td>530</td><td>BR0868</td><td>Hyundai Motors</td></tr><tr><td>531</td><td>BR0966</td><td>Auverland Motors</td></tr><tr><td>532</td><td>BR1182</td><td>Maserati Motors</td></tr><tr><td>533</td><td>BR0762</td><td>Heinkel Motors</td></tr><tr><td>534</td><td>BR13506</td><td>Das Motors</td></tr><tr><td>535</td><td>BR14586</td><td>Hupmobile Building</td></tr><tr><td>536</td><td>BR1628</td><td>Ranger Motors</td></tr><tr><td>537</td><td>BR1658</td><td>Rivian Motors</td></tr><tr><td>538</td><td>BR1711</td><td>San Motors</td></tr><tr><td>539</td><td>BR1763</td><td>Seat Motors</td></tr><tr><td>540</td><td>BR1989</td><td>TVR Motors</td></tr><tr><td>541</td><td>BR2468</td><td>Kindel Building</td></tr><tr><td>542</td><td>BR0031</td><td>Alfa Romeo Motors</td></tr><tr><td>543</td><td>BR0121</td><td>Aston Martin Motors</td></tr><tr><td>544</td><td>BR0171</td><td>Bentley Motors</td></tr><tr><td>545</td><td>BR0500</td><td>Donkervoort Motors</td></tr><tr><td>546</td><td>BR0638</td><td>Ford Europe Motors</td></tr><tr><td>547</td><td>BR0650</td><td>Ford India Motors</td></tr><tr><td>548</td><td>BR1017</td><td>Koenigsegg Motors</td></tr><tr><td>549</td><td>BR10746</td><td>Simca do Brasil Motors</td></tr><tr><td>550</td><td>BR1263</td><td>Merkur Motors</td></tr><tr><td>551</td><td>BR1403</td><td>Noble Motors</td></tr><tr><td>552</td><td>BR1947</td><td>Tornado Motors</td></tr><tr><td>553</td><td>BR2447</td><td>Jennings Ford Automobile Dealership</td></tr><tr><td>554</td><td>BR3246</td><td>Facel Vega Motors</td></tr><tr><td>555</td><td>BR0169</td><td>Auverland Motors</td></tr><tr><td>556</td><td>BR0517</td><td>e.GO Mobile Motors</td></tr><tr><td>557</td><td>BR0911</td><td>Isdera Motors</td></tr><tr><td>558</td><td>BR1197</td><td>Mastretta Motors</td></tr><tr><td>559</td><td>BR1525</td><td>Peugeot Motors</td></tr><tr><td>560</td><td>BR1529</td><td>Peugeot Motors</td></tr><tr><td>561</td><td>BR1564</td><td>Polestar Motors</td></tr><tr><td>562</td><td>BR1577</td><td>Pontiac, Asüna Motors</td></tr><tr><td>563</td><td>BR1592</td><td>Premier Motors</td></tr><tr><td>564</td><td>BR1855</td><td>Standard-Triumph Motors</td></tr><tr><td>565</td><td>BR2150</td><td>Wanderer Motors</td></tr><tr><td>566</td><td>BR0315</td><td>Checker Motors</td></tr><tr><td>567</td><td>BR0408</td><td>DAF Motors</td></tr><tr><td>568</td><td>BR0502</td><td>Edsel Motors</td></tr><tr><td>569</td><td>BR0504</td><td>Edsel Motors</td></tr><tr><td>570</td><td>BR0572</td><td>Fiat do Brasil Motors</td></tr><tr><td>571</td><td>BR0617</td><td>Ford Australia Motors</td></tr><tr><td>572</td><td>BR0794</td><td>Hindustan Motors</td></tr><tr><td>573</td><td>BR0849</td><td>Humber Motors</td></tr><tr><td>574</td><td>BR0958</td><td>Iveco Motors</td></tr><tr><td>575</td><td>BR0995</td><td>JPX Motors</td></tr><tr><td>576</td><td>BR13026</td><td>Lagonda  Motors</td></tr><tr><td>577</td><td>BR1574</td><td>Pontiac, Asüna Motors</td></tr><tr><td>578</td><td>BR1594</td><td>Premier Motors</td></tr><tr><td>579</td><td>BR1731</td><td>Santana Motors</td></tr><tr><td>580</td><td>BR1944</td><td>Tornado Motors</td></tr><tr><td>581</td><td>BR2115</td><td>Audi Motors</td></tr><tr><td>582</td><td>BR0125</td><td>Aston Martin Motors</td></tr><tr><td>583</td><td>BR0297</td><td>Cadillac Motors</td></tr><tr><td>584</td><td>BR0372</td><td>Cizeta-Moroder Motors</td></tr><tr><td>585</td><td>BR0798</td><td>Hindustan Motors</td></tr><tr><td>586</td><td>BR0939</td><td>Isotta Fraschini Motors</td></tr><tr><td>587</td><td>BR1302</td><td>Mini Motors</td></tr><tr><td>588</td><td>BR1377</td><td>Naza Motors</td></tr><tr><td>589</td><td>BR14226</td><td>Cass Motor Sales</td></tr><tr><td>590</td><td>BR14526</td><td>Howard Motor Company Building</td></tr><tr><td>591</td><td>BR1463</td><td>Pagani Motors</td></tr><tr><td>592</td><td>BR1473</td><td>Panhard Motors</td></tr><tr><td>593</td><td>BR1952</td><td>Toyota Motors</td></tr><tr><td>594</td><td>BR2021</td><td>Volkswagen Motors</td></tr><tr><td>595</td><td>BR5886</td><td>Jensen Motors</td></tr><tr><td>596</td><td>BR0053</td><td>Alvis Motors</td></tr><tr><td>597</td><td>BR0054</td><td>Alvis Motors</td></tr><tr><td>598</td><td>BR0514</td><td>e.GO Mobile Motors</td></tr><tr><td>599</td><td>BR0744</td><td>Gumpert Motors</td></tr><tr><td>600</td><td>BR1012</td><td>Koenigsegg Motors</td></tr><tr><td>601</td><td>BR1159</td><td>Marcos Motors</td></tr><tr><td>602</td><td>BR1444</td><td>Opel Motors</td></tr><tr><td>603</td><td>BR1721</td><td>Santa Matilde Motors</td></tr><tr><td>604</td><td>BR1753</td><td>Scion Motors</td></tr><tr><td>605</td><td>BR2090</td><td>Zastava Motors</td></tr><tr><td>606</td><td>BR2399</td><td>Clemens Automobile Company Building</td></tr><tr><td>607</td><td>BR0140</td><td>Audi Motors</td></tr><tr><td>608</td><td>BR0690</td><td>Geo Motors</td></tr><tr><td>609</td><td>BR0922</td><td>Iso Motors</td></tr><tr><td>610</td><td>BR1349</td><td>Morgan Motors</td></tr><tr><td>611</td><td>BR1737</td><td>Santana Motors</td></tr><tr><td>612</td><td>BR1949</td><td>Tornado Motors</td></tr><tr><td>613</td><td>BR4806</td><td>Holden Motors</td></tr><tr><td>614</td><td>BR5826</td><td>Jeep Motors</td></tr><tr><td>615</td><td>BR8646</td><td>Opel Motors</td></tr><tr><td>616</td><td>BR0352</td><td>Chrysler Europe Motors</td></tr><tr><td>617</td><td>BR0458</td><td>DeLorean Motors</td></tr><tr><td>618</td><td>BR0784</td><td>Hillman Motors</td></tr><tr><td>619</td><td>BR1230</td><td>Mazzanti Motors</td></tr><tr><td>620</td><td>BR1425</td><td>Oldsmobile Motors</td></tr><tr><td>621</td><td>BR1967</td><td>Toyota India Motors</td></tr><tr><td>622</td><td>BR2091</td><td>ZAZ Motors</td></tr><tr><td>623</td><td>BR2429</td><td>Howard Motor Company Building</td></tr><tr><td>624</td><td>BR5346</td><td>Innocenti Motors</td></tr><tr><td>625</td><td>BR0144</td><td>Autobianchi Motors</td></tr><tr><td>626</td><td>BR1098</td><td>Lincoln Motors</td></tr><tr><td>627</td><td>BR1239</td><td>McLaren Motors</td></tr><tr><td>628</td><td>BR1747</td><td>Saturn Motors</td></tr><tr><td>629</td><td>BR1849</td><td>SsangYong Motors</td></tr><tr><td>630</td><td>BR2464</td><td>Kindel Building</td></tr><tr><td>631</td><td>BR9186</td><td>PGO Motors</td></tr><tr><td>632</td><td>BR0068</td><td>AMC, Eagle Motors</td></tr><tr><td>633</td><td>BR0291</td><td>Cadillac Motors</td></tr><tr><td>634</td><td>BR0452</td><td>DeLorean Motors</td></tr><tr><td>635</td><td>BR0672</td><td>GAZ Motors</td></tr><tr><td>636</td><td>BR0688</td><td>Geo Motors</td></tr><tr><td>637</td><td>BR0778</td><td>Hennessey Motors</td></tr><tr><td>638</td><td>BR10506</td><td>Scion Motors</td></tr><tr><td>639</td><td>BR1208</td><td>Matra (including Deutsch-Bonnet, René Bonnet) Motors</td></tr><tr><td>640</td><td>BR1290</td><td>Mia Motors</td></tr><tr><td>641</td><td>BR1343</td><td>Morgan Motors</td></tr><tr><td>642</td><td>BR1541</td><td>Piaggio Motors</td></tr><tr><td>643</td><td>BR1915</td><td>Tatra Motors</td></tr><tr><td>644</td><td>BR2048</td><td>Volkswagen South Africa Motors</td></tr><tr><td>645</td><td>BR2455</td><td>Jones Motor Company</td></tr><tr><td>646</td><td>BR2470</td><td>Kindel Building</td></tr><tr><td>647</td><td>BR0092</td><td>ARO Motors</td></tr><tr><td>648</td><td>BR0111</td><td>Asia Motors Motors</td></tr><tr><td>649</td><td>BR0383</td><td>Dacia Motors</td></tr><tr><td>650</td><td>BR0423</td><td>Daimler Motors</td></tr><tr><td>651</td><td>BR0713</td><td>Glas Motors</td></tr><tr><td>652</td><td>BR0817</td><td>Honda Motors</td></tr><tr><td>653</td><td>BR0928</td><td>Iso Motors</td></tr><tr><td>654</td><td>BR0993</td><td>JPX Motors</td></tr><tr><td>655</td><td>BR1061</td><td>Land Rover Motors</td></tr><tr><td>656</td><td>BR1301</td><td>Mini Motors</td></tr><tr><td>657</td><td>BR1605</td><td>Proton Motors</td></tr><tr><td>658</td><td>BR2075</td><td>Wiesmann Motors</td></tr><tr><td>659</td><td>BR2161</td><td>Izh  Motors</td></tr><tr><td>660</td><td>BR2178</td><td>Lagonda  Motors</td></tr><tr><td>661</td><td>BR0014</td><td>Acura Motors</td></tr><tr><td>662</td><td>BR0232</td><td>British Leyland Motors</td></tr><tr><td>663</td><td>BR0271</td><td>Buick Motors</td></tr><tr><td>664</td><td>BR0559</td><td>Ferrari Motors</td></tr><tr><td>665</td><td>BR0707</td><td>Ginetta Motors</td></tr><tr><td>666</td><td>BR0722</td><td>GMC Motors</td></tr><tr><td>667</td><td>BR0918</td><td>Isdera Motors</td></tr><tr><td>668</td><td>BR1163</td><td>Marlin Motors</td></tr><tr><td>669</td><td>BR1615</td><td>Puma Motors</td></tr><tr><td>670</td><td>BR2123</td><td>DKW Motors</td></tr><tr><td>671</td><td>BR2437</td><td>Hupmobile Building</td></tr><tr><td>672</td><td>BR2443</td><td>Jennings Ford Automobile Dealership</td></tr><tr><td>673</td><td>BR0101</td><td>Artega Motors</td></tr><tr><td>674</td><td>BR0112</td><td>Asia Motors Motors</td></tr><tr><td>675</td><td>BR0222</td><td>Bristol Motors</td></tr><tr><td>676</td><td>BR0230</td><td>Bristol Motors</td></tr><tr><td>677</td><td>BR1015</td><td>Koenigsegg Motors</td></tr><tr><td>678</td><td>BR1141</td><td>Mahindra Motors</td></tr><tr><td>679</td><td>BR1358</td><td>Moskwitch Motors</td></tr><tr><td>680</td><td>BR1922</td><td>Tazzari Motors</td></tr><tr><td>681</td><td>BR2402</td><td>Colman Automotive Building</td></tr><tr><td>682</td><td>BR0552</td><td>Ferrari Motors</td></tr><tr><td>683</td><td>BR0658</td><td>Freightliner Motors</td></tr><tr><td>684</td><td>BR0859</td><td>Hummer Motors</td></tr><tr><td>685</td><td>BR1310</td><td>Mini Motors</td></tr><tr><td>686</td><td>BR1391</td><td>Nissan India Motors</td></tr><tr><td>687</td><td>BR1714</td><td>San Motors</td></tr><tr><td>688</td><td>BR1945</td><td>Tornado Motors</td></tr><tr><td>689</td><td>BR2263</td><td>Ramani Motors</td></tr><tr><td>690</td><td>BR0069</td><td>AMC, Eagle Motors</td></tr><tr><td>691</td><td>BR0198</td><td>BMW Motors</td></tr><tr><td>692</td><td>BR0621</td><td>Ford do Brasil Motors</td></tr><tr><td>693</td><td>BR0997</td><td>JPX Motors</td></tr><tr><td>694</td><td>BR1215</td><td>Mazda Motors</td></tr><tr><td>695</td><td>BR1407</td><td>Noble Motors</td></tr><tr><td>696</td><td>BR2024</td><td>Volkswagen Motors</td></tr><tr><td>697</td><td>BR0863</td><td>Hyundai Motors</td></tr><tr><td>698</td><td>BR0967</td><td>Jaguar Motors</td></tr><tr><td>699</td><td>BR1412</td><td>NSU Motors</td></tr><tr><td>700</td><td>BR1435</td><td>Oltcit Motors</td></tr><tr><td>701</td><td>BR1710</td><td>Samsung Motors</td></tr><tr><td>702</td><td>BR1929</td><td>Tazzari Motors</td></tr><tr><td>703</td><td>BR2134</td><td>Horch Motors</td></tr><tr><td>704</td><td>BR2230</td><td>Wolseley  Motors</td></tr><tr><td>705</td><td>BR2295</td><td>Zion Automobils</td></tr><tr><td>706</td><td>BR4446</td><td>Gumpert Motors</td></tr><tr><td>707</td><td>BR0519</td><td>e.GO Mobile Motors</td></tr><tr><td>708</td><td>BR0660</td><td>Freightliner Motors</td></tr><tr><td>709</td><td>BR11106</td><td>Standard-Triumph Motors</td></tr><tr><td>710</td><td>BR1404</td><td>Noble Motors</td></tr><tr><td>711</td><td>BR1869</td><td>Studebaker Motors</td></tr><tr><td>712</td><td>BR1880</td><td>Subaru Motors</td></tr><tr><td>713</td><td>BR2071</td><td>Wiesmann Motors</td></tr><tr><td>714</td><td>BR2232</td><td>Standard  Motors</td></tr><tr><td>715</td><td>BR2427</td><td>Howard Motor Company Building</td></tr><tr><td>716</td><td>BR4746</td><td>Hindustan Motors</td></tr><tr><td>717</td><td>BR0044</td><td>Alpine Motors</td></tr><tr><td>718</td><td>BR0539</td><td>Elva Motors</td></tr><tr><td>719</td><td>BR1093</td><td>Lincoln Motors</td></tr><tr><td>720</td><td>BR1241</td><td>Mercedes-Benz (including Maybach) Motors</td></tr><tr><td>721</td><td>BR1408</td><td>Noble Motors</td></tr><tr><td>722</td><td>BR14766</td><td>Kindel Building</td></tr><tr><td>723</td><td>BR1689</td><td>SAIC Motor Motors</td></tr><tr><td>724</td><td>BR1700</td><td>Saleen Motors</td></tr><tr><td>725</td><td>BR2372</td><td>Cass Motor Sales</td></tr><tr><td>726</td><td>BR0129</td><td>Aston Martin Motors</td></tr><tr><td>727</td><td>BR0211</td><td>Borgward (including Goliath and Lloyd) Motors</td></tr><tr><td>728</td><td>BR0321</td><td>Chevrolet Motors</td></tr><tr><td>729</td><td>BR0433</td><td>Datsun Motors</td></tr><tr><td>730</td><td>BR0607</td><td>Ford America Motors</td></tr><tr><td>731</td><td>BR0764</td><td>Heinkel Motors</td></tr><tr><td>732</td><td>BR0984</td><td>Jensen Motors</td></tr><tr><td>733</td><td>BR2159</td><td>Maybach  Motors</td></tr><tr><td>734</td><td>BR0009</td><td>AC Cars Motors</td></tr><tr><td>735</td><td>BR0783</td><td>Hillman Motors</td></tr><tr><td>736</td><td>BR0878</td><td>IFA (including Trabant, Wartburg, Barkas) Motors</td></tr><tr><td>737</td><td>BR1483</td><td>Panoz Motors</td></tr><tr><td>738</td><td>BR2171</td><td>Lagonda  Motors</td></tr><tr><td>739</td><td>BR2323</td><td>Blankinship Motor Company Building</td></tr><tr><td>740</td><td>BR2362</td><td>Casa de cadillac</td></tr><tr><td>741</td><td>BR0254</td><td>Austin, Rover Motors</td></tr><tr><td>742</td><td>BR0823</td><td>Honda India Motors</td></tr><tr><td>743</td><td>BR14166</td><td>Casa de cadillac</td></tr><tr><td>744</td><td>BR1540</td><td>PGO Motors</td></tr><tr><td>745</td><td>BR1613</td><td>Puma Motors</td></tr><tr><td>746</td><td>BR1892</td><td>Suzuki Motors</td></tr><tr><td>747</td><td>BR1948</td><td>Tornado Motors</td></tr><tr><td>748</td><td>BR1959</td><td>Toyota Motors</td></tr><tr><td>749</td><td>BR2106</td><td>Chrysler Europe Motors</td></tr><tr><td>750</td><td>BR7386</td><td>McLaren Motors</td></tr><tr><td>751</td><td>BR0021</td><td>Aixam-Mega (including Arola) Motors</td></tr><tr><td>752</td><td>BR0385</td><td>Dacia Motors</td></tr><tr><td>753</td><td>BR1083</td><td>Ligier Motors</td></tr><tr><td>754</td><td>BR1179</td><td>Maruti Motors</td></tr><tr><td>755</td><td>BR1240</td><td>McLaren Motors</td></tr><tr><td>756</td><td>BR14406</td><td>Colman Automotive Building</td></tr><tr><td>757</td><td>BR2017</td><td>Venturi Motors</td></tr><tr><td>758</td><td>BR2428</td><td>Howard Motor Company Building</td></tr><tr><td>759</td><td>BR0195</td><td>BMW Motors</td></tr><tr><td>760</td><td>BR0247</td><td>Austin-Healey Motors</td></tr><tr><td>761</td><td>BR0709</td><td>Ginetta Motors</td></tr><tr><td>762</td><td>BR0710</td><td>Ginetta Motors</td></tr><tr><td>763</td><td>BR1671</td><td>Saab Motors</td></tr><tr><td>764</td><td>BR2407</td><td>Colman Automotive Building</td></tr><tr><td>765</td><td>BR0328</td><td>Chevrolet Motors</td></tr><tr><td>766</td><td>BR0350</td><td>Chrysler Motors</td></tr><tr><td>767</td><td>BR0395</td><td>Daewoo, Saehan, Chevrolet Korea Motors</td></tr><tr><td>768</td><td>BR0581</td><td>Fiat India Motors</td></tr><tr><td>769</td><td>BR0627</td><td>Ford do Brasil Motors</td></tr><tr><td>770</td><td>BR0755</td><td>Healey Motors</td></tr><tr><td>771</td><td>BR1117</td><td>LTI Motors</td></tr><tr><td>772</td><td>BR1305</td><td>Mini Motors</td></tr><tr><td>773</td><td>BR1332</td><td>Monteverdi Motors</td></tr><tr><td>774</td><td>BR1378</td><td>Naza Motors</td></tr><tr><td>775</td><td>BR2285</td><td>Herald Motors</td></tr><tr><td>776</td><td>BR2353</td><td>Cadillac Automobile Company Building</td></tr><tr><td>777</td><td>BR7686</td><td>Mia Motors</td></tr><tr><td>778</td><td>BR0048</td><td>Alpine Motors</td></tr><tr><td>779</td><td>BR0293</td><td>Cadillac Motors</td></tr><tr><td>780</td><td>BR0301</td><td>Caterham Motors</td></tr><tr><td>781</td><td>BR0429</td><td>Daimler Motors</td></tr><tr><td>782</td><td>BR0585</td><td>Fiat India Motors</td></tr><tr><td>783</td><td>BR0720</td><td>Glas Motors</td></tr><tr><td>784</td><td>BR0787</td><td>Hillman Motors</td></tr><tr><td>785</td><td>BR0871</td><td>IFA (including Trabant, Wartburg, Barkas) Motors</td></tr><tr><td>786</td><td>BR1025</td><td>KTM Motors</td></tr><tr><td>787</td><td>BR2095</td><td>ZAZ Motors</td></tr><tr><td>788</td><td>BR2133</td><td>Horch Motors</td></tr><tr><td>789</td><td>BR0005</td><td>AC Cars Motors</td></tr><tr><td>790</td><td>BR0791</td><td>Hindustan Motors</td></tr><tr><td>791</td><td>BR0846</td><td>Autobianchi Motors</td></tr><tr><td>792</td><td>BR0883</td><td>Infiniti Motors</td></tr><tr><td>793</td><td>BR1088</td><td>Ligier Motors</td></tr><tr><td>794</td><td>BR1181</td><td>Maserati Motors</td></tr><tr><td>795</td><td>BR1565</td><td>Polestar Motors</td></tr><tr><td>796</td><td>BR2367</td><td>Casa de cadillac</td></tr><tr><td>797</td><td>BR2380</td><td>Cass Motor Sales</td></tr><tr><td>798</td><td>BR6546</td><td>Lincoln Motors</td></tr><tr><td>799</td><td>BR9066</td><td>Perodua Motors</td></tr><tr><td>800</td><td>BR0045</td><td>Alpine Motors</td></tr><tr><td>801</td><td>BR1223</td><td>Mazzanti Motors</td></tr><tr><td>802</td><td>BR12666</td><td>Audi Motors</td></tr><tr><td>803</td><td>BR1364</td><td>Nash Motors</td></tr><tr><td>804</td><td>BR1601</td><td>Proton Motors</td></tr><tr><td>805</td><td>BR1878</td><td>Subaru Motors</td></tr><tr><td>806</td><td>BR2042</td><td>Volkswagen South Africa Motors</td></tr><tr><td>807</td><td>BR0473</td><td>De Tomaso Motors</td></tr><tr><td>808</td><td>BR1053</td><td>Lancia Motors</td></tr><tr><td>809</td><td>BR1244</td><td>Mercedes-Benz (including Maybach) Motors</td></tr><tr><td>810</td><td>BR1785</td><td>Simca Motors</td></tr><tr><td>811</td><td>BR2101</td><td>ZIL Motors</td></tr><tr><td>812</td><td>BR2165</td><td>Izh  Motors</td></tr><tr><td>813</td><td>BR7146</td><td>Mastretta Motors</td></tr><tr><td>814</td><td>BR0126</td><td>Aixam-Mega (including Arola) Motors</td></tr><tr><td>815</td><td>BR0359</td><td>Chrysler Europe Motors</td></tr><tr><td>816</td><td>BR0611</td><td>Ford Australia Motors</td></tr><tr><td>817</td><td>BR1104</td><td>Lotus Motors</td></tr><tr><td>818</td><td>BR1174</td><td>Maruti Motors</td></tr><tr><td>819</td><td>BR1277</td><td>Messerschmitt Motors</td></tr><tr><td>820</td><td>BR1419</td><td>NSU Motors</td></tr><tr><td>821</td><td>BR1510</td><td>Peel Motors</td></tr><tr><td>822</td><td>BR1653</td><td>Rivian Motors</td></tr><tr><td>823</td><td>BR1780</td><td>Shelby SuperCars Motors</td></tr><tr><td>824</td><td>BR2135</td><td>Horch Motors</td></tr><tr><td>825</td><td>BR2167</td><td>Izh  Motors</td></tr><tr><td>826</td><td>BR2371</td><td>Cass Motor Sales</td></tr><tr><td>827</td><td>BR3606</td><td>Ford America Motors</td></tr><tr><td>828</td><td>BR0143</td><td>Autobianchi Motors</td></tr><tr><td>829</td><td>BR1283</td><td>Mia Motors</td></tr><tr><td>830</td><td>BR1328</td><td>Monica Motors</td></tr><tr><td>831</td><td>BR1783</td><td>Simca Motors</td></tr><tr><td>832</td><td>BR0727</td><td>GMC Motors</td></tr><tr><td>833</td><td>BR0892</td><td>Innocenti Motors</td></tr><tr><td>834</td><td>BR1123</td><td>LuAZ Motors</td></tr><tr><td>835</td><td>BR12906</td><td>Maybach  Motors</td></tr><tr><td>836</td><td>BR1690</td><td>SAIC Motor Motors</td></tr><tr><td>837</td><td>BR1843</td><td>SsangYong Motors</td></tr><tr><td>838</td><td>BR2067</td><td>Westfield Motors</td></tr><tr><td>839</td><td>BR2099</td><td>ZAZ Motors</td></tr><tr><td>840</td><td>BR0057</td><td>Alvis Motors</td></tr><tr><td>841</td><td>BR0929</td><td>Iso Motors</td></tr><tr><td>842</td><td>BR1842</td><td>SsangYong Motors</td></tr><tr><td>843</td><td>BR0073</td><td>Anadol Motors</td></tr><tr><td>844</td><td>BR0492</td><td>Donkervoort Motors</td></tr><tr><td>845</td><td>BR0565</td><td>Fiat Motors</td></tr><tr><td>846</td><td>BR0851</td><td>Hummer Motors</td></tr><tr><td>847</td><td>BR1032</td><td>Lada Motors</td></tr><tr><td>848</td><td>BR1190</td><td>Maserati Motors</td></tr><tr><td>849</td><td>BR1410</td><td>Noble Motors</td></tr><tr><td>850</td><td>BR1678</td><td>Saab Motors</td></tr><tr><td>851</td><td>BR2082</td><td>Zastava Motors</td></tr><tr><td>852</td><td>BR2124</td><td>DKW Motors</td></tr><tr><td>853</td><td>BR2131</td><td>Horch Motors</td></tr><tr><td>854</td><td>BR2247</td><td>Talbot  Motors</td></tr><tr><td>855</td><td>BR2460</td><td>Jones Motor Company</td></tr><tr><td>856</td><td>BR3786</td><td>Ford Europe Motors</td></tr><tr><td>857</td><td>BR0080</td><td>Anadol Motors</td></tr><tr><td>858</td><td>BR0085</td><td>Ariel Motors</td></tr><tr><td>859</td><td>BR0220</td><td>Borgward (including Goliath and Lloyd) Motors</td></tr><tr><td>860</td><td>BR0342</td><td>Chrysler Motors</td></tr><tr><td>861</td><td>BR0624</td><td>Ford do Brasil Motors</td></tr><tr><td>862</td><td>BR0730</td><td>GMC Motors</td></tr><tr><td>863</td><td>BR0845</td><td>Humber Motors</td></tr><tr><td>864</td><td>BR0935</td><td>Isotta Fraschini Motors</td></tr><tr><td>865</td><td>BR1055</td><td>Lancia Motors</td></tr><tr><td>866</td><td>BR1326</td><td>Bristol Motors</td></tr><tr><td>867</td><td>BR1867</td><td>Studebaker Motors</td></tr><tr><td>868</td><td>BR1895</td><td>Suzuki Motors</td></tr><tr><td>869</td><td>BR2153</td><td>Maybach  Motors</td></tr><tr><td>870</td><td>BR2184</td><td>MG  Motors</td></tr><tr><td>871</td><td>BR2250</td><td>Talbot  Motors</td></tr><tr><td>872</td><td>BR2282</td><td>Herald Motors</td></tr><tr><td>873</td><td>BR6606</td><td>Lotus Motors</td></tr><tr><td>874</td><td>BR0152</td><td>Auto-Union Motors</td></tr><tr><td>875</td><td>BR0842</td><td>Humber Motors</td></tr><tr><td>876</td><td>BR1291</td><td>Micro Motors</td></tr><tr><td>877</td><td>BR2199</td><td>Morris  Motors</td></tr><tr><td>878</td><td>BR2451</td><td>Jones Motor Company</td></tr><tr><td>879</td><td>BR0029</td><td>Aixam-Mega (including Arola) Motors</td></tr><tr><td>880</td><td>BR0033</td><td>Alfa Romeo Motors</td></tr><tr><td>881</td><td>BR0229</td><td>Bristol Motors</td></tr><tr><td>882</td><td>BR0457</td><td>DeLorean Motors</td></tr><tr><td>883</td><td>BR0605</td><td>Ford America Motors</td></tr><tr><td>884</td><td>BR0950</td><td>Isuzu Motors</td></tr><tr><td>885</td><td>BR0990</td><td>Jensen Motors</td></tr><tr><td>886</td><td>BR1585</td><td>Porsche Motors</td></tr><tr><td>887</td><td>BR1672</td><td>Saab Motors</td></tr><tr><td>888</td><td>BR4026</td><td>GAZ Motors</td></tr><tr><td>889</td><td>BR0424</td><td>Daimler Motors</td></tr><tr><td>890</td><td>BR0971</td><td>Jeep Motors</td></tr><tr><td>891</td><td>BR1114</td><td>LTI Motors</td></tr><tr><td>892</td><td>BR1258</td><td>Mercury Motors</td></tr><tr><td>893</td><td>BR1488</td><td>Panoz Motors</td></tr><tr><td>894</td><td>BR1679</td><td>Saab Motors</td></tr><tr><td>895</td><td>BR2172</td><td>Lagonda  Motors</td></tr><tr><td>896</td><td>BR2462</td><td>Kindel Building</td></tr><tr><td>897</td><td>BR0094</td><td>ARO Motors</td></tr><tr><td>898</td><td>BR0357</td><td>Chrysler Europe Motors</td></tr><tr><td>899</td><td>BR0417</td><td>Daihatsu Motors</td></tr><tr><td>900</td><td>BR0854</td><td>Hummer Motors</td></tr><tr><td>901</td><td>BR1014</td><td>Koenigsegg Motors</td></tr><tr><td>902</td><td>BR1245</td><td>Mercedes-Benz (including Maybach) Motors</td></tr><tr><td>903</td><td>BR1295</td><td>Micro Motors</td></tr><tr><td>904</td><td>BR1625</td><td>Ranger Motors</td></tr><tr><td>905</td><td>BR1683</td><td>SAIC Motor Motors</td></tr><tr><td>906</td><td>BR1742</td><td>Saturn Motors</td></tr><tr><td>907</td><td>BR1827</td><td>Smart Motors</td></tr><tr><td>908</td><td>BR1975</td><td>Turner Motors</td></tr><tr><td>909</td><td>BR0120</td><td>Asia Motors Motors</td></tr><tr><td>910</td><td>BR0382</td><td>Dacia Motors</td></tr><tr><td>911</td><td>BR0470</td><td>DeSoto Motors</td></tr><tr><td>912</td><td>BR1034</td><td>Lada Motors</td></tr><tr><td>913</td><td>BR10626</td><td>Shelby SuperCars Motors</td></tr><tr><td>914</td><td>BR1099</td><td>Lincoln Motors</td></tr><tr><td>915</td><td>BR2351</td><td>Cadillac Automobile Company Building</td></tr><tr><td>916</td><td>BR2394</td><td>Clemens Automobile Company Building</td></tr><tr><td>917</td><td>BR0310</td><td>Caterham Motors</td></tr><tr><td>918</td><td>BR0602</td><td>Ford America Motors</td></tr><tr><td>919</td><td>BR0694</td><td>Gilbern Motors</td></tr><tr><td>920</td><td>BR1668</td><td>Rolls-Royce Motors</td></tr><tr><td>921</td><td>BR2148</td><td>Wanderer Motors</td></tr><tr><td>922</td><td>BR2309</td><td>Atlantic Motor Company</td></tr><tr><td>923</td><td>BR0546</td><td>ARO Motors</td></tr><tr><td>924</td><td>BR0678</td><td>GAZ Motors</td></tr><tr><td>925</td><td>BR1569</td><td>Polestar Motors</td></tr><tr><td>926</td><td>BR1570</td><td>Polestar Motors</td></tr><tr><td>927</td><td>BR1811</td><td>Skoda Motors</td></tr><tr><td>928</td><td>BR1882</td><td>Sunbeam Motors</td></tr><tr><td>929</td><td>BR1901</td><td>Tata Motors</td></tr><tr><td>930</td><td>BR1937</td><td>Tesla Motors</td></tr><tr><td>931</td><td>BR1988</td><td>TVR Motors</td></tr><tr><td>932</td><td>BR2034</td><td>Volkswagen do Brasil Motors</td></tr><tr><td>933</td><td>BR2334</td><td>Bohn Motor Company Automobile Dealership</td></tr><tr><td>934</td><td>BR0074</td><td>Anadol Motors</td></tr><tr><td>935</td><td>BR0103</td><td>Artega Motors</td></tr><tr><td>936</td><td>BR0338</td><td>Chevrolet India Motors</td></tr><tr><td>937</td><td>BR0418</td><td>Daihatsu Motors</td></tr><tr><td>938</td><td>BR0435</td><td>Datsun Motors</td></tr><tr><td>939</td><td>BR0533</td><td>Elva Motors</td></tr><tr><td>940</td><td>BR0879</td><td>IFA (including Trabant, Wartburg, Barkas) Motors</td></tr><tr><td>941</td><td>BR1512</td><td>Perodua Motors</td></tr><tr><td>942</td><td>BR2234</td><td>Standard  Motors</td></tr><tr><td>943</td><td>BR2245</td><td>Talbot  Motors</td></tr><tr><td>944</td><td>BR2283</td><td>Herald Motors</td></tr><tr><td>945</td><td>BR2438</td><td>Hupmobile Building</td></tr><tr><td>946</td><td>BR8466</td><td>NSU Motors</td></tr><tr><td>947</td><td>BR8766</td><td>Pagani Motors</td></tr><tr><td>948</td><td>BR0961</td><td>Jaguar Motors</td></tr><tr><td>949</td><td>BR1471</td><td>Panhard Motors</td></tr><tr><td>950</td><td>BR1603</td><td>Proton Motors</td></tr><tr><td>951</td><td>BR1879</td><td>Subaru Motors</td></tr><tr><td>952</td><td>BR2211</td><td>Riley  Motors</td></tr><tr><td>953</td><td>BR2320</td><td>2008 NRHP-listed</td></tr><tr><td>954</td><td>BR0020</td><td>Acura Motors</td></tr><tr><td>955</td><td>BR0339</td><td>Chevrolet India Motors</td></tr><tr><td>956</td><td>BR0375</td><td>Cizeta-Moroder Motors</td></tr><tr><td>957</td><td>BR0404</td><td>DAF Motors</td></tr><tr><td>958</td><td>BR0752</td><td>Healey Motors</td></tr><tr><td>959</td><td>BR1315</td><td>Mitsubishi Motors</td></tr><tr><td>960</td><td>BR1392</td><td>Nissan India Motors</td></tr><tr><td>961</td><td>BR1542</td><td>Piaggio Motors</td></tr><tr><td>962</td><td>BR2302</td><td>Atlantic Motor Company</td></tr><tr><td>963</td><td>BR0397</td><td>Daewoo, Saehan, Chevrolet Korea Motors</td></tr><tr><td>964</td><td>BR0675</td><td>GAZ Motors</td></tr><tr><td>965</td><td>BR11526</td><td>Tazzari Motors</td></tr><tr><td>966</td><td>BR1619</td><td>Puma Motors</td></tr><tr><td>967</td><td>BR1798</td><td>Simca do Brasil Motors</td></tr><tr><td>968</td><td>BR1994</td><td>UAZ Motors</td></tr><tr><td>969</td><td>BR2342</td><td>Buick Automobile Company Building</td></tr><tr><td>970</td><td>BR7506</td><td>Mercury Motors</td></tr><tr><td>971</td><td>BR0049</td><td>Alpine Motors</td></tr><tr><td>972</td><td>BR0640</td><td>Ford Europe Motors</td></tr><tr><td>973</td><td>BR0653</td><td>Freightliner Motors</td></tr><tr><td>974</td><td>BR0897</td><td>Innocenti Motors</td></tr><tr><td>975</td><td>BR1520</td><td>Perodua Motors</td></tr><tr><td>976</td><td>BR1621</td><td>Ranger Motors</td></tr><tr><td>977</td><td>BR2008</td><td>Vauxhall Motors</td></tr><tr><td>978</td><td>BR2170</td><td>Izh  Motors</td></tr><tr><td>979</td><td>BR2526</td><td>Daimler Motors</td></tr><tr><td>980</td><td>BR3006</td><td>Edsel Motors</td></tr><tr><td>981</td><td>BR8226</td><td>Naza Motors</td></tr><tr><td>982</td><td>BR0170</td><td>Auverland Motors</td></tr><tr><td>983</td><td>BR0843</td><td>Humber Motors</td></tr><tr><td>984</td><td>BR1249</td><td>Mercedes-Benz (including Maybach) Motors</td></tr><tr><td>985</td><td>BR1552</td><td>Plymouth Motors</td></tr><tr><td>986</td><td>BR2258</td><td>Das Motors</td></tr><tr><td>987</td><td>BR0084</td><td>Ariel Motors</td></tr><tr><td>988</td><td>BR0610</td><td>Ford America Motors</td></tr><tr><td>989</td><td>BR1077</td><td>Lexus Motors</td></tr><tr><td>990</td><td>BR1101</td><td>Lotus Motors</td></tr><tr><td>991</td><td>BR1107</td><td>Lotus Motors</td></tr><tr><td>992</td><td>BR1209</td><td>Matra (including Deutsch-Bonnet, René Bonnet) Motors</td></tr><tr><td>993</td><td>BR1235</td><td>McLaren Motors</td></tr><tr><td>994</td><td>BR1417</td><td>NSU Motors</td></tr><tr><td>995</td><td>BR1519</td><td>Perodua Motors</td></tr><tr><td>996</td><td>BR1524</td><td>Peugeot Motors</td></tr><tr><td>997</td><td>BR1640</td><td>Reliant Motors</td></tr><tr><td>998</td><td>BR2110</td><td>ZIL Motors</td></tr><tr><td>999</td><td>BR2307</td><td>Atlantic Motor Company</td></tr><tr><td>1000</td><td>BR2457</td><td>Jones Motor Company</td></tr><tr><td>1001</td><td>BR5106</td><td>Hummer Motors</td></tr><tr><td>1002</td><td>BR6306</td><td>Lancia Motors</td></tr><tr><td>1003</td><td>BR0108</td><td>Artega Motors</td></tr><tr><td>1004</td><td>BR0380</td><td>Cizeta-Moroder Motors</td></tr><tr><td>1005</td><td>BR0577</td><td>Fiat do Brasil Motors</td></tr><tr><td>1006</td><td>BR0812</td><td>Honda Motors</td></tr><tr><td>1007</td><td>BR0865</td><td>Hyundai Motors</td></tr><tr><td>1008</td><td>BR1202</td><td>Matra (including Deutsch-Bonnet, René Bonnet) Motors</td></tr><tr><td>1009</td><td>BR1504</td><td>Peel Motors</td></tr><tr><td>1010</td><td>BR1833</td><td>Spyker Motors</td></tr><tr><td>1011</td><td>BR2041</td><td>Volkswagen South Africa Motors</td></tr><tr><td>1012</td><td>BR2313</td><td>2008 NRHP-listed</td></tr><tr><td>1013</td><td>BR3726</td><td>Ford do Brasil Motors</td></tr><tr><td>1014</td><td>BR7326</td><td>Mazzanti Motors</td></tr><tr><td>1015</td><td>BR0334</td><td>Chevrolet India Motors</td></tr><tr><td>1016</td><td>BR0364</td><td>Citroën Motors</td></tr><tr><td>1017</td><td>BR0371</td><td>Cizeta-Moroder Motors</td></tr><tr><td>1018</td><td>BR0485</td><td>Dodge Motors</td></tr><tr><td>1019</td><td>BR0909</td><td>Invicta Motors</td></tr><tr><td>1020</td><td>BR0921</td><td>Iso Motors</td></tr><tr><td>1021</td><td>BR0267</td><td>Bugatti Motors</td></tr><tr><td>1022</td><td>BR0410</td><td>DAF Motors</td></tr><tr><td>1023</td><td>BR0469</td><td>DeSoto Motors</td></tr><tr><td>1024</td><td>BR0654</td><td>Freightliner Motors</td></tr><tr><td>1025</td><td>BR1528</td><td>Peugeot Motors</td></tr><tr><td>1026</td><td>BR2183</td><td>MG  Motors</td></tr><tr><td>1027</td><td>BR2264</td><td>Ramani Motors</td></tr><tr><td>1028</td><td>BR0041</td><td>Alpine Motors</td></tr><tr><td>1029</td><td>BR0122</td><td>Aston Martin Motors</td></tr><tr><td>1030</td><td>BR0349</td><td>Chrysler Motors</td></tr><tr><td>1031</td><td>BR0906</td><td>Auto-Union Motors</td></tr><tr><td>1032</td><td>BR0973</td><td>Jeep Motors</td></tr><tr><td>1033</td><td>BR1168</td><td>Marlin Motors</td></tr><tr><td>1034</td><td>BR1231</td><td>McLaren Motors</td></tr><tr><td>1035</td><td>BR1518</td><td>Perodua Motors</td></tr><tr><td>1036</td><td>BR1639</td><td>Reliant Motors</td></tr><tr><td>1037</td><td>BR2290</td><td>Herald Motors</td></tr><tr><td>1038</td><td>BR0302</td><td>Caterham Motors</td></tr><tr><td>1039</td><td>BR0468</td><td>DeSoto Motors</td></tr><tr><td>1040</td><td>BR0477</td><td>De Tomaso Motors</td></tr><tr><td>1041</td><td>BR0768</td><td>Heinkel Motors</td></tr><tr><td>1042</td><td>BR0824</td><td>Honda India Motors</td></tr><tr><td>1043</td><td>BR1008</td><td>Kia Motors</td></tr><tr><td>1044</td><td>BR1674</td><td>Saab Motors</td></tr><tr><td>1045</td><td>BR1697</td><td>Saleen Motors</td></tr><tr><td>1046</td><td>BR1715</td><td>San Motors</td></tr><tr><td>1047</td><td>BR1782</td><td>Simca Motors</td></tr><tr><td>1048</td><td>BR1797</td><td>Simca do Brasil Motors</td></tr><tr><td>1049</td><td>BR1924</td><td>Tazzari Motors</td></tr><tr><td>1050</td><td>BR4686</td><td>Hillman Motors</td></tr><tr><td>1051</td><td>BR8826</td><td>Panhard Motors</td></tr><tr><td>1052</td><td>BR0322</td><td>Chevrolet Motors</td></tr><tr><td>1053</td><td>BR0724</td><td>GMC Motors</td></tr><tr><td>1054</td><td>BR0994</td><td>JPX Motors</td></tr><tr><td>1055</td><td>BR1173</td><td>Maruti Motors</td></tr><tr><td>1056</td><td>BR1692</td><td>Saleen Motors</td></tr><tr><td>1057</td><td>BR1875</td><td>Subaru Motors</td></tr><tr><td>1058</td><td>BR0004</td><td>AC Cars Motors</td></tr><tr><td>1059</td><td>BR0067</td><td>AMC, Eagle Motors</td></tr><tr><td>1060</td><td>BR0459</td><td>DeLorean Motors</td></tr><tr><td>1061</td><td>BR0488</td><td>Dodge Motors</td></tr><tr><td>1062</td><td>BR0663</td><td>FSO Motors</td></tr><tr><td>1063</td><td>BR0711</td><td>Glas Motors</td></tr><tr><td>1064</td><td>BR0747</td><td>Gumpert Motors</td></tr><tr><td>1065</td><td>BR0894</td><td>Innocenti Motors</td></tr><tr><td>1066</td><td>BR1039</td><td>Lada Motors</td></tr><tr><td>1067</td><td>BR14046</td><td>Buick Automobile Company Building</td></tr><tr><td>1068</td><td>BR1440</td><td>Oltcit Motors</td></tr><tr><td>1069</td><td>BR1492</td><td>Panther Motors</td></tr><tr><td>1070</td><td>BR1557</td><td>Plymouth Motors</td></tr><tr><td>1071</td><td>BR2388</td><td>Claremore Auto Dealership</td></tr><tr><td>1072</td><td>BR0224</td><td>Bristol Motors</td></tr><tr><td>1073</td><td>BR1303</td><td>Mini Motors</td></tr><tr><td>1074</td><td>BR1304</td><td>Mini Motors</td></tr><tr><td>1075</td><td>BR13086</td><td>MG  Motors</td></tr><tr><td>1076</td><td>BR1567</td><td>Polestar Motors</td></tr><tr><td>1077</td><td>BR1659</td><td>Rivian Motors</td></tr><tr><td>1078</td><td>BR1725</td><td>Santa Matilde Motors</td></tr><tr><td>1079</td><td>BR2104</td><td>ZIL Motors</td></tr><tr><td>1080</td><td>BR6426</td><td>Lexus Motors</td></tr><tr><td>1081</td><td>BR0697</td><td>Gilbern Motors</td></tr><tr><td>1082</td><td>BR0781</td><td>Hillman Motors</td></tr><tr><td>1083</td><td>BR0931</td><td>Isotta Fraschini Motors</td></tr><tr><td>1084</td><td>BR1070</td><td>Land Rover Motors</td></tr><tr><td>1085</td><td>BR1130</td><td>LuAZ Motors</td></tr><tr><td>1086</td><td>BR1397</td><td>Nissan India Motors</td></tr><tr><td>1087</td><td>BR1595</td><td>Premier Motors</td></tr><tr><td>1088</td><td>BR1985</td><td>TVR Motors</td></tr><tr><td>1089</td><td>BR2011</td><td>Venturi Motors</td></tr><tr><td>1090</td><td>BR2089</td><td>Zastava Motors</td></tr><tr><td>1091</td><td>BR0484</td><td>Dodge Motors</td></tr><tr><td>1092</td><td>BR0899</td><td>Innocenti Motors</td></tr><tr><td>1093</td><td>BR1379</td><td>Naza Motors</td></tr><tr><td>1094</td><td>BR1903</td><td>Tata Motors</td></tr><tr><td>1095</td><td>BR0303</td><td>Caterham Motors</td></tr><tr><td>1096</td><td>BR0523</td><td>Eicher Polaris Motors</td></tr><tr><td>1097</td><td>BR0538</td><td>Elva Motors</td></tr><tr><td>1098</td><td>BR1363</td><td>Nash Motors</td></tr><tr><td>1099</td><td>BR1459</td><td>Packard Motors</td></tr><tr><td>1100</td><td>BR1837</td><td>Spyker Motors</td></tr><tr><td>1101</td><td>BR1918</td><td>Tatra Motors</td></tr><tr><td>1102</td><td>BR2281</td><td>Herald Motors</td></tr><tr><td>1103</td><td>BR0025</td><td>Aixam-Mega (including Arola) Motors</td></tr><tr><td>1104</td><td>BR1068</td><td>Land Rover Motors</td></tr><tr><td>1105</td><td>BR1135</td><td>Lynx Motors</td></tr><tr><td>1106</td><td>BR1560</td><td>Plymouth Motors</td></tr><tr><td>1107</td><td>BR1717</td><td>San Motors</td></tr><tr><td>1108</td><td>BR1923</td><td>Tazzari Motors</td></tr><tr><td>1109</td><td>BR1964</td><td>Toyota India Motors</td></tr><tr><td>1110</td><td>BR4266</td><td>Glas Motors</td></tr><tr><td>1111</td><td>BR0159</td><td>Auto-Union Motors</td></tr><tr><td>1112</td><td>BR0331</td><td>Chevrolet India Motors</td></tr><tr><td>1113</td><td>BR0681</td><td>Geo Motors</td></tr><tr><td>1114</td><td>BR0703</td><td>Ginetta Motors</td></tr><tr><td>1115</td><td>BR0832</td><td>Hudson Motors</td></tr><tr><td>1116</td><td>BR0880</td><td>IFA (including Trabant, Wartburg, Barkas) Motors</td></tr><tr><td>1117</td><td>BR0999</td><td>JPX Motors</td></tr><tr><td>1118</td><td>BR1974</td><td>Turner Motors</td></tr><tr><td>1119</td><td>BR2180</td><td>Lagonda  Motors</td></tr><tr><td>1120</td><td>BR0923</td><td>Iso Motors</td></tr><tr><td>1121</td><td>BR0953</td><td>Iveco Motors</td></tr><tr><td>1122</td><td>BR1498</td><td>Panther Motors</td></tr><tr><td>1123</td><td>BR1583</td><td>Porsche Motors</td></tr><tr><td>1124</td><td>BR1709</td><td>Samsung Motors</td></tr><tr><td>1125</td><td>BR1723</td><td>Santa Matilde Motors</td></tr><tr><td>1126</td><td>BR1920</td><td>Tatra Motors</td></tr><tr><td>1127</td><td>BR2222</td><td>Wolseley  Motors</td></tr><tr><td>1128</td><td>BR2231</td><td>Standard  Motors</td></tr><tr><td>1129</td><td>BR2273</td><td>Deccan Motors</td></tr><tr><td>1130</td><td>BR2327</td><td>Blankinship Motor Company Building</td></tr><tr><td>1131</td><td>BR0077</td><td>Anadol Motors</td></tr><tr><td>1132</td><td>BR0344</td><td>Chrysler Motors</td></tr><tr><td>1133</td><td>BR0774</td><td>Hennessey Motors</td></tr><tr><td>1134</td><td>BR0901</td><td>Invicta Motors</td></tr><tr><td>1135</td><td>BR1193</td><td>Mastretta Motors</td></tr><tr><td>1136</td><td>BR1199</td><td>Mastretta Motors</td></tr><tr><td>1137</td><td>BR1227</td><td>Mazzanti Motors</td></tr><tr><td>1138</td><td>BR1317</td><td>Mitsubishi Motors</td></tr><tr><td>1139</td><td>BR1428</td><td>Oldsmobile Motors</td></tr><tr><td>1140</td><td>BR1589</td><td>Porsche Motors</td></tr><tr><td>1141</td><td>BR1634</td><td>Reliant Motors</td></tr><tr><td>1142</td><td>BR1894</td><td>Suzuki Motors</td></tr><tr><td>1143</td><td>BR0387</td><td>Dacia Motors</td></tr><tr><td>1144</td><td>BR0426</td><td>Anadol Motors</td></tr><tr><td>1145</td><td>BR0573</td><td>Fiat do Brasil Motors</td></tr><tr><td>1146</td><td>BR1234</td><td>McLaren Motors</td></tr><tr><td>1147</td><td>BR1401</td><td>Noble Motors</td></tr><tr><td>1148</td><td>BR1578</td><td>Pontiac, Asüna Motors</td></tr><tr><td>1149</td><td>BR1788</td><td>Simca Motors</td></tr><tr><td>1150</td><td>BR1805</td><td>Singer Motors</td></tr><tr><td>1151</td><td>BR2144</td><td>Wanderer Motors</td></tr><tr><td>1152</td><td>BR2243</td><td>Talbot  Motors</td></tr><tr><td>1153</td><td>BR0154</td><td>Auto-Union Motors</td></tr><tr><td>1154</td><td>BR0193</td><td>BMW Motors</td></tr><tr><td>1155</td><td>BR0439</td><td>Datsun Motors</td></tr><tr><td>1156</td><td>BR0910</td><td>Invicta Motors</td></tr><tr><td>1157</td><td>BR1360</td><td>Moskwitch Motors</td></tr><tr><td>1158</td><td>BR1649</td><td>Renault Motors</td></tr><tr><td>1159</td><td>BR1804</td><td>Singer Motors</td></tr><tr><td>1160</td><td>BR1963</td><td>Toyota India Motors</td></tr><tr><td>1161</td><td>BR2019</td><td>Venturi Motors</td></tr><tr><td>1162</td><td>BR0098</td><td>ARO Motors</td></tr><tr><td>1163</td><td>BR0141</td><td>Autobianchi Motors</td></tr><tr><td>1164</td><td>BR0442</td><td>Delahaye Motors</td></tr><tr><td>1165</td><td>BR0590</td><td>Fiat India Motors</td></tr><tr><td>1166</td><td>BR10086</td><td>SAIC Motor Motors</td></tr><tr><td>1167</td><td>BR1043</td><td>Lamborghini Motors</td></tr><tr><td>1168</td><td>BR1222</td><td>Mazzanti Motors</td></tr><tr><td>1169</td><td>BR1393</td><td>Nissan India Motors</td></tr><tr><td>1170</td><td>BR2031</td><td>Volkswagen do Brasil Motors</td></tr><tr><td>1171</td><td>BR2187</td><td>MG  Motors</td></tr><tr><td>1172</td><td>BR2207</td><td>Austin  Motors</td></tr><tr><td>1173</td><td>BR2240</td><td>Standard  Motors</td></tr><tr><td>1174</td><td>BR2361</td><td>Casa de cadillac</td></tr><tr><td>1175</td><td>BR2392</td><td>Clemens Automobile Company Building</td></tr><tr><td>1176</td><td>BR5946</td><td>JPX Motors</td></tr><tr><td>1177</td><td>BR0208</td><td>Bond Motors</td></tr><tr><td>1178</td><td>BR0260</td><td>Austin, Rover Motors</td></tr><tr><td>1179</td><td>BR0309</td><td>Caterham Motors</td></tr><tr><td>1180</td><td>BR1128</td><td>LuAZ Motors</td></tr><tr><td>1181</td><td>BR1348</td><td>Morgan Motors</td></tr><tr><td>1182</td><td>BR1667</td><td>Rolls-Royce Motors</td></tr><tr><td>1183</td><td>BR2312</td><td>2008 NRHP-listed</td></tr><tr><td>1184</td><td>BR2423</td><td>Howard Motor Company Building</td></tr><tr><td>1185</td><td>BR4926</td><td>Honda India Motors</td></tr><tr><td>1186</td><td>BR0391</td><td>Daewoo, Saehan, Chevrolet Korea Motors</td></tr><tr><td>1187</td><td>BR0751</td><td>Healey Motors</td></tr><tr><td>1188</td><td>BR0769</td><td>Heinkel Motors</td></tr><tr><td>1189</td><td>BR0998</td><td>JPX Motors</td></tr><tr><td>1190</td><td>BR1183</td><td>Maserati Motors</td></tr><tr><td>1191</td><td>BR1313</td><td>Mitsubishi Motors</td></tr><tr><td>1192</td><td>BR1455</td><td>Packard Motors</td></tr><tr><td>1193</td><td>BR2463</td><td>Kindel Building</td></tr><tr><td>1194</td><td>BR4566</td><td>Heinkel Motors</td></tr><tr><td>1195</td><td>BR1108</td><td>Lotus Motors</td></tr><tr><td>1196</td><td>BR1204</td><td>Matra (including Deutsch-Bonnet, René Bonnet) Motors</td></tr><tr><td>1197</td><td>BR13326</td><td>Wolseley  Motors</td></tr><tr><td>1198</td><td>BR1372</td><td>Naza Motors</td></tr><tr><td>1199</td><td>BR1758</td><td>Scion Motors</td></tr><tr><td>1200</td><td>BR1887</td><td>Sunbeam Motors</td></tr><tr><td>1201</td><td>BR2214</td><td>Riley  Motors</td></tr><tr><td>1202</td><td>BR7986</td><td>Monteverdi Motors</td></tr><tr><td>1203</td><td>BR0515</td><td>e.GO Mobile Motors</td></tr><tr><td>1204</td><td>BR0661</td><td>FSO Motors</td></tr><tr><td>1205</td><td>BR1021</td><td>KTM Motors</td></tr><tr><td>1206</td><td>BR1268</td><td>Merkur Motors</td></tr><tr><td>1207</td><td>BR13266</td><td>Riley  Motors</td></tr><tr><td>1208</td><td>BR2151</td><td>Maybach  Motors</td></tr><tr><td>1209</td><td>BR2300</td><td>Zion Automobils</td></tr><tr><td>1210</td><td>BR2382</td><td>Claremore Auto Dealership</td></tr><tr><td>1211</td><td>BR0010</td><td>AC Cars Motors</td></tr><tr><td>1212</td><td>BR0051</td><td>Alvis Motors</td></tr><tr><td>1213</td><td>BR0341</td><td>Chrysler Motors</td></tr><tr><td>1214</td><td>BR0384</td><td>Dacia Motors</td></tr><tr><td>1215</td><td>BR0569</td><td>Fiat Motors</td></tr><tr><td>1216</td><td>BR14646</td><td>Jennings Ford Automobile Dealership</td></tr><tr><td>1217</td><td>BR1562</td><td>Polestar Motors</td></tr><tr><td>1218</td><td>BR1872</td><td>Subaru Motors</td></tr><tr><td>1219</td><td>BR2128</td><td>DKW Motors</td></tr><tr><td>1220</td><td>BR2197</td><td>Morris  Motors</td></tr><tr><td>1221</td><td>BR2253</td><td>Das Motors</td></tr><tr><td>1222</td><td>BR2315</td><td>2008 NRHP-listed</td></tr><tr><td>1223</td><td>BR0443</td><td>Delahaye Motors</td></tr><tr><td>1224</td><td>BR0925</td><td>Iso Motors</td></tr><tr><td>1225</td><td>BR1019</td><td>Koenigsegg Motors</td></tr><tr><td>1226</td><td>BR1411</td><td>NSU Motors</td></tr><tr><td>1227</td><td>BR1733</td><td>Santana Motors</td></tr><tr><td>1228</td><td>BR1745</td><td>Saturn Motors</td></tr><tr><td>1229</td><td>BR1962</td><td>Toyota India Motors</td></tr><tr><td>1230</td><td>BR2251</td><td>Das Motors</td></tr><tr><td>1231</td><td>BR0102</td><td>Artega Motors</td></tr><tr><td>1232</td><td>BR0745</td><td>Gumpert Motors</td></tr><tr><td>1233</td><td>BR0858</td><td>Hummer Motors</td></tr><tr><td>1234</td><td>BR0917</td><td>Isdera Motors</td></tr><tr><td>1235</td><td>BR1171</td><td>Maruti Motors</td></tr><tr><td>1236</td><td>BR1247</td><td>Mercedes-Benz (including Maybach) Motors</td></tr><tr><td>1237</td><td>BR1831</td><td>Spyker Motors</td></tr><tr><td>1238</td><td>BR2448</td><td>Jennings Ford Automobile Dealership</td></tr><tr><td>1239</td><td>BR0173</td><td>Bentley Motors</td></tr><tr><td>1240</td><td>BR0249</td><td>Austin-Healey Motors</td></tr><tr><td>1241</td><td>BR0619</td><td>Ford Australia Motors</td></tr><tr><td>1242</td><td>BR1118</td><td>LTI Motors</td></tr><tr><td>1243</td><td>BR1294</td><td>Micro Motors</td></tr><tr><td>1244</td><td>BR1593</td><td>Premier Motors</td></tr><tr><td>1245</td><td>BR1712</td><td>San Motors</td></tr><tr><td>1246</td><td>BR1728</td><td>Santa Matilde Motors</td></tr><tr><td>1247</td><td>BR2409</td><td>Colman Automotive Building</td></tr><tr><td>1248</td><td>BR8586</td><td>Oltcit Motors</td></tr><tr><td>1249</td><td>BR0402</td><td>DAF Motors</td></tr><tr><td>1250</td><td>BR0542</td><td>Facel Vega Motors</td></tr><tr><td>1251</td><td>BR11646</td><td>Tornado Motors</td></tr><tr><td>1252</td><td>BR1467</td><td>Pagani Motors</td></tr><tr><td>1253</td><td>BR2321</td><td>Blankinship Motor Company Building</td></tr><tr><td>1254</td><td>BR7026</td><td>Maruti Motors</td></tr><tr><td>1255</td><td>BR0295</td><td>Cadillac Motors</td></tr><tr><td>1256</td><td>BR0641</td><td>Ford India Motors</td></tr><tr><td>1257</td><td>BR0715</td><td>Glas Motors</td></tr><tr><td>1258</td><td>BR0975</td><td>Jeep Motors</td></tr><tr><td>1259</td><td>BR1004</td><td>Kia Motors</td></tr><tr><td>1260</td><td>BR1610</td><td>Proton Motors</td></tr><tr><td>1261</td><td>BR1741</td><td>Saturn Motors</td></tr><tr><td>1262</td><td>BR2053</td><td>Volvo Motors</td></tr><tr><td>1263</td><td>BR2340</td><td>Bohn Motor Company Automobile Dealership</td></tr><tr><td>1264</td><td>BR0042</td><td>Alpine Motors</td></tr><tr><td>1265</td><td>BR0311</td><td>Checker Motors</td></tr><tr><td>1266</td><td>BR0482</td><td>Dodge Motors</td></tr><tr><td>1267</td><td>BR0870</td><td>Hyundai Motors</td></tr><tr><td>1268</td><td>BR1362</td><td>Nash Motors</td></tr><tr><td>1269</td><td>BR1571</td><td>Pontiac, Asüna Motors</td></tr><tr><td>1270</td><td>BR2370</td><td>Casa de cadillac</td></tr><tr><td>1271</td><td>BR2389</td><td>Claremore Auto Dealership</td></tr><tr><td>1272</td><td>BR3966</td><td>FSO Motors</td></tr><tr><td>1273</td><td>BR6846</td><td>Mahindra Motors</td></tr><tr><td>1274</td><td>BR7806</td><td>Mini Motors</td></tr><tr><td>1275</td><td>BR0420</td><td>Daihatsu Motors</td></tr><tr><td>1276</td><td>BR0667</td><td>FSO Motors</td></tr><tr><td>1277</td><td>BR0742</td><td>Gumpert Motors</td></tr><tr><td>1278</td><td>BR0822</td><td>Honda India Motors</td></tr><tr><td>1279</td><td>BR0981</td><td>Jensen Motors</td></tr><tr><td>1280</td><td>BR1052</td><td>Lancia Motors</td></tr><tr><td>1281</td><td>BR1194</td><td>Mastretta Motors</td></tr><tr><td>1282</td><td>BR1620</td><td>Puma Motors</td></tr><tr><td>1283</td><td>BR1761</td><td>Seat Motors</td></tr><tr><td>1284</td><td>BR1925</td><td>Tazzari Motors</td></tr><tr><td>1285</td><td>BR1933</td><td>Tesla Motors</td></tr><tr><td>1286</td><td>BR2045</td><td>Volkswagen South Africa Motors</td></tr><tr><td>1287</td><td>BR2469</td><td>Kindel Building</td></tr><tr><td>1288</td><td>BR8706</td><td>Packard Motors</td></tr><tr><td>1289</td><td>BR9306</td><td>Plymouth Motors</td></tr><tr><td>1290</td><td>BR0015</td><td>Acura Motors</td></tr><tr><td>1291</td><td>BR0217</td><td>Borgward (including Goliath and Lloyd) Motors</td></tr><tr><td>1292</td><td>BR0283</td><td>Bytom Motors</td></tr><tr><td>1293</td><td>BR1274</td><td>Messerschmitt Motors</td></tr><tr><td>1294</td><td>BR1431</td><td>Oltcit Motors</td></tr><tr><td>1295</td><td>BR1451</td><td>Packard Motors</td></tr><tr><td>1296</td><td>BR1554</td><td>Plymouth Motors</td></tr><tr><td>1297</td><td>BR2049</td><td>Volkswagen South Africa Motors</td></tr><tr><td>1298</td><td>BR2088</td><td>Zastava Motors</td></tr><tr><td>1299</td><td>BR2107</td><td>ZIL Motors</td></tr><tr><td>1300</td><td>BR2305</td><td>Atlantic Motor Company</td></tr><tr><td>1301</td><td>BR5586</td><td>Isotta Fraschini Motors</td></tr><tr><td>1302</td><td>BR0290</td><td>Bytom Motors</td></tr><tr><td>1303</td><td>BR0474</td><td>De Tomaso Motors</td></tr><tr><td>1304</td><td>BR0940</td><td>Isotta Fraschini Motors</td></tr><tr><td>1305</td><td>BR2202</td><td>Austin  Motors</td></tr><tr><td>1306</td><td>BR6246</td><td>Lamborghini Motors</td></tr><tr><td>1307</td><td>BR0179</td><td>Bentley Motors</td></tr><tr><td>1308</td><td>BR0797</td><td>Hindustan Motors</td></tr><tr><td>1309</td><td>BR1261</td><td>Merkur Motors</td></tr><tr><td>1310</td><td>BR1575</td><td>Pontiac, Asüna Motors</td></tr><tr><td>1311</td><td>BR2114</td><td>Audi Motors</td></tr><tr><td>1312</td><td>BR2208</td><td>Austin  Motors</td></tr><tr><td>1313</td><td>BR0087</td><td>Ariel Motors</td></tr><tr><td>1314</td><td>BR0117</td><td>Asia Motors Motors</td></tr><tr><td>1315</td><td>BR0181</td><td>Bitter Motors</td></tr><tr><td>1316</td><td>BR0183</td><td>Bitter Motors</td></tr><tr><td>1317</td><td>BR0464</td><td>DeSoto Motors</td></tr><tr><td>1318</td><td>BR0633</td><td>Ford Europe Motors</td></tr><tr><td>1319</td><td>BR8946</td><td>Panther Motors</td></tr><tr><td>1320</td><td>BR0643</td><td>Ford India Motors</td></tr><tr><td>1321</td><td>BR1086</td><td>Bitter Motors</td></tr><tr><td>1322</td><td>BR1465</td><td>Pagani Motors</td></tr><tr><td>1323</td><td>BR1489</td><td>Panoz Motors</td></tr><tr><td>1324</td><td>BR1643</td><td>Renault Motors</td></tr><tr><td>1325</td><td>BR1765</td><td>Seat Motors</td></tr><tr><td>1326</td><td>BR0090</td><td>Ariel Motors</td></tr><tr><td>1327</td><td>BR0487</td><td>Dodge Motors</td></tr><tr><td>1328</td><td>BR1020</td><td>Koenigsegg Motors</td></tr><tr><td>1329</td><td>BR1073</td><td>Lexus Motors</td></tr><tr><td>1330</td><td>BR1102</td><td>Lotus Motors</td></tr><tr><td>1331</td><td>BR12306</td><td>Volvo Motors</td></tr><tr><td>1332</td><td>BR1682</td><td>SAIC Motor Motors</td></tr><tr><td>1333</td><td>BR1702</td><td>Samsung Motors</td></tr><tr><td>1334</td><td>BR1938</td><td>Tesla Motors</td></tr><tr><td>1335</td><td>BR1958</td><td>Toyota Motors</td></tr><tr><td>1336</td><td>BR2173</td><td>Lagonda  Motors</td></tr><tr><td>1337</td><td>BR0379</td><td>Cizeta-Moroder Motors</td></tr><tr><td>1338</td><td>BR0687</td><td>Geo Motors</td></tr><tr><td>1339</td><td>BR0767</td><td>Heinkel Motors</td></tr><tr><td>1340</td><td>BR14106</td><td>Cadillac Automobile Company Building</td></tr><tr><td>1341</td><td>BR1454</td><td>Packard Motors</td></tr><tr><td>1342</td><td>BR1642</td><td>Renault Motors</td></tr><tr><td>1343</td><td>BR1652</td><td>Rivian Motors</td></tr><tr><td>1344</td><td>BR2052</td><td>Volvo Motors</td></tr><tr><td>1345</td><td>BR2157</td><td>Maybach  Motors</td></tr><tr><td>1346</td><td>BR2182</td><td>MG  Motors</td></tr><tr><td>1347</td><td>BR3666</td><td>Ford Australia Motors</td></tr><tr><td>1348</td><td>BR0668</td><td>FSO Motors</td></tr><tr><td>1349</td><td>BR0719</td><td>Glas Motors</td></tr><tr><td>1350</td><td>BR1079</td><td>Lexus Motors</td></tr><tr><td>1351</td><td>BR1299</td><td>Micro Motors</td></tr><tr><td>1352</td><td>BR1685</td><td>SAIC Motor Motors</td></tr><tr><td>1353</td><td>BR1720</td><td>San Motors</td></tr><tr><td>1354</td><td>BR1729</td><td>Santa Matilde Motors</td></tr><tr><td>1355</td><td>BR2079</td><td>Wiesmann Motors</td></tr><tr><td>1356</td><td>BR2163</td><td>Izh  Motors</td></tr><tr><td>1357</td><td>BR2414</td><td>H Street Playhouse</td></tr><tr><td>1358</td><td>BR6966</td><td>Marlin Motors</td></tr><tr><td>1359</td><td>BR0819</td><td>Honda Motors</td></tr><tr><td>1360</td><td>BR1214</td><td>Mazda Motors</td></tr><tr><td>1361</td><td>BR1911</td><td>Tatra Motors</td></tr><tr><td>1362</td><td>BR2166</td><td>Citroën Motors</td></tr><tr><td>1363</td><td>BR2175</td><td>Lagonda  Motors</td></tr><tr><td>1364</td><td>BR2198</td><td>Morris  Motors</td></tr><tr><td>1365</td><td>BR6126</td><td>KTM Motors</td></tr><tr><td>1366</td><td>BR0400</td><td>Daewoo, Saehan, Chevrolet Korea Motors</td></tr><tr><td>1367</td><td>BR0527</td><td>Eicher Polaris Motors</td></tr><tr><td>1368</td><td>BR1103</td><td>Lotus Motors</td></tr><tr><td>1369</td><td>BR13686</td><td>Herald Motors</td></tr><tr><td>1370</td><td>BR1815</td><td>Skoda Motors</td></tr><tr><td>1371</td><td>BR0414</td><td>Daihatsu Motors</td></tr><tr><td>1372</td><td>BR0444</td><td>Delahaye Motors</td></tr><tr><td>1373</td><td>BR0959</td><td>Iveco Motors</td></tr><tr><td>1374</td><td>BR1058</td><td>Lancia Motors</td></tr><tr><td>1375</td><td>BR1338</td><td>Monteverdi Motors</td></tr><tr><td>1376</td><td>BR1388</td><td>Nissan Motors</td></tr><tr><td>1377</td><td>BR1854</td><td>Standard-Triumph Motors</td></tr><tr><td>1378</td><td>BR2270</td><td>Ramani Motors</td></tr><tr><td>1379</td><td>BR2278</td><td>Deccan Motors</td></tr><tr><td>1380</td><td>BR2287</td><td>Herald Motors</td></tr><tr><td>1381</td><td>BR2324</td><td>Blankinship Motor Company Building</td></tr><tr><td>1382</td><td>BR0280</td><td>Buick Motors</td></tr><tr><td>1383</td><td>BR0631</td><td>Ford Europe Motors</td></tr><tr><td>1384</td><td>BR0702</td><td>Ginetta Motors</td></tr><tr><td>1385</td><td>BR0942</td><td>Isuzu Motors</td></tr><tr><td>1386</td><td>BR1151</td><td>Marcos Motors</td></tr><tr><td>1387</td><td>BR2121</td><td>DKW Motors</td></tr><tr><td>1388</td><td>BR2174</td><td>Lagonda  Motors</td></tr><tr><td>1389</td><td>BR2886</td><td>Dodge Motors</td></tr><tr><td>1390</td><td>BR0213</td><td>Borgward (including Goliath and Lloyd) Motors</td></tr><tr><td>1391</td><td>BR0680</td><td>GAZ Motors</td></tr><tr><td>1392</td><td>BR1075</td><td>Lexus Motors</td></tr><tr><td>1393</td><td>BR1207</td><td>Matra (including Deutsch-Bonnet, René Bonnet) Motors</td></tr><tr><td>1394</td><td>BR1507</td><td>Peel Motors</td></tr><tr><td>1395</td><td>BR2080</td><td>Wiesmann Motors</td></tr><tr><td>1396</td><td>BR0454</td><td>DeLorean Motors</td></tr><tr><td>1397</td><td>BR0974</td><td>Jeep Motors</td></tr><tr><td>1398</td><td>BR1026</td><td>Bentley Motors</td></tr><tr><td>1399</td><td>BR13566</td><td>Ramani Motors</td></tr><tr><td>1400</td><td>BR1457</td><td>Packard Motors</td></tr><tr><td>1401</td><td>BR1684</td><td>SAIC Motor Motors</td></tr><tr><td>1402</td><td>BR2301</td><td>Atlantic Motor Company</td></tr><tr><td>1403</td><td>BR2310</td><td>Atlantic Motor Company</td></tr><tr><td>1404</td><td>BR2384</td><td>Claremore Auto Dealership</td></tr><tr><td>1405</td><td>BR2454</td><td>Jones Motor Company</td></tr><tr><td>1406</td><td>BR0186</td><td>Alfa Romeo Motors</td></tr><tr><td>1407</td><td>BR0834</td><td>Hudson Motors</td></tr><tr><td>1408</td><td>BR0904</td><td>Invicta Motors</td></tr><tr><td>1409</td><td>BR0907</td><td>Invicta Motors</td></tr><tr><td>1410</td><td>BR1200</td><td>Mastretta Motors</td></tr><tr><td>1411</td><td>BR1889</td><td>Sunbeam Motors</td></tr><tr><td>1412</td><td>BR2140</td><td>Horch Motors</td></tr><tr><td>1413</td><td>BR2177</td><td>Lagonda  Motors</td></tr><tr><td>1414</td><td>BR0810</td><td>Holden Motors</td></tr><tr><td>1415</td><td>BR1530</td><td>Peugeot Motors</td></tr><tr><td>1416</td><td>BR1638</td><td>Reliant Motors</td></tr><tr><td>1417</td><td>BR1779</td><td>Shelby SuperCars Motors</td></tr><tr><td>1418</td><td>BR1928</td><td>Tazzari Motors</td></tr><tr><td>1419</td><td>BR1954</td><td>Toyota Motors</td></tr><tr><td>1420</td><td>BR1998</td><td>UAZ Motors</td></tr><tr><td>1421</td><td>BR2355</td><td>Cadillac Automobile Company Building</td></tr><tr><td>1422</td><td>BR2359</td><td>Cadillac Automobile Company Building</td></tr><tr><td>1423</td><td>BR0012</td><td>Acura Motors</td></tr><tr><td>1424</td><td>BR0578</td><td>Fiat do Brasil Motors</td></tr><tr><td>1425</td><td>BR0748</td><td>Gumpert Motors</td></tr><tr><td>1426</td><td>BR1386</td><td>British Leyland Motors</td></tr><tr><td>1427</td><td>BR1868</td><td>Studebaker Motors</td></tr><tr><td>1428</td><td>BR1930</td><td>Tazzari Motors</td></tr><tr><td>1429</td><td>BR0427</td><td>Daimler Motors</td></tr><tr><td>1430</td><td>BR0924</td><td>Iso Motors</td></tr><tr><td>1431</td><td>BR0949</td><td>Isuzu Motors</td></tr><tr><td>1432</td><td>BR1001</td><td>Kia Motors</td></tr><tr><td>1433</td><td>BR1157</td><td>Marcos Motors</td></tr><tr><td>1434</td><td>BR1165</td><td>Marlin Motors</td></tr><tr><td>1435</td><td>BR1188</td><td>Maserati Motors</td></tr><tr><td>1436</td><td>BR1513</td><td>Perodua Motors</td></tr><tr><td>1437</td><td>BR1751</td><td>Scion Motors</td></tr><tr><td>1438</td><td>BR2029</td><td>Volkswagen Motors</td></tr><tr><td>1439</td><td>BR2060</td><td>Volvo Motors</td></tr><tr><td>1440</td><td>BR2137</td><td>Horch Motors</td></tr><tr><td>1441</td><td>BR0403</td><td>DAF Motors</td></tr><tr><td>1442</td><td>BR0645</td><td>Ford India Motors</td></tr><tr><td>1443</td><td>BR0893</td><td>Innocenti Motors</td></tr><tr><td>1444</td><td>BR1170</td><td>Marlin Motors</td></tr><tr><td>1445</td><td>BR1371</td><td>Naza Motors</td></tr><tr><td>1446</td><td>BR1858</td><td>Standard-Triumph Motors</td></tr><tr><td>1447</td><td>BR2419</td><td>H Street Playhouse</td></tr><tr><td>1448</td><td>BR3066</td><td>e.GO Mobile Motors</td></tr><tr><td>1449</td><td>BR0061</td><td>AMC, Eagle Motors</td></tr><tr><td>1450</td><td>BR0323</td><td>Chevrolet Motors</td></tr><tr><td>1451</td><td>BR1475</td><td>Panhard Motors</td></tr><tr><td>1452</td><td>BR1908</td><td>Tata Motors</td></tr><tr><td>1453</td><td>BR2220</td><td>Riley  Motors</td></tr><tr><td>1454</td><td>BR2286</td><td>Dacia Motors</td></tr><tr><td>1455</td><td>BR2431</td><td>Hupmobile Building</td></tr><tr><td>1456</td><td>BR0332</td><td>Chevrolet India Motors</td></tr><tr><td>1457</td><td>BR0551</td><td>Ferrari Motors</td></tr><tr><td>1458</td><td>BR0969</td><td>Jaguar Motors</td></tr><tr><td>1459</td><td>BR1172</td><td>Maruti Motors</td></tr><tr><td>1460</td><td>BR1203</td><td>Matra (including Deutsch-Bonnet, René Bonnet) Motors</td></tr><tr><td>1461</td><td>BR1543</td><td>Piaggio Motors</td></tr><tr><td>1462</td><td>BR1588</td><td>Porsche Motors</td></tr><tr><td>1463</td><td>BR1800</td><td>Simca do Brasil Motors</td></tr><tr><td>1464</td><td>BR1839</td><td>Spyker Motors</td></tr><tr><td>1465</td><td>BR0221</td><td>Bristol Motors</td></tr><tr><td>1466</td><td>BR0422</td><td>Daimler Motors</td></tr><tr><td>1467</td><td>BR0450</td><td>Delahaye Motors</td></tr><tr><td>1468</td><td>BR0669</td><td>FSO Motors</td></tr><tr><td>1469</td><td>BR0712</td><td>Glas Motors</td></tr><tr><td>1470</td><td>BR0804</td><td>Holden Motors</td></tr><tr><td>1471</td><td>BR0844</td><td>Humber Motors</td></tr><tr><td>1472</td><td>BR0970</td><td>Jaguar Motors</td></tr><tr><td>1473</td><td>BR1092</td><td>Lincoln Motors</td></tr><tr><td>1474</td><td>BR1184</td><td>Maserati Motors</td></tr><tr><td>1475</td><td>BR1251</td><td>Mercury Motors</td></tr><tr><td>1476</td><td>BR1287</td><td>Mia Motors</td></tr><tr><td>1477</td><td>BR1582</td><td>Porsche Motors</td></tr><tr><td>1478</td><td>BR1787</td><td>Simca Motors</td></tr><tr><td>1479</td><td>BR2395</td><td>Clemens Automobile Company Building</td></tr><tr><td>1480</td><td>BR0265</td><td>Bugatti Motors</td></tr><tr><td>1481</td><td>BR0305</td><td>Caterham Motors</td></tr><tr><td>1482</td><td>BR0860</td><td>Hummer Motors</td></tr><tr><td>1483</td><td>BR1023</td><td>KTM Motors</td></tr><tr><td>1484</td><td>BR1037</td><td>Lada Motors</td></tr><tr><td>1485</td><td>BR10446</td><td>Saturn Motors</td></tr><tr><td>1486</td><td>BR4386</td><td>GTA Spano Motors</td></tr><tr><td>1487</td><td>BR0060</td><td>Alvis Motors</td></tr><tr><td>1488</td><td>BR0123</td><td>Aston Martin Motors</td></tr><tr><td>1489</td><td>BR0239</td><td>British Leyland Motors</td></tr><tr><td>1490</td><td>BR0306</td><td>Alvis Motors</td></tr><tr><td>1491</td><td>BR10026</td><td>Saab Motors</td></tr><tr><td>1492</td><td>BR1217</td><td>Mazda Motors</td></tr><tr><td>1493</td><td>BR1914</td><td>Tatra Motors</td></tr><tr><td>1494</td><td>BR2113</td><td>Audi Motors</td></tr><tr><td>1495</td><td>BR4626</td><td>Hennessey Motors</td></tr><tr><td>1496</td><td>BR0381</td><td>Dacia Motors</td></tr><tr><td>1497</td><td>BR0629</td><td>Ford do Brasil Motors</td></tr><tr><td>1498</td><td>BR1060</td><td>Lancia Motors</td></tr><tr><td>1499</td><td>BR1145</td><td>Mahindra Motors</td></tr><tr><td>1500</td><td>BR1229</td><td>Mazzanti Motors</td></tr><tr><td>1501</td><td>BR1252</td><td>Mercury Motors</td></tr><tr><td>1502</td><td>BR1602</td><td>Proton Motors</td></tr><tr><td>1503</td><td>BR1793</td><td>Simca do Brasil Motors</td></tr><tr><td>1504</td><td>BR2130</td><td>DKW Motors</td></tr><tr><td>1505</td><td>BR2411</td><td>H Street Playhouse</td></tr><tr><td>1506</td><td>BR0215</td><td>Borgward (including Goliath and Lloyd) Motors</td></tr><tr><td>1507</td><td>BR0329</td><td>Chevrolet Motors</td></tr><tr><td>1508</td><td>BR0441</td><td>Delahaye Motors</td></tr><tr><td>1509</td><td>BR1059</td><td>Lancia Motors</td></tr><tr><td>1510</td><td>BR13386</td><td>Standard  Motors</td></tr><tr><td>1511</td><td>BR1590</td><td>Porsche Motors</td></tr><tr><td>1512</td><td>BR1647</td><td>Renault Motors</td></tr><tr><td>1513</td><td>BR1777</td><td>Shelby SuperCars Motors</td></tr><tr><td>1514</td><td>BR2040</td><td>Volkswagen do Brasil Motors</td></tr><tr><td>1515</td><td>BR2164</td><td>Izh  Motors</td></tr><tr><td>1516</td><td>BR0483</td><td>Dodge Motors</td></tr><tr><td>1517</td><td>BR0739</td><td>GTA Spano Motors</td></tr><tr><td>1518</td><td>BR0987</td><td>Jensen Motors</td></tr><tr><td>1519</td><td>BR1129</td><td>LuAZ Motors</td></tr><tr><td>1520</td><td>BR12126</td><td>Volkswagen Motors</td></tr><tr><td>1521</td><td>BR1275</td><td>Messerschmitt Motors</td></tr><tr><td>1522</td><td>BR1495</td><td>Panther Motors</td></tr><tr><td>1523</td><td>BR1657</td><td>Rivian Motors</td></tr><tr><td>1524</td><td>BR1686</td><td>Bytom Motors</td></tr><tr><td>1525</td><td>BR0228</td><td>Bristol Motors</td></tr><tr><td>1526</td><td>BR0272</td><td>Buick Motors</td></tr><tr><td>1527</td><td>BR10386</td><td>Santana Motors</td></tr><tr><td>1528</td><td>BR1080</td><td>Lexus Motors</td></tr><tr><td>1529</td><td>BR1148</td><td>Mahindra Motors</td></tr><tr><td>1530</td><td>BR1150</td><td>Mahindra Motors</td></tr><tr><td>1531</td><td>BR1370</td><td>Nash Motors</td></tr><tr><td>1532</td><td>BR1673</td><td>Saab Motors</td></tr><tr><td>1533</td><td>BR0324</td><td>Chevrolet Motors</td></tr><tr><td>1534</td><td>BR0815</td><td>Honda Motors</td></tr><tr><td>1535</td><td>BR0985</td><td>Jensen Motors</td></tr><tr><td>1536</td><td>BR1127</td><td>LuAZ Motors</td></tr><tr><td>1537</td><td>BR12606</td><td>ZIL Motors</td></tr><tr><td>1538</td><td>BR1655</td><td>Rivian Motors</td></tr><tr><td>1539</td><td>BR1841</td><td>SsangYong Motors</td></tr><tr><td>1540</td><td>BR2118</td><td>Audi Motors</td></tr><tr><td>1541</td><td>BR2368</td><td>Casa de cadillac</td></tr><tr><td>1542</td><td>BR0277</td><td>Buick Motors</td></tr><tr><td>1543</td><td>BR0827</td><td>Honda India Motors</td></tr><tr><td>1544</td><td>BR1365</td><td>Nash Motors</td></tr><tr><td>1545</td><td>BR1784</td><td>Simca Motors</td></tr><tr><td>1546</td><td>BR2190</td><td>MG  Motors</td></tr><tr><td>1547</td><td>BR5226</td><td>IFA (including Trabant, Wartburg, Barkas) Motors</td></tr><tr><td>1548</td><td>BR0188</td><td>Bitter Motors</td></tr><tr><td>1549</td><td>BR0432</td><td>Datsun Motors</td></tr><tr><td>1550</td><td>BR1701</td><td>Samsung Motors</td></tr><tr><td>1551</td><td>BR2009</td><td>Vauxhall Motors</td></tr><tr><td>1552</td><td>BR2030</td><td>Volkswagen Motors</td></tr><tr><td>1553</td><td>BR2058</td><td>Volvo Motors</td></tr><tr><td>1554</td><td>BR2271</td><td>Deccan Motors</td></tr><tr><td>1555</td><td>BR2303</td><td>Atlantic Motor Company</td></tr><tr><td>1556</td><td>BR2357</td><td>Cadillac Automobile Company Building</td></tr><tr><td>1557</td><td>BR0003</td><td>AC Cars Motors</td></tr><tr><td>1558</td><td>BR0050</td><td>Alpine Motors</td></tr><tr><td>1559</td><td>BR0227</td><td>Bristol Motors</td></tr><tr><td>1560</td><td>BR0521</td><td>Eicher Polaris Motors</td></tr><tr><td>1561</td><td>BR0620</td><td>Ford Australia Motors</td></tr><tr><td>1562</td><td>BR0623</td><td>Ford do Brasil Motors</td></tr><tr><td>1563</td><td>BR0807</td><td>Holden Motors</td></tr><tr><td>1564</td><td>BR1450</td><td>Opel Motors</td></tr><tr><td>1565</td><td>BR1971</td><td>Turner Motors</td></tr><tr><td>1566</td><td>BR1987</td><td>TVR Motors</td></tr><tr><td>1567</td><td>BR2119</td><td>Audi Motors</td></tr><tr><td>1568</td><td>BR0072</td><td>Anadol Motors</td></tr><tr><td>1569</td><td>BR0078</td><td>Anadol Motors</td></tr><tr><td>1570</td><td>BR0081</td><td>Ariel Motors</td></tr><tr><td>1571</td><td>BR0118</td><td>Asia Motors Motors</td></tr><tr><td>1572</td><td>BR0180</td><td>Bentley Motors</td></tr><tr><td>1573</td><td>BR0203</td><td>Bond Motors</td></tr><tr><td>1574</td><td>BR1138</td><td>Lynx Motors</td></tr><tr><td>1575</td><td>BR1238</td><td>McLaren Motors</td></tr><tr><td>1576</td><td>BR2346</td><td>Daewoo, Saehan, Chevrolet Korea Motors</td></tr><tr><td>1577</td><td>BR6006</td><td>Kia Motors</td></tr><tr><td>1578</td><td>BR0047</td><td>Alpine Motors</td></tr><tr><td>1579</td><td>BR0253</td><td>Austin, Rover Motors</td></tr><tr><td>1580</td><td>BR0601</td><td>Ford America Motors</td></tr><tr><td>1581</td><td>BR0833</td><td>Hudson Motors</td></tr><tr><td>1582</td><td>BR10806</td><td>Singer Motors</td></tr><tr><td>1583</td><td>BR1158</td><td>Marcos Motors</td></tr><tr><td>1584</td><td>BR1502</td><td>Peel Motors</td></tr><tr><td>1585</td><td>BR1555</td><td>Plymouth Motors</td></tr><tr><td>1586</td><td>BR1611</td><td>Puma Motors</td></tr><tr><td>1587</td><td>BR1635</td><td>Reliant Motors</td></tr><tr><td>1588</td><td>BR1852</td><td>Standard-Triumph Motors</td></tr><tr><td>1589</td><td>BR1980</td><td>Turner Motors</td></tr><tr><td>1590</td><td>BR2028</td><td>Volkswagen Motors</td></tr><tr><td>1591</td><td>BR2229</td><td>Wolseley  Motors</td></tr><tr><td>1592</td><td>BR2338</td><td>Bohn Motor Company Automobile Dealership</td></tr><tr><td>1593</td><td>BR8286</td><td>Nissan Motors</td></tr><tr><td>1594</td><td>BR0043</td><td>Alpine Motors</td></tr><tr><td>1595</td><td>BR0194</td><td>BMW Motors</td></tr><tr><td>1596</td><td>BR0695</td><td>Gilbern Motors</td></tr><tr><td>1597</td><td>BR1028</td><td>KTM Motors</td></tr><tr><td>1598</td><td>BR1178</td><td>Maruti Motors</td></tr><tr><td>1599</td><td>BR1669</td><td>Rolls-Royce Motors</td></tr><tr><td>1600</td><td>BR2330</td><td>Blankinship Motor Company Building</td></tr><tr><td>1601</td><td>BR2358</td><td>Cadillac Automobile Company Building</td></tr><tr><td>1602</td><td>BR0704</td><td>Ginetta Motors</td></tr><tr><td>1603</td><td>BR0721</td><td>GMC Motors</td></tr><tr><td>1604</td><td>BR0838</td><td>Hudson Motors</td></tr><tr><td>1605</td><td>BR10146</td><td>Saleen Motors</td></tr><tr><td>1606</td><td>BR1087</td><td>Ligier Motors</td></tr><tr><td>1607</td><td>BR1266</td><td>Borgward (including Goliath and Lloyd) Motors</td></tr><tr><td>1608</td><td>BR2331</td><td>Bohn Motor Company Automobile Dealership</td></tr><tr><td>1609</td><td>BR2345</td><td>Buick Automobile Company Building</td></tr><tr><td>1610</td><td>BR2347</td><td>Buick Automobile Company Building</td></tr><tr><td>1611</td><td>BR0205</td><td>Bond Motors</td></tr><tr><td>1612</td><td>BR0278</td><td>Buick Motors</td></tr><tr><td>1613</td><td>BR0333</td><td>Chevrolet India Motors</td></tr><tr><td>1614</td><td>BR0412</td><td>Daihatsu Motors</td></tr><tr><td>1615</td><td>BR0460</td><td>DeLorean Motors</td></tr><tr><td>1616</td><td>BR0520</td><td>e.GO Mobile Motors</td></tr><tr><td>1617</td><td>BR0726</td><td>Aston Martin Motors</td></tr><tr><td>1618</td><td>BR0837</td><td>Hudson Motors</td></tr><tr><td>1619</td><td>BR0908</td><td>Invicta Motors</td></tr><tr><td>1620</td><td>BR11286</td><td>Sunbeam Motors</td></tr><tr><td>1621</td><td>BR1480</td><td>Panhard Motors</td></tr><tr><td>1622</td><td>BR0165</td><td>Auverland Motors</td></tr><tr><td>1623</td><td>BR0600</td><td>Fisker, Karma Motors</td></tr><tr><td>1624</td><td>BR0979</td><td>Jeep Motors</td></tr><tr><td>1625</td><td>BR1035</td><td>Lada Motors</td></tr><tr><td>1626</td><td>BR1210</td><td>Matra (including Deutsch-Bonnet, René Bonnet) Motors</td></tr><tr><td>1627</td><td>BR1264</td><td>Merkur Motors</td></tr><tr><td>1628</td><td>BR1559</td><td>Plymouth Motors</td></tr><tr><td>1629</td><td>BR1573</td><td>Pontiac, Asüna Motors</td></tr><tr><td>1630</td><td>BR2450</td><td>Jennings Ford Automobile Dealership</td></tr><tr><td>1631</td><td>BR0083</td><td>Ariel Motors</td></tr><tr><td>1632</td><td>BR0161</td><td>Auverland Motors</td></tr><tr><td>1633</td><td>BR0197</td><td>BMW Motors</td></tr><tr><td>1634</td><td>BR0481</td><td>Dodge Motors</td></tr><tr><td>1635</td><td>BR0567</td><td>Fiat Motors</td></tr><tr><td>1636</td><td>BR0945</td><td>Isuzu Motors</td></tr><tr><td>1637</td><td>BR11406</td><td>Tata Motors</td></tr><tr><td>1638</td><td>BR1521</td><td>Peugeot Motors</td></tr><tr><td>1639</td><td>BR1814</td><td>Skoda Motors</td></tr><tr><td>1640</td><td>BR2007</td><td>Vauxhall Motors</td></tr><tr><td>1641</td><td>BR2405</td><td>Colman Automotive Building</td></tr><tr><td>1642</td><td>BR0655</td><td>Freightliner Motors</td></tr><tr><td>1643</td><td>BR0964</td><td>Jaguar Motors</td></tr><tr><td>1644</td><td>BR1013</td><td>Koenigsegg Motors</td></tr><tr><td>1645</td><td>BR1834</td><td>Spyker Motors</td></tr><tr><td>1646</td><td>BR1835</td><td>Spyker Motors</td></tr><tr><td>1647</td><td>BR0200</td><td>BMW Motors</td></tr><tr><td>1648</td><td>BR0240</td><td>British Leyland Motors</td></tr><tr><td>1649</td><td>BR0657</td><td>Freightliner Motors</td></tr><tr><td>1650</td><td>BR0665</td><td>FSO Motors</td></tr><tr><td>1651</td><td>BR0698</td><td>Gilbern Motors</td></tr><tr><td>1652</td><td>BR0741</td><td>Gumpert Motors</td></tr><tr><td>1653</td><td>BR1113</td><td>LTI Motors</td></tr><tr><td>1654</td><td>BR1198</td><td>Mastretta Motors</td></tr><tr><td>1655</td><td>BR1253</td><td>Mercury Motors</td></tr><tr><td>1656</td><td>BR1807</td><td>Singer Motors</td></tr><tr><td>1657</td><td>BR1897</td><td>Suzuki Motors</td></tr><tr><td>1658</td><td>BR1905</td><td>Tata Motors</td></tr><tr><td>1659</td><td>BR2000</td><td>UAZ Motors</td></tr><tr><td>1660</td><td>BR6366</td><td>Land Rover Motors</td></tr><tr><td>1661</td><td>BR0055</td><td>Alvis Motors</td></tr><tr><td>1662</td><td>BR0902</td><td>Invicta Motors</td></tr><tr><td>1663</td><td>BR1110</td><td>Lotus Motors</td></tr><tr><td>1664</td><td>BR1511</td><td>Perodua Motors</td></tr><tr><td>1665</td><td>BR2152</td><td>Maybach  Motors</td></tr><tr><td>1666</td><td>BR2444</td><td>Jennings Ford Automobile Dealership</td></tr><tr><td>1667</td><td>BR0066</td><td>Acura Motors</td></tr><tr><td>1668</td><td>BR0294</td><td>Cadillac Motors</td></tr><tr><td>1669</td><td>BR0814</td><td>Honda Motors</td></tr><tr><td>1670</td><td>BR0839</td><td>Hudson Motors</td></tr><tr><td>1671</td><td>BR0873</td><td>IFA (including Trabant, Wartburg, Barkas) Motors</td></tr><tr><td>1672</td><td>BR11826</td><td>Turner Motors</td></tr><tr><td>1673</td><td>BR1189</td><td>Maserati Motors</td></tr><tr><td>1674</td><td>BR1259</td><td>Mercury Motors</td></tr><tr><td>1675</td><td>BR1808</td><td>Singer Motors</td></tr><tr><td>1676</td><td>BR2004</td><td>Vauxhall Motors</td></tr><tr><td>1677</td><td>BR2027</td><td>Volkswagen Motors</td></tr><tr><td>1678</td><td>BR0317</td><td>Checker Motors</td></tr><tr><td>1679</td><td>BR1333</td><td>Monteverdi Motors</td></tr><tr><td>1680</td><td>BR1651</td><td>Rivian Motors</td></tr><tr><td>1681</td><td>BR1803</td><td>Singer Motors</td></tr><tr><td>1682</td><td>BR2103</td><td>ZIL Motors</td></tr><tr><td>1683</td><td>BR2132</td><td>Horch Motors</td></tr><tr><td>1684</td><td>BR2260</td><td>Das Motors</td></tr><tr><td>1685</td><td>BR2350</td><td>Buick Automobile Company Building</td></tr><tr><td>1686</td><td>BR2421</td><td>Howard Motor Company Building</td></tr><tr><td>1687</td><td>BR0071</td><td>Anadol Motors</td></tr><tr><td>1688</td><td>BR0160</td><td>Auto-Union Motors</td></tr><tr><td>1689</td><td>BR0175</td><td>Bentley Motors</td></tr><tr><td>1690</td><td>BR0413</td><td>Daihatsu Motors</td></tr><tr><td>1691</td><td>BR0635</td><td>Ford Europe Motors</td></tr><tr><td>1692</td><td>BR0693</td><td>Gilbern Motors</td></tr><tr><td>1693</td><td>BR0734</td><td>GTA Spano Motors</td></tr><tr><td>1694</td><td>BR1663</td><td>Rolls-Royce Motors</td></tr><tr><td>1695</td><td>BR1874</td><td>Subaru Motors</td></tr><tr><td>1696</td><td>BR2122</td><td>DKW Motors</td></tr><tr><td>1697</td><td>BR8886</td><td>Panoz Motors</td></tr><tr><td>1698</td><td>BR0192</td><td>BMW Motors</td></tr><tr><td>1699</td><td>BR0255</td><td>Austin, Rover Motors</td></tr><tr><td>1700</td><td>BR0637</td><td>Ford Europe Motors</td></tr><tr><td>1701</td><td>BR0757</td><td>Healey Motors</td></tr><tr><td>1702</td><td>BR0965</td><td>Jaguar Motors</td></tr><tr><td>1703</td><td>BR1078</td><td>Lexus Motors</td></tr><tr><td>1704</td><td>BR1262</td><td>Merkur Motors</td></tr><tr><td>1705</td><td>BR1352</td><td>Moskwitch Motors</td></tr><tr><td>1706</td><td>BR1448</td><td>Opel Motors</td></tr><tr><td>1707</td><td>BR1631</td><td>Reliant Motors</td></tr><tr><td>1708</td><td>BR1633</td><td>Reliant Motors</td></tr><tr><td>1709</td><td>BR1665</td><td>Rolls-Royce Motors</td></tr><tr><td>1710</td><td>BR2169</td><td>Izh  Motors</td></tr><tr><td>1711</td><td>BR2272</td><td>Deccan Motors</td></tr><tr><td>1712</td><td>BR2318</td><td>2008 NRHP-listed</td></tr><tr><td>1713</td><td>BR1224</td><td>Mazzanti Motors</td></tr><tr><td>1714</td><td>BR1339</td><td>Monteverdi Motors</td></tr><tr><td>1715</td><td>BR1699</td><td>Saleen Motors</td></tr><tr><td>1716</td><td>BR1739</td><td>Santana Motors</td></tr><tr><td>1717</td><td>BR1972</td><td>Turner Motors</td></tr><tr><td>1718</td><td>BR2439</td><td>Hupmobile Building</td></tr><tr><td>1719</td><td>BR0052</td><td>Alvis Motors</td></tr><tr><td>1720</td><td>BR0119</td><td>Asia Motors Motors</td></tr><tr><td>1721</td><td>BR0723</td><td>GMC Motors</td></tr><tr><td>1722</td><td>BR1167</td><td>Marlin Motors</td></tr><tr><td>1723</td><td>BR1545</td><td>Piaggio Motors</td></tr><tr><td>1724</td><td>BR2401</td><td>Colman Automotive Building</td></tr><tr><td>1725</td><td>BR2586</td><td>Datsun Motors</td></tr><tr><td>1726</td><td>BR0419</td><td>Daihatsu Motors</td></tr><tr><td>1727</td><td>BR0867</td><td>Hyundai Motors</td></tr><tr><td>1728</td><td>BR1770</td><td>Seat Motors</td></tr><tr><td>1729</td><td>BR1824</td><td>Smart Motors</td></tr><tr><td>1730</td><td>BR2348</td><td>Buick Automobile Company Building</td></tr><tr><td>1731</td><td>BR0185</td><td>Bitter Motors</td></tr><tr><td>1732</td><td>BR0455</td><td>DeLorean Motors</td></tr><tr><td>1733</td><td>BR0692</td><td>Gilbern Motors</td></tr><tr><td>1734</td><td>BR0790</td><td>Hillman Motors</td></tr><tr><td>1735</td><td>BR0955</td><td>Iveco Motors</td></tr><tr><td>1736</td><td>BR0978</td><td>Jeep Motors</td></tr><tr><td>1737</td><td>BR1420</td><td>NSU Motors</td></tr><tr><td>1738</td><td>BR1522</td><td>Peugeot Motors</td></tr><tr><td>1739</td><td>BR1719</td><td>San Motors</td></tr><tr><td>1740</td><td>BR2335</td><td>Bohn Motor Company Automobile Dealership</td></tr><tr><td>1741</td><td>BR1499</td><td>Panther Motors</td></tr><tr><td>1742</td><td>BR3906</td><td>Freightliner Motors</td></tr><tr><td>1743</td><td>BR6186</td><td>Lada Motors</td></tr><tr><td>1744</td><td>BR0299</td><td>Cadillac Motors</td></tr><tr><td>1745</td><td>BR0438</td><td>Datsun Motors</td></tr><tr><td>1746</td><td>BR1629</td><td>Ranger Motors</td></tr><tr><td>1747</td><td>BR1941</td><td>Tornado Motors</td></tr><tr><td>1748</td><td>BR2032</td><td>Volkswagen do Brasil Motors</td></tr><tr><td>1749</td><td>BR2057</td><td>Volvo Motors</td></tr><tr><td>1750</td><td>BR2241</td><td>Talbot  Motors</td></tr><tr><td>1751</td><td>BR0191</td><td>BMW Motors</td></tr><tr><td>1752</td><td>BR0537</td><td>Elva Motors</td></tr><tr><td>1753</td><td>BR1623</td><td>Ranger Motors</td></tr><tr><td>1754</td><td>BR2284</td><td>Herald Motors</td></tr><tr><td>1755</td><td>BR0035</td><td>Alfa Romeo Motors</td></tr><tr><td>1756</td><td>BR0785</td><td>Hillman Motors</td></tr><tr><td>1757</td><td>BR0818</td><td>Honda Motors</td></tr><tr><td>1758</td><td>BR1137</td><td>Lynx Motors</td></tr><tr><td>1759</td><td>BR1146</td><td>BMW Motors</td></tr><tr><td>1760</td><td>BR1759</td><td>Scion Motors</td></tr><tr><td>1761</td><td>BR2375</td><td>Cass Motor Sales</td></tr><tr><td>1762</td><td>BR3426</td><td>Fiat do Brasil Motors</td></tr><tr><td>1763</td><td>BR0613</td><td>Ford Australia Motors</td></tr><tr><td>1764</td><td>BR1205</td><td>Matra (including Deutsch-Bonnet, René Bonnet) Motors</td></tr><tr><td>1765</td><td>BR1515</td><td>Perodua Motors</td></tr><tr><td>1766</td><td>BR1618</td><td>Puma Motors</td></tr><tr><td>1767</td><td>BR2766</td><td>DeSoto Motors</td></tr><tr><td>1768</td><td>BR0127</td><td>Aston Martin Motors</td></tr><tr><td>1769</td><td>BR1447</td><td>Opel Motors</td></tr><tr><td>1770</td><td>BR1823</td><td>Smart Motors</td></tr><tr><td>1771</td><td>BR2259</td><td>Das Motors</td></tr><tr><td>1772</td><td>BR0199</td><td>BMW Motors</td></tr><tr><td>1773</td><td>BR0201</td><td>Bond Motors</td></tr><tr><td>1774</td><td>BR0237</td><td>British Leyland Motors</td></tr><tr><td>1775</td><td>BR0493</td><td>Donkervoort Motors</td></tr><tr><td>1776</td><td>BR1041</td><td>Lamborghini Motors</td></tr><tr><td>1777</td><td>BR1485</td><td>Panoz Motors</td></tr><tr><td>1778</td><td>BR1527</td><td>Peugeot Motors</td></tr><tr><td>1779</td><td>BR2417</td><td>H Street Playhouse</td></tr><tr><td>1780</td><td>BR7266</td><td>Mazda Motors</td></tr><tr><td>1781</td><td>BR0128</td><td>Aston Martin Motors</td></tr><tr><td>1782</td><td>BR0234</td><td>British Leyland Motors</td></tr><tr><td>1783</td><td>BR1029</td><td>KTM Motors</td></tr><tr><td>1784</td><td>BR1125</td><td>LuAZ Motors</td></tr><tr><td>1785</td><td>BR1219</td><td>Mazda Motors</td></tr><tr><td>1786</td><td>BR1421</td><td>Oldsmobile Motors</td></tr><tr><td>1787</td><td>BR1523</td><td>Peugeot Motors</td></tr><tr><td>1788</td><td>BR1764</td><td>Seat Motors</td></tr><tr><td>1789</td><td>BR2195</td><td>Morris  Motors</td></tr><tr><td>1790</td><td>BR2200</td><td>Morris  Motors</td></tr><tr><td>1791</td><td>BR2317</td><td>2008 NRHP-listed</td></tr><tr><td>1792</td><td>BR0028</td><td>Aixam-Mega (including Arola) Motors</td></tr><tr><td>1793</td><td>BR0038</td><td>Alfa Romeo Motors</td></tr><tr><td>1794</td><td>BR0872</td><td>IFA (including Trabant, Wartburg, Barkas) Motors</td></tr><tr><td>1795</td><td>BR0898</td><td>Innocenti Motors</td></tr><tr><td>1796</td><td>BR0912</td><td>Isdera Motors</td></tr><tr><td>1797</td><td>BR1005</td><td>Kia Motors</td></tr><tr><td>1798</td><td>BR1147</td><td>Mahindra Motors</td></tr><tr><td>1799</td><td>BR1999</td><td>UAZ Motors</td></tr><tr><td>1800</td><td>BR2023</td><td>Volkswagen Motors</td></tr><tr><td>1801</td><td>BR2108</td><td>ZIL Motors</td></tr><tr><td>1802</td><td>BR2341</td><td>Buick Automobile Company Building</td></tr><tr><td>1803</td><td>BR2344</td><td>Buick Automobile Company Building</td></tr><tr><td>1804</td><td>BR0008</td><td>AC Cars Motors</td></tr><tr><td>1805</td><td>BR0445</td><td>Delahaye Motors</td></tr><tr><td>1806</td><td>BR1493</td><td>Panther Motors</td></tr><tr><td>1807</td><td>BR1754</td><td>Scion Motors</td></tr><tr><td>1808</td><td>BR2059</td><td>Volvo Motors</td></tr><tr><td>1809</td><td>BR0024</td><td>Aixam-Mega (including Arola) Motors</td></tr><tr><td>1810</td><td>BR0524</td><td>Eicher Polaris Motors</td></tr><tr><td>1811</td><td>BR1218</td><td>Mazda Motors</td></tr><tr><td>1812</td><td>BR1482</td><td>Panoz Motors</td></tr><tr><td>1813</td><td>BR1687</td><td>SAIC Motor Motors</td></tr><tr><td>1814</td><td>BR1838</td><td>Spyker Motors</td></tr><tr><td>1815</td><td>BR1902</td><td>Tata Motors</td></tr><tr><td>1816</td><td>BR1977</td><td>Turner Motors</td></tr><tr><td>1817</td><td>BR2201</td><td>Austin  Motors</td></tr><tr><td>1818</td><td>BR2374</td><td>Cass Motor Sales</td></tr><tr><td>1819</td><td>BR1175</td><td>Maruti Motors</td></tr><tr><td>1820</td><td>BR1544</td><td>Piaggio Motors</td></tr><tr><td>1821</td><td>BR1641</td><td>Renault Motors</td></tr><tr><td>1822</td><td>BR0214</td><td>Borgward (including Goliath and Lloyd) Motors</td></tr><tr><td>1823</td><td>BR0588</td><td>Fiat India Motors</td></tr><tr><td>1824</td><td>BR1049</td><td>Lamborghini Motors</td></tr><tr><td>1825</td><td>BR1727</td><td>Santa Matilde Motors</td></tr><tr><td>1826</td><td>BR2105</td><td>ZIL Motors</td></tr><tr><td>1827</td><td>BR0369</td><td>Citroën Motors</td></tr><tr><td>1828</td><td>BR0555</td><td>Ferrari Motors</td></tr><tr><td>1829</td><td>BR0615</td><td>Ford Australia Motors</td></tr><tr><td>1830</td><td>BR0840</td><td>Hudson Motors</td></tr><tr><td>1831</td><td>BR1121</td><td>LuAZ Motors</td></tr><tr><td>1832</td><td>BR1314</td><td>Mitsubishi Motors</td></tr><tr><td>1833</td><td>BR1563</td><td>Polestar Motors</td></tr><tr><td>1834</td><td>BR2239</td><td>Standard  Motors</td></tr><tr><td>1835</td><td>BR2339</td><td>Bohn Motor Company Automobile Dealership</td></tr><tr><td>1836</td><td>BR2393</td><td>Clemens Automobile Company Building</td></tr></tbody></table></div>"
      ]
     },
     "metadata": {
      "application/vnd.databricks.v1+output": {
       "addedWidgets": {},
       "aggData": [],
       "aggError": "",
       "aggOverflow": false,
       "aggSchema": [],
       "aggSeriesLimitReached": false,
       "aggType": "",
       "arguments": {},
       "columnCustomDisplayInfos": {},
       "data": [
        [
         1,
         "BR0131",
         "Audi Motors"
        ],
        [
         2,
         "BR0760",
         "Healey Motors"
        ],
        [
         3,
         "BR0789",
         "Hillman Motors"
        ],
        [
         4,
         "BR0938",
         "Isotta Fraschini Motors"
        ],
        [
         5,
         "BR1040",
         "Lada Motors"
        ],
        [
         6,
         "BR1693",
         "Saleen Motors"
        ],
        [
         7,
         "BR1792",
         "Simca do Brasil Motors"
        ],
        [
         8,
         "BR1799",
         "Simca do Brasil Motors"
        ],
        [
         9,
         "BR1955",
         "Toyota Motors"
        ],
        [
         10,
         "BR1978",
         "Turner Motors"
        ],
        [
         11,
         "BR2068",
         "Westfield Motors"
        ],
        [
         12,
         "BR2332",
         "Bohn Motor Company Automobile Dealership"
        ],
        [
         13,
         "BR0151",
         "Auto-Union Motors"
        ],
        [
         14,
         "BR0409",
         "DAF Motors"
        ],
        [
         15,
         "BR0434",
         "Datsun Motors"
        ],
        [
         16,
         "BR0599",
         "Fisker, Karma Motors"
        ],
        [
         17,
         "BR0753",
         "Healey Motors"
        ],
        [
         18,
         "BR1143",
         "Mahindra Motors"
        ],
        [
         19,
         "BR12246",
         "Volkswagen South Africa Motors"
        ],
        [
         20,
         "BR1233",
         "McLaren Motors"
        ],
        [
         21,
         "BR1558",
         "Plymouth Motors"
        ],
        [
         22,
         "BR1795",
         "Simca do Brasil Motors"
        ],
        [
         23,
         "BR1847",
         "SsangYong Motors"
        ],
        [
         24,
         "BR1943",
         "Tornado Motors"
        ],
        [
         25,
         "BR2054",
         "Volvo Motors"
        ],
        [
         26,
         "BR2063",
         "Westfield Motors"
        ],
        [
         27,
         "BR0019",
         "Acura Motors"
        ],
        [
         28,
         "BR0145",
         "Autobianchi Motors"
        ],
        [
         29,
         "BR0913",
         "Isdera Motors"
        ],
        [
         30,
         "BR1340",
         "Monteverdi Motors"
        ],
        [
         31,
         "BR1630",
         "Ranger Motors"
        ],
        [
         32,
         "BR1865",
         "Studebaker Motors"
        ],
        [
         33,
         "BR2139",
         "Horch Motors"
        ],
        [
         34,
         "BR0274",
         "Buick Motors"
        ],
        [
         35,
         "BR0308",
         "Caterham Motors"
        ],
        [
         36,
         "BR0399",
         "Daewoo, Saehan, Chevrolet Korea Motors"
        ],
        [
         37,
         "BR0471",
         "De Tomaso Motors"
        ],
        [
         38,
         "BR0731",
         "GTA Spano Motors"
        ],
        [
         39,
         "BR0759",
         "Healey Motors"
        ],
        [
         40,
         "BR1383",
         "Nissan Motors"
        ],
        [
         41,
         "BR1664",
         "Rolls-Royce Motors"
        ],
        [
         42,
         "BR1769",
         "Seat Motors"
        ],
        [
         43,
         "BR2262",
         "Ramani Motors"
        ],
        [
         44,
         "BR2352",
         "Cadillac Automobile Company Building"
        ],
        [
         45,
         "BR0114",
         "Asia Motors Motors"
        ],
        [
         46,
         "BR0462",
         "DeSoto Motors"
        ],
        [
         47,
         "BR0699",
         "Gilbern Motors"
        ],
        [
         48,
         "BR0793",
         "Hindustan Motors"
        ],
        [
         49,
         "BR1479",
         "Panhard Motors"
        ],
        [
         50,
         "BR2275",
         "Deccan Motors"
        ],
        [
         51,
         "BR0138",
         "Audi Motors"
        ],
        [
         52,
         "BR0202",
         "Bond Motors"
        ],
        [
         53,
         "BR0700",
         "Gilbern Motors"
        ],
        [
         54,
         "BR0988",
         "Jensen Motors"
        ],
        [
         55,
         "BR9246",
         "Piaggio Motors"
        ],
        [
         56,
         "BR0095",
         "ARO Motors"
        ],
        [
         57,
         "BR0351",
         "Chrysler Europe Motors"
        ],
        [
         58,
         "BR0368",
         "Citroën Motors"
        ],
        [
         59,
         "BR0614",
         "Ford Australia Motors"
        ],
        [
         60,
         "BR1248",
         "Mercedes-Benz (including Maybach) Motors"
        ],
        [
         61,
         "BR1884",
         "Sunbeam Motors"
        ],
        [
         62,
         "BR2035",
         "Volkswagen do Brasil Motors"
        ],
        [
         63,
         "BR0070",
         "AMC, Eagle Motors"
        ],
        [
         64,
         "BR0251",
         "Austin, Rover Motors"
        ],
        [
         65,
         "BR0262",
         "Bugatti Motors"
        ],
        [
         66,
         "BR1243",
         "Mercedes-Benz (including Maybach) Motors"
        ],
        [
         67,
         "BR1289",
         "Mia Motors"
        ],
        [
         68,
         "BR1405",
         "Noble Motors"
        ],
        [
         69,
         "BR2033",
         "Volkswagen do Brasil Motors"
        ],
        [
         70,
         "BR2329",
         "Blankinship Motor Company Building"
        ],
        [
         71,
         "BR2385",
         "Claremore Auto Dealership"
        ],
        [
         72,
         "BR0130",
         "Aston Martin Motors"
        ],
        [
         73,
         "BR0891",
         "Innocenti Motors"
        ],
        [
         74,
         "BR1177",
         "Maruti Motors"
        ],
        [
         75,
         "BR1321",
         "Monica Motors"
        ],
        [
         76,
         "BR13626",
         "Deccan Motors"
        ],
        [
         77,
         "BR0064",
         "AMC, Eagle Motors"
        ],
        [
         78,
         "BR0673",
         "GAZ Motors"
        ],
        [
         79,
         "BR0685",
         "Geo Motors"
        ],
        [
         80,
         "BR0718",
         "Glas Motors"
        ],
        [
         81,
         "BR1298",
         "Micro Motors"
        ],
        [
         82,
         "BR1300",
         "Micro Motors"
        ],
        [
         83,
         "BR1347",
         "Morgan Motors"
        ],
        [
         84,
         "BR1373",
         "Naza Motors"
        ],
        [
         85,
         "BR2337",
         "Bohn Motor Company Automobile Dealership"
        ],
        [
         86,
         "BR0231",
         "British Leyland Motors"
        ],
        [
         87,
         "BR0895",
         "Innocenti Motors"
        ],
        [
         88,
         "BR1228",
         "Mazzanti Motors"
        ],
        [
         89,
         "BR1617",
         "Puma Motors"
        ],
        [
         90,
         "BR1637",
         "Reliant Motors"
        ],
        [
         91,
         "BR1680",
         "Saab Motors"
        ],
        [
         92,
         "BR1821",
         "Smart Motors"
        ],
        [
         93,
         "BR1940",
         "Tesla Motors"
        ],
        [
         94,
         "BR2391",
         "Clemens Automobile Company Building"
        ],
        [
         95,
         "BR2467",
         "Kindel Building"
        ],
        [
         96,
         "BR3186",
         "Elva Motors"
        ],
        [
         97,
         "BR5466",
         "Isdera Motors"
        ],
        [
         98,
         "BR9126",
         "Peugeot Motors"
        ],
        [
         99,
         "BR0104",
         "Artega Motors"
        ],
        [
         100,
         "BR0354",
         "Chrysler Europe Motors"
        ],
        [
         101,
         "BR0494",
         "Donkervoort Motors"
        ],
        [
         102,
         "BR0528",
         "Eicher Polaris Motors"
        ],
        [
         103,
         "BR1074",
         "Lexus Motors"
        ],
        [
         104,
         "BR1503",
         "Peel Motors"
        ],
        [
         105,
         "BR1718",
         "San Motors"
        ],
        [
         106,
         "BR1864",
         "Studebaker Motors"
        ],
        [
         107,
         "BR1993",
         "UAZ Motors"
        ],
        [
         108,
         "BR2217",
         "Riley  Motors"
        ],
        [
         109,
         "BR0682",
         "Geo Motors"
        ],
        [
         110,
         "BR0905",
         "Invicta Motors"
        ],
        [
         111,
         "BR10686",
         "Simca Motors"
        ],
        [
         112,
         "BR1325",
         "Monica Motors"
        ],
        [
         113,
         "BR1568",
         "Polestar Motors"
        ],
        [
         114,
         "BR1822",
         "Smart Motors"
        ],
        [
         115,
         "BR2154",
         "Maybach  Motors"
        ],
        [
         116,
         "BR0011",
         "Acura Motors"
        ],
        [
         117,
         "BR0115",
         "Asia Motors Motors"
        ],
        [
         118,
         "BR0223",
         "Bristol Motors"
        ],
        [
         119,
         "BR0490",
         "Dodge Motors"
        ],
        [
         120,
         "BR0625",
         "Ford do Brasil Motors"
        ],
        [
         121,
         "BR1111",
         "LTI Motors"
        ],
        [
         122,
         "BR1829",
         "Smart Motors"
        ],
        [
         123,
         "BR2277",
         "Deccan Motors"
        ],
        [
         124,
         "BR2369",
         "Casa de cadillac"
        ],
        [
         125,
         "BR6066",
         "Koenigsegg Motors"
        ],
        [
         126,
         "BR0512",
         "e.GO Mobile Motors"
        ],
        [
         127,
         "BR0584",
         "Fiat India Motors"
        ],
        [
         128,
         "BR1691",
         "Saleen Motors"
        ],
        [
         129,
         "BR1845",
         "SsangYong Motors"
        ],
        [
         130,
         "BR1932",
         "Tesla Motors"
        ],
        [
         131,
         "BR0360",
         "Chrysler Europe Motors"
        ],
        [
         132,
         "BR0388",
         "Dacia Motors"
        ],
        [
         133,
         "BR0486",
         "Ariel Motors"
        ],
        [
         134,
         "BR0811",
         "Honda Motors"
        ],
        [
         135,
         "BR1105",
         "Lotus Motors"
        ],
        [
         136,
         "BR1762",
         "Seat Motors"
        ],
        [
         137,
         "BR1768",
         "Seat Motors"
        ],
        [
         138,
         "BR1960",
         "Toyota Motors"
        ],
        [
         139,
         "BR2322",
         "Blankinship Motor Company Building"
        ],
        [
         140,
         "BR2412",
         "H Street Playhouse"
        ],
        [
         141,
         "BR2440",
         "Hupmobile Building"
        ],
        [
         142,
         "BR0058",
         "Alvis Motors"
        ],
        [
         143,
         "BR0447",
         "Delahaye Motors"
        ],
        [
         144,
         "BR0479",
         "De Tomaso Motors"
        ],
        [
         145,
         "BR0501",
         "Edsel Motors"
        ],
        [
         146,
         "BR0919",
         "Isdera Motors"
        ],
        [
         147,
         "BR1152",
         "Marcos Motors"
        ],
        [
         148,
         "BR2289",
         "Herald Motors"
        ],
        [
         149,
         "BR9426",
         "Pontiac, Asüna Motors"
        ],
        [
         150,
         "BR0027",
         "Aixam-Mega (including Arola) Motors"
        ],
        [
         151,
         "BR0411",
         "Daihatsu Motors"
        ],
        [
         152,
         "BR1140",
         "Lynx Motors"
        ],
        [
         153,
         "BR2087",
         "Zastava Motors"
        ],
        [
         154,
         "BR2155",
         "Maybach  Motors"
        ],
        [
         155,
         "BR2233",
         "Standard  Motors"
        ],
        [
         156,
         "BR5406",
         "Invicta Motors"
        ],
        [
         157,
         "BR0463",
         "DeSoto Motors"
        ],
        [
         158,
         "BR0606",
         "Artega Motors"
        ],
        [
         159,
         "BR0662",
         "FSO Motors"
        ],
        [
         160,
         "BR1180",
         "Maruti Motors"
        ],
        [
         161,
         "BR1380",
         "Naza Motors"
        ],
        [
         162,
         "BR13986",
         "Bohn Motor Company Automobile Dealership"
        ],
        [
         163,
         "BR1553",
         "Plymouth Motors"
        ],
        [
         164,
         "BR1789",
         "Simca Motors"
        ],
        [
         165,
         "BR1957",
         "Toyota Motors"
        ],
        [
         166,
         "BR2025",
         "Volkswagen Motors"
        ],
        [
         167,
         "BR2100",
         "ZAZ Motors"
        ],
        [
         168,
         "BR2378",
         "Cass Motor Sales"
        ],
        [
         169,
         "BR0089",
         "Ariel Motors"
        ],
        [
         170,
         "BR0608",
         "Ford America Motors"
        ],
        [
         171,
         "BR0941",
         "Isuzu Motors"
        ],
        [
         172,
         "BR1273",
         "Messerschmitt Motors"
        ],
        [
         173,
         "BR1860",
         "Standard-Triumph Motors"
        ],
        [
         174,
         "BR1888",
         "Sunbeam Motors"
        ],
        [
         175,
         "BR2142",
         "Wanderer Motors"
        ],
        [
         176,
         "BR2319",
         "2008 NRHP-listed"
        ],
        [
         177,
         "BR0264",
         "Bugatti Motors"
        ],
        [
         178,
         "BR0498",
         "Donkervoort Motors"
        ],
        [
         179,
         "BR0829",
         "Honda India Motors"
        ],
        [
         180,
         "BR0890",
         "Infiniti Motors"
        ],
        [
         181,
         "BR1044",
         "Lamborghini Motors"
        ],
        [
         182,
         "BR13746",
         "Zion Automobils"
        ],
        [
         183,
         "BR1398",
         "Nissan India Motors"
        ],
        [
         184,
         "BR1877",
         "Subaru Motors"
        ],
        [
         185,
         "BR1927",
         "Tazzari Motors"
        ],
        [
         186,
         "BR2410",
         "Colman Automotive Building"
        ],
        [
         187,
         "BR0534",
         "Elva Motors"
        ],
        [
         188,
         "BR1442",
         "Opel Motors"
        ],
        [
         189,
         "BR1722",
         "Santa Matilde Motors"
        ],
        [
         190,
         "BR1990",
         "TVR Motors"
        ],
        [
         191,
         "BR2070",
         "Westfield Motors"
        ],
        [
         192,
         "BR2204",
         "Austin  Motors"
        ],
        [
         193,
         "BR0204",
         "Bond Motors"
        ],
        [
         194,
         "BR0717",
         "Glas Motors"
        ],
        [
         195,
         "BR0947",
         "Isuzu Motors"
        ],
        [
         196,
         "BR0983",
         "Jensen Motors"
        ],
        [
         197,
         "BR1003",
         "Kia Motors"
        ],
        [
         198,
         "BR11706",
         "Toyota Motors"
        ],
        [
         199,
         "BR1232",
         "McLaren Motors"
        ],
        [
         200,
         "BR1688",
         "SAIC Motor Motors"
        ],
        [
         201,
         "BR1809",
         "Singer Motors"
        ],
        [
         202,
         "BR1968",
         "Toyota India Motors"
        ],
        [
         203,
         "BR2018",
         "Venturi Motors"
        ],
        [
         204,
         "BR2022",
         "Volkswagen Motors"
        ],
        [
         205,
         "BR2226",
         "Cizeta-Moroder Motors"
        ],
        [
         206,
         "BR0235",
         "British Leyland Motors"
        ],
        [
         207,
         "BR0634",
         "Ford Europe Motors"
        ],
        [
         208,
         "BR0889",
         "Infiniti Motors"
        ],
        [
         209,
         "BR1318",
         "Mitsubishi Motors"
        ],
        [
         210,
         "BR1626",
         "Buick Motors"
        ],
        [
         211,
         "BR2267",
         "Ramani Motors"
        ],
        [
         212,
         "BR0591",
         "Fisker, Karma Motors"
        ],
        [
         213,
         "BR0642",
         "Ford India Motors"
        ],
        [
         214,
         "BR0930",
         "Iso Motors"
        ],
        [
         215,
         "BR1027",
         "KTM Motors"
        ],
        [
         216,
         "BR1065",
         "Land Rover Motors"
        ],
        [
         217,
         "BR1382",
         "Nissan Motors"
        ],
        [
         218,
         "BR1749",
         "Saturn Motors"
        ],
        [
         219,
         "BR2433",
         "Hupmobile Building"
        ],
        [
         220,
         "BR8406",
         "Noble Motors"
        ],
        [
         221,
         "BR0040",
         "Alfa Romeo Motors"
        ],
        [
         222,
         "BR0218",
         "Borgward (including Goliath and Lloyd) Motors"
        ],
        [
         223,
         "BR0337",
         "Chevrolet India Motors"
        ],
        [
         224,
         "BR1162",
         "Marlin Motors"
        ],
        [
         225,
         "BR0082",
         "Ariel Motors"
        ],
        [
         226,
         "BR0164",
         "Auverland Motors"
        ],
        [
         227,
         "BR0598",
         "Fisker, Karma Motors"
        ],
        [
         228,
         "BR0735",
         "GTA Spano Motors"
        ],
        [
         229,
         "BR1063",
         "Land Rover Motors"
        ],
        [
         230,
         "BR1579",
         "Pontiac, Asüna Motors"
        ],
        [
         231,
         "BR2149",
         "Wanderer Motors"
        ],
        [
         232,
         "BR2168",
         "Izh  Motors"
        ],
        [
         233,
         "BR0279",
         "Buick Motors"
        ],
        [
         234,
         "BR0884",
         "Infiniti Motors"
        ],
        [
         235,
         "BR1048",
         "Lamborghini Motors"
        ],
        [
         236,
         "BR1094",
         "Lincoln Motors"
        ],
        [
         237,
         "BR1292",
         "Micro Motors"
        ],
        [
         238,
         "BR1323",
         "Monica Motors"
        ],
        [
         239,
         "BR1395",
         "Nissan India Motors"
        ],
        [
         240,
         "BR1424",
         "Oldsmobile Motors"
        ],
        [
         241,
         "BR1477",
         "Panhard Motors"
        ],
        [
         242,
         "BR1670",
         "Rolls-Royce Motors"
        ],
        [
         243,
         "BR1708",
         "Samsung Motors"
        ],
        [
         244,
         "BR2039",
         "Volkswagen do Brasil Motors"
        ],
        [
         245,
         "BR2404",
         "Colman Automotive Building"
        ],
        [
         246,
         "BR0270",
         "Bugatti Motors"
        ],
        [
         247,
         "BR0275",
         "Buick Motors"
        ],
        [
         248,
         "BR0378",
         "Cizeta-Moroder Motors"
        ],
        [
         249,
         "BR0405",
         "DAF Motors"
        ],
        [
         250,
         "BR0592",
         "Fisker, Karma Motors"
        ],
        [
         251,
         "BR0881",
         "Infiniti Motors"
        ],
        [
         252,
         "BR0963",
         "Jaguar Motors"
        ],
        [
         253,
         "BR1320",
         "Mitsubishi Motors"
        ],
        [
         254,
         "BR1531",
         "PGO Motors"
        ],
        [
         255,
         "BR1612",
         "Puma Motors"
        ],
        [
         256,
         "BR1873",
         "Subaru Motors"
        ],
        [
         257,
         "BR2077",
         "Wiesmann Motors"
        ],
        [
         258,
         "BR2143",
         "Wanderer Motors"
        ],
        [
         259,
         "BR2223",
         "Wolseley  Motors"
        ],
        [
         260,
         "BR0509",
         "Edsel Motors"
        ],
        [
         261,
         "BR1267",
         "Merkur Motors"
        ],
        [
         262,
         "BR2225",
         "Wolseley  Motors"
        ],
        [
         263,
         "BR0168",
         "Auverland Motors"
        ],
        [
         264,
         "BR0318",
         "Checker Motors"
        ],
        [
         265,
         "BR0362",
         "Citroën Motors"
        ],
        [
         266,
         "BR0562",
         "Fiat Motors"
        ],
        [
         267,
         "BR0738",
         "GTA Spano Motors"
        ],
        [
         268,
         "BR0805",
         "Holden Motors"
        ],
        [
         269,
         "BR0934",
         "Isotta Fraschini Motors"
        ],
        [
         270,
         "BR1051",
         "Lancia Motors"
        ],
        [
         271,
         "BR11466",
         "Tatra Motors"
        ],
        [
         272,
         "BR1192",
         "Mastretta Motors"
        ],
        [
         273,
         "BR1746",
         "Cadillac Motors"
        ],
        [
         274,
         "BR1830",
         "Smart Motors"
        ],
        [
         275,
         "BR2297",
         "Zion Automobils"
        ],
        [
         276,
         "BR8046",
         "Morgan Motors"
        ],
        [
         277,
         "BR0037",
         "Alfa Romeo Motors"
        ],
        [
         278,
         "BR0268",
         "Bugatti Motors"
        ],
        [
         279,
         "BR0367",
         "Citroën Motors"
        ],
        [
         280,
         "BR1212",
         "Mazda Motors"
        ],
        [
         281,
         "BR13806",
         "Atlantic Motor Company"
        ],
        [
         282,
         "BR1491",
         "Panther Motors"
        ],
        [
         283,
         "BR1750",
         "Saturn Motors"
        ],
        [
         284,
         "BR1820",
         "Skoda Motors"
        ],
        [
         285,
         "BR2037",
         "Volkswagen do Brasil Motors"
        ],
        [
         286,
         "BR2248",
         "Talbot  Motors"
        ],
        [
         287,
         "BR2280",
         "Deccan Motors"
        ],
        [
         288,
         "BR7926",
         "Monica Motors"
        ],
        [
         289,
         "BR1149",
         "Mahindra Motors"
        ],
        [
         290,
         "BR1449",
         "Opel Motors"
        ],
        [
         291,
         "BR6786",
         "Lynx Motors"
        ],
        [
         292,
         "BR0059",
         "Alvis Motors"
        ],
        [
         293,
         "BR0497",
         "Donkervoort Motors"
        ],
        [
         294,
         "BR0561",
         "Fiat Motors"
        ],
        [
         295,
         "BR0933",
         "Isotta Fraschini Motors"
        ],
        [
         296,
         "BR1164",
         "Marlin Motors"
        ],
        [
         297,
         "BR11946",
         "UAZ Motors"
        ],
        [
         298,
         "BR1399",
         "Nissan India Motors"
        ],
        [
         299,
         "BR1414",
         "NSU Motors"
        ],
        [
         300,
         "BR1935",
         "Tesla Motors"
        ],
        [
         301,
         "BR2210",
         "Austin  Motors"
        ],
        [
         302,
         "BR3306",
         "Ferrari Motors"
        ],
        [
         303,
         "BR3546",
         "Fisker, Karma Motors"
        ],
        [
         304,
         "BR0075",
         "Anadol Motors"
        ],
        [
         305,
         "BR0135",
         "Audi Motors"
        ],
        [
         306,
         "BR0163",
         "Auverland Motors"
        ],
        [
         307,
         "BR0491",
         "Donkervoort Motors"
        ],
        [
         308,
         "BR0647",
         "Ford India Motors"
        ],
        [
         309,
         "BR0765",
         "Heinkel Motors"
        ],
        [
         310,
         "BR10206",
         "Samsung Motors"
        ],
        [
         311,
         "BR1353",
         "Moskwitch Motors"
        ],
        [
         312,
         "BR1561",
         "Polestar Motors"
        ],
        [
         313,
         "BR1828",
         "Smart Motors"
        ],
        [
         314,
         "BR2062",
         "Westfield Motors"
        ],
        [
         315,
         "BR2084",
         "Zastava Motors"
        ],
        [
         316,
         "BR2383",
         "Claremore Auto Dealership"
        ],
        [
         317,
         "BR0451",
         "DeLorean Motors"
        ],
        [
         318,
         "BR0701",
         "Ginetta Motors"
        ],
        [
         319,
         "BR0786",
         "Audi Motors"
        ],
        [
         320,
         "BR1293",
         "Micro Motors"
        ],
        [
         321,
         "BR2191",
         "Morris  Motors"
        ],
        [
         322,
         "BR4146",
         "Gilbern Motors"
        ],
        [
         323,
         "BR0285",
         "Bytom Motors"
        ],
        [
         324,
         "BR0525",
         "Eicher Polaris Motors"
        ],
        [
         325,
         "BR0714",
         "Glas Motors"
        ],
        [
         326,
         "BR1452",
         "Packard Motors"
        ],
        [
         327,
         "BR1660",
         "Rivian Motors"
        ],
        [
         328,
         "BR2244",
         "Talbot  Motors"
        ],
        [
         329,
         "BR5646",
         "Isuzu Motors"
        ],
        [
         330,
         "BR0575",
         "Fiat do Brasil Motors"
        ],
        [
         331,
         "BR0803",
         "Holden Motors"
        ],
        [
         332,
         "BR1195",
         "Mastretta Motors"
        ],
        [
         333,
         "BR1279",
         "Messerschmitt Motors"
        ],
        [
         334,
         "BR1844",
         "SsangYong Motors"
        ],
        [
         335,
         "BR2221",
         "Wolseley  Motors"
        ],
        [
         336,
         "BR0553",
         "Ferrari Motors"
        ],
        [
         337,
         "BR0579",
         "Fiat do Brasil Motors"
        ],
        [
         338,
         "BR0841",
         "Humber Motors"
        ],
        [
         339,
         "BR1045",
         "Lamborghini Motors"
        ],
        [
         340,
         "BR1112",
         "LTI Motors"
        ],
        [
         341,
         "BR12186",
         "Volkswagen do Brasil Motors"
        ],
        [
         342,
         "BR12366",
         "Westfield Motors"
        ],
        [
         343,
         "BR1460",
         "Packard Motors"
        ],
        [
         344,
         "BR1597",
         "Premier Motors"
        ],
        [
         345,
         "BR2192",
         "Morris  Motors"
        ],
        [
         346,
         "BR0158",
         "Auto-Union Motors"
        ],
        [
         347,
         "BR0243",
         "Austin-Healey Motors"
        ],
        [
         348,
         "BR0298",
         "Cadillac Motors"
        ],
        [
         349,
         "BR0771",
         "Hennessey Motors"
        ],
        [
         350,
         "BR0857",
         "Hummer Motors"
        ],
        [
         351,
         "BR1155",
         "Marcos Motors"
        ],
        [
         352,
         "BR12786",
         "Horch Motors"
        ],
        [
         353,
         "BR12966",
         "Izh  Motors"
        ],
        [
         354,
         "BR2185",
         "MG  Motors"
        ],
        [
         355,
         "BR7446",
         "Mercedes-Benz (including Maybach) Motors"
        ],
        [
         356,
         "BR0172",
         "Bentley Motors"
        ],
        [
         357,
         "BR0392",
         "Daewoo, Saehan, Chevrolet Korea Motors"
        ],
        [
         358,
         "BR0943",
         "Isuzu Motors"
        ],
        [
         359,
         "BR1047",
         "Lamborghini Motors"
        ],
        [
         360,
         "BR14706",
         "Jones Motor Company"
        ],
        [
         361,
         "BR1598",
         "Premier Motors"
        ],
        [
         362,
         "BR1755",
         "Scion Motors"
        ],
        [
         363,
         "BR2005",
         "Vauxhall Motors"
        ],
        [
         364,
         "BR2188",
         "MG  Motors"
        ],
        [
         365,
         "BR0017",
         "Acura Motors"
        ],
        [
         366,
         "BR0651",
         "Freightliner Motors"
        ],
        [
         367,
         "BR0900",
         "Innocenti Motors"
        ],
        [
         368,
         "BR1288",
         "Mia Motors"
        ],
        [
         369,
         "BR1330",
         "Monica Motors"
        ],
        [
         370,
         "BR1390",
         "Nissan Motors"
        ],
        [
         371,
         "BR1862",
         "Studebaker Motors"
        ],
        [
         372,
         "BR1871",
         "Subaru Motors"
        ],
        [
         373,
         "BR1939",
         "Tesla Motors"
        ],
        [
         374,
         "BR1951",
         "Toyota Motors"
        ],
        [
         375,
         "BR2083",
         "Zastava Motors"
        ],
        [
         376,
         "BR2415",
         "H Street Playhouse"
        ],
        [
         377,
         "BR4086",
         "Geo Motors"
        ],
        [
         378,
         "BR0708",
         "Ginetta Motors"
        ],
        [
         379,
         "BR0801",
         "Holden Motors"
        ],
        [
         380,
         "BR1220",
         "Mazda Motors"
        ],
        [
         381,
         "BR1369",
         "Nash Motors"
        ],
        [
         382,
         "BR1384",
         "Nissan Motors"
        ],
        [
         383,
         "BR1464",
         "Pagani Motors"
        ],
        [
         384,
         "BR1778",
         "Shelby SuperCars Motors"
        ],
        [
         385,
         "BR2097",
         "ZAZ Motors"
        ],
        [
         386,
         "BR1438",
         "Oltcit Motors"
        ],
        [
         387,
         "BR1461",
         "Pagani Motors"
        ],
        [
         388,
         "BR1771",
         "Shelby SuperCars Motors"
        ],
        [
         389,
         "BR2445",
         "Jennings Ford Automobile Dealership"
        ],
        [
         390,
         "BR2449",
         "Jennings Ford Automobile Dealership"
        ],
        [
         391,
         "BR2706",
         "DeLorean Motors"
        ],
        [
         392,
         "BR0347",
         "Chrysler Motors"
        ],
        [
         393,
         "BR0353",
         "Chrysler Europe Motors"
        ],
        [
         394,
         "BR0604",
         "Ford America Motors"
        ],
        [
         395,
         "BR0770",
         "Heinkel Motors"
        ],
        [
         396,
         "BR1632",
         "Reliant Motors"
        ],
        [
         397,
         "BR2420",
         "H Street Playhouse"
        ],
        [
         398,
         "BR4986",
         "Hudson Motors"
        ],
        [
         399,
         "BR0980",
         "Jeep Motors"
        ],
        [
         400,
         "BR1861",
         "Studebaker Motors"
        ],
        [
         401,
         "BR1991",
         "UAZ Motors"
        ],
        [
         402,
         "BR2308",
         "Atlantic Motor Company"
        ],
        [
         403,
         "BR2452",
         "Jones Motor Company"
        ],
        [
         404,
         "BR6486",
         "Ligier Motors"
        ],
        [
         405,
         "BR0225",
         "Bristol Motors"
        ],
        [
         406,
         "BR0269",
         "Bugatti Motors"
        ],
        [
         407,
         "BR0300",
         "Cadillac Motors"
        ],
        [
         408,
         "BR0415",
         "Daihatsu Motors"
        ],
        [
         409,
         "BR0732",
         "GTA Spano Motors"
        ],
        [
         410,
         "BR0927",
         "Iso Motors"
        ],
        [
         411,
         "BR1608",
         "Proton Motors"
        ],
        [
         412,
         "BR1913",
         "Tatra Motors"
        ],
        [
         413,
         "BR1917",
         "Tatra Motors"
        ],
        [
         414,
         "BR2047",
         "Volkswagen South Africa Motors"
        ],
        [
         415,
         "BR2179",
         "Lagonda  Motors"
        ],
        [
         416,
         "BR2237",
         "Standard  Motors"
        ],
        [
         417,
         "BR2946",
         "Donkervoort Motors"
        ],
        [
         418,
         "BR0001",
         "AC Cars Motors"
        ],
        [
         419,
         "BR0018",
         "Acura Motors"
        ],
        [
         420,
         "BR0304",
         "Caterham Motors"
        ],
        [
         421,
         "BR0407",
         "DAF Motors"
        ],
        [
         422,
         "BR0960",
         "Iveco Motors"
        ],
        [
         423,
         "BR0989",
         "Jensen Motors"
        ],
        [
         424,
         "BR10326",
         "Santa Matilde Motors"
        ],
        [
         425,
         "BR1418",
         "NSU Motors"
        ],
        [
         426,
         "BR1600",
         "Premier Motors"
        ],
        [
         427,
         "BR1757",
         "Scion Motors"
        ],
        [
         428,
         "BR1931",
         "Tesla Motors"
        ],
        [
         429,
         "BR2072",
         "Wiesmann Motors"
        ],
        [
         430,
         "BR2117",
         "Audi Motors"
        ],
        [
         431,
         "BR7746",
         "Micro Motors"
        ],
        [
         432,
         "BR0013",
         "Acura Motors"
        ],
        [
         433,
         "BR0182",
         "Bitter Motors"
        ],
        [
         434,
         "BR0219",
         "Borgward (including Goliath and Lloyd) Motors"
        ],
        [
         435,
         "BR0252",
         "Austin, Rover Motors"
        ],
        [
         436,
         "BR0363",
         "Citroën Motors"
        ],
        [
         437,
         "BR0792",
         "Hindustan Motors"
        ],
        [
         438,
         "BR0877",
         "IFA (including Trabant, Wartburg, Barkas) Motors"
        ],
        [
         439,
         "BR0888",
         "Infiniti Motors"
        ],
        [
         440,
         "BR0972",
         "Jeep Motors"
        ],
        [
         441,
         "BR12006",
         "Vauxhall Motors"
        ],
        [
         442,
         "BR1547",
         "Piaggio Motors"
        ],
        [
         443,
         "BR2061",
         "Westfield Motors"
        ],
        [
         444,
         "BR2158",
         "Maybach  Motors"
        ],
        [
         445,
         "BR2252",
         "Das Motors"
        ],
        [
         446,
         "BR2377",
         "Cass Motor Sales"
        ],
        [
         447,
         "BR0505",
         "Edsel Motors"
        ],
        [
         448,
         "BR10986",
         "Spyker Motors"
        ],
        [
         449,
         "BR1351",
         "Moskwitch Motors"
        ],
        [
         450,
         "BR1549",
         "Piaggio Motors"
        ],
        [
         451,
         "BR1604",
         "Proton Motors"
        ],
        [
         452,
         "BR1677",
         "Saab Motors"
        ],
        [
         453,
         "BR1840",
         "Spyker Motors"
        ],
        [
         454,
         "BR1863",
         "Studebaker Motors"
        ],
        [
         455,
         "BR1919",
         "Tatra Motors"
        ],
        [
         456,
         "BR2147",
         "Wanderer Motors"
        ],
        [
         457,
         "BR2160",
         "Maybach  Motors"
        ],
        [
         458,
         "BR2293",
         "Zion Automobils"
        ],
        [
         459,
         "BR2406",
         "DAF Motors"
        ],
        [
         460,
         "BR8106",
         "Moskwitch Motors"
        ],
        [
         461,
         "BR0531",
         "Elva Motors"
        ],
        [
         462,
         "BR0691",
         "Gilbern Motors"
        ],
        [
         463,
         "BR0828",
         "Honda India Motors"
        ],
        [
         464,
         "BR10566",
         "Seat Motors"
        ],
        [
         465,
         "BR1067",
         "Land Rover Motors"
        ],
        [
         466,
         "BR1812",
         "Skoda Motors"
        ],
        [
         467,
         "BR1910",
         "Tata Motors"
        ],
        [
         468,
         "BR2291",
         "Zion Automobils"
        ],
        [
         469,
         "BR7866",
         "Mitsubishi Motors"
        ],
        [
         470,
         "BR1270",
         "Merkur Motors"
        ],
        [
         471,
         "BR13926",
         "Blankinship Motor Company Building"
        ],
        [
         472,
         "BR1984",
         "TVR Motors"
        ],
        [
         473,
         "BR2050",
         "Volkswagen South Africa Motors"
        ],
        [
         474,
         "BR2213",
         "Riley  Motors"
        ],
        [
         475,
         "BR2360",
         "Cadillac Automobile Company Building"
        ],
        [
         476,
         "BR2646",
         "Delahaye Motors"
        ],
        [
         477,
         "BR5046",
         "Humber Motors"
        ],
        [
         478,
         "BR0065",
         "AMC, Eagle Motors"
        ],
        [
         479,
         "BR0313",
         "Checker Motors"
        ],
        [
         480,
         "BR0393",
         "Daewoo, Saehan, Chevrolet Korea Motors"
        ],
        [
         481,
         "BR0802",
         "Holden Motors"
        ],
        [
         482,
         "BR1413",
         "NSU Motors"
        ],
        [
         483,
         "BR1681",
         "SAIC Motor Motors"
        ],
        [
         484,
         "BR1735",
         "Santana Motors"
        ],
        [
         485,
         "BR1752",
         "Scion Motors"
        ],
        [
         486,
         "BR2064",
         "Westfield Motors"
        ],
        [
         487,
         "BR2125",
         "DKW Motors"
        ],
        [
         488,
         "BR0189",
         "Bitter Motors"
        ],
        [
         489,
         "BR0513",
         "e.GO Mobile Motors"
        ],
        [
         490,
         "BR0544",
         "Facel Vega Motors"
        ],
        [
         491,
         "BR0775",
         "Hennessey Motors"
        ],
        [
         492,
         "BR1445",
         "Opel Motors"
        ],
        [
         493,
         "BR1654",
         "Rivian Motors"
        ],
        [
         494,
         "BR1743",
         "Saturn Motors"
        ],
        [
         495,
         "BR2046",
         "Chrysler Motors"
        ],
        [
         496,
         "BR2138",
         "Horch Motors"
        ],
        [
         497,
         "BR0006",
         "AC Cars Motors"
        ],
        [
         498,
         "BR0139",
         "Audi Motors"
        ],
        [
         499,
         "BR0649",
         "Ford India Motors"
        ],
        [
         500,
         "BR1050",
         "Lamborghini Motors"
        ],
        [
         501,
         "BR1071",
         "Lexus Motors"
        ],
        [
         502,
         "BR12486",
         "Zastava Motors"
        ],
        [
         503,
         "BR1307",
         "Mini Motors"
        ],
        [
         504,
         "BR1661",
         "Rolls-Royce Motors"
        ],
        [
         505,
         "BR1832",
         "Spyker Motors"
        ],
        [
         506,
         "BR1934",
         "Tesla Motors"
        ],
        [
         507,
         "BR2065",
         "Westfield Motors"
        ],
        [
         508,
         "BR2129",
         "DKW Motors"
        ],
        [
         509,
         "BR2441",
         "Jennings Ford Automobile Dealership"
        ],
        [
         510,
         "BR0153",
         "Auto-Union Motors"
        ],
        [
         511,
         "BR0968",
         "Jaguar Motors"
        ],
        [
         512,
         "BR11586",
         "Tesla Motors"
        ],
        [
         513,
         "BR1255",
         "Mercury Motors"
        ],
        [
         514,
         "BR1402",
         "Noble Motors"
        ],
        [
         515,
         "BR1965",
         "Toyota India Motors"
        ],
        [
         516,
         "BR1969",
         "Toyota India Motors"
        ],
        [
         517,
         "BR2085",
         "Zastava Motors"
        ],
        [
         518,
         "BR2288",
         "Herald Motors"
        ],
        [
         519,
         "BR5706",
         "Iveco Motors"
        ],
        [
         520,
         "BR0461",
         "DeSoto Motors"
        ],
        [
         521,
         "BR0568",
         "Fiat Motors"
        ],
        [
         522,
         "BR0666",
         "Asia Motors Motors"
        ],
        [
         523,
         "BR0773",
         "Hennessey Motors"
        ],
        [
         524,
         "BR0852",
         "Hummer Motors"
        ],
        [
         525,
         "BR1322",
         "Monica Motors"
        ],
        [
         526,
         "BR0032",
         "Alfa Romeo Motors"
        ],
        [
         527,
         "BR0212",
         "Borgward (including Goliath and Lloyd) Motors"
        ],
        [
         528,
         "BR0728",
         "GMC Motors"
        ],
        [
         529,
         "BR0861",
         "Hyundai Motors"
        ],
        [
         530,
         "BR0868",
         "Hyundai Motors"
        ],
        [
         531,
         "BR0966",
         "Auverland Motors"
        ],
        [
         532,
         "BR1182",
         "Maserati Motors"
        ],
        [
         533,
         "BR0762",
         "Heinkel Motors"
        ],
        [
         534,
         "BR13506",
         "Das Motors"
        ],
        [
         535,
         "BR14586",
         "Hupmobile Building"
        ],
        [
         536,
         "BR1628",
         "Ranger Motors"
        ],
        [
         537,
         "BR1658",
         "Rivian Motors"
        ],
        [
         538,
         "BR1711",
         "San Motors"
        ],
        [
         539,
         "BR1763",
         "Seat Motors"
        ],
        [
         540,
         "BR1989",
         "TVR Motors"
        ],
        [
         541,
         "BR2468",
         "Kindel Building"
        ],
        [
         542,
         "BR0031",
         "Alfa Romeo Motors"
        ],
        [
         543,
         "BR0121",
         "Aston Martin Motors"
        ],
        [
         544,
         "BR0171",
         "Bentley Motors"
        ],
        [
         545,
         "BR0500",
         "Donkervoort Motors"
        ],
        [
         546,
         "BR0638",
         "Ford Europe Motors"
        ],
        [
         547,
         "BR0650",
         "Ford India Motors"
        ],
        [
         548,
         "BR1017",
         "Koenigsegg Motors"
        ],
        [
         549,
         "BR10746",
         "Simca do Brasil Motors"
        ],
        [
         550,
         "BR1263",
         "Merkur Motors"
        ],
        [
         551,
         "BR1403",
         "Noble Motors"
        ],
        [
         552,
         "BR1947",
         "Tornado Motors"
        ],
        [
         553,
         "BR2447",
         "Jennings Ford Automobile Dealership"
        ],
        [
         554,
         "BR3246",
         "Facel Vega Motors"
        ],
        [
         555,
         "BR0169",
         "Auverland Motors"
        ],
        [
         556,
         "BR0517",
         "e.GO Mobile Motors"
        ],
        [
         557,
         "BR0911",
         "Isdera Motors"
        ],
        [
         558,
         "BR1197",
         "Mastretta Motors"
        ],
        [
         559,
         "BR1525",
         "Peugeot Motors"
        ],
        [
         560,
         "BR1529",
         "Peugeot Motors"
        ],
        [
         561,
         "BR1564",
         "Polestar Motors"
        ],
        [
         562,
         "BR1577",
         "Pontiac, Asüna Motors"
        ],
        [
         563,
         "BR1592",
         "Premier Motors"
        ],
        [
         564,
         "BR1855",
         "Standard-Triumph Motors"
        ],
        [
         565,
         "BR2150",
         "Wanderer Motors"
        ],
        [
         566,
         "BR0315",
         "Checker Motors"
        ],
        [
         567,
         "BR0408",
         "DAF Motors"
        ],
        [
         568,
         "BR0502",
         "Edsel Motors"
        ],
        [
         569,
         "BR0504",
         "Edsel Motors"
        ],
        [
         570,
         "BR0572",
         "Fiat do Brasil Motors"
        ],
        [
         571,
         "BR0617",
         "Ford Australia Motors"
        ],
        [
         572,
         "BR0794",
         "Hindustan Motors"
        ],
        [
         573,
         "BR0849",
         "Humber Motors"
        ],
        [
         574,
         "BR0958",
         "Iveco Motors"
        ],
        [
         575,
         "BR0995",
         "JPX Motors"
        ],
        [
         576,
         "BR13026",
         "Lagonda  Motors"
        ],
        [
         577,
         "BR1574",
         "Pontiac, Asüna Motors"
        ],
        [
         578,
         "BR1594",
         "Premier Motors"
        ],
        [
         579,
         "BR1731",
         "Santana Motors"
        ],
        [
         580,
         "BR1944",
         "Tornado Motors"
        ],
        [
         581,
         "BR2115",
         "Audi Motors"
        ],
        [
         582,
         "BR0125",
         "Aston Martin Motors"
        ],
        [
         583,
         "BR0297",
         "Cadillac Motors"
        ],
        [
         584,
         "BR0372",
         "Cizeta-Moroder Motors"
        ],
        [
         585,
         "BR0798",
         "Hindustan Motors"
        ],
        [
         586,
         "BR0939",
         "Isotta Fraschini Motors"
        ],
        [
         587,
         "BR1302",
         "Mini Motors"
        ],
        [
         588,
         "BR1377",
         "Naza Motors"
        ],
        [
         589,
         "BR14226",
         "Cass Motor Sales"
        ],
        [
         590,
         "BR14526",
         "Howard Motor Company Building"
        ],
        [
         591,
         "BR1463",
         "Pagani Motors"
        ],
        [
         592,
         "BR1473",
         "Panhard Motors"
        ],
        [
         593,
         "BR1952",
         "Toyota Motors"
        ],
        [
         594,
         "BR2021",
         "Volkswagen Motors"
        ],
        [
         595,
         "BR5886",
         "Jensen Motors"
        ],
        [
         596,
         "BR0053",
         "Alvis Motors"
        ],
        [
         597,
         "BR0054",
         "Alvis Motors"
        ],
        [
         598,
         "BR0514",
         "e.GO Mobile Motors"
        ],
        [
         599,
         "BR0744",
         "Gumpert Motors"
        ],
        [
         600,
         "BR1012",
         "Koenigsegg Motors"
        ],
        [
         601,
         "BR1159",
         "Marcos Motors"
        ],
        [
         602,
         "BR1444",
         "Opel Motors"
        ],
        [
         603,
         "BR1721",
         "Santa Matilde Motors"
        ],
        [
         604,
         "BR1753",
         "Scion Motors"
        ],
        [
         605,
         "BR2090",
         "Zastava Motors"
        ],
        [
         606,
         "BR2399",
         "Clemens Automobile Company Building"
        ],
        [
         607,
         "BR0140",
         "Audi Motors"
        ],
        [
         608,
         "BR0690",
         "Geo Motors"
        ],
        [
         609,
         "BR0922",
         "Iso Motors"
        ],
        [
         610,
         "BR1349",
         "Morgan Motors"
        ],
        [
         611,
         "BR1737",
         "Santana Motors"
        ],
        [
         612,
         "BR1949",
         "Tornado Motors"
        ],
        [
         613,
         "BR4806",
         "Holden Motors"
        ],
        [
         614,
         "BR5826",
         "Jeep Motors"
        ],
        [
         615,
         "BR8646",
         "Opel Motors"
        ],
        [
         616,
         "BR0352",
         "Chrysler Europe Motors"
        ],
        [
         617,
         "BR0458",
         "DeLorean Motors"
        ],
        [
         618,
         "BR0784",
         "Hillman Motors"
        ],
        [
         619,
         "BR1230",
         "Mazzanti Motors"
        ],
        [
         620,
         "BR1425",
         "Oldsmobile Motors"
        ],
        [
         621,
         "BR1967",
         "Toyota India Motors"
        ],
        [
         622,
         "BR2091",
         "ZAZ Motors"
        ],
        [
         623,
         "BR2429",
         "Howard Motor Company Building"
        ],
        [
         624,
         "BR5346",
         "Innocenti Motors"
        ],
        [
         625,
         "BR0144",
         "Autobianchi Motors"
        ],
        [
         626,
         "BR1098",
         "Lincoln Motors"
        ],
        [
         627,
         "BR1239",
         "McLaren Motors"
        ],
        [
         628,
         "BR1747",
         "Saturn Motors"
        ],
        [
         629,
         "BR1849",
         "SsangYong Motors"
        ],
        [
         630,
         "BR2464",
         "Kindel Building"
        ],
        [
         631,
         "BR9186",
         "PGO Motors"
        ],
        [
         632,
         "BR0068",
         "AMC, Eagle Motors"
        ],
        [
         633,
         "BR0291",
         "Cadillac Motors"
        ],
        [
         634,
         "BR0452",
         "DeLorean Motors"
        ],
        [
         635,
         "BR0672",
         "GAZ Motors"
        ],
        [
         636,
         "BR0688",
         "Geo Motors"
        ],
        [
         637,
         "BR0778",
         "Hennessey Motors"
        ],
        [
         638,
         "BR10506",
         "Scion Motors"
        ],
        [
         639,
         "BR1208",
         "Matra (including Deutsch-Bonnet, René Bonnet) Motors"
        ],
        [
         640,
         "BR1290",
         "Mia Motors"
        ],
        [
         641,
         "BR1343",
         "Morgan Motors"
        ],
        [
         642,
         "BR1541",
         "Piaggio Motors"
        ],
        [
         643,
         "BR1915",
         "Tatra Motors"
        ],
        [
         644,
         "BR2048",
         "Volkswagen South Africa Motors"
        ],
        [
         645,
         "BR2455",
         "Jones Motor Company"
        ],
        [
         646,
         "BR2470",
         "Kindel Building"
        ],
        [
         647,
         "BR0092",
         "ARO Motors"
        ],
        [
         648,
         "BR0111",
         "Asia Motors Motors"
        ],
        [
         649,
         "BR0383",
         "Dacia Motors"
        ],
        [
         650,
         "BR0423",
         "Daimler Motors"
        ],
        [
         651,
         "BR0713",
         "Glas Motors"
        ],
        [
         652,
         "BR0817",
         "Honda Motors"
        ],
        [
         653,
         "BR0928",
         "Iso Motors"
        ],
        [
         654,
         "BR0993",
         "JPX Motors"
        ],
        [
         655,
         "BR1061",
         "Land Rover Motors"
        ],
        [
         656,
         "BR1301",
         "Mini Motors"
        ],
        [
         657,
         "BR1605",
         "Proton Motors"
        ],
        [
         658,
         "BR2075",
         "Wiesmann Motors"
        ],
        [
         659,
         "BR2161",
         "Izh  Motors"
        ],
        [
         660,
         "BR2178",
         "Lagonda  Motors"
        ],
        [
         661,
         "BR0014",
         "Acura Motors"
        ],
        [
         662,
         "BR0232",
         "British Leyland Motors"
        ],
        [
         663,
         "BR0271",
         "Buick Motors"
        ],
        [
         664,
         "BR0559",
         "Ferrari Motors"
        ],
        [
         665,
         "BR0707",
         "Ginetta Motors"
        ],
        [
         666,
         "BR0722",
         "GMC Motors"
        ],
        [
         667,
         "BR0918",
         "Isdera Motors"
        ],
        [
         668,
         "BR1163",
         "Marlin Motors"
        ],
        [
         669,
         "BR1615",
         "Puma Motors"
        ],
        [
         670,
         "BR2123",
         "DKW Motors"
        ],
        [
         671,
         "BR2437",
         "Hupmobile Building"
        ],
        [
         672,
         "BR2443",
         "Jennings Ford Automobile Dealership"
        ],
        [
         673,
         "BR0101",
         "Artega Motors"
        ],
        [
         674,
         "BR0112",
         "Asia Motors Motors"
        ],
        [
         675,
         "BR0222",
         "Bristol Motors"
        ],
        [
         676,
         "BR0230",
         "Bristol Motors"
        ],
        [
         677,
         "BR1015",
         "Koenigsegg Motors"
        ],
        [
         678,
         "BR1141",
         "Mahindra Motors"
        ],
        [
         679,
         "BR1358",
         "Moskwitch Motors"
        ],
        [
         680,
         "BR1922",
         "Tazzari Motors"
        ],
        [
         681,
         "BR2402",
         "Colman Automotive Building"
        ],
        [
         682,
         "BR0552",
         "Ferrari Motors"
        ],
        [
         683,
         "BR0658",
         "Freightliner Motors"
        ],
        [
         684,
         "BR0859",
         "Hummer Motors"
        ],
        [
         685,
         "BR1310",
         "Mini Motors"
        ],
        [
         686,
         "BR1391",
         "Nissan India Motors"
        ],
        [
         687,
         "BR1714",
         "San Motors"
        ],
        [
         688,
         "BR1945",
         "Tornado Motors"
        ],
        [
         689,
         "BR2263",
         "Ramani Motors"
        ],
        [
         690,
         "BR0069",
         "AMC, Eagle Motors"
        ],
        [
         691,
         "BR0198",
         "BMW Motors"
        ],
        [
         692,
         "BR0621",
         "Ford do Brasil Motors"
        ],
        [
         693,
         "BR0997",
         "JPX Motors"
        ],
        [
         694,
         "BR1215",
         "Mazda Motors"
        ],
        [
         695,
         "BR1407",
         "Noble Motors"
        ],
        [
         696,
         "BR2024",
         "Volkswagen Motors"
        ],
        [
         697,
         "BR0863",
         "Hyundai Motors"
        ],
        [
         698,
         "BR0967",
         "Jaguar Motors"
        ],
        [
         699,
         "BR1412",
         "NSU Motors"
        ],
        [
         700,
         "BR1435",
         "Oltcit Motors"
        ],
        [
         701,
         "BR1710",
         "Samsung Motors"
        ],
        [
         702,
         "BR1929",
         "Tazzari Motors"
        ],
        [
         703,
         "BR2134",
         "Horch Motors"
        ],
        [
         704,
         "BR2230",
         "Wolseley  Motors"
        ],
        [
         705,
         "BR2295",
         "Zion Automobils"
        ],
        [
         706,
         "BR4446",
         "Gumpert Motors"
        ],
        [
         707,
         "BR0519",
         "e.GO Mobile Motors"
        ],
        [
         708,
         "BR0660",
         "Freightliner Motors"
        ],
        [
         709,
         "BR11106",
         "Standard-Triumph Motors"
        ],
        [
         710,
         "BR1404",
         "Noble Motors"
        ],
        [
         711,
         "BR1869",
         "Studebaker Motors"
        ],
        [
         712,
         "BR1880",
         "Subaru Motors"
        ],
        [
         713,
         "BR2071",
         "Wiesmann Motors"
        ],
        [
         714,
         "BR2232",
         "Standard  Motors"
        ],
        [
         715,
         "BR2427",
         "Howard Motor Company Building"
        ],
        [
         716,
         "BR4746",
         "Hindustan Motors"
        ],
        [
         717,
         "BR0044",
         "Alpine Motors"
        ],
        [
         718,
         "BR0539",
         "Elva Motors"
        ],
        [
         719,
         "BR1093",
         "Lincoln Motors"
        ],
        [
         720,
         "BR1241",
         "Mercedes-Benz (including Maybach) Motors"
        ],
        [
         721,
         "BR1408",
         "Noble Motors"
        ],
        [
         722,
         "BR14766",
         "Kindel Building"
        ],
        [
         723,
         "BR1689",
         "SAIC Motor Motors"
        ],
        [
         724,
         "BR1700",
         "Saleen Motors"
        ],
        [
         725,
         "BR2372",
         "Cass Motor Sales"
        ],
        [
         726,
         "BR0129",
         "Aston Martin Motors"
        ],
        [
         727,
         "BR0211",
         "Borgward (including Goliath and Lloyd) Motors"
        ],
        [
         728,
         "BR0321",
         "Chevrolet Motors"
        ],
        [
         729,
         "BR0433",
         "Datsun Motors"
        ],
        [
         730,
         "BR0607",
         "Ford America Motors"
        ],
        [
         731,
         "BR0764",
         "Heinkel Motors"
        ],
        [
         732,
         "BR0984",
         "Jensen Motors"
        ],
        [
         733,
         "BR2159",
         "Maybach  Motors"
        ],
        [
         734,
         "BR0009",
         "AC Cars Motors"
        ],
        [
         735,
         "BR0783",
         "Hillman Motors"
        ],
        [
         736,
         "BR0878",
         "IFA (including Trabant, Wartburg, Barkas) Motors"
        ],
        [
         737,
         "BR1483",
         "Panoz Motors"
        ],
        [
         738,
         "BR2171",
         "Lagonda  Motors"
        ],
        [
         739,
         "BR2323",
         "Blankinship Motor Company Building"
        ],
        [
         740,
         "BR2362",
         "Casa de cadillac"
        ],
        [
         741,
         "BR0254",
         "Austin, Rover Motors"
        ],
        [
         742,
         "BR0823",
         "Honda India Motors"
        ],
        [
         743,
         "BR14166",
         "Casa de cadillac"
        ],
        [
         744,
         "BR1540",
         "PGO Motors"
        ],
        [
         745,
         "BR1613",
         "Puma Motors"
        ],
        [
         746,
         "BR1892",
         "Suzuki Motors"
        ],
        [
         747,
         "BR1948",
         "Tornado Motors"
        ],
        [
         748,
         "BR1959",
         "Toyota Motors"
        ],
        [
         749,
         "BR2106",
         "Chrysler Europe Motors"
        ],
        [
         750,
         "BR7386",
         "McLaren Motors"
        ],
        [
         751,
         "BR0021",
         "Aixam-Mega (including Arola) Motors"
        ],
        [
         752,
         "BR0385",
         "Dacia Motors"
        ],
        [
         753,
         "BR1083",
         "Ligier Motors"
        ],
        [
         754,
         "BR1179",
         "Maruti Motors"
        ],
        [
         755,
         "BR1240",
         "McLaren Motors"
        ],
        [
         756,
         "BR14406",
         "Colman Automotive Building"
        ],
        [
         757,
         "BR2017",
         "Venturi Motors"
        ],
        [
         758,
         "BR2428",
         "Howard Motor Company Building"
        ],
        [
         759,
         "BR0195",
         "BMW Motors"
        ],
        [
         760,
         "BR0247",
         "Austin-Healey Motors"
        ],
        [
         761,
         "BR0709",
         "Ginetta Motors"
        ],
        [
         762,
         "BR0710",
         "Ginetta Motors"
        ],
        [
         763,
         "BR1671",
         "Saab Motors"
        ],
        [
         764,
         "BR2407",
         "Colman Automotive Building"
        ],
        [
         765,
         "BR0328",
         "Chevrolet Motors"
        ],
        [
         766,
         "BR0350",
         "Chrysler Motors"
        ],
        [
         767,
         "BR0395",
         "Daewoo, Saehan, Chevrolet Korea Motors"
        ],
        [
         768,
         "BR0581",
         "Fiat India Motors"
        ],
        [
         769,
         "BR0627",
         "Ford do Brasil Motors"
        ],
        [
         770,
         "BR0755",
         "Healey Motors"
        ],
        [
         771,
         "BR1117",
         "LTI Motors"
        ],
        [
         772,
         "BR1305",
         "Mini Motors"
        ],
        [
         773,
         "BR1332",
         "Monteverdi Motors"
        ],
        [
         774,
         "BR1378",
         "Naza Motors"
        ],
        [
         775,
         "BR2285",
         "Herald Motors"
        ],
        [
         776,
         "BR2353",
         "Cadillac Automobile Company Building"
        ],
        [
         777,
         "BR7686",
         "Mia Motors"
        ],
        [
         778,
         "BR0048",
         "Alpine Motors"
        ],
        [
         779,
         "BR0293",
         "Cadillac Motors"
        ],
        [
         780,
         "BR0301",
         "Caterham Motors"
        ],
        [
         781,
         "BR0429",
         "Daimler Motors"
        ],
        [
         782,
         "BR0585",
         "Fiat India Motors"
        ],
        [
         783,
         "BR0720",
         "Glas Motors"
        ],
        [
         784,
         "BR0787",
         "Hillman Motors"
        ],
        [
         785,
         "BR0871",
         "IFA (including Trabant, Wartburg, Barkas) Motors"
        ],
        [
         786,
         "BR1025",
         "KTM Motors"
        ],
        [
         787,
         "BR2095",
         "ZAZ Motors"
        ],
        [
         788,
         "BR2133",
         "Horch Motors"
        ],
        [
         789,
         "BR0005",
         "AC Cars Motors"
        ],
        [
         790,
         "BR0791",
         "Hindustan Motors"
        ],
        [
         791,
         "BR0846",
         "Autobianchi Motors"
        ],
        [
         792,
         "BR0883",
         "Infiniti Motors"
        ],
        [
         793,
         "BR1088",
         "Ligier Motors"
        ],
        [
         794,
         "BR1181",
         "Maserati Motors"
        ],
        [
         795,
         "BR1565",
         "Polestar Motors"
        ],
        [
         796,
         "BR2367",
         "Casa de cadillac"
        ],
        [
         797,
         "BR2380",
         "Cass Motor Sales"
        ],
        [
         798,
         "BR6546",
         "Lincoln Motors"
        ],
        [
         799,
         "BR9066",
         "Perodua Motors"
        ],
        [
         800,
         "BR0045",
         "Alpine Motors"
        ],
        [
         801,
         "BR1223",
         "Mazzanti Motors"
        ],
        [
         802,
         "BR12666",
         "Audi Motors"
        ],
        [
         803,
         "BR1364",
         "Nash Motors"
        ],
        [
         804,
         "BR1601",
         "Proton Motors"
        ],
        [
         805,
         "BR1878",
         "Subaru Motors"
        ],
        [
         806,
         "BR2042",
         "Volkswagen South Africa Motors"
        ],
        [
         807,
         "BR0473",
         "De Tomaso Motors"
        ],
        [
         808,
         "BR1053",
         "Lancia Motors"
        ],
        [
         809,
         "BR1244",
         "Mercedes-Benz (including Maybach) Motors"
        ],
        [
         810,
         "BR1785",
         "Simca Motors"
        ],
        [
         811,
         "BR2101",
         "ZIL Motors"
        ],
        [
         812,
         "BR2165",
         "Izh  Motors"
        ],
        [
         813,
         "BR7146",
         "Mastretta Motors"
        ],
        [
         814,
         "BR0126",
         "Aixam-Mega (including Arola) Motors"
        ],
        [
         815,
         "BR0359",
         "Chrysler Europe Motors"
        ],
        [
         816,
         "BR0611",
         "Ford Australia Motors"
        ],
        [
         817,
         "BR1104",
         "Lotus Motors"
        ],
        [
         818,
         "BR1174",
         "Maruti Motors"
        ],
        [
         819,
         "BR1277",
         "Messerschmitt Motors"
        ],
        [
         820,
         "BR1419",
         "NSU Motors"
        ],
        [
         821,
         "BR1510",
         "Peel Motors"
        ],
        [
         822,
         "BR1653",
         "Rivian Motors"
        ],
        [
         823,
         "BR1780",
         "Shelby SuperCars Motors"
        ],
        [
         824,
         "BR2135",
         "Horch Motors"
        ],
        [
         825,
         "BR2167",
         "Izh  Motors"
        ],
        [
         826,
         "BR2371",
         "Cass Motor Sales"
        ],
        [
         827,
         "BR3606",
         "Ford America Motors"
        ],
        [
         828,
         "BR0143",
         "Autobianchi Motors"
        ],
        [
         829,
         "BR1283",
         "Mia Motors"
        ],
        [
         830,
         "BR1328",
         "Monica Motors"
        ],
        [
         831,
         "BR1783",
         "Simca Motors"
        ],
        [
         832,
         "BR0727",
         "GMC Motors"
        ],
        [
         833,
         "BR0892",
         "Innocenti Motors"
        ],
        [
         834,
         "BR1123",
         "LuAZ Motors"
        ],
        [
         835,
         "BR12906",
         "Maybach  Motors"
        ],
        [
         836,
         "BR1690",
         "SAIC Motor Motors"
        ],
        [
         837,
         "BR1843",
         "SsangYong Motors"
        ],
        [
         838,
         "BR2067",
         "Westfield Motors"
        ],
        [
         839,
         "BR2099",
         "ZAZ Motors"
        ],
        [
         840,
         "BR0057",
         "Alvis Motors"
        ],
        [
         841,
         "BR0929",
         "Iso Motors"
        ],
        [
         842,
         "BR1842",
         "SsangYong Motors"
        ],
        [
         843,
         "BR0073",
         "Anadol Motors"
        ],
        [
         844,
         "BR0492",
         "Donkervoort Motors"
        ],
        [
         845,
         "BR0565",
         "Fiat Motors"
        ],
        [
         846,
         "BR0851",
         "Hummer Motors"
        ],
        [
         847,
         "BR1032",
         "Lada Motors"
        ],
        [
         848,
         "BR1190",
         "Maserati Motors"
        ],
        [
         849,
         "BR1410",
         "Noble Motors"
        ],
        [
         850,
         "BR1678",
         "Saab Motors"
        ],
        [
         851,
         "BR2082",
         "Zastava Motors"
        ],
        [
         852,
         "BR2124",
         "DKW Motors"
        ],
        [
         853,
         "BR2131",
         "Horch Motors"
        ],
        [
         854,
         "BR2247",
         "Talbot  Motors"
        ],
        [
         855,
         "BR2460",
         "Jones Motor Company"
        ],
        [
         856,
         "BR3786",
         "Ford Europe Motors"
        ],
        [
         857,
         "BR0080",
         "Anadol Motors"
        ],
        [
         858,
         "BR0085",
         "Ariel Motors"
        ],
        [
         859,
         "BR0220",
         "Borgward (including Goliath and Lloyd) Motors"
        ],
        [
         860,
         "BR0342",
         "Chrysler Motors"
        ],
        [
         861,
         "BR0624",
         "Ford do Brasil Motors"
        ],
        [
         862,
         "BR0730",
         "GMC Motors"
        ],
        [
         863,
         "BR0845",
         "Humber Motors"
        ],
        [
         864,
         "BR0935",
         "Isotta Fraschini Motors"
        ],
        [
         865,
         "BR1055",
         "Lancia Motors"
        ],
        [
         866,
         "BR1326",
         "Bristol Motors"
        ],
        [
         867,
         "BR1867",
         "Studebaker Motors"
        ],
        [
         868,
         "BR1895",
         "Suzuki Motors"
        ],
        [
         869,
         "BR2153",
         "Maybach  Motors"
        ],
        [
         870,
         "BR2184",
         "MG  Motors"
        ],
        [
         871,
         "BR2250",
         "Talbot  Motors"
        ],
        [
         872,
         "BR2282",
         "Herald Motors"
        ],
        [
         873,
         "BR6606",
         "Lotus Motors"
        ],
        [
         874,
         "BR0152",
         "Auto-Union Motors"
        ],
        [
         875,
         "BR0842",
         "Humber Motors"
        ],
        [
         876,
         "BR1291",
         "Micro Motors"
        ],
        [
         877,
         "BR2199",
         "Morris  Motors"
        ],
        [
         878,
         "BR2451",
         "Jones Motor Company"
        ],
        [
         879,
         "BR0029",
         "Aixam-Mega (including Arola) Motors"
        ],
        [
         880,
         "BR0033",
         "Alfa Romeo Motors"
        ],
        [
         881,
         "BR0229",
         "Bristol Motors"
        ],
        [
         882,
         "BR0457",
         "DeLorean Motors"
        ],
        [
         883,
         "BR0605",
         "Ford America Motors"
        ],
        [
         884,
         "BR0950",
         "Isuzu Motors"
        ],
        [
         885,
         "BR0990",
         "Jensen Motors"
        ],
        [
         886,
         "BR1585",
         "Porsche Motors"
        ],
        [
         887,
         "BR1672",
         "Saab Motors"
        ],
        [
         888,
         "BR4026",
         "GAZ Motors"
        ],
        [
         889,
         "BR0424",
         "Daimler Motors"
        ],
        [
         890,
         "BR0971",
         "Jeep Motors"
        ],
        [
         891,
         "BR1114",
         "LTI Motors"
        ],
        [
         892,
         "BR1258",
         "Mercury Motors"
        ],
        [
         893,
         "BR1488",
         "Panoz Motors"
        ],
        [
         894,
         "BR1679",
         "Saab Motors"
        ],
        [
         895,
         "BR2172",
         "Lagonda  Motors"
        ],
        [
         896,
         "BR2462",
         "Kindel Building"
        ],
        [
         897,
         "BR0094",
         "ARO Motors"
        ],
        [
         898,
         "BR0357",
         "Chrysler Europe Motors"
        ],
        [
         899,
         "BR0417",
         "Daihatsu Motors"
        ],
        [
         900,
         "BR0854",
         "Hummer Motors"
        ],
        [
         901,
         "BR1014",
         "Koenigsegg Motors"
        ],
        [
         902,
         "BR1245",
         "Mercedes-Benz (including Maybach) Motors"
        ],
        [
         903,
         "BR1295",
         "Micro Motors"
        ],
        [
         904,
         "BR1625",
         "Ranger Motors"
        ],
        [
         905,
         "BR1683",
         "SAIC Motor Motors"
        ],
        [
         906,
         "BR1742",
         "Saturn Motors"
        ],
        [
         907,
         "BR1827",
         "Smart Motors"
        ],
        [
         908,
         "BR1975",
         "Turner Motors"
        ],
        [
         909,
         "BR0120",
         "Asia Motors Motors"
        ],
        [
         910,
         "BR0382",
         "Dacia Motors"
        ],
        [
         911,
         "BR0470",
         "DeSoto Motors"
        ],
        [
         912,
         "BR1034",
         "Lada Motors"
        ],
        [
         913,
         "BR10626",
         "Shelby SuperCars Motors"
        ],
        [
         914,
         "BR1099",
         "Lincoln Motors"
        ],
        [
         915,
         "BR2351",
         "Cadillac Automobile Company Building"
        ],
        [
         916,
         "BR2394",
         "Clemens Automobile Company Building"
        ],
        [
         917,
         "BR0310",
         "Caterham Motors"
        ],
        [
         918,
         "BR0602",
         "Ford America Motors"
        ],
        [
         919,
         "BR0694",
         "Gilbern Motors"
        ],
        [
         920,
         "BR1668",
         "Rolls-Royce Motors"
        ],
        [
         921,
         "BR2148",
         "Wanderer Motors"
        ],
        [
         922,
         "BR2309",
         "Atlantic Motor Company"
        ],
        [
         923,
         "BR0546",
         "ARO Motors"
        ],
        [
         924,
         "BR0678",
         "GAZ Motors"
        ],
        [
         925,
         "BR1569",
         "Polestar Motors"
        ],
        [
         926,
         "BR1570",
         "Polestar Motors"
        ],
        [
         927,
         "BR1811",
         "Skoda Motors"
        ],
        [
         928,
         "BR1882",
         "Sunbeam Motors"
        ],
        [
         929,
         "BR1901",
         "Tata Motors"
        ],
        [
         930,
         "BR1937",
         "Tesla Motors"
        ],
        [
         931,
         "BR1988",
         "TVR Motors"
        ],
        [
         932,
         "BR2034",
         "Volkswagen do Brasil Motors"
        ],
        [
         933,
         "BR2334",
         "Bohn Motor Company Automobile Dealership"
        ],
        [
         934,
         "BR0074",
         "Anadol Motors"
        ],
        [
         935,
         "BR0103",
         "Artega Motors"
        ],
        [
         936,
         "BR0338",
         "Chevrolet India Motors"
        ],
        [
         937,
         "BR0418",
         "Daihatsu Motors"
        ],
        [
         938,
         "BR0435",
         "Datsun Motors"
        ],
        [
         939,
         "BR0533",
         "Elva Motors"
        ],
        [
         940,
         "BR0879",
         "IFA (including Trabant, Wartburg, Barkas) Motors"
        ],
        [
         941,
         "BR1512",
         "Perodua Motors"
        ],
        [
         942,
         "BR2234",
         "Standard  Motors"
        ],
        [
         943,
         "BR2245",
         "Talbot  Motors"
        ],
        [
         944,
         "BR2283",
         "Herald Motors"
        ],
        [
         945,
         "BR2438",
         "Hupmobile Building"
        ],
        [
         946,
         "BR8466",
         "NSU Motors"
        ],
        [
         947,
         "BR8766",
         "Pagani Motors"
        ],
        [
         948,
         "BR0961",
         "Jaguar Motors"
        ],
        [
         949,
         "BR1471",
         "Panhard Motors"
        ],
        [
         950,
         "BR1603",
         "Proton Motors"
        ],
        [
         951,
         "BR1879",
         "Subaru Motors"
        ],
        [
         952,
         "BR2211",
         "Riley  Motors"
        ],
        [
         953,
         "BR2320",
         "2008 NRHP-listed"
        ],
        [
         954,
         "BR0020",
         "Acura Motors"
        ],
        [
         955,
         "BR0339",
         "Chevrolet India Motors"
        ],
        [
         956,
         "BR0375",
         "Cizeta-Moroder Motors"
        ],
        [
         957,
         "BR0404",
         "DAF Motors"
        ],
        [
         958,
         "BR0752",
         "Healey Motors"
        ],
        [
         959,
         "BR1315",
         "Mitsubishi Motors"
        ],
        [
         960,
         "BR1392",
         "Nissan India Motors"
        ],
        [
         961,
         "BR1542",
         "Piaggio Motors"
        ],
        [
         962,
         "BR2302",
         "Atlantic Motor Company"
        ],
        [
         963,
         "BR0397",
         "Daewoo, Saehan, Chevrolet Korea Motors"
        ],
        [
         964,
         "BR0675",
         "GAZ Motors"
        ],
        [
         965,
         "BR11526",
         "Tazzari Motors"
        ],
        [
         966,
         "BR1619",
         "Puma Motors"
        ],
        [
         967,
         "BR1798",
         "Simca do Brasil Motors"
        ],
        [
         968,
         "BR1994",
         "UAZ Motors"
        ],
        [
         969,
         "BR2342",
         "Buick Automobile Company Building"
        ],
        [
         970,
         "BR7506",
         "Mercury Motors"
        ],
        [
         971,
         "BR0049",
         "Alpine Motors"
        ],
        [
         972,
         "BR0640",
         "Ford Europe Motors"
        ],
        [
         973,
         "BR0653",
         "Freightliner Motors"
        ],
        [
         974,
         "BR0897",
         "Innocenti Motors"
        ],
        [
         975,
         "BR1520",
         "Perodua Motors"
        ],
        [
         976,
         "BR1621",
         "Ranger Motors"
        ],
        [
         977,
         "BR2008",
         "Vauxhall Motors"
        ],
        [
         978,
         "BR2170",
         "Izh  Motors"
        ],
        [
         979,
         "BR2526",
         "Daimler Motors"
        ],
        [
         980,
         "BR3006",
         "Edsel Motors"
        ],
        [
         981,
         "BR8226",
         "Naza Motors"
        ],
        [
         982,
         "BR0170",
         "Auverland Motors"
        ],
        [
         983,
         "BR0843",
         "Humber Motors"
        ],
        [
         984,
         "BR1249",
         "Mercedes-Benz (including Maybach) Motors"
        ],
        [
         985,
         "BR1552",
         "Plymouth Motors"
        ],
        [
         986,
         "BR2258",
         "Das Motors"
        ],
        [
         987,
         "BR0084",
         "Ariel Motors"
        ],
        [
         988,
         "BR0610",
         "Ford America Motors"
        ],
        [
         989,
         "BR1077",
         "Lexus Motors"
        ],
        [
         990,
         "BR1101",
         "Lotus Motors"
        ],
        [
         991,
         "BR1107",
         "Lotus Motors"
        ],
        [
         992,
         "BR1209",
         "Matra (including Deutsch-Bonnet, René Bonnet) Motors"
        ],
        [
         993,
         "BR1235",
         "McLaren Motors"
        ],
        [
         994,
         "BR1417",
         "NSU Motors"
        ],
        [
         995,
         "BR1519",
         "Perodua Motors"
        ],
        [
         996,
         "BR1524",
         "Peugeot Motors"
        ],
        [
         997,
         "BR1640",
         "Reliant Motors"
        ],
        [
         998,
         "BR2110",
         "ZIL Motors"
        ],
        [
         999,
         "BR2307",
         "Atlantic Motor Company"
        ],
        [
         1000,
         "BR2457",
         "Jones Motor Company"
        ],
        [
         1001,
         "BR5106",
         "Hummer Motors"
        ],
        [
         1002,
         "BR6306",
         "Lancia Motors"
        ],
        [
         1003,
         "BR0108",
         "Artega Motors"
        ],
        [
         1004,
         "BR0380",
         "Cizeta-Moroder Motors"
        ],
        [
         1005,
         "BR0577",
         "Fiat do Brasil Motors"
        ],
        [
         1006,
         "BR0812",
         "Honda Motors"
        ],
        [
         1007,
         "BR0865",
         "Hyundai Motors"
        ],
        [
         1008,
         "BR1202",
         "Matra (including Deutsch-Bonnet, René Bonnet) Motors"
        ],
        [
         1009,
         "BR1504",
         "Peel Motors"
        ],
        [
         1010,
         "BR1833",
         "Spyker Motors"
        ],
        [
         1011,
         "BR2041",
         "Volkswagen South Africa Motors"
        ],
        [
         1012,
         "BR2313",
         "2008 NRHP-listed"
        ],
        [
         1013,
         "BR3726",
         "Ford do Brasil Motors"
        ],
        [
         1014,
         "BR7326",
         "Mazzanti Motors"
        ],
        [
         1015,
         "BR0334",
         "Chevrolet India Motors"
        ],
        [
         1016,
         "BR0364",
         "Citroën Motors"
        ],
        [
         1017,
         "BR0371",
         "Cizeta-Moroder Motors"
        ],
        [
         1018,
         "BR0485",
         "Dodge Motors"
        ],
        [
         1019,
         "BR0909",
         "Invicta Motors"
        ],
        [
         1020,
         "BR0921",
         "Iso Motors"
        ],
        [
         1021,
         "BR0267",
         "Bugatti Motors"
        ],
        [
         1022,
         "BR0410",
         "DAF Motors"
        ],
        [
         1023,
         "BR0469",
         "DeSoto Motors"
        ],
        [
         1024,
         "BR0654",
         "Freightliner Motors"
        ],
        [
         1025,
         "BR1528",
         "Peugeot Motors"
        ],
        [
         1026,
         "BR2183",
         "MG  Motors"
        ],
        [
         1027,
         "BR2264",
         "Ramani Motors"
        ],
        [
         1028,
         "BR0041",
         "Alpine Motors"
        ],
        [
         1029,
         "BR0122",
         "Aston Martin Motors"
        ],
        [
         1030,
         "BR0349",
         "Chrysler Motors"
        ],
        [
         1031,
         "BR0906",
         "Auto-Union Motors"
        ],
        [
         1032,
         "BR0973",
         "Jeep Motors"
        ],
        [
         1033,
         "BR1168",
         "Marlin Motors"
        ],
        [
         1034,
         "BR1231",
         "McLaren Motors"
        ],
        [
         1035,
         "BR1518",
         "Perodua Motors"
        ],
        [
         1036,
         "BR1639",
         "Reliant Motors"
        ],
        [
         1037,
         "BR2290",
         "Herald Motors"
        ],
        [
         1038,
         "BR0302",
         "Caterham Motors"
        ],
        [
         1039,
         "BR0468",
         "DeSoto Motors"
        ],
        [
         1040,
         "BR0477",
         "De Tomaso Motors"
        ],
        [
         1041,
         "BR0768",
         "Heinkel Motors"
        ],
        [
         1042,
         "BR0824",
         "Honda India Motors"
        ],
        [
         1043,
         "BR1008",
         "Kia Motors"
        ],
        [
         1044,
         "BR1674",
         "Saab Motors"
        ],
        [
         1045,
         "BR1697",
         "Saleen Motors"
        ],
        [
         1046,
         "BR1715",
         "San Motors"
        ],
        [
         1047,
         "BR1782",
         "Simca Motors"
        ],
        [
         1048,
         "BR1797",
         "Simca do Brasil Motors"
        ],
        [
         1049,
         "BR1924",
         "Tazzari Motors"
        ],
        [
         1050,
         "BR4686",
         "Hillman Motors"
        ],
        [
         1051,
         "BR8826",
         "Panhard Motors"
        ],
        [
         1052,
         "BR0322",
         "Chevrolet Motors"
        ],
        [
         1053,
         "BR0724",
         "GMC Motors"
        ],
        [
         1054,
         "BR0994",
         "JPX Motors"
        ],
        [
         1055,
         "BR1173",
         "Maruti Motors"
        ],
        [
         1056,
         "BR1692",
         "Saleen Motors"
        ],
        [
         1057,
         "BR1875",
         "Subaru Motors"
        ],
        [
         1058,
         "BR0004",
         "AC Cars Motors"
        ],
        [
         1059,
         "BR0067",
         "AMC, Eagle Motors"
        ],
        [
         1060,
         "BR0459",
         "DeLorean Motors"
        ],
        [
         1061,
         "BR0488",
         "Dodge Motors"
        ],
        [
         1062,
         "BR0663",
         "FSO Motors"
        ],
        [
         1063,
         "BR0711",
         "Glas Motors"
        ],
        [
         1064,
         "BR0747",
         "Gumpert Motors"
        ],
        [
         1065,
         "BR0894",
         "Innocenti Motors"
        ],
        [
         1066,
         "BR1039",
         "Lada Motors"
        ],
        [
         1067,
         "BR14046",
         "Buick Automobile Company Building"
        ],
        [
         1068,
         "BR1440",
         "Oltcit Motors"
        ],
        [
         1069,
         "BR1492",
         "Panther Motors"
        ],
        [
         1070,
         "BR1557",
         "Plymouth Motors"
        ],
        [
         1071,
         "BR2388",
         "Claremore Auto Dealership"
        ],
        [
         1072,
         "BR0224",
         "Bristol Motors"
        ],
        [
         1073,
         "BR1303",
         "Mini Motors"
        ],
        [
         1074,
         "BR1304",
         "Mini Motors"
        ],
        [
         1075,
         "BR13086",
         "MG  Motors"
        ],
        [
         1076,
         "BR1567",
         "Polestar Motors"
        ],
        [
         1077,
         "BR1659",
         "Rivian Motors"
        ],
        [
         1078,
         "BR1725",
         "Santa Matilde Motors"
        ],
        [
         1079,
         "BR2104",
         "ZIL Motors"
        ],
        [
         1080,
         "BR6426",
         "Lexus Motors"
        ],
        [
         1081,
         "BR0697",
         "Gilbern Motors"
        ],
        [
         1082,
         "BR0781",
         "Hillman Motors"
        ],
        [
         1083,
         "BR0931",
         "Isotta Fraschini Motors"
        ],
        [
         1084,
         "BR1070",
         "Land Rover Motors"
        ],
        [
         1085,
         "BR1130",
         "LuAZ Motors"
        ],
        [
         1086,
         "BR1397",
         "Nissan India Motors"
        ],
        [
         1087,
         "BR1595",
         "Premier Motors"
        ],
        [
         1088,
         "BR1985",
         "TVR Motors"
        ],
        [
         1089,
         "BR2011",
         "Venturi Motors"
        ],
        [
         1090,
         "BR2089",
         "Zastava Motors"
        ],
        [
         1091,
         "BR0484",
         "Dodge Motors"
        ],
        [
         1092,
         "BR0899",
         "Innocenti Motors"
        ],
        [
         1093,
         "BR1379",
         "Naza Motors"
        ],
        [
         1094,
         "BR1903",
         "Tata Motors"
        ],
        [
         1095,
         "BR0303",
         "Caterham Motors"
        ],
        [
         1096,
         "BR0523",
         "Eicher Polaris Motors"
        ],
        [
         1097,
         "BR0538",
         "Elva Motors"
        ],
        [
         1098,
         "BR1363",
         "Nash Motors"
        ],
        [
         1099,
         "BR1459",
         "Packard Motors"
        ],
        [
         1100,
         "BR1837",
         "Spyker Motors"
        ],
        [
         1101,
         "BR1918",
         "Tatra Motors"
        ],
        [
         1102,
         "BR2281",
         "Herald Motors"
        ],
        [
         1103,
         "BR0025",
         "Aixam-Mega (including Arola) Motors"
        ],
        [
         1104,
         "BR1068",
         "Land Rover Motors"
        ],
        [
         1105,
         "BR1135",
         "Lynx Motors"
        ],
        [
         1106,
         "BR1560",
         "Plymouth Motors"
        ],
        [
         1107,
         "BR1717",
         "San Motors"
        ],
        [
         1108,
         "BR1923",
         "Tazzari Motors"
        ],
        [
         1109,
         "BR1964",
         "Toyota India Motors"
        ],
        [
         1110,
         "BR4266",
         "Glas Motors"
        ],
        [
         1111,
         "BR0159",
         "Auto-Union Motors"
        ],
        [
         1112,
         "BR0331",
         "Chevrolet India Motors"
        ],
        [
         1113,
         "BR0681",
         "Geo Motors"
        ],
        [
         1114,
         "BR0703",
         "Ginetta Motors"
        ],
        [
         1115,
         "BR0832",
         "Hudson Motors"
        ],
        [
         1116,
         "BR0880",
         "IFA (including Trabant, Wartburg, Barkas) Motors"
        ],
        [
         1117,
         "BR0999",
         "JPX Motors"
        ],
        [
         1118,
         "BR1974",
         "Turner Motors"
        ],
        [
         1119,
         "BR2180",
         "Lagonda  Motors"
        ],
        [
         1120,
         "BR0923",
         "Iso Motors"
        ],
        [
         1121,
         "BR0953",
         "Iveco Motors"
        ],
        [
         1122,
         "BR1498",
         "Panther Motors"
        ],
        [
         1123,
         "BR1583",
         "Porsche Motors"
        ],
        [
         1124,
         "BR1709",
         "Samsung Motors"
        ],
        [
         1125,
         "BR1723",
         "Santa Matilde Motors"
        ],
        [
         1126,
         "BR1920",
         "Tatra Motors"
        ],
        [
         1127,
         "BR2222",
         "Wolseley  Motors"
        ],
        [
         1128,
         "BR2231",
         "Standard  Motors"
        ],
        [
         1129,
         "BR2273",
         "Deccan Motors"
        ],
        [
         1130,
         "BR2327",
         "Blankinship Motor Company Building"
        ],
        [
         1131,
         "BR0077",
         "Anadol Motors"
        ],
        [
         1132,
         "BR0344",
         "Chrysler Motors"
        ],
        [
         1133,
         "BR0774",
         "Hennessey Motors"
        ],
        [
         1134,
         "BR0901",
         "Invicta Motors"
        ],
        [
         1135,
         "BR1193",
         "Mastretta Motors"
        ],
        [
         1136,
         "BR1199",
         "Mastretta Motors"
        ],
        [
         1137,
         "BR1227",
         "Mazzanti Motors"
        ],
        [
         1138,
         "BR1317",
         "Mitsubishi Motors"
        ],
        [
         1139,
         "BR1428",
         "Oldsmobile Motors"
        ],
        [
         1140,
         "BR1589",
         "Porsche Motors"
        ],
        [
         1141,
         "BR1634",
         "Reliant Motors"
        ],
        [
         1142,
         "BR1894",
         "Suzuki Motors"
        ],
        [
         1143,
         "BR0387",
         "Dacia Motors"
        ],
        [
         1144,
         "BR0426",
         "Anadol Motors"
        ],
        [
         1145,
         "BR0573",
         "Fiat do Brasil Motors"
        ],
        [
         1146,
         "BR1234",
         "McLaren Motors"
        ],
        [
         1147,
         "BR1401",
         "Noble Motors"
        ],
        [
         1148,
         "BR1578",
         "Pontiac, Asüna Motors"
        ],
        [
         1149,
         "BR1788",
         "Simca Motors"
        ],
        [
         1150,
         "BR1805",
         "Singer Motors"
        ],
        [
         1151,
         "BR2144",
         "Wanderer Motors"
        ],
        [
         1152,
         "BR2243",
         "Talbot  Motors"
        ],
        [
         1153,
         "BR0154",
         "Auto-Union Motors"
        ],
        [
         1154,
         "BR0193",
         "BMW Motors"
        ],
        [
         1155,
         "BR0439",
         "Datsun Motors"
        ],
        [
         1156,
         "BR0910",
         "Invicta Motors"
        ],
        [
         1157,
         "BR1360",
         "Moskwitch Motors"
        ],
        [
         1158,
         "BR1649",
         "Renault Motors"
        ],
        [
         1159,
         "BR1804",
         "Singer Motors"
        ],
        [
         1160,
         "BR1963",
         "Toyota India Motors"
        ],
        [
         1161,
         "BR2019",
         "Venturi Motors"
        ],
        [
         1162,
         "BR0098",
         "ARO Motors"
        ],
        [
         1163,
         "BR0141",
         "Autobianchi Motors"
        ],
        [
         1164,
         "BR0442",
         "Delahaye Motors"
        ],
        [
         1165,
         "BR0590",
         "Fiat India Motors"
        ],
        [
         1166,
         "BR10086",
         "SAIC Motor Motors"
        ],
        [
         1167,
         "BR1043",
         "Lamborghini Motors"
        ],
        [
         1168,
         "BR1222",
         "Mazzanti Motors"
        ],
        [
         1169,
         "BR1393",
         "Nissan India Motors"
        ],
        [
         1170,
         "BR2031",
         "Volkswagen do Brasil Motors"
        ],
        [
         1171,
         "BR2187",
         "MG  Motors"
        ],
        [
         1172,
         "BR2207",
         "Austin  Motors"
        ],
        [
         1173,
         "BR2240",
         "Standard  Motors"
        ],
        [
         1174,
         "BR2361",
         "Casa de cadillac"
        ],
        [
         1175,
         "BR2392",
         "Clemens Automobile Company Building"
        ],
        [
         1176,
         "BR5946",
         "JPX Motors"
        ],
        [
         1177,
         "BR0208",
         "Bond Motors"
        ],
        [
         1178,
         "BR0260",
         "Austin, Rover Motors"
        ],
        [
         1179,
         "BR0309",
         "Caterham Motors"
        ],
        [
         1180,
         "BR1128",
         "LuAZ Motors"
        ],
        [
         1181,
         "BR1348",
         "Morgan Motors"
        ],
        [
         1182,
         "BR1667",
         "Rolls-Royce Motors"
        ],
        [
         1183,
         "BR2312",
         "2008 NRHP-listed"
        ],
        [
         1184,
         "BR2423",
         "Howard Motor Company Building"
        ],
        [
         1185,
         "BR4926",
         "Honda India Motors"
        ],
        [
         1186,
         "BR0391",
         "Daewoo, Saehan, Chevrolet Korea Motors"
        ],
        [
         1187,
         "BR0751",
         "Healey Motors"
        ],
        [
         1188,
         "BR0769",
         "Heinkel Motors"
        ],
        [
         1189,
         "BR0998",
         "JPX Motors"
        ],
        [
         1190,
         "BR1183",
         "Maserati Motors"
        ],
        [
         1191,
         "BR1313",
         "Mitsubishi Motors"
        ],
        [
         1192,
         "BR1455",
         "Packard Motors"
        ],
        [
         1193,
         "BR2463",
         "Kindel Building"
        ],
        [
         1194,
         "BR4566",
         "Heinkel Motors"
        ],
        [
         1195,
         "BR1108",
         "Lotus Motors"
        ],
        [
         1196,
         "BR1204",
         "Matra (including Deutsch-Bonnet, René Bonnet) Motors"
        ],
        [
         1197,
         "BR13326",
         "Wolseley  Motors"
        ],
        [
         1198,
         "BR1372",
         "Naza Motors"
        ],
        [
         1199,
         "BR1758",
         "Scion Motors"
        ],
        [
         1200,
         "BR1887",
         "Sunbeam Motors"
        ],
        [
         1201,
         "BR2214",
         "Riley  Motors"
        ],
        [
         1202,
         "BR7986",
         "Monteverdi Motors"
        ],
        [
         1203,
         "BR0515",
         "e.GO Mobile Motors"
        ],
        [
         1204,
         "BR0661",
         "FSO Motors"
        ],
        [
         1205,
         "BR1021",
         "KTM Motors"
        ],
        [
         1206,
         "BR1268",
         "Merkur Motors"
        ],
        [
         1207,
         "BR13266",
         "Riley  Motors"
        ],
        [
         1208,
         "BR2151",
         "Maybach  Motors"
        ],
        [
         1209,
         "BR2300",
         "Zion Automobils"
        ],
        [
         1210,
         "BR2382",
         "Claremore Auto Dealership"
        ],
        [
         1211,
         "BR0010",
         "AC Cars Motors"
        ],
        [
         1212,
         "BR0051",
         "Alvis Motors"
        ],
        [
         1213,
         "BR0341",
         "Chrysler Motors"
        ],
        [
         1214,
         "BR0384",
         "Dacia Motors"
        ],
        [
         1215,
         "BR0569",
         "Fiat Motors"
        ],
        [
         1216,
         "BR14646",
         "Jennings Ford Automobile Dealership"
        ],
        [
         1217,
         "BR1562",
         "Polestar Motors"
        ],
        [
         1218,
         "BR1872",
         "Subaru Motors"
        ],
        [
         1219,
         "BR2128",
         "DKW Motors"
        ],
        [
         1220,
         "BR2197",
         "Morris  Motors"
        ],
        [
         1221,
         "BR2253",
         "Das Motors"
        ],
        [
         1222,
         "BR2315",
         "2008 NRHP-listed"
        ],
        [
         1223,
         "BR0443",
         "Delahaye Motors"
        ],
        [
         1224,
         "BR0925",
         "Iso Motors"
        ],
        [
         1225,
         "BR1019",
         "Koenigsegg Motors"
        ],
        [
         1226,
         "BR1411",
         "NSU Motors"
        ],
        [
         1227,
         "BR1733",
         "Santana Motors"
        ],
        [
         1228,
         "BR1745",
         "Saturn Motors"
        ],
        [
         1229,
         "BR1962",
         "Toyota India Motors"
        ],
        [
         1230,
         "BR2251",
         "Das Motors"
        ],
        [
         1231,
         "BR0102",
         "Artega Motors"
        ],
        [
         1232,
         "BR0745",
         "Gumpert Motors"
        ],
        [
         1233,
         "BR0858",
         "Hummer Motors"
        ],
        [
         1234,
         "BR0917",
         "Isdera Motors"
        ],
        [
         1235,
         "BR1171",
         "Maruti Motors"
        ],
        [
         1236,
         "BR1247",
         "Mercedes-Benz (including Maybach) Motors"
        ],
        [
         1237,
         "BR1831",
         "Spyker Motors"
        ],
        [
         1238,
         "BR2448",
         "Jennings Ford Automobile Dealership"
        ],
        [
         1239,
         "BR0173",
         "Bentley Motors"
        ],
        [
         1240,
         "BR0249",
         "Austin-Healey Motors"
        ],
        [
         1241,
         "BR0619",
         "Ford Australia Motors"
        ],
        [
         1242,
         "BR1118",
         "LTI Motors"
        ],
        [
         1243,
         "BR1294",
         "Micro Motors"
        ],
        [
         1244,
         "BR1593",
         "Premier Motors"
        ],
        [
         1245,
         "BR1712",
         "San Motors"
        ],
        [
         1246,
         "BR1728",
         "Santa Matilde Motors"
        ],
        [
         1247,
         "BR2409",
         "Colman Automotive Building"
        ],
        [
         1248,
         "BR8586",
         "Oltcit Motors"
        ],
        [
         1249,
         "BR0402",
         "DAF Motors"
        ],
        [
         1250,
         "BR0542",
         "Facel Vega Motors"
        ],
        [
         1251,
         "BR11646",
         "Tornado Motors"
        ],
        [
         1252,
         "BR1467",
         "Pagani Motors"
        ],
        [
         1253,
         "BR2321",
         "Blankinship Motor Company Building"
        ],
        [
         1254,
         "BR7026",
         "Maruti Motors"
        ],
        [
         1255,
         "BR0295",
         "Cadillac Motors"
        ],
        [
         1256,
         "BR0641",
         "Ford India Motors"
        ],
        [
         1257,
         "BR0715",
         "Glas Motors"
        ],
        [
         1258,
         "BR0975",
         "Jeep Motors"
        ],
        [
         1259,
         "BR1004",
         "Kia Motors"
        ],
        [
         1260,
         "BR1610",
         "Proton Motors"
        ],
        [
         1261,
         "BR1741",
         "Saturn Motors"
        ],
        [
         1262,
         "BR2053",
         "Volvo Motors"
        ],
        [
         1263,
         "BR2340",
         "Bohn Motor Company Automobile Dealership"
        ],
        [
         1264,
         "BR0042",
         "Alpine Motors"
        ],
        [
         1265,
         "BR0311",
         "Checker Motors"
        ],
        [
         1266,
         "BR0482",
         "Dodge Motors"
        ],
        [
         1267,
         "BR0870",
         "Hyundai Motors"
        ],
        [
         1268,
         "BR1362",
         "Nash Motors"
        ],
        [
         1269,
         "BR1571",
         "Pontiac, Asüna Motors"
        ],
        [
         1270,
         "BR2370",
         "Casa de cadillac"
        ],
        [
         1271,
         "BR2389",
         "Claremore Auto Dealership"
        ],
        [
         1272,
         "BR3966",
         "FSO Motors"
        ],
        [
         1273,
         "BR6846",
         "Mahindra Motors"
        ],
        [
         1274,
         "BR7806",
         "Mini Motors"
        ],
        [
         1275,
         "BR0420",
         "Daihatsu Motors"
        ],
        [
         1276,
         "BR0667",
         "FSO Motors"
        ],
        [
         1277,
         "BR0742",
         "Gumpert Motors"
        ],
        [
         1278,
         "BR0822",
         "Honda India Motors"
        ],
        [
         1279,
         "BR0981",
         "Jensen Motors"
        ],
        [
         1280,
         "BR1052",
         "Lancia Motors"
        ],
        [
         1281,
         "BR1194",
         "Mastretta Motors"
        ],
        [
         1282,
         "BR1620",
         "Puma Motors"
        ],
        [
         1283,
         "BR1761",
         "Seat Motors"
        ],
        [
         1284,
         "BR1925",
         "Tazzari Motors"
        ],
        [
         1285,
         "BR1933",
         "Tesla Motors"
        ],
        [
         1286,
         "BR2045",
         "Volkswagen South Africa Motors"
        ],
        [
         1287,
         "BR2469",
         "Kindel Building"
        ],
        [
         1288,
         "BR8706",
         "Packard Motors"
        ],
        [
         1289,
         "BR9306",
         "Plymouth Motors"
        ],
        [
         1290,
         "BR0015",
         "Acura Motors"
        ],
        [
         1291,
         "BR0217",
         "Borgward (including Goliath and Lloyd) Motors"
        ],
        [
         1292,
         "BR0283",
         "Bytom Motors"
        ],
        [
         1293,
         "BR1274",
         "Messerschmitt Motors"
        ],
        [
         1294,
         "BR1431",
         "Oltcit Motors"
        ],
        [
         1295,
         "BR1451",
         "Packard Motors"
        ],
        [
         1296,
         "BR1554",
         "Plymouth Motors"
        ],
        [
         1297,
         "BR2049",
         "Volkswagen South Africa Motors"
        ],
        [
         1298,
         "BR2088",
         "Zastava Motors"
        ],
        [
         1299,
         "BR2107",
         "ZIL Motors"
        ],
        [
         1300,
         "BR2305",
         "Atlantic Motor Company"
        ],
        [
         1301,
         "BR5586",
         "Isotta Fraschini Motors"
        ],
        [
         1302,
         "BR0290",
         "Bytom Motors"
        ],
        [
         1303,
         "BR0474",
         "De Tomaso Motors"
        ],
        [
         1304,
         "BR0940",
         "Isotta Fraschini Motors"
        ],
        [
         1305,
         "BR2202",
         "Austin  Motors"
        ],
        [
         1306,
         "BR6246",
         "Lamborghini Motors"
        ],
        [
         1307,
         "BR0179",
         "Bentley Motors"
        ],
        [
         1308,
         "BR0797",
         "Hindustan Motors"
        ],
        [
         1309,
         "BR1261",
         "Merkur Motors"
        ],
        [
         1310,
         "BR1575",
         "Pontiac, Asüna Motors"
        ],
        [
         1311,
         "BR2114",
         "Audi Motors"
        ],
        [
         1312,
         "BR2208",
         "Austin  Motors"
        ],
        [
         1313,
         "BR0087",
         "Ariel Motors"
        ],
        [
         1314,
         "BR0117",
         "Asia Motors Motors"
        ],
        [
         1315,
         "BR0181",
         "Bitter Motors"
        ],
        [
         1316,
         "BR0183",
         "Bitter Motors"
        ],
        [
         1317,
         "BR0464",
         "DeSoto Motors"
        ],
        [
         1318,
         "BR0633",
         "Ford Europe Motors"
        ],
        [
         1319,
         "BR8946",
         "Panther Motors"
        ],
        [
         1320,
         "BR0643",
         "Ford India Motors"
        ],
        [
         1321,
         "BR1086",
         "Bitter Motors"
        ],
        [
         1322,
         "BR1465",
         "Pagani Motors"
        ],
        [
         1323,
         "BR1489",
         "Panoz Motors"
        ],
        [
         1324,
         "BR1643",
         "Renault Motors"
        ],
        [
         1325,
         "BR1765",
         "Seat Motors"
        ],
        [
         1326,
         "BR0090",
         "Ariel Motors"
        ],
        [
         1327,
         "BR0487",
         "Dodge Motors"
        ],
        [
         1328,
         "BR1020",
         "Koenigsegg Motors"
        ],
        [
         1329,
         "BR1073",
         "Lexus Motors"
        ],
        [
         1330,
         "BR1102",
         "Lotus Motors"
        ],
        [
         1331,
         "BR12306",
         "Volvo Motors"
        ],
        [
         1332,
         "BR1682",
         "SAIC Motor Motors"
        ],
        [
         1333,
         "BR1702",
         "Samsung Motors"
        ],
        [
         1334,
         "BR1938",
         "Tesla Motors"
        ],
        [
         1335,
         "BR1958",
         "Toyota Motors"
        ],
        [
         1336,
         "BR2173",
         "Lagonda  Motors"
        ],
        [
         1337,
         "BR0379",
         "Cizeta-Moroder Motors"
        ],
        [
         1338,
         "BR0687",
         "Geo Motors"
        ],
        [
         1339,
         "BR0767",
         "Heinkel Motors"
        ],
        [
         1340,
         "BR14106",
         "Cadillac Automobile Company Building"
        ],
        [
         1341,
         "BR1454",
         "Packard Motors"
        ],
        [
         1342,
         "BR1642",
         "Renault Motors"
        ],
        [
         1343,
         "BR1652",
         "Rivian Motors"
        ],
        [
         1344,
         "BR2052",
         "Volvo Motors"
        ],
        [
         1345,
         "BR2157",
         "Maybach  Motors"
        ],
        [
         1346,
         "BR2182",
         "MG  Motors"
        ],
        [
         1347,
         "BR3666",
         "Ford Australia Motors"
        ],
        [
         1348,
         "BR0668",
         "FSO Motors"
        ],
        [
         1349,
         "BR0719",
         "Glas Motors"
        ],
        [
         1350,
         "BR1079",
         "Lexus Motors"
        ],
        [
         1351,
         "BR1299",
         "Micro Motors"
        ],
        [
         1352,
         "BR1685",
         "SAIC Motor Motors"
        ],
        [
         1353,
         "BR1720",
         "San Motors"
        ],
        [
         1354,
         "BR1729",
         "Santa Matilde Motors"
        ],
        [
         1355,
         "BR2079",
         "Wiesmann Motors"
        ],
        [
         1356,
         "BR2163",
         "Izh  Motors"
        ],
        [
         1357,
         "BR2414",
         "H Street Playhouse"
        ],
        [
         1358,
         "BR6966",
         "Marlin Motors"
        ],
        [
         1359,
         "BR0819",
         "Honda Motors"
        ],
        [
         1360,
         "BR1214",
         "Mazda Motors"
        ],
        [
         1361,
         "BR1911",
         "Tatra Motors"
        ],
        [
         1362,
         "BR2166",
         "Citroën Motors"
        ],
        [
         1363,
         "BR2175",
         "Lagonda  Motors"
        ],
        [
         1364,
         "BR2198",
         "Morris  Motors"
        ],
        [
         1365,
         "BR6126",
         "KTM Motors"
        ],
        [
         1366,
         "BR0400",
         "Daewoo, Saehan, Chevrolet Korea Motors"
        ],
        [
         1367,
         "BR0527",
         "Eicher Polaris Motors"
        ],
        [
         1368,
         "BR1103",
         "Lotus Motors"
        ],
        [
         1369,
         "BR13686",
         "Herald Motors"
        ],
        [
         1370,
         "BR1815",
         "Skoda Motors"
        ],
        [
         1371,
         "BR0414",
         "Daihatsu Motors"
        ],
        [
         1372,
         "BR0444",
         "Delahaye Motors"
        ],
        [
         1373,
         "BR0959",
         "Iveco Motors"
        ],
        [
         1374,
         "BR1058",
         "Lancia Motors"
        ],
        [
         1375,
         "BR1338",
         "Monteverdi Motors"
        ],
        [
         1376,
         "BR1388",
         "Nissan Motors"
        ],
        [
         1377,
         "BR1854",
         "Standard-Triumph Motors"
        ],
        [
         1378,
         "BR2270",
         "Ramani Motors"
        ],
        [
         1379,
         "BR2278",
         "Deccan Motors"
        ],
        [
         1380,
         "BR2287",
         "Herald Motors"
        ],
        [
         1381,
         "BR2324",
         "Blankinship Motor Company Building"
        ],
        [
         1382,
         "BR0280",
         "Buick Motors"
        ],
        [
         1383,
         "BR0631",
         "Ford Europe Motors"
        ],
        [
         1384,
         "BR0702",
         "Ginetta Motors"
        ],
        [
         1385,
         "BR0942",
         "Isuzu Motors"
        ],
        [
         1386,
         "BR1151",
         "Marcos Motors"
        ],
        [
         1387,
         "BR2121",
         "DKW Motors"
        ],
        [
         1388,
         "BR2174",
         "Lagonda  Motors"
        ],
        [
         1389,
         "BR2886",
         "Dodge Motors"
        ],
        [
         1390,
         "BR0213",
         "Borgward (including Goliath and Lloyd) Motors"
        ],
        [
         1391,
         "BR0680",
         "GAZ Motors"
        ],
        [
         1392,
         "BR1075",
         "Lexus Motors"
        ],
        [
         1393,
         "BR1207",
         "Matra (including Deutsch-Bonnet, René Bonnet) Motors"
        ],
        [
         1394,
         "BR1507",
         "Peel Motors"
        ],
        [
         1395,
         "BR2080",
         "Wiesmann Motors"
        ],
        [
         1396,
         "BR0454",
         "DeLorean Motors"
        ],
        [
         1397,
         "BR0974",
         "Jeep Motors"
        ],
        [
         1398,
         "BR1026",
         "Bentley Motors"
        ],
        [
         1399,
         "BR13566",
         "Ramani Motors"
        ],
        [
         1400,
         "BR1457",
         "Packard Motors"
        ],
        [
         1401,
         "BR1684",
         "SAIC Motor Motors"
        ],
        [
         1402,
         "BR2301",
         "Atlantic Motor Company"
        ],
        [
         1403,
         "BR2310",
         "Atlantic Motor Company"
        ],
        [
         1404,
         "BR2384",
         "Claremore Auto Dealership"
        ],
        [
         1405,
         "BR2454",
         "Jones Motor Company"
        ],
        [
         1406,
         "BR0186",
         "Alfa Romeo Motors"
        ],
        [
         1407,
         "BR0834",
         "Hudson Motors"
        ],
        [
         1408,
         "BR0904",
         "Invicta Motors"
        ],
        [
         1409,
         "BR0907",
         "Invicta Motors"
        ],
        [
         1410,
         "BR1200",
         "Mastretta Motors"
        ],
        [
         1411,
         "BR1889",
         "Sunbeam Motors"
        ],
        [
         1412,
         "BR2140",
         "Horch Motors"
        ],
        [
         1413,
         "BR2177",
         "Lagonda  Motors"
        ],
        [
         1414,
         "BR0810",
         "Holden Motors"
        ],
        [
         1415,
         "BR1530",
         "Peugeot Motors"
        ],
        [
         1416,
         "BR1638",
         "Reliant Motors"
        ],
        [
         1417,
         "BR1779",
         "Shelby SuperCars Motors"
        ],
        [
         1418,
         "BR1928",
         "Tazzari Motors"
        ],
        [
         1419,
         "BR1954",
         "Toyota Motors"
        ],
        [
         1420,
         "BR1998",
         "UAZ Motors"
        ],
        [
         1421,
         "BR2355",
         "Cadillac Automobile Company Building"
        ],
        [
         1422,
         "BR2359",
         "Cadillac Automobile Company Building"
        ],
        [
         1423,
         "BR0012",
         "Acura Motors"
        ],
        [
         1424,
         "BR0578",
         "Fiat do Brasil Motors"
        ],
        [
         1425,
         "BR0748",
         "Gumpert Motors"
        ],
        [
         1426,
         "BR1386",
         "British Leyland Motors"
        ],
        [
         1427,
         "BR1868",
         "Studebaker Motors"
        ],
        [
         1428,
         "BR1930",
         "Tazzari Motors"
        ],
        [
         1429,
         "BR0427",
         "Daimler Motors"
        ],
        [
         1430,
         "BR0924",
         "Iso Motors"
        ],
        [
         1431,
         "BR0949",
         "Isuzu Motors"
        ],
        [
         1432,
         "BR1001",
         "Kia Motors"
        ],
        [
         1433,
         "BR1157",
         "Marcos Motors"
        ],
        [
         1434,
         "BR1165",
         "Marlin Motors"
        ],
        [
         1435,
         "BR1188",
         "Maserati Motors"
        ],
        [
         1436,
         "BR1513",
         "Perodua Motors"
        ],
        [
         1437,
         "BR1751",
         "Scion Motors"
        ],
        [
         1438,
         "BR2029",
         "Volkswagen Motors"
        ],
        [
         1439,
         "BR2060",
         "Volvo Motors"
        ],
        [
         1440,
         "BR2137",
         "Horch Motors"
        ],
        [
         1441,
         "BR0403",
         "DAF Motors"
        ],
        [
         1442,
         "BR0645",
         "Ford India Motors"
        ],
        [
         1443,
         "BR0893",
         "Innocenti Motors"
        ],
        [
         1444,
         "BR1170",
         "Marlin Motors"
        ],
        [
         1445,
         "BR1371",
         "Naza Motors"
        ],
        [
         1446,
         "BR1858",
         "Standard-Triumph Motors"
        ],
        [
         1447,
         "BR2419",
         "H Street Playhouse"
        ],
        [
         1448,
         "BR3066",
         "e.GO Mobile Motors"
        ],
        [
         1449,
         "BR0061",
         "AMC, Eagle Motors"
        ],
        [
         1450,
         "BR0323",
         "Chevrolet Motors"
        ],
        [
         1451,
         "BR1475",
         "Panhard Motors"
        ],
        [
         1452,
         "BR1908",
         "Tata Motors"
        ],
        [
         1453,
         "BR2220",
         "Riley  Motors"
        ],
        [
         1454,
         "BR2286",
         "Dacia Motors"
        ],
        [
         1455,
         "BR2431",
         "Hupmobile Building"
        ],
        [
         1456,
         "BR0332",
         "Chevrolet India Motors"
        ],
        [
         1457,
         "BR0551",
         "Ferrari Motors"
        ],
        [
         1458,
         "BR0969",
         "Jaguar Motors"
        ],
        [
         1459,
         "BR1172",
         "Maruti Motors"
        ],
        [
         1460,
         "BR1203",
         "Matra (including Deutsch-Bonnet, René Bonnet) Motors"
        ],
        [
         1461,
         "BR1543",
         "Piaggio Motors"
        ],
        [
         1462,
         "BR1588",
         "Porsche Motors"
        ],
        [
         1463,
         "BR1800",
         "Simca do Brasil Motors"
        ],
        [
         1464,
         "BR1839",
         "Spyker Motors"
        ],
        [
         1465,
         "BR0221",
         "Bristol Motors"
        ],
        [
         1466,
         "BR0422",
         "Daimler Motors"
        ],
        [
         1467,
         "BR0450",
         "Delahaye Motors"
        ],
        [
         1468,
         "BR0669",
         "FSO Motors"
        ],
        [
         1469,
         "BR0712",
         "Glas Motors"
        ],
        [
         1470,
         "BR0804",
         "Holden Motors"
        ],
        [
         1471,
         "BR0844",
         "Humber Motors"
        ],
        [
         1472,
         "BR0970",
         "Jaguar Motors"
        ],
        [
         1473,
         "BR1092",
         "Lincoln Motors"
        ],
        [
         1474,
         "BR1184",
         "Maserati Motors"
        ],
        [
         1475,
         "BR1251",
         "Mercury Motors"
        ],
        [
         1476,
         "BR1287",
         "Mia Motors"
        ],
        [
         1477,
         "BR1582",
         "Porsche Motors"
        ],
        [
         1478,
         "BR1787",
         "Simca Motors"
        ],
        [
         1479,
         "BR2395",
         "Clemens Automobile Company Building"
        ],
        [
         1480,
         "BR0265",
         "Bugatti Motors"
        ],
        [
         1481,
         "BR0305",
         "Caterham Motors"
        ],
        [
         1482,
         "BR0860",
         "Hummer Motors"
        ],
        [
         1483,
         "BR1023",
         "KTM Motors"
        ],
        [
         1484,
         "BR1037",
         "Lada Motors"
        ],
        [
         1485,
         "BR10446",
         "Saturn Motors"
        ],
        [
         1486,
         "BR4386",
         "GTA Spano Motors"
        ],
        [
         1487,
         "BR0060",
         "Alvis Motors"
        ],
        [
         1488,
         "BR0123",
         "Aston Martin Motors"
        ],
        [
         1489,
         "BR0239",
         "British Leyland Motors"
        ],
        [
         1490,
         "BR0306",
         "Alvis Motors"
        ],
        [
         1491,
         "BR10026",
         "Saab Motors"
        ],
        [
         1492,
         "BR1217",
         "Mazda Motors"
        ],
        [
         1493,
         "BR1914",
         "Tatra Motors"
        ],
        [
         1494,
         "BR2113",
         "Audi Motors"
        ],
        [
         1495,
         "BR4626",
         "Hennessey Motors"
        ],
        [
         1496,
         "BR0381",
         "Dacia Motors"
        ],
        [
         1497,
         "BR0629",
         "Ford do Brasil Motors"
        ],
        [
         1498,
         "BR1060",
         "Lancia Motors"
        ],
        [
         1499,
         "BR1145",
         "Mahindra Motors"
        ],
        [
         1500,
         "BR1229",
         "Mazzanti Motors"
        ],
        [
         1501,
         "BR1252",
         "Mercury Motors"
        ],
        [
         1502,
         "BR1602",
         "Proton Motors"
        ],
        [
         1503,
         "BR1793",
         "Simca do Brasil Motors"
        ],
        [
         1504,
         "BR2130",
         "DKW Motors"
        ],
        [
         1505,
         "BR2411",
         "H Street Playhouse"
        ],
        [
         1506,
         "BR0215",
         "Borgward (including Goliath and Lloyd) Motors"
        ],
        [
         1507,
         "BR0329",
         "Chevrolet Motors"
        ],
        [
         1508,
         "BR0441",
         "Delahaye Motors"
        ],
        [
         1509,
         "BR1059",
         "Lancia Motors"
        ],
        [
         1510,
         "BR13386",
         "Standard  Motors"
        ],
        [
         1511,
         "BR1590",
         "Porsche Motors"
        ],
        [
         1512,
         "BR1647",
         "Renault Motors"
        ],
        [
         1513,
         "BR1777",
         "Shelby SuperCars Motors"
        ],
        [
         1514,
         "BR2040",
         "Volkswagen do Brasil Motors"
        ],
        [
         1515,
         "BR2164",
         "Izh  Motors"
        ],
        [
         1516,
         "BR0483",
         "Dodge Motors"
        ],
        [
         1517,
         "BR0739",
         "GTA Spano Motors"
        ],
        [
         1518,
         "BR0987",
         "Jensen Motors"
        ],
        [
         1519,
         "BR1129",
         "LuAZ Motors"
        ],
        [
         1520,
         "BR12126",
         "Volkswagen Motors"
        ],
        [
         1521,
         "BR1275",
         "Messerschmitt Motors"
        ],
        [
         1522,
         "BR1495",
         "Panther Motors"
        ],
        [
         1523,
         "BR1657",
         "Rivian Motors"
        ],
        [
         1524,
         "BR1686",
         "Bytom Motors"
        ],
        [
         1525,
         "BR0228",
         "Bristol Motors"
        ],
        [
         1526,
         "BR0272",
         "Buick Motors"
        ],
        [
         1527,
         "BR10386",
         "Santana Motors"
        ],
        [
         1528,
         "BR1080",
         "Lexus Motors"
        ],
        [
         1529,
         "BR1148",
         "Mahindra Motors"
        ],
        [
         1530,
         "BR1150",
         "Mahindra Motors"
        ],
        [
         1531,
         "BR1370",
         "Nash Motors"
        ],
        [
         1532,
         "BR1673",
         "Saab Motors"
        ],
        [
         1533,
         "BR0324",
         "Chevrolet Motors"
        ],
        [
         1534,
         "BR0815",
         "Honda Motors"
        ],
        [
         1535,
         "BR0985",
         "Jensen Motors"
        ],
        [
         1536,
         "BR1127",
         "LuAZ Motors"
        ],
        [
         1537,
         "BR12606",
         "ZIL Motors"
        ],
        [
         1538,
         "BR1655",
         "Rivian Motors"
        ],
        [
         1539,
         "BR1841",
         "SsangYong Motors"
        ],
        [
         1540,
         "BR2118",
         "Audi Motors"
        ],
        [
         1541,
         "BR2368",
         "Casa de cadillac"
        ],
        [
         1542,
         "BR0277",
         "Buick Motors"
        ],
        [
         1543,
         "BR0827",
         "Honda India Motors"
        ],
        [
         1544,
         "BR1365",
         "Nash Motors"
        ],
        [
         1545,
         "BR1784",
         "Simca Motors"
        ],
        [
         1546,
         "BR2190",
         "MG  Motors"
        ],
        [
         1547,
         "BR5226",
         "IFA (including Trabant, Wartburg, Barkas) Motors"
        ],
        [
         1548,
         "BR0188",
         "Bitter Motors"
        ],
        [
         1549,
         "BR0432",
         "Datsun Motors"
        ],
        [
         1550,
         "BR1701",
         "Samsung Motors"
        ],
        [
         1551,
         "BR2009",
         "Vauxhall Motors"
        ],
        [
         1552,
         "BR2030",
         "Volkswagen Motors"
        ],
        [
         1553,
         "BR2058",
         "Volvo Motors"
        ],
        [
         1554,
         "BR2271",
         "Deccan Motors"
        ],
        [
         1555,
         "BR2303",
         "Atlantic Motor Company"
        ],
        [
         1556,
         "BR2357",
         "Cadillac Automobile Company Building"
        ],
        [
         1557,
         "BR0003",
         "AC Cars Motors"
        ],
        [
         1558,
         "BR0050",
         "Alpine Motors"
        ],
        [
         1559,
         "BR0227",
         "Bristol Motors"
        ],
        [
         1560,
         "BR0521",
         "Eicher Polaris Motors"
        ],
        [
         1561,
         "BR0620",
         "Ford Australia Motors"
        ],
        [
         1562,
         "BR0623",
         "Ford do Brasil Motors"
        ],
        [
         1563,
         "BR0807",
         "Holden Motors"
        ],
        [
         1564,
         "BR1450",
         "Opel Motors"
        ],
        [
         1565,
         "BR1971",
         "Turner Motors"
        ],
        [
         1566,
         "BR1987",
         "TVR Motors"
        ],
        [
         1567,
         "BR2119",
         "Audi Motors"
        ],
        [
         1568,
         "BR0072",
         "Anadol Motors"
        ],
        [
         1569,
         "BR0078",
         "Anadol Motors"
        ],
        [
         1570,
         "BR0081",
         "Ariel Motors"
        ],
        [
         1571,
         "BR0118",
         "Asia Motors Motors"
        ],
        [
         1572,
         "BR0180",
         "Bentley Motors"
        ],
        [
         1573,
         "BR0203",
         "Bond Motors"
        ],
        [
         1574,
         "BR1138",
         "Lynx Motors"
        ],
        [
         1575,
         "BR1238",
         "McLaren Motors"
        ],
        [
         1576,
         "BR2346",
         "Daewoo, Saehan, Chevrolet Korea Motors"
        ],
        [
         1577,
         "BR6006",
         "Kia Motors"
        ],
        [
         1578,
         "BR0047",
         "Alpine Motors"
        ],
        [
         1579,
         "BR0253",
         "Austin, Rover Motors"
        ],
        [
         1580,
         "BR0601",
         "Ford America Motors"
        ],
        [
         1581,
         "BR0833",
         "Hudson Motors"
        ],
        [
         1582,
         "BR10806",
         "Singer Motors"
        ],
        [
         1583,
         "BR1158",
         "Marcos Motors"
        ],
        [
         1584,
         "BR1502",
         "Peel Motors"
        ],
        [
         1585,
         "BR1555",
         "Plymouth Motors"
        ],
        [
         1586,
         "BR1611",
         "Puma Motors"
        ],
        [
         1587,
         "BR1635",
         "Reliant Motors"
        ],
        [
         1588,
         "BR1852",
         "Standard-Triumph Motors"
        ],
        [
         1589,
         "BR1980",
         "Turner Motors"
        ],
        [
         1590,
         "BR2028",
         "Volkswagen Motors"
        ],
        [
         1591,
         "BR2229",
         "Wolseley  Motors"
        ],
        [
         1592,
         "BR2338",
         "Bohn Motor Company Automobile Dealership"
        ],
        [
         1593,
         "BR8286",
         "Nissan Motors"
        ],
        [
         1594,
         "BR0043",
         "Alpine Motors"
        ],
        [
         1595,
         "BR0194",
         "BMW Motors"
        ],
        [
         1596,
         "BR0695",
         "Gilbern Motors"
        ],
        [
         1597,
         "BR1028",
         "KTM Motors"
        ],
        [
         1598,
         "BR1178",
         "Maruti Motors"
        ],
        [
         1599,
         "BR1669",
         "Rolls-Royce Motors"
        ],
        [
         1600,
         "BR2330",
         "Blankinship Motor Company Building"
        ],
        [
         1601,
         "BR2358",
         "Cadillac Automobile Company Building"
        ],
        [
         1602,
         "BR0704",
         "Ginetta Motors"
        ],
        [
         1603,
         "BR0721",
         "GMC Motors"
        ],
        [
         1604,
         "BR0838",
         "Hudson Motors"
        ],
        [
         1605,
         "BR10146",
         "Saleen Motors"
        ],
        [
         1606,
         "BR1087",
         "Ligier Motors"
        ],
        [
         1607,
         "BR1266",
         "Borgward (including Goliath and Lloyd) Motors"
        ],
        [
         1608,
         "BR2331",
         "Bohn Motor Company Automobile Dealership"
        ],
        [
         1609,
         "BR2345",
         "Buick Automobile Company Building"
        ],
        [
         1610,
         "BR2347",
         "Buick Automobile Company Building"
        ],
        [
         1611,
         "BR0205",
         "Bond Motors"
        ],
        [
         1612,
         "BR0278",
         "Buick Motors"
        ],
        [
         1613,
         "BR0333",
         "Chevrolet India Motors"
        ],
        [
         1614,
         "BR0412",
         "Daihatsu Motors"
        ],
        [
         1615,
         "BR0460",
         "DeLorean Motors"
        ],
        [
         1616,
         "BR0520",
         "e.GO Mobile Motors"
        ],
        [
         1617,
         "BR0726",
         "Aston Martin Motors"
        ],
        [
         1618,
         "BR0837",
         "Hudson Motors"
        ],
        [
         1619,
         "BR0908",
         "Invicta Motors"
        ],
        [
         1620,
         "BR11286",
         "Sunbeam Motors"
        ],
        [
         1621,
         "BR1480",
         "Panhard Motors"
        ],
        [
         1622,
         "BR0165",
         "Auverland Motors"
        ],
        [
         1623,
         "BR0600",
         "Fisker, Karma Motors"
        ],
        [
         1624,
         "BR0979",
         "Jeep Motors"
        ],
        [
         1625,
         "BR1035",
         "Lada Motors"
        ],
        [
         1626,
         "BR1210",
         "Matra (including Deutsch-Bonnet, René Bonnet) Motors"
        ],
        [
         1627,
         "BR1264",
         "Merkur Motors"
        ],
        [
         1628,
         "BR1559",
         "Plymouth Motors"
        ],
        [
         1629,
         "BR1573",
         "Pontiac, Asüna Motors"
        ],
        [
         1630,
         "BR2450",
         "Jennings Ford Automobile Dealership"
        ],
        [
         1631,
         "BR0083",
         "Ariel Motors"
        ],
        [
         1632,
         "BR0161",
         "Auverland Motors"
        ],
        [
         1633,
         "BR0197",
         "BMW Motors"
        ],
        [
         1634,
         "BR0481",
         "Dodge Motors"
        ],
        [
         1635,
         "BR0567",
         "Fiat Motors"
        ],
        [
         1636,
         "BR0945",
         "Isuzu Motors"
        ],
        [
         1637,
         "BR11406",
         "Tata Motors"
        ],
        [
         1638,
         "BR1521",
         "Peugeot Motors"
        ],
        [
         1639,
         "BR1814",
         "Skoda Motors"
        ],
        [
         1640,
         "BR2007",
         "Vauxhall Motors"
        ],
        [
         1641,
         "BR2405",
         "Colman Automotive Building"
        ],
        [
         1642,
         "BR0655",
         "Freightliner Motors"
        ],
        [
         1643,
         "BR0964",
         "Jaguar Motors"
        ],
        [
         1644,
         "BR1013",
         "Koenigsegg Motors"
        ],
        [
         1645,
         "BR1834",
         "Spyker Motors"
        ],
        [
         1646,
         "BR1835",
         "Spyker Motors"
        ],
        [
         1647,
         "BR0200",
         "BMW Motors"
        ],
        [
         1648,
         "BR0240",
         "British Leyland Motors"
        ],
        [
         1649,
         "BR0657",
         "Freightliner Motors"
        ],
        [
         1650,
         "BR0665",
         "FSO Motors"
        ],
        [
         1651,
         "BR0698",
         "Gilbern Motors"
        ],
        [
         1652,
         "BR0741",
         "Gumpert Motors"
        ],
        [
         1653,
         "BR1113",
         "LTI Motors"
        ],
        [
         1654,
         "BR1198",
         "Mastretta Motors"
        ],
        [
         1655,
         "BR1253",
         "Mercury Motors"
        ],
        [
         1656,
         "BR1807",
         "Singer Motors"
        ],
        [
         1657,
         "BR1897",
         "Suzuki Motors"
        ],
        [
         1658,
         "BR1905",
         "Tata Motors"
        ],
        [
         1659,
         "BR2000",
         "UAZ Motors"
        ],
        [
         1660,
         "BR6366",
         "Land Rover Motors"
        ],
        [
         1661,
         "BR0055",
         "Alvis Motors"
        ],
        [
         1662,
         "BR0902",
         "Invicta Motors"
        ],
        [
         1663,
         "BR1110",
         "Lotus Motors"
        ],
        [
         1664,
         "BR1511",
         "Perodua Motors"
        ],
        [
         1665,
         "BR2152",
         "Maybach  Motors"
        ],
        [
         1666,
         "BR2444",
         "Jennings Ford Automobile Dealership"
        ],
        [
         1667,
         "BR0066",
         "Acura Motors"
        ],
        [
         1668,
         "BR0294",
         "Cadillac Motors"
        ],
        [
         1669,
         "BR0814",
         "Honda Motors"
        ],
        [
         1670,
         "BR0839",
         "Hudson Motors"
        ],
        [
         1671,
         "BR0873",
         "IFA (including Trabant, Wartburg, Barkas) Motors"
        ],
        [
         1672,
         "BR11826",
         "Turner Motors"
        ],
        [
         1673,
         "BR1189",
         "Maserati Motors"
        ],
        [
         1674,
         "BR1259",
         "Mercury Motors"
        ],
        [
         1675,
         "BR1808",
         "Singer Motors"
        ],
        [
         1676,
         "BR2004",
         "Vauxhall Motors"
        ],
        [
         1677,
         "BR2027",
         "Volkswagen Motors"
        ],
        [
         1678,
         "BR0317",
         "Checker Motors"
        ],
        [
         1679,
         "BR1333",
         "Monteverdi Motors"
        ],
        [
         1680,
         "BR1651",
         "Rivian Motors"
        ],
        [
         1681,
         "BR1803",
         "Singer Motors"
        ],
        [
         1682,
         "BR2103",
         "ZIL Motors"
        ],
        [
         1683,
         "BR2132",
         "Horch Motors"
        ],
        [
         1684,
         "BR2260",
         "Das Motors"
        ],
        [
         1685,
         "BR2350",
         "Buick Automobile Company Building"
        ],
        [
         1686,
         "BR2421",
         "Howard Motor Company Building"
        ],
        [
         1687,
         "BR0071",
         "Anadol Motors"
        ],
        [
         1688,
         "BR0160",
         "Auto-Union Motors"
        ],
        [
         1689,
         "BR0175",
         "Bentley Motors"
        ],
        [
         1690,
         "BR0413",
         "Daihatsu Motors"
        ],
        [
         1691,
         "BR0635",
         "Ford Europe Motors"
        ],
        [
         1692,
         "BR0693",
         "Gilbern Motors"
        ],
        [
         1693,
         "BR0734",
         "GTA Spano Motors"
        ],
        [
         1694,
         "BR1663",
         "Rolls-Royce Motors"
        ],
        [
         1695,
         "BR1874",
         "Subaru Motors"
        ],
        [
         1696,
         "BR2122",
         "DKW Motors"
        ],
        [
         1697,
         "BR8886",
         "Panoz Motors"
        ],
        [
         1698,
         "BR0192",
         "BMW Motors"
        ],
        [
         1699,
         "BR0255",
         "Austin, Rover Motors"
        ],
        [
         1700,
         "BR0637",
         "Ford Europe Motors"
        ],
        [
         1701,
         "BR0757",
         "Healey Motors"
        ],
        [
         1702,
         "BR0965",
         "Jaguar Motors"
        ],
        [
         1703,
         "BR1078",
         "Lexus Motors"
        ],
        [
         1704,
         "BR1262",
         "Merkur Motors"
        ],
        [
         1705,
         "BR1352",
         "Moskwitch Motors"
        ],
        [
         1706,
         "BR1448",
         "Opel Motors"
        ],
        [
         1707,
         "BR1631",
         "Reliant Motors"
        ],
        [
         1708,
         "BR1633",
         "Reliant Motors"
        ],
        [
         1709,
         "BR1665",
         "Rolls-Royce Motors"
        ],
        [
         1710,
         "BR2169",
         "Izh  Motors"
        ],
        [
         1711,
         "BR2272",
         "Deccan Motors"
        ],
        [
         1712,
         "BR2318",
         "2008 NRHP-listed"
        ],
        [
         1713,
         "BR1224",
         "Mazzanti Motors"
        ],
        [
         1714,
         "BR1339",
         "Monteverdi Motors"
        ],
        [
         1715,
         "BR1699",
         "Saleen Motors"
        ],
        [
         1716,
         "BR1739",
         "Santana Motors"
        ],
        [
         1717,
         "BR1972",
         "Turner Motors"
        ],
        [
         1718,
         "BR2439",
         "Hupmobile Building"
        ],
        [
         1719,
         "BR0052",
         "Alvis Motors"
        ],
        [
         1720,
         "BR0119",
         "Asia Motors Motors"
        ],
        [
         1721,
         "BR0723",
         "GMC Motors"
        ],
        [
         1722,
         "BR1167",
         "Marlin Motors"
        ],
        [
         1723,
         "BR1545",
         "Piaggio Motors"
        ],
        [
         1724,
         "BR2401",
         "Colman Automotive Building"
        ],
        [
         1725,
         "BR2586",
         "Datsun Motors"
        ],
        [
         1726,
         "BR0419",
         "Daihatsu Motors"
        ],
        [
         1727,
         "BR0867",
         "Hyundai Motors"
        ],
        [
         1728,
         "BR1770",
         "Seat Motors"
        ],
        [
         1729,
         "BR1824",
         "Smart Motors"
        ],
        [
         1730,
         "BR2348",
         "Buick Automobile Company Building"
        ],
        [
         1731,
         "BR0185",
         "Bitter Motors"
        ],
        [
         1732,
         "BR0455",
         "DeLorean Motors"
        ],
        [
         1733,
         "BR0692",
         "Gilbern Motors"
        ],
        [
         1734,
         "BR0790",
         "Hillman Motors"
        ],
        [
         1735,
         "BR0955",
         "Iveco Motors"
        ],
        [
         1736,
         "BR0978",
         "Jeep Motors"
        ],
        [
         1737,
         "BR1420",
         "NSU Motors"
        ],
        [
         1738,
         "BR1522",
         "Peugeot Motors"
        ],
        [
         1739,
         "BR1719",
         "San Motors"
        ],
        [
         1740,
         "BR2335",
         "Bohn Motor Company Automobile Dealership"
        ],
        [
         1741,
         "BR1499",
         "Panther Motors"
        ],
        [
         1742,
         "BR3906",
         "Freightliner Motors"
        ],
        [
         1743,
         "BR6186",
         "Lada Motors"
        ],
        [
         1744,
         "BR0299",
         "Cadillac Motors"
        ],
        [
         1745,
         "BR0438",
         "Datsun Motors"
        ],
        [
         1746,
         "BR1629",
         "Ranger Motors"
        ],
        [
         1747,
         "BR1941",
         "Tornado Motors"
        ],
        [
         1748,
         "BR2032",
         "Volkswagen do Brasil Motors"
        ],
        [
         1749,
         "BR2057",
         "Volvo Motors"
        ],
        [
         1750,
         "BR2241",
         "Talbot  Motors"
        ],
        [
         1751,
         "BR0191",
         "BMW Motors"
        ],
        [
         1752,
         "BR0537",
         "Elva Motors"
        ],
        [
         1753,
         "BR1623",
         "Ranger Motors"
        ],
        [
         1754,
         "BR2284",
         "Herald Motors"
        ],
        [
         1755,
         "BR0035",
         "Alfa Romeo Motors"
        ],
        [
         1756,
         "BR0785",
         "Hillman Motors"
        ],
        [
         1757,
         "BR0818",
         "Honda Motors"
        ],
        [
         1758,
         "BR1137",
         "Lynx Motors"
        ],
        [
         1759,
         "BR1146",
         "BMW Motors"
        ],
        [
         1760,
         "BR1759",
         "Scion Motors"
        ],
        [
         1761,
         "BR2375",
         "Cass Motor Sales"
        ],
        [
         1762,
         "BR3426",
         "Fiat do Brasil Motors"
        ],
        [
         1763,
         "BR0613",
         "Ford Australia Motors"
        ],
        [
         1764,
         "BR1205",
         "Matra (including Deutsch-Bonnet, René Bonnet) Motors"
        ],
        [
         1765,
         "BR1515",
         "Perodua Motors"
        ],
        [
         1766,
         "BR1618",
         "Puma Motors"
        ],
        [
         1767,
         "BR2766",
         "DeSoto Motors"
        ],
        [
         1768,
         "BR0127",
         "Aston Martin Motors"
        ],
        [
         1769,
         "BR1447",
         "Opel Motors"
        ],
        [
         1770,
         "BR1823",
         "Smart Motors"
        ],
        [
         1771,
         "BR2259",
         "Das Motors"
        ],
        [
         1772,
         "BR0199",
         "BMW Motors"
        ],
        [
         1773,
         "BR0201",
         "Bond Motors"
        ],
        [
         1774,
         "BR0237",
         "British Leyland Motors"
        ],
        [
         1775,
         "BR0493",
         "Donkervoort Motors"
        ],
        [
         1776,
         "BR1041",
         "Lamborghini Motors"
        ],
        [
         1777,
         "BR1485",
         "Panoz Motors"
        ],
        [
         1778,
         "BR1527",
         "Peugeot Motors"
        ],
        [
         1779,
         "BR2417",
         "H Street Playhouse"
        ],
        [
         1780,
         "BR7266",
         "Mazda Motors"
        ],
        [
         1781,
         "BR0128",
         "Aston Martin Motors"
        ],
        [
         1782,
         "BR0234",
         "British Leyland Motors"
        ],
        [
         1783,
         "BR1029",
         "KTM Motors"
        ],
        [
         1784,
         "BR1125",
         "LuAZ Motors"
        ],
        [
         1785,
         "BR1219",
         "Mazda Motors"
        ],
        [
         1786,
         "BR1421",
         "Oldsmobile Motors"
        ],
        [
         1787,
         "BR1523",
         "Peugeot Motors"
        ],
        [
         1788,
         "BR1764",
         "Seat Motors"
        ],
        [
         1789,
         "BR2195",
         "Morris  Motors"
        ],
        [
         1790,
         "BR2200",
         "Morris  Motors"
        ],
        [
         1791,
         "BR2317",
         "2008 NRHP-listed"
        ],
        [
         1792,
         "BR0028",
         "Aixam-Mega (including Arola) Motors"
        ],
        [
         1793,
         "BR0038",
         "Alfa Romeo Motors"
        ],
        [
         1794,
         "BR0872",
         "IFA (including Trabant, Wartburg, Barkas) Motors"
        ],
        [
         1795,
         "BR0898",
         "Innocenti Motors"
        ],
        [
         1796,
         "BR0912",
         "Isdera Motors"
        ],
        [
         1797,
         "BR1005",
         "Kia Motors"
        ],
        [
         1798,
         "BR1147",
         "Mahindra Motors"
        ],
        [
         1799,
         "BR1999",
         "UAZ Motors"
        ],
        [
         1800,
         "BR2023",
         "Volkswagen Motors"
        ],
        [
         1801,
         "BR2108",
         "ZIL Motors"
        ],
        [
         1802,
         "BR2341",
         "Buick Automobile Company Building"
        ],
        [
         1803,
         "BR2344",
         "Buick Automobile Company Building"
        ],
        [
         1804,
         "BR0008",
         "AC Cars Motors"
        ],
        [
         1805,
         "BR0445",
         "Delahaye Motors"
        ],
        [
         1806,
         "BR1493",
         "Panther Motors"
        ],
        [
         1807,
         "BR1754",
         "Scion Motors"
        ],
        [
         1808,
         "BR2059",
         "Volvo Motors"
        ],
        [
         1809,
         "BR0024",
         "Aixam-Mega (including Arola) Motors"
        ],
        [
         1810,
         "BR0524",
         "Eicher Polaris Motors"
        ],
        [
         1811,
         "BR1218",
         "Mazda Motors"
        ],
        [
         1812,
         "BR1482",
         "Panoz Motors"
        ],
        [
         1813,
         "BR1687",
         "SAIC Motor Motors"
        ],
        [
         1814,
         "BR1838",
         "Spyker Motors"
        ],
        [
         1815,
         "BR1902",
         "Tata Motors"
        ],
        [
         1816,
         "BR1977",
         "Turner Motors"
        ],
        [
         1817,
         "BR2201",
         "Austin  Motors"
        ],
        [
         1818,
         "BR2374",
         "Cass Motor Sales"
        ],
        [
         1819,
         "BR1175",
         "Maruti Motors"
        ],
        [
         1820,
         "BR1544",
         "Piaggio Motors"
        ],
        [
         1821,
         "BR1641",
         "Renault Motors"
        ],
        [
         1822,
         "BR0214",
         "Borgward (including Goliath and Lloyd) Motors"
        ],
        [
         1823,
         "BR0588",
         "Fiat India Motors"
        ],
        [
         1824,
         "BR1049",
         "Lamborghini Motors"
        ],
        [
         1825,
         "BR1727",
         "Santa Matilde Motors"
        ],
        [
         1826,
         "BR2105",
         "ZIL Motors"
        ],
        [
         1827,
         "BR0369",
         "Citroën Motors"
        ],
        [
         1828,
         "BR0555",
         "Ferrari Motors"
        ],
        [
         1829,
         "BR0615",
         "Ford Australia Motors"
        ],
        [
         1830,
         "BR0840",
         "Hudson Motors"
        ],
        [
         1831,
         "BR1121",
         "LuAZ Motors"
        ],
        [
         1832,
         "BR1314",
         "Mitsubishi Motors"
        ],
        [
         1833,
         "BR1563",
         "Polestar Motors"
        ],
        [
         1834,
         "BR2239",
         "Standard  Motors"
        ],
        [
         1835,
         "BR2339",
         "Bohn Motor Company Automobile Dealership"
        ],
        [
         1836,
         "BR2393",
         "Clemens Automobile Company Building"
        ]
       ],
       "datasetInfos": [],
       "dbfsResultPath": null,
       "isJsonSchema": true,
       "metadata": {},
       "overflow": false,
       "plotOptions": {
        "customPlotOptions": {},
        "displayType": "table",
        "pivotAggregation": null,
        "pivotColumns": null,
        "xColumns": null,
        "yColumns": null
       },
       "removedWidgets": [],
       "schema": [
        {
         "metadata": "{}",
         "name": "Dim_Branch_Key",
         "type": "\"long\""
        },
        {
         "metadata": "{}",
         "name": "Branch_ID",
         "type": "\"string\""
        },
        {
         "metadata": "{}",
         "name": "BranchName",
         "type": "\"string\""
        }
       ],
       "type": "table"
      }
     },
     "output_type": "display_data"
    }
   ],
   "source": [
    "branch_sink_df.display()"
   ]
  },
  {
   "cell_type": "markdown",
   "metadata": {
    "application/vnd.databricks.v1+cell": {
     "cellMetadata": {
      "byteLimit": 2048000,
      "rowLimit": 10000
     },
     "inputWidgets": {},
     "nuid": "da132ebb-575a-4a6f-9449-41badf16e7d7",
     "showTitle": false,
     "tableResultSettingsMap": {},
     "title": ""
    }
   },
   "source": [
    "###Filtering New Records and Old Records"
   ]
  },
  {
   "cell_type": "code",
   "execution_count": 0,
   "metadata": {
    "application/vnd.databricks.v1+cell": {
     "cellMetadata": {
      "byteLimit": 2048000,
      "rowLimit": 10000
     },
     "inputWidgets": {},
     "nuid": "b0eccd4b-5b99-48e9-9392-5257005c8d45",
     "showTitle": false,
     "tableResultSettingsMap": {},
     "title": ""
    }
   },
   "outputs": [],
   "source": [
    "df_filter = branch_src_df.join(branch_sink_df, branch_src_df.Branch_ID == branch_sink_df.Branch_ID, \"left\")\\\n",
    "                            .select(branch_src_df.Branch_ID, branch_src_df.BranchName, branch_sink_df.Dim_Branch_Key)  "
   ]
  },
  {
   "cell_type": "code",
   "execution_count": 0,
   "metadata": {
    "application/vnd.databricks.v1+cell": {
     "cellMetadata": {
      "byteLimit": 2048000,
      "rowLimit": 10000
     },
     "inputWidgets": {},
     "nuid": "e430f20c-9301-44b2-9ad2-56562353233c",
     "showTitle": false,
     "tableResultSettingsMap": {},
     "title": ""
    }
   },
   "outputs": [
    {
     "output_type": "display_data",
     "data": {
      "text/html": [
       "<style scoped>\n",
       "  .table-result-container {\n",
       "    max-height: 300px;\n",
       "    overflow: auto;\n",
       "  }\n",
       "  table, th, td {\n",
       "    border: 1px solid black;\n",
       "    border-collapse: collapse;\n",
       "  }\n",
       "  th, td {\n",
       "    padding: 5px;\n",
       "  }\n",
       "  th {\n",
       "    text-align: left;\n",
       "  }\n",
       "</style><div class='table-result-container'><table class='table-result'><thead style='background-color: white'><tr><th>Branch_ID</th><th>BranchName</th><th>Dim_Branch_Key</th></tr></thead><tbody><tr><td>BR9666</td><td>Puma Motors</td><td>null</td></tr><tr><td>BR9726</td><td>Power Ranger Motors</td><td>null</td></tr><tr><td>BR9546</td><td>Premier Motors</td><td>null</td></tr><tr><td>XYZ9726</td><td>DataFam Motors</td><td>null</td></tr></tbody></table></div>"
      ]
     },
     "metadata": {
      "application/vnd.databricks.v1+output": {
       "addedWidgets": {},
       "aggData": [],
       "aggError": "",
       "aggOverflow": false,
       "aggSchema": [],
       "aggSeriesLimitReached": false,
       "aggType": "",
       "arguments": {},
       "columnCustomDisplayInfos": {},
       "data": [
        [
         "BR9666",
         "Puma Motors",
         null
        ],
        [
         "BR9726",
         "Power Ranger Motors",
         null
        ],
        [
         "BR9546",
         "Premier Motors",
         null
        ],
        [
         "XYZ9726",
         "DataFam Motors",
         null
        ]
       ],
       "datasetInfos": [],
       "dbfsResultPath": null,
       "isJsonSchema": true,
       "metadata": {},
       "overflow": false,
       "plotOptions": {
        "customPlotOptions": {},
        "displayType": "table",
        "pivotAggregation": null,
        "pivotColumns": null,
        "xColumns": null,
        "yColumns": null
       },
       "removedWidgets": [],
       "schema": [
        {
         "metadata": "{}",
         "name": "Branch_ID",
         "type": "\"string\""
        },
        {
         "metadata": "{}",
         "name": "BranchName",
         "type": "\"string\""
        },
        {
         "metadata": "{}",
         "name": "Dim_Branch_Key",
         "type": "\"long\""
        }
       ],
       "type": "table"
      }
     },
     "output_type": "display_data"
    }
   ],
   "source": [
    "df_filter.display()"
   ]
  },
  {
   "cell_type": "markdown",
   "metadata": {
    "application/vnd.databricks.v1+cell": {
     "cellMetadata": {
      "byteLimit": 2048000,
      "rowLimit": 10000
     },
     "inputWidgets": {},
     "nuid": "67902e51-ac0a-42e9-b3d2-6f34c1b7d1c1",
     "showTitle": false,
     "tableResultSettingsMap": {},
     "title": ""
    }
   },
   "source": [
    "**df_filter_old**"
   ]
  },
  {
   "cell_type": "code",
   "execution_count": 0,
   "metadata": {
    "application/vnd.databricks.v1+cell": {
     "cellMetadata": {
      "byteLimit": 2048000,
      "rowLimit": 10000
     },
     "inputWidgets": {},
     "nuid": "287810d1-0c99-426e-9134-8e8a9ea8681b",
     "showTitle": false,
     "tableResultSettingsMap": {},
     "title": ""
    }
   },
   "outputs": [],
   "source": [
    "df_filter_old = df_filter.filter(col('Dim_Branch_Key').isNotNull())  "
   ]
  },
  {
   "cell_type": "code",
   "execution_count": 0,
   "metadata": {
    "application/vnd.databricks.v1+cell": {
     "cellMetadata": {
      "byteLimit": 2048000,
      "rowLimit": 10000
     },
     "inputWidgets": {},
     "nuid": "7d92af7a-0ba0-447c-97a6-2485fd91431f",
     "showTitle": false,
     "tableResultSettingsMap": {},
     "title": ""
    }
   },
   "outputs": [
    {
     "output_type": "display_data",
     "data": {
      "text/html": [
       "<style scoped>\n",
       "  .table-result-container {\n",
       "    max-height: 300px;\n",
       "    overflow: auto;\n",
       "  }\n",
       "  table, th, td {\n",
       "    border: 1px solid black;\n",
       "    border-collapse: collapse;\n",
       "  }\n",
       "  th, td {\n",
       "    padding: 5px;\n",
       "  }\n",
       "  th {\n",
       "    text-align: left;\n",
       "  }\n",
       "</style><div class='table-result-container'><table class='table-result'><thead style='background-color: white'><tr><th>Branch_ID</th><th>BranchName</th><th>Dim_Branch_Key</th></tr></thead><tbody></tbody></table></div>"
      ]
     },
     "metadata": {
      "application/vnd.databricks.v1+output": {
       "addedWidgets": {},
       "aggData": [],
       "aggError": "",
       "aggOverflow": false,
       "aggSchema": [],
       "aggSeriesLimitReached": false,
       "aggType": "",
       "arguments": {},
       "columnCustomDisplayInfos": {},
       "data": [],
       "datasetInfos": [],
       "dbfsResultPath": null,
       "isJsonSchema": true,
       "metadata": {},
       "overflow": false,
       "plotOptions": {
        "customPlotOptions": {},
        "displayType": "table",
        "pivotAggregation": null,
        "pivotColumns": null,
        "xColumns": null,
        "yColumns": null
       },
       "removedWidgets": [],
       "schema": [
        {
         "metadata": "{}",
         "name": "Branch_ID",
         "type": "\"string\""
        },
        {
         "metadata": "{}",
         "name": "BranchName",
         "type": "\"string\""
        },
        {
         "metadata": "{}",
         "name": "Dim_Branch_Key",
         "type": "\"long\""
        }
       ],
       "type": "table"
      }
     },
     "output_type": "display_data"
    }
   ],
   "source": [
    "df_filter_old.display()"
   ]
  },
  {
   "cell_type": "markdown",
   "metadata": {
    "application/vnd.databricks.v1+cell": {
     "cellMetadata": {
      "byteLimit": 2048000,
      "rowLimit": 10000
     },
     "inputWidgets": {},
     "nuid": "4cc7085e-a4fb-479c-bb7b-383bb99563a0",
     "showTitle": false,
     "tableResultSettingsMap": {},
     "title": ""
    }
   },
   "source": [
    "**df_filter_new**"
   ]
  },
  {
   "cell_type": "code",
   "execution_count": 0,
   "metadata": {
    "application/vnd.databricks.v1+cell": {
     "cellMetadata": {
      "byteLimit": 2048000,
      "rowLimit": 10000
     },
     "inputWidgets": {},
     "nuid": "0cfb0d58-72ca-4f49-a8e1-6ad7c93cd182",
     "showTitle": false,
     "tableResultSettingsMap": {},
     "title": ""
    }
   },
   "outputs": [],
   "source": [
    "df_filter_new = df_filter.filter(col('Dim_Branch_Key').isNull()).select(branch_src_df.Branch_ID, branch_src_df.BranchName)"
   ]
  },
  {
   "cell_type": "code",
   "execution_count": 0,
   "metadata": {
    "application/vnd.databricks.v1+cell": {
     "cellMetadata": {
      "byteLimit": 2048000,
      "rowLimit": 10000
     },
     "inputWidgets": {},
     "nuid": "0157e6b4-4309-4471-bedf-609e7dcae803",
     "showTitle": false,
     "tableResultSettingsMap": {},
     "title": ""
    }
   },
   "outputs": [
    {
     "output_type": "display_data",
     "data": {
      "text/html": [
       "<style scoped>\n",
       "  .table-result-container {\n",
       "    max-height: 300px;\n",
       "    overflow: auto;\n",
       "  }\n",
       "  table, th, td {\n",
       "    border: 1px solid black;\n",
       "    border-collapse: collapse;\n",
       "  }\n",
       "  th, td {\n",
       "    padding: 5px;\n",
       "  }\n",
       "  th {\n",
       "    text-align: left;\n",
       "  }\n",
       "</style><div class='table-result-container'><table class='table-result'><thead style='background-color: white'><tr><th>Branch_ID</th><th>BranchName</th></tr></thead><tbody><tr><td>BR9666</td><td>Puma Motors</td></tr><tr><td>BR9726</td><td>Power Ranger Motors</td></tr><tr><td>BR9546</td><td>Premier Motors</td></tr><tr><td>XYZ9726</td><td>DataFam Motors</td></tr></tbody></table></div>"
      ]
     },
     "metadata": {
      "application/vnd.databricks.v1+output": {
       "addedWidgets": {},
       "aggData": [],
       "aggError": "",
       "aggOverflow": false,
       "aggSchema": [],
       "aggSeriesLimitReached": false,
       "aggType": "",
       "arguments": {},
       "columnCustomDisplayInfos": {},
       "data": [
        [
         "BR9666",
         "Puma Motors"
        ],
        [
         "BR9726",
         "Power Ranger Motors"
        ],
        [
         "BR9546",
         "Premier Motors"
        ],
        [
         "XYZ9726",
         "DataFam Motors"
        ]
       ],
       "datasetInfos": [],
       "dbfsResultPath": null,
       "isJsonSchema": true,
       "metadata": {},
       "overflow": false,
       "plotOptions": {
        "customPlotOptions": {},
        "displayType": "table",
        "pivotAggregation": null,
        "pivotColumns": null,
        "xColumns": null,
        "yColumns": null
       },
       "removedWidgets": [],
       "schema": [
        {
         "metadata": "{}",
         "name": "Branch_ID",
         "type": "\"string\""
        },
        {
         "metadata": "{}",
         "name": "BranchName",
         "type": "\"string\""
        }
       ],
       "type": "table"
      }
     },
     "output_type": "display_data"
    }
   ],
   "source": [
    "df_filter_new.display()"
   ]
  },
  {
   "cell_type": "markdown",
   "metadata": {
    "application/vnd.databricks.v1+cell": {
     "cellMetadata": {
      "byteLimit": 2048000,
      "rowLimit": 10000
     },
     "inputWidgets": {},
     "nuid": "2de7be04-353b-44b3-9e5e-63e65fd86933",
     "showTitle": false,
     "tableResultSettingsMap": {},
     "title": ""
    }
   },
   "source": [
    "###CREATE Surrogate key"
   ]
  },
  {
   "cell_type": "markdown",
   "metadata": {
    "application/vnd.databricks.v1+cell": {
     "cellMetadata": {
      "byteLimit": 2048000,
      "rowLimit": 10000
     },
     "inputWidgets": {},
     "nuid": "29c00a36-29cf-4ed0-a5c0-ab1c8e7b7ff6",
     "showTitle": false,
     "tableResultSettingsMap": {},
     "title": ""
    }
   },
   "source": [
    "####Fetch max surrogate key from existing table"
   ]
  },
  {
   "cell_type": "code",
   "execution_count": 0,
   "metadata": {
    "application/vnd.databricks.v1+cell": {
     "cellMetadata": {
      "byteLimit": 2048000,
      "rowLimit": 10000
     },
     "inputWidgets": {},
     "nuid": "ff3f3a98-ff32-44bc-8080-781029c79f21",
     "showTitle": false,
     "tableResultSettingsMap": {},
     "title": ""
    }
   },
   "outputs": [],
   "source": [
    "if incremental_flag == '0':\n",
    "    max_value = 1\n",
    "else:\n",
    "    max_value = spark.sql(\"SELECT max(Dim_Branch_Key) FROM car_sales_catalog.refined.dim_branch\").collect()[0][0] + 1"
   ]
  },
  {
   "cell_type": "code",
   "execution_count": 0,
   "metadata": {
    "application/vnd.databricks.v1+cell": {
     "cellMetadata": {
      "byteLimit": 2048000,
      "rowLimit": 10000
     },
     "inputWidgets": {},
     "nuid": "810771ef-968f-4458-8d8e-9e7f49319456",
     "showTitle": false,
     "tableResultSettingsMap": {},
     "title": ""
    }
   },
   "outputs": [],
   "source": [
    "df_filter_new = df_filter_new.withColumn('Dim_Branch_Key', max_value + monotonically_increasing_id())"
   ]
  },
  {
   "cell_type": "code",
   "execution_count": 0,
   "metadata": {
    "application/vnd.databricks.v1+cell": {
     "cellMetadata": {
      "byteLimit": 2048000,
      "rowLimit": 10000
     },
     "inputWidgets": {},
     "nuid": "e2249af0-cb1d-4293-8f43-ab199dfb80d9",
     "showTitle": false,
     "tableResultSettingsMap": {},
     "title": ""
    }
   },
   "outputs": [
    {
     "output_type": "display_data",
     "data": {
      "text/html": [
       "<style scoped>\n",
       "  .table-result-container {\n",
       "    max-height: 300px;\n",
       "    overflow: auto;\n",
       "  }\n",
       "  table, th, td {\n",
       "    border: 1px solid black;\n",
       "    border-collapse: collapse;\n",
       "  }\n",
       "  th, td {\n",
       "    padding: 5px;\n",
       "  }\n",
       "  th {\n",
       "    text-align: left;\n",
       "  }\n",
       "</style><div class='table-result-container'><table class='table-result'><thead style='background-color: white'><tr><th>Branch_ID</th><th>BranchName</th><th>Dim_Branch_Key</th></tr></thead><tbody><tr><td>BR9666</td><td>Puma Motors</td><td>1837</td></tr><tr><td>BR9726</td><td>Power Ranger Motors</td><td>1838</td></tr><tr><td>BR9546</td><td>Premier Motors</td><td>1839</td></tr><tr><td>XYZ9726</td><td>DataFam Motors</td><td>1840</td></tr></tbody></table></div>"
      ]
     },
     "metadata": {
      "application/vnd.databricks.v1+output": {
       "addedWidgets": {},
       "aggData": [],
       "aggError": "",
       "aggOverflow": false,
       "aggSchema": [],
       "aggSeriesLimitReached": false,
       "aggType": "",
       "arguments": {},
       "columnCustomDisplayInfos": {},
       "data": [
        [
         "BR9666",
         "Puma Motors",
         1837
        ],
        [
         "BR9726",
         "Power Ranger Motors",
         1838
        ],
        [
         "BR9546",
         "Premier Motors",
         1839
        ],
        [
         "XYZ9726",
         "DataFam Motors",
         1840
        ]
       ],
       "datasetInfos": [],
       "dbfsResultPath": null,
       "isJsonSchema": true,
       "metadata": {},
       "overflow": false,
       "plotOptions": {
        "customPlotOptions": {},
        "displayType": "table",
        "pivotAggregation": null,
        "pivotColumns": null,
        "xColumns": null,
        "yColumns": null
       },
       "removedWidgets": [],
       "schema": [
        {
         "metadata": "{}",
         "name": "Branch_ID",
         "type": "\"string\""
        },
        {
         "metadata": "{}",
         "name": "BranchName",
         "type": "\"string\""
        },
        {
         "metadata": "{}",
         "name": "Dim_Branch_Key",
         "type": "\"long\""
        }
       ],
       "type": "table"
      }
     },
     "output_type": "display_data"
    }
   ],
   "source": [
    "df_filter_new.display()"
   ]
  },
  {
   "cell_type": "markdown",
   "metadata": {
    "application/vnd.databricks.v1+cell": {
     "cellMetadata": {
      "byteLimit": 2048000,
      "rowLimit": 10000
     },
     "inputWidgets": {},
     "nuid": "f3021c9a-9a0f-4ada-9811-0ec30523ba11",
     "showTitle": false,
     "tableResultSettingsMap": {},
     "title": ""
    }
   },
   "source": [
    "###Creating final df - df_filter_old + df_filter_new"
   ]
  },
  {
   "cell_type": "code",
   "execution_count": 0,
   "metadata": {
    "application/vnd.databricks.v1+cell": {
     "cellMetadata": {
      "byteLimit": 2048000,
      "rowLimit": 10000
     },
     "inputWidgets": {},
     "nuid": "a4095030-510a-4326-bb39-8cda113b64c6",
     "showTitle": false,
     "tableResultSettingsMap": {},
     "title": ""
    }
   },
   "outputs": [],
   "source": [
    "df_final = df_filter_new.union(df_filter_old)"
   ]
  },
  {
   "cell_type": "code",
   "execution_count": 0,
   "metadata": {
    "application/vnd.databricks.v1+cell": {
     "cellMetadata": {
      "byteLimit": 2048000,
      "rowLimit": 10000
     },
     "inputWidgets": {},
     "nuid": "2ddb57a2-f408-472e-874e-438abb6f8e05",
     "showTitle": false,
     "tableResultSettingsMap": {},
     "title": ""
    }
   },
   "outputs": [
    {
     "output_type": "display_data",
     "data": {
      "text/html": [
       "<style scoped>\n",
       "  .table-result-container {\n",
       "    max-height: 300px;\n",
       "    overflow: auto;\n",
       "  }\n",
       "  table, th, td {\n",
       "    border: 1px solid black;\n",
       "    border-collapse: collapse;\n",
       "  }\n",
       "  th, td {\n",
       "    padding: 5px;\n",
       "  }\n",
       "  th {\n",
       "    text-align: left;\n",
       "  }\n",
       "</style><div class='table-result-container'><table class='table-result'><thead style='background-color: white'><tr><th>Branch_ID</th><th>BranchName</th><th>Dim_Branch_Key</th></tr></thead><tbody><tr><td>BR9666</td><td>Puma Motors</td><td>1837</td></tr><tr><td>BR9726</td><td>Power Ranger Motors</td><td>1838</td></tr><tr><td>BR9546</td><td>Premier Motors</td><td>1839</td></tr><tr><td>XYZ9726</td><td>DataFam Motors</td><td>1840</td></tr></tbody></table></div>"
      ]
     },
     "metadata": {
      "application/vnd.databricks.v1+output": {
       "addedWidgets": {},
       "aggData": [],
       "aggError": "",
       "aggOverflow": false,
       "aggSchema": [],
       "aggSeriesLimitReached": false,
       "aggType": "",
       "arguments": {},
       "columnCustomDisplayInfos": {},
       "data": [
        [
         "BR9666",
         "Puma Motors",
         1837
        ],
        [
         "BR9726",
         "Power Ranger Motors",
         1838
        ],
        [
         "BR9546",
         "Premier Motors",
         1839
        ],
        [
         "XYZ9726",
         "DataFam Motors",
         1840
        ]
       ],
       "datasetInfos": [],
       "dbfsResultPath": null,
       "isJsonSchema": true,
       "metadata": {},
       "overflow": false,
       "plotOptions": {
        "customPlotOptions": {},
        "displayType": "table",
        "pivotAggregation": null,
        "pivotColumns": null,
        "xColumns": null,
        "yColumns": null
       },
       "removedWidgets": [],
       "schema": [
        {
         "metadata": "{}",
         "name": "Branch_ID",
         "type": "\"string\""
        },
        {
         "metadata": "{}",
         "name": "BranchName",
         "type": "\"string\""
        },
        {
         "metadata": "{}",
         "name": "Dim_Branch_Key",
         "type": "\"long\""
        }
       ],
       "type": "table"
      }
     },
     "output_type": "display_data"
    }
   ],
   "source": [
    "df_final.display()"
   ]
  },
  {
   "cell_type": "markdown",
   "metadata": {
    "application/vnd.databricks.v1+cell": {
     "cellMetadata": {
      "byteLimit": 2048000,
      "rowLimit": 10000
     },
     "inputWidgets": {},
     "nuid": "9903a36e-1b51-4219-8ad4-bd7cc3e91e11",
     "showTitle": false,
     "tableResultSettingsMap": {},
     "title": ""
    }
   },
   "source": [
    "###SCD Type 1 UPSERT"
   ]
  },
  {
   "cell_type": "code",
   "execution_count": 0,
   "metadata": {
    "application/vnd.databricks.v1+cell": {
     "cellMetadata": {
      "byteLimit": 2048000,
      "rowLimit": 10000
     },
     "inputWidgets": {},
     "nuid": "34c6b5a0-9afe-4e55-ad68-29e4006cddfd",
     "showTitle": false,
     "tableResultSettingsMap": {},
     "title": ""
    }
   },
   "outputs": [],
   "source": [
    "#Incremental run\n",
    "\n",
    "if spark.catalog.tableExists('car_sales_catalog.refined.dim_branch'):\n",
    "    deltaTable = DeltaTable.forPath(spark, \"abfss://projects@projectstorageaccount1.dfs.core.windows.net/refined/CAR SALES/dim_branch\")\n",
    "\n",
    "    deltaTable.alias(\"target\").merge(df_final.alias(\"source\"), \"target.Dim_Branch_Key == source.Dim_Branch_Key\")\\\n",
    "                                .whenMatchedUpdateAll()\\\n",
    "                                .whenNotMatchedInsertAll()\\\n",
    "                                .execute()    \n",
    "\n",
    "#Initial run\n",
    "else:\n",
    "    df_final.write.format(\"delta\")\\\n",
    "                    .mode(\"overwrite\")\\\n",
    "                    .option(\"path\",\"abfss://projects@projectstorageaccount1.dfs.core.windows.net/refined/CAR SALES/dim_branch\" )\\\n",
    "                    .saveAsTable(\"car_sales_catalog.refined.dim_branch\")"
   ]
  }
 ],
 "metadata": {
  "application/vnd.databricks.v1+notebook": {
   "computePreferences": null,
   "dashboards": [],
   "environmentMetadata": {
    "base_environment": "",
    "environment_version": "2"
   },
   "language": "python",
   "notebookMetadata": {
    "mostRecentlyExecutedCommandWithImplicitDF": {
     "commandId": 617343031813348,
     "dataframes": [
      "_sqldf"
     ]
    },
    "pythonIndentUnit": 4
   },
   "notebookName": "Refined_dim_branch",
   "widgets": {
    "incremental_flag": {
     "currentValue": "1",
     "nuid": "877450d8-ec79-409f-b058-b64115f0ab99",
     "typedWidgetInfo": {
      "autoCreated": false,
      "defaultValue": "0",
      "label": null,
      "name": "incremental_flag",
      "options": {
       "widgetDisplayType": "Text",
       "validationRegex": null
      },
      "parameterDataType": "String"
     },
     "widgetInfo": {
      "widgetType": "text",
      "defaultValue": "0",
      "label": null,
      "name": "incremental_flag",
      "options": {
       "widgetType": "text",
       "autoCreated": null,
       "validationRegex": null
      }
     }
    }
   }
  },
  "language_info": {
   "name": "python"
  }
 },
 "nbformat": 4,
 "nbformat_minor": 0
}